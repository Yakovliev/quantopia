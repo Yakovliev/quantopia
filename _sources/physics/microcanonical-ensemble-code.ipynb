{
 "cells": [
  {
   "cell_type": "markdown",
   "id": "396cc476",
   "metadata": {},
   "source": [
    "# Microcanonical Ensemble - Code Examples"
   ]
  },
  {
   "cell_type": "markdown",
   "id": "c1d36c90",
   "metadata": {},
   "source": [
    "## Explanation of the Code and Analogy to Microcanonical Ensemble\n",
    "\n",
    "This Python program simulates a simplified system of particles to illustrate the fundamental principles of the **microcanonical ensemble** in statistical mechanics. The core idea of the microcanonical ensemble is to consider an **isolated system** where the total number of particles $N$, the volume $V$, and the total energy $E$ are fixed and constant. In such a system, all accessible microstates are equally probable.\n",
    "\n",
    "The program models a system of particles where each particle can possess discrete units of energy. While the particles are distinguishable by their labels (e.g., Particle 1, Particle 2), their internal states (energy values) are integers, reflecting a simplified quantum-like behavior rather than continuous classical energies.\n",
    "\n",
    "* **`num_particles` (N):** Represents the fixed number of particles in our isolated system.\n",
    "* **`total_energy` (E):** Represents the fixed total energy distributed among all particles in the system.\n",
    "* **`max_particle_energy`:** This parameter acts as a constraint, limiting the maximum energy a single particle can hold. It's crucial for keeping the number of possible microstates finite and manageable for demonstration. In a real physical system, there might be such limits due to potential wells or other physical boundaries."
   ]
  },
  {
   "cell_type": "code",
   "execution_count": 4,
   "id": "f971f586",
   "metadata": {},
   "outputs": [],
   "source": [
    "import numpy as np\n",
    "import plotly.graph_objects as go\n",
    "from plotly.subplots import make_subplots\n",
    "from itertools import product"
   ]
  },
  {
   "cell_type": "markdown",
   "id": "67736bfa",
   "metadata": {},
   "source": [
    "\n",
    "### `find_microstates` Function\n",
    "\n",
    "This function is the heart of the simulation. It systematically determines all possible ways (microstates) in which the `total_energy` can be distributed among `num_particles`, given the `max_particle_energy` constraint.\n",
    "\n",
    "1.  **`possible_energies = range(1, max_particle_energy + 1)`:** This creates a list of all possible energy values that a single particle can have. The minimum energy for a particle is set to 1, implying a quantized nature of energy.\n",
    "2.  **`all_combinations = product(possible_energies, repeat=num_particles)`:** This uses `itertools.product` to generate every conceivable combination of energy assignments to the `num_particles`. For example, if `num_particles` is 3 and `possible_energies` is `[1, 2, 3]`, this would generate combinations like `(1,1,1)`, `(1,1,2)`, `(1,1,3)`, `(1,2,1)`, and so on. This step explores the entire **state space** of the system without initial energy constraints.\n",
    "3.  **`microstates = [combo for combo in all_combinations if sum(combo) == total_energy]`:** This is the **filtration step**. It selects only those combinations where the sum of energies of all particles equals the `total_energy`. These selected combinations are the **accessible microstates** for the given fixed total energy.\n",
    "\n",
    "### Analogy to Microcanonical Ensemble Theory\n",
    "\n",
    "The program directly demonstrates several key aspects of the microcanonical ensemble:\n",
    "\n",
    "* **Fixed N, V, E:** The parameters `num_particles`, implicitly a fixed \"volume\" by not having particles move in space (they just have energy states), and `total_energy` are set at the beginning and remain constant throughout the calculation of microstates for a given scenario. This directly mimics the definition of an isolated system in the microcanonical ensemble.\n",
    "* **Microstates:** Each tuple returned by `find_microstates` (e.g., `(10, 10, 10)` for `num_particles=3, total_energy=30`) represents a unique microscopic configuration of the system that is consistent with the macroscopic constraints ($N, E$). These are the individual **microstates**.\n",
    "* **Fundamental Postulate of Equal *A Priori* Probabilities:** The code implicitly embodies this postulate. By simply counting all valid microstates (`num_microstates = len(microstates_at_e9)`), it acknowledges that in the microcanonical ensemble, each of these microstates is equally probable. The program doesn't assign probabilities, but the very act of identifying and counting them under fixed macroscopic conditions is based on this postulate.\n",
    "* **Number of Accessible Microstates ($\\Omega(E)$):** The variable `num_microstates` directly corresponds to $\\Omega(E)$, also known as the **density of states** or the **multiplicity** for a given energy $E$. This is the central quantity in the microcanonical ensemble from which all other thermodynamic properties can be derived.\n",
    "* **Constant Energy Surface:** The \"Visualization 1\" (3D plot) powerfully illustrates this concept. Each point on the plot represents a valid microstate. Because the sum of the particle energies for each point is fixed at `total_energy`, all these points lie on a plane (or a higher-dimensional hyperplane for more particles). This plane is the \"constant energy surface\" in the phase space (or state space in this discrete model), representing all accessible microstates for that specific total energy.\n",
    "\n",
    "### Visualization 2: $\\Omega(E)$ vs. $E$\n",
    "\n",
    "This visualization demonstrates how the number of accessible microstates ($\\Omega$) changes as the total energy ($E$) of the system varies.\n",
    "\n",
    "* **Density of States:** The plot of $\\Omega(E)$ versus $E$ is directly analogous to the **density of states** concept. In more complex systems, the density of states typically increases very rapidly with energy, reflecting the exponentially larger number of ways energy can be distributed among more particles as the total energy increases. This simple model captures that general trend, showing how $\\Omega(E)$ is not constant but a function of $E$.\n",
    "* **Thermodynamic Connection:** In statistical mechanics, the entropy ($S$) of a system in the microcanonical ensemble is directly related to the number of microstates by Boltzmann's formula: $S = k_B \\ln \\Omega(E)$, where $k_B$ is the Boltzmann constant. While not explicitly calculated, the visualization of $\\Omega(E)$ is a precursor to understanding entropy in this context. A higher $\\Omega(E)$ implies higher entropy.\n",
    "\n",
    "---\n",
    "\n",
    "## Possible Modifications and Improvements\n",
    "\n",
    "The current program is excellent for its intended purpose as a demonstration. Here are a few minor suggestions for potential modifications or extensions, depending on the desired depth and complexity:\n",
    "\n",
    "1.  **Varying `max_particle_energy`:** Currently, `max_particle_energy` is set relative to `total_energy` and `num_particles`. Exploring the effect of an independent `max_particle_energy` on $\\Omega(E)$ could be insightful. For instance, if `max_particle_energy` is very small, it might significantly restrict the number of microstates.\n",
    "2.  **Larger Systems & Computational Limits:** For larger `num_particles` and `total_energy`, the `product` function can generate an astronomically large number of combinations, leading to very long computation times and memory issues. You could add a note about this limitation, explaining why the chosen parameters are small. For genuinely large systems, different computational methods (e.g., Monte Carlo simulations) are required, which don't explicitly enumerate all microstates.\n",
    "3.  **Introduction of Degeneracy (Optional):** If particle energy levels had intrinsic degeneracies (multiple states corresponding to the same energy), the `find_microstates` function would need to be modified to account for these, increasing $\\Omega(E)$. This adds complexity but makes it more realistic for certain physical systems.\n",
    "4.  **Connecting to Temperature/Entropy (Advanced):** While outside the immediate scope of just *finding* microstates, one could extend the demonstration to calculate a rudimentary \"temperature\" from the slope of $\\ln \\Omega(E)$ vs. $E$, demonstrating $1/T = \\partial (\\ln \\Omega) / \\partial E$. This would require a more continuous or finely sampled energy range.\n",
    "5.  **Clearer Variable Naming for Particle Energies:** While `e1, e2, e3` are clear in the 3-particle case, for a more general `num_particles`, it might be good to emphasize that these are simply the individual particle energies within a microstate.\n",
    "6.  **Edge Cases for `max_particle_energy`:** The calculation of `max_particle_energy = total_energy - (num_particles - 1)` assumes a minimum energy of 1 for each particle. This is a reasonable assumption given `range(1, ...)`.\n",
    "\n",
    "In summary, your program provides a clear, effective, and visually appealing demonstration of the microcanonical ensemble's core concepts. The code is well-structured and the explanations provided within the comments are helpful."
   ]
  },
  {
   "cell_type": "code",
   "execution_count": null,
   "id": "cd669d59",
   "metadata": {},
   "outputs": [],
   "source": [
    "def find_microstates(num_particles, total_energy, max_particle_energy):\n",
    "    \"\"\"\n",
    "    Finds all possible microstates for a system of N particles with a fixed total energy E.\n",
    "\n",
    "    Args:\n",
    "        num_particles (int): The number of particles in the system (N).\n",
    "        total_energy (int): The total energy of the system (E).\n",
    "        max_particle_energy (int): The maximum possible energy for a single particle.\n",
    "\n",
    "    Returns:\n",
    "        list: A list of tuples, where each tuple represents a microstate\n",
    "              (the energy of each particle).\n",
    "    \"\"\"\n",
    "    # Generate all possible energy combinations for the particles\n",
    "    # Each particle can have an energy from 1 to max_particle_energy\n",
    "    possible_energies = range(1, max_particle_energy + 1)\n",
    "    # 'product' gives the cartesian product, creating all possible combinations\n",
    "    # of energy states for the N particles.\n",
    "    all_combinations = product(possible_energies, repeat=num_particles)\n",
    "\n",
    "    # Filter the combinations to find those that sum to the total energy\n",
    "    microstates = [combo for combo in all_combinations if sum(combo) == total_energy]\n",
    "    \n",
    "    return microstates"
   ]
  },
  {
   "cell_type": "code",
   "execution_count": null,
   "id": "2059202c",
   "metadata": {},
   "outputs": [
    {
     "name": "stdout",
     "output_type": "stream",
     "text": [
      "--- Microcanonical Ensemble Example ---\n",
      "System Parameters:\n",
      "  - Number of particles (N): 3\n",
      "  - Total energy (E): 30\n",
      "  - Max energy per particle: 28\n",
      "\n",
      "For a total energy E = 30, we found 406 possible microstates.\n",
      "This number is Ω(E), the number of states at energy E.\n",
      "Each of these microstates is equally likely to occur.\n",
      "List of microstates (E_particle1, E_particle2, E_particle3):\n",
      "  (1, 1, 28)\n",
      "  (1, 2, 27)\n",
      "  (1, 3, 26)\n",
      "  (1, 4, 25)\n",
      "  (1, 5, 24)\n",
      "  (1, 6, 23)\n",
      "  (1, 7, 22)\n",
      "  (1, 8, 21)\n",
      "  (1, 9, 20)\n",
      "  (1, 10, 19)\n",
      "  (1, 11, 18)\n",
      "  (1, 12, 17)\n",
      "  (1, 13, 16)\n",
      "  (1, 14, 15)\n",
      "  (1, 15, 14)\n",
      "  (1, 16, 13)\n",
      "  (1, 17, 12)\n",
      "  (1, 18, 11)\n",
      "  (1, 19, 10)\n",
      "  (1, 20, 9)\n",
      "  (1, 21, 8)\n",
      "  (1, 22, 7)\n",
      "  (1, 23, 6)\n",
      "  (1, 24, 5)\n",
      "  (1, 25, 4)\n",
      "  (1, 26, 3)\n",
      "  (1, 27, 2)\n",
      "  (1, 28, 1)\n",
      "  (2, 1, 27)\n",
      "  (2, 2, 26)\n",
      "  (2, 3, 25)\n",
      "  (2, 4, 24)\n",
      "  (2, 5, 23)\n",
      "  (2, 6, 22)\n",
      "  (2, 7, 21)\n",
      "  (2, 8, 20)\n",
      "  (2, 9, 19)\n",
      "  (2, 10, 18)\n",
      "  (2, 11, 17)\n",
      "  (2, 12, 16)\n",
      "  (2, 13, 15)\n",
      "  (2, 14, 14)\n",
      "  (2, 15, 13)\n",
      "  (2, 16, 12)\n",
      "  (2, 17, 11)\n",
      "  (2, 18, 10)\n",
      "  (2, 19, 9)\n",
      "  (2, 20, 8)\n",
      "  (2, 21, 7)\n",
      "  (2, 22, 6)\n",
      "  (2, 23, 5)\n",
      "  (2, 24, 4)\n",
      "  (2, 25, 3)\n",
      "  (2, 26, 2)\n",
      "  (2, 27, 1)\n",
      "  (3, 1, 26)\n",
      "  (3, 2, 25)\n",
      "  (3, 3, 24)\n",
      "  (3, 4, 23)\n",
      "  (3, 5, 22)\n",
      "  (3, 6, 21)\n",
      "  (3, 7, 20)\n",
      "  (3, 8, 19)\n",
      "  (3, 9, 18)\n",
      "  (3, 10, 17)\n",
      "  (3, 11, 16)\n",
      "  (3, 12, 15)\n",
      "  (3, 13, 14)\n",
      "  (3, 14, 13)\n",
      "  (3, 15, 12)\n",
      "  (3, 16, 11)\n",
      "  (3, 17, 10)\n",
      "  (3, 18, 9)\n",
      "  (3, 19, 8)\n",
      "  (3, 20, 7)\n",
      "  (3, 21, 6)\n",
      "  (3, 22, 5)\n",
      "  (3, 23, 4)\n",
      "  (3, 24, 3)\n",
      "  (3, 25, 2)\n",
      "  (3, 26, 1)\n",
      "  (4, 1, 25)\n",
      "  (4, 2, 24)\n",
      "  (4, 3, 23)\n",
      "  (4, 4, 22)\n",
      "  (4, 5, 21)\n",
      "  (4, 6, 20)\n",
      "  (4, 7, 19)\n",
      "  (4, 8, 18)\n",
      "  (4, 9, 17)\n",
      "  (4, 10, 16)\n",
      "  (4, 11, 15)\n",
      "  (4, 12, 14)\n",
      "  (4, 13, 13)\n",
      "  (4, 14, 12)\n",
      "  (4, 15, 11)\n",
      "  (4, 16, 10)\n",
      "  (4, 17, 9)\n",
      "  (4, 18, 8)\n",
      "  (4, 19, 7)\n",
      "  (4, 20, 6)\n",
      "  (4, 21, 5)\n",
      "  (4, 22, 4)\n",
      "  (4, 23, 3)\n",
      "  (4, 24, 2)\n",
      "  (4, 25, 1)\n",
      "  (5, 1, 24)\n",
      "  (5, 2, 23)\n",
      "  (5, 3, 22)\n",
      "  (5, 4, 21)\n",
      "  (5, 5, 20)\n",
      "  (5, 6, 19)\n",
      "  (5, 7, 18)\n",
      "  (5, 8, 17)\n",
      "  (5, 9, 16)\n",
      "  (5, 10, 15)\n",
      "  (5, 11, 14)\n",
      "  (5, 12, 13)\n",
      "  (5, 13, 12)\n",
      "  (5, 14, 11)\n",
      "  (5, 15, 10)\n",
      "  (5, 16, 9)\n",
      "  (5, 17, 8)\n",
      "  (5, 18, 7)\n",
      "  (5, 19, 6)\n",
      "  (5, 20, 5)\n",
      "  (5, 21, 4)\n",
      "  (5, 22, 3)\n",
      "  (5, 23, 2)\n",
      "  (5, 24, 1)\n",
      "  (6, 1, 23)\n",
      "  (6, 2, 22)\n",
      "  (6, 3, 21)\n",
      "  (6, 4, 20)\n",
      "  (6, 5, 19)\n",
      "  (6, 6, 18)\n",
      "  (6, 7, 17)\n",
      "  (6, 8, 16)\n",
      "  (6, 9, 15)\n",
      "  (6, 10, 14)\n",
      "  (6, 11, 13)\n",
      "  (6, 12, 12)\n",
      "  (6, 13, 11)\n",
      "  (6, 14, 10)\n",
      "  (6, 15, 9)\n",
      "  (6, 16, 8)\n",
      "  (6, 17, 7)\n",
      "  (6, 18, 6)\n",
      "  (6, 19, 5)\n",
      "  (6, 20, 4)\n",
      "  (6, 21, 3)\n",
      "  (6, 22, 2)\n",
      "  (6, 23, 1)\n",
      "  (7, 1, 22)\n",
      "  (7, 2, 21)\n",
      "  (7, 3, 20)\n",
      "  (7, 4, 19)\n",
      "  (7, 5, 18)\n",
      "  (7, 6, 17)\n",
      "  (7, 7, 16)\n",
      "  (7, 8, 15)\n",
      "  (7, 9, 14)\n",
      "  (7, 10, 13)\n",
      "  (7, 11, 12)\n",
      "  (7, 12, 11)\n",
      "  (7, 13, 10)\n",
      "  (7, 14, 9)\n",
      "  (7, 15, 8)\n",
      "  (7, 16, 7)\n",
      "  (7, 17, 6)\n",
      "  (7, 18, 5)\n",
      "  (7, 19, 4)\n",
      "  (7, 20, 3)\n",
      "  (7, 21, 2)\n",
      "  (7, 22, 1)\n",
      "  (8, 1, 21)\n",
      "  (8, 2, 20)\n",
      "  (8, 3, 19)\n",
      "  (8, 4, 18)\n",
      "  (8, 5, 17)\n",
      "  (8, 6, 16)\n",
      "  (8, 7, 15)\n",
      "  (8, 8, 14)\n",
      "  (8, 9, 13)\n",
      "  (8, 10, 12)\n",
      "  (8, 11, 11)\n",
      "  (8, 12, 10)\n",
      "  (8, 13, 9)\n",
      "  (8, 14, 8)\n",
      "  (8, 15, 7)\n",
      "  (8, 16, 6)\n",
      "  (8, 17, 5)\n",
      "  (8, 18, 4)\n",
      "  (8, 19, 3)\n",
      "  (8, 20, 2)\n",
      "  (8, 21, 1)\n",
      "  (9, 1, 20)\n",
      "  (9, 2, 19)\n",
      "  (9, 3, 18)\n",
      "  (9, 4, 17)\n",
      "  (9, 5, 16)\n",
      "  (9, 6, 15)\n",
      "  (9, 7, 14)\n",
      "  (9, 8, 13)\n",
      "  (9, 9, 12)\n",
      "  (9, 10, 11)\n",
      "  (9, 11, 10)\n",
      "  (9, 12, 9)\n",
      "  (9, 13, 8)\n",
      "  (9, 14, 7)\n",
      "  (9, 15, 6)\n",
      "  (9, 16, 5)\n",
      "  (9, 17, 4)\n",
      "  (9, 18, 3)\n",
      "  (9, 19, 2)\n",
      "  (9, 20, 1)\n",
      "  (10, 1, 19)\n",
      "  (10, 2, 18)\n",
      "  (10, 3, 17)\n",
      "  (10, 4, 16)\n",
      "  (10, 5, 15)\n",
      "  (10, 6, 14)\n",
      "  (10, 7, 13)\n",
      "  (10, 8, 12)\n",
      "  (10, 9, 11)\n",
      "  (10, 10, 10)\n",
      "  (10, 11, 9)\n",
      "  (10, 12, 8)\n",
      "  (10, 13, 7)\n",
      "  (10, 14, 6)\n",
      "  (10, 15, 5)\n",
      "  (10, 16, 4)\n",
      "  (10, 17, 3)\n",
      "  (10, 18, 2)\n",
      "  (10, 19, 1)\n",
      "  (11, 1, 18)\n",
      "  (11, 2, 17)\n",
      "  (11, 3, 16)\n",
      "  (11, 4, 15)\n",
      "  (11, 5, 14)\n",
      "  (11, 6, 13)\n",
      "  (11, 7, 12)\n",
      "  (11, 8, 11)\n",
      "  (11, 9, 10)\n",
      "  (11, 10, 9)\n",
      "  (11, 11, 8)\n",
      "  (11, 12, 7)\n",
      "  (11, 13, 6)\n",
      "  (11, 14, 5)\n",
      "  (11, 15, 4)\n",
      "  (11, 16, 3)\n",
      "  (11, 17, 2)\n",
      "  (11, 18, 1)\n",
      "  (12, 1, 17)\n",
      "  (12, 2, 16)\n",
      "  (12, 3, 15)\n",
      "  (12, 4, 14)\n",
      "  (12, 5, 13)\n",
      "  (12, 6, 12)\n",
      "  (12, 7, 11)\n",
      "  (12, 8, 10)\n",
      "  (12, 9, 9)\n",
      "  (12, 10, 8)\n",
      "  (12, 11, 7)\n",
      "  (12, 12, 6)\n",
      "  (12, 13, 5)\n",
      "  (12, 14, 4)\n",
      "  (12, 15, 3)\n",
      "  (12, 16, 2)\n",
      "  (12, 17, 1)\n",
      "  (13, 1, 16)\n",
      "  (13, 2, 15)\n",
      "  (13, 3, 14)\n",
      "  (13, 4, 13)\n",
      "  (13, 5, 12)\n",
      "  (13, 6, 11)\n",
      "  (13, 7, 10)\n",
      "  (13, 8, 9)\n",
      "  (13, 9, 8)\n",
      "  (13, 10, 7)\n",
      "  (13, 11, 6)\n",
      "  (13, 12, 5)\n",
      "  (13, 13, 4)\n",
      "  (13, 14, 3)\n",
      "  (13, 15, 2)\n",
      "  (13, 16, 1)\n",
      "  (14, 1, 15)\n",
      "  (14, 2, 14)\n",
      "  (14, 3, 13)\n",
      "  (14, 4, 12)\n",
      "  (14, 5, 11)\n",
      "  (14, 6, 10)\n",
      "  (14, 7, 9)\n",
      "  (14, 8, 8)\n",
      "  (14, 9, 7)\n",
      "  (14, 10, 6)\n",
      "  (14, 11, 5)\n",
      "  (14, 12, 4)\n",
      "  (14, 13, 3)\n",
      "  (14, 14, 2)\n",
      "  (14, 15, 1)\n",
      "  (15, 1, 14)\n",
      "  (15, 2, 13)\n",
      "  (15, 3, 12)\n",
      "  (15, 4, 11)\n",
      "  (15, 5, 10)\n",
      "  (15, 6, 9)\n",
      "  (15, 7, 8)\n",
      "  (15, 8, 7)\n",
      "  (15, 9, 6)\n",
      "  (15, 10, 5)\n",
      "  (15, 11, 4)\n",
      "  (15, 12, 3)\n",
      "  (15, 13, 2)\n",
      "  (15, 14, 1)\n",
      "  (16, 1, 13)\n",
      "  (16, 2, 12)\n",
      "  (16, 3, 11)\n",
      "  (16, 4, 10)\n",
      "  (16, 5, 9)\n",
      "  (16, 6, 8)\n",
      "  (16, 7, 7)\n",
      "  (16, 8, 6)\n",
      "  (16, 9, 5)\n",
      "  (16, 10, 4)\n",
      "  (16, 11, 3)\n",
      "  (16, 12, 2)\n",
      "  (16, 13, 1)\n",
      "  (17, 1, 12)\n",
      "  (17, 2, 11)\n",
      "  (17, 3, 10)\n",
      "  (17, 4, 9)\n",
      "  (17, 5, 8)\n",
      "  (17, 6, 7)\n",
      "  (17, 7, 6)\n",
      "  (17, 8, 5)\n",
      "  (17, 9, 4)\n",
      "  (17, 10, 3)\n",
      "  (17, 11, 2)\n",
      "  (17, 12, 1)\n",
      "  (18, 1, 11)\n",
      "  (18, 2, 10)\n",
      "  (18, 3, 9)\n",
      "  (18, 4, 8)\n",
      "  (18, 5, 7)\n",
      "  (18, 6, 6)\n",
      "  (18, 7, 5)\n",
      "  (18, 8, 4)\n",
      "  (18, 9, 3)\n",
      "  (18, 10, 2)\n",
      "  (18, 11, 1)\n",
      "  (19, 1, 10)\n",
      "  (19, 2, 9)\n",
      "  (19, 3, 8)\n",
      "  (19, 4, 7)\n",
      "  (19, 5, 6)\n",
      "  (19, 6, 5)\n",
      "  (19, 7, 4)\n",
      "  (19, 8, 3)\n",
      "  (19, 9, 2)\n",
      "  (19, 10, 1)\n",
      "  (20, 1, 9)\n",
      "  (20, 2, 8)\n",
      "  (20, 3, 7)\n",
      "  (20, 4, 6)\n",
      "  (20, 5, 5)\n",
      "  (20, 6, 4)\n",
      "  (20, 7, 3)\n",
      "  (20, 8, 2)\n",
      "  (20, 9, 1)\n",
      "  (21, 1, 8)\n",
      "  (21, 2, 7)\n",
      "  (21, 3, 6)\n",
      "  (21, 4, 5)\n",
      "  (21, 5, 4)\n",
      "  (21, 6, 3)\n",
      "  (21, 7, 2)\n",
      "  (21, 8, 1)\n",
      "  (22, 1, 7)\n",
      "  (22, 2, 6)\n",
      "  (22, 3, 5)\n",
      "  (22, 4, 4)\n",
      "  (22, 5, 3)\n",
      "  (22, 6, 2)\n",
      "  (22, 7, 1)\n",
      "  (23, 1, 6)\n",
      "  (23, 2, 5)\n",
      "  (23, 3, 4)\n",
      "  (23, 4, 3)\n",
      "  (23, 5, 2)\n",
      "  (23, 6, 1)\n",
      "  (24, 1, 5)\n",
      "  (24, 2, 4)\n",
      "  (24, 3, 3)\n",
      "  (24, 4, 2)\n",
      "  (24, 5, 1)\n",
      "  (25, 1, 4)\n",
      "  (25, 2, 3)\n",
      "  (25, 3, 2)\n",
      "  (25, 4, 1)\n",
      "  (26, 1, 3)\n",
      "  (26, 2, 2)\n",
      "  (26, 3, 1)\n",
      "  (27, 1, 2)\n",
      "  (27, 2, 1)\n",
      "  (28, 1, 1)\n",
      "-----------------------------------\n"
     ]
    },
    {
     "data": {
      "application/vnd.plotly.v1+json": {
       "config": {
        "plotlyServerURL": "https://plot.ly"
       },
       "data": [
        {
         "marker": {
          "color": "royalblue",
          "opacity": 0.8,
          "size": 8,
          "symbol": "diamond"
         },
         "mode": "markers",
         "name": "Microstates for E=30",
         "type": "scatter3d",
         "x": [
          1,
          1,
          1,
          1,
          1,
          1,
          1,
          1,
          1,
          1,
          1,
          1,
          1,
          1,
          1,
          1,
          1,
          1,
          1,
          1,
          1,
          1,
          1,
          1,
          1,
          1,
          1,
          1,
          2,
          2,
          2,
          2,
          2,
          2,
          2,
          2,
          2,
          2,
          2,
          2,
          2,
          2,
          2,
          2,
          2,
          2,
          2,
          2,
          2,
          2,
          2,
          2,
          2,
          2,
          2,
          3,
          3,
          3,
          3,
          3,
          3,
          3,
          3,
          3,
          3,
          3,
          3,
          3,
          3,
          3,
          3,
          3,
          3,
          3,
          3,
          3,
          3,
          3,
          3,
          3,
          3,
          4,
          4,
          4,
          4,
          4,
          4,
          4,
          4,
          4,
          4,
          4,
          4,
          4,
          4,
          4,
          4,
          4,
          4,
          4,
          4,
          4,
          4,
          4,
          4,
          4,
          5,
          5,
          5,
          5,
          5,
          5,
          5,
          5,
          5,
          5,
          5,
          5,
          5,
          5,
          5,
          5,
          5,
          5,
          5,
          5,
          5,
          5,
          5,
          5,
          6,
          6,
          6,
          6,
          6,
          6,
          6,
          6,
          6,
          6,
          6,
          6,
          6,
          6,
          6,
          6,
          6,
          6,
          6,
          6,
          6,
          6,
          6,
          7,
          7,
          7,
          7,
          7,
          7,
          7,
          7,
          7,
          7,
          7,
          7,
          7,
          7,
          7,
          7,
          7,
          7,
          7,
          7,
          7,
          7,
          8,
          8,
          8,
          8,
          8,
          8,
          8,
          8,
          8,
          8,
          8,
          8,
          8,
          8,
          8,
          8,
          8,
          8,
          8,
          8,
          8,
          9,
          9,
          9,
          9,
          9,
          9,
          9,
          9,
          9,
          9,
          9,
          9,
          9,
          9,
          9,
          9,
          9,
          9,
          9,
          9,
          10,
          10,
          10,
          10,
          10,
          10,
          10,
          10,
          10,
          10,
          10,
          10,
          10,
          10,
          10,
          10,
          10,
          10,
          10,
          11,
          11,
          11,
          11,
          11,
          11,
          11,
          11,
          11,
          11,
          11,
          11,
          11,
          11,
          11,
          11,
          11,
          11,
          12,
          12,
          12,
          12,
          12,
          12,
          12,
          12,
          12,
          12,
          12,
          12,
          12,
          12,
          12,
          12,
          12,
          13,
          13,
          13,
          13,
          13,
          13,
          13,
          13,
          13,
          13,
          13,
          13,
          13,
          13,
          13,
          13,
          14,
          14,
          14,
          14,
          14,
          14,
          14,
          14,
          14,
          14,
          14,
          14,
          14,
          14,
          14,
          15,
          15,
          15,
          15,
          15,
          15,
          15,
          15,
          15,
          15,
          15,
          15,
          15,
          15,
          16,
          16,
          16,
          16,
          16,
          16,
          16,
          16,
          16,
          16,
          16,
          16,
          16,
          17,
          17,
          17,
          17,
          17,
          17,
          17,
          17,
          17,
          17,
          17,
          17,
          18,
          18,
          18,
          18,
          18,
          18,
          18,
          18,
          18,
          18,
          18,
          19,
          19,
          19,
          19,
          19,
          19,
          19,
          19,
          19,
          19,
          20,
          20,
          20,
          20,
          20,
          20,
          20,
          20,
          20,
          21,
          21,
          21,
          21,
          21,
          21,
          21,
          21,
          22,
          22,
          22,
          22,
          22,
          22,
          22,
          23,
          23,
          23,
          23,
          23,
          23,
          24,
          24,
          24,
          24,
          24,
          25,
          25,
          25,
          25,
          26,
          26,
          26,
          27,
          27,
          28
         ],
         "y": [
          1,
          2,
          3,
          4,
          5,
          6,
          7,
          8,
          9,
          10,
          11,
          12,
          13,
          14,
          15,
          16,
          17,
          18,
          19,
          20,
          21,
          22,
          23,
          24,
          25,
          26,
          27,
          28,
          1,
          2,
          3,
          4,
          5,
          6,
          7,
          8,
          9,
          10,
          11,
          12,
          13,
          14,
          15,
          16,
          17,
          18,
          19,
          20,
          21,
          22,
          23,
          24,
          25,
          26,
          27,
          1,
          2,
          3,
          4,
          5,
          6,
          7,
          8,
          9,
          10,
          11,
          12,
          13,
          14,
          15,
          16,
          17,
          18,
          19,
          20,
          21,
          22,
          23,
          24,
          25,
          26,
          1,
          2,
          3,
          4,
          5,
          6,
          7,
          8,
          9,
          10,
          11,
          12,
          13,
          14,
          15,
          16,
          17,
          18,
          19,
          20,
          21,
          22,
          23,
          24,
          25,
          1,
          2,
          3,
          4,
          5,
          6,
          7,
          8,
          9,
          10,
          11,
          12,
          13,
          14,
          15,
          16,
          17,
          18,
          19,
          20,
          21,
          22,
          23,
          24,
          1,
          2,
          3,
          4,
          5,
          6,
          7,
          8,
          9,
          10,
          11,
          12,
          13,
          14,
          15,
          16,
          17,
          18,
          19,
          20,
          21,
          22,
          23,
          1,
          2,
          3,
          4,
          5,
          6,
          7,
          8,
          9,
          10,
          11,
          12,
          13,
          14,
          15,
          16,
          17,
          18,
          19,
          20,
          21,
          22,
          1,
          2,
          3,
          4,
          5,
          6,
          7,
          8,
          9,
          10,
          11,
          12,
          13,
          14,
          15,
          16,
          17,
          18,
          19,
          20,
          21,
          1,
          2,
          3,
          4,
          5,
          6,
          7,
          8,
          9,
          10,
          11,
          12,
          13,
          14,
          15,
          16,
          17,
          18,
          19,
          20,
          1,
          2,
          3,
          4,
          5,
          6,
          7,
          8,
          9,
          10,
          11,
          12,
          13,
          14,
          15,
          16,
          17,
          18,
          19,
          1,
          2,
          3,
          4,
          5,
          6,
          7,
          8,
          9,
          10,
          11,
          12,
          13,
          14,
          15,
          16,
          17,
          18,
          1,
          2,
          3,
          4,
          5,
          6,
          7,
          8,
          9,
          10,
          11,
          12,
          13,
          14,
          15,
          16,
          17,
          1,
          2,
          3,
          4,
          5,
          6,
          7,
          8,
          9,
          10,
          11,
          12,
          13,
          14,
          15,
          16,
          1,
          2,
          3,
          4,
          5,
          6,
          7,
          8,
          9,
          10,
          11,
          12,
          13,
          14,
          15,
          1,
          2,
          3,
          4,
          5,
          6,
          7,
          8,
          9,
          10,
          11,
          12,
          13,
          14,
          1,
          2,
          3,
          4,
          5,
          6,
          7,
          8,
          9,
          10,
          11,
          12,
          13,
          1,
          2,
          3,
          4,
          5,
          6,
          7,
          8,
          9,
          10,
          11,
          12,
          1,
          2,
          3,
          4,
          5,
          6,
          7,
          8,
          9,
          10,
          11,
          1,
          2,
          3,
          4,
          5,
          6,
          7,
          8,
          9,
          10,
          1,
          2,
          3,
          4,
          5,
          6,
          7,
          8,
          9,
          1,
          2,
          3,
          4,
          5,
          6,
          7,
          8,
          1,
          2,
          3,
          4,
          5,
          6,
          7,
          1,
          2,
          3,
          4,
          5,
          6,
          1,
          2,
          3,
          4,
          5,
          1,
          2,
          3,
          4,
          1,
          2,
          3,
          1,
          2,
          1
         ],
         "z": [
          28,
          27,
          26,
          25,
          24,
          23,
          22,
          21,
          20,
          19,
          18,
          17,
          16,
          15,
          14,
          13,
          12,
          11,
          10,
          9,
          8,
          7,
          6,
          5,
          4,
          3,
          2,
          1,
          27,
          26,
          25,
          24,
          23,
          22,
          21,
          20,
          19,
          18,
          17,
          16,
          15,
          14,
          13,
          12,
          11,
          10,
          9,
          8,
          7,
          6,
          5,
          4,
          3,
          2,
          1,
          26,
          25,
          24,
          23,
          22,
          21,
          20,
          19,
          18,
          17,
          16,
          15,
          14,
          13,
          12,
          11,
          10,
          9,
          8,
          7,
          6,
          5,
          4,
          3,
          2,
          1,
          25,
          24,
          23,
          22,
          21,
          20,
          19,
          18,
          17,
          16,
          15,
          14,
          13,
          12,
          11,
          10,
          9,
          8,
          7,
          6,
          5,
          4,
          3,
          2,
          1,
          24,
          23,
          22,
          21,
          20,
          19,
          18,
          17,
          16,
          15,
          14,
          13,
          12,
          11,
          10,
          9,
          8,
          7,
          6,
          5,
          4,
          3,
          2,
          1,
          23,
          22,
          21,
          20,
          19,
          18,
          17,
          16,
          15,
          14,
          13,
          12,
          11,
          10,
          9,
          8,
          7,
          6,
          5,
          4,
          3,
          2,
          1,
          22,
          21,
          20,
          19,
          18,
          17,
          16,
          15,
          14,
          13,
          12,
          11,
          10,
          9,
          8,
          7,
          6,
          5,
          4,
          3,
          2,
          1,
          21,
          20,
          19,
          18,
          17,
          16,
          15,
          14,
          13,
          12,
          11,
          10,
          9,
          8,
          7,
          6,
          5,
          4,
          3,
          2,
          1,
          20,
          19,
          18,
          17,
          16,
          15,
          14,
          13,
          12,
          11,
          10,
          9,
          8,
          7,
          6,
          5,
          4,
          3,
          2,
          1,
          19,
          18,
          17,
          16,
          15,
          14,
          13,
          12,
          11,
          10,
          9,
          8,
          7,
          6,
          5,
          4,
          3,
          2,
          1,
          18,
          17,
          16,
          15,
          14,
          13,
          12,
          11,
          10,
          9,
          8,
          7,
          6,
          5,
          4,
          3,
          2,
          1,
          17,
          16,
          15,
          14,
          13,
          12,
          11,
          10,
          9,
          8,
          7,
          6,
          5,
          4,
          3,
          2,
          1,
          16,
          15,
          14,
          13,
          12,
          11,
          10,
          9,
          8,
          7,
          6,
          5,
          4,
          3,
          2,
          1,
          15,
          14,
          13,
          12,
          11,
          10,
          9,
          8,
          7,
          6,
          5,
          4,
          3,
          2,
          1,
          14,
          13,
          12,
          11,
          10,
          9,
          8,
          7,
          6,
          5,
          4,
          3,
          2,
          1,
          13,
          12,
          11,
          10,
          9,
          8,
          7,
          6,
          5,
          4,
          3,
          2,
          1,
          12,
          11,
          10,
          9,
          8,
          7,
          6,
          5,
          4,
          3,
          2,
          1,
          11,
          10,
          9,
          8,
          7,
          6,
          5,
          4,
          3,
          2,
          1,
          10,
          9,
          8,
          7,
          6,
          5,
          4,
          3,
          2,
          1,
          9,
          8,
          7,
          6,
          5,
          4,
          3,
          2,
          1,
          8,
          7,
          6,
          5,
          4,
          3,
          2,
          1,
          7,
          6,
          5,
          4,
          3,
          2,
          1,
          6,
          5,
          4,
          3,
          2,
          1,
          5,
          4,
          3,
          2,
          1,
          4,
          3,
          2,
          1,
          3,
          2,
          1,
          2,
          1,
          1
         ]
        }
       ],
       "layout": {
        "margin": {
         "b": 0,
         "l": 0,
         "r": 0,
         "t": 40
        },
        "scene": {
         "aspectratio": {
          "x": 1,
          "y": 1,
          "z": 1
         },
         "xaxis": {
          "title": {
           "text": "Energy of Particle 1 (E1)"
          }
         },
         "yaxis": {
          "title": {
           "text": "Energy of Particle 2 (E2)"
          }
         },
         "zaxis": {
          "title": {
           "text": "Energy of Particle 3 (E3)"
          }
         }
        },
        "template": {
         "data": {
          "bar": [
           {
            "error_x": {
             "color": "#2a3f5f"
            },
            "error_y": {
             "color": "#2a3f5f"
            },
            "marker": {
             "line": {
              "color": "#E5ECF6",
              "width": 0.5
             },
             "pattern": {
              "fillmode": "overlay",
              "size": 10,
              "solidity": 0.2
             }
            },
            "type": "bar"
           }
          ],
          "barpolar": [
           {
            "marker": {
             "line": {
              "color": "#E5ECF6",
              "width": 0.5
             },
             "pattern": {
              "fillmode": "overlay",
              "size": 10,
              "solidity": 0.2
             }
            },
            "type": "barpolar"
           }
          ],
          "carpet": [
           {
            "aaxis": {
             "endlinecolor": "#2a3f5f",
             "gridcolor": "white",
             "linecolor": "white",
             "minorgridcolor": "white",
             "startlinecolor": "#2a3f5f"
            },
            "baxis": {
             "endlinecolor": "#2a3f5f",
             "gridcolor": "white",
             "linecolor": "white",
             "minorgridcolor": "white",
             "startlinecolor": "#2a3f5f"
            },
            "type": "carpet"
           }
          ],
          "choropleth": [
           {
            "colorbar": {
             "outlinewidth": 0,
             "ticks": ""
            },
            "type": "choropleth"
           }
          ],
          "contour": [
           {
            "colorbar": {
             "outlinewidth": 0,
             "ticks": ""
            },
            "colorscale": [
             [
              0,
              "#0d0887"
             ],
             [
              0.1111111111111111,
              "#46039f"
             ],
             [
              0.2222222222222222,
              "#7201a8"
             ],
             [
              0.3333333333333333,
              "#9c179e"
             ],
             [
              0.4444444444444444,
              "#bd3786"
             ],
             [
              0.5555555555555556,
              "#d8576b"
             ],
             [
              0.6666666666666666,
              "#ed7953"
             ],
             [
              0.7777777777777778,
              "#fb9f3a"
             ],
             [
              0.8888888888888888,
              "#fdca26"
             ],
             [
              1,
              "#f0f921"
             ]
            ],
            "type": "contour"
           }
          ],
          "contourcarpet": [
           {
            "colorbar": {
             "outlinewidth": 0,
             "ticks": ""
            },
            "type": "contourcarpet"
           }
          ],
          "heatmap": [
           {
            "colorbar": {
             "outlinewidth": 0,
             "ticks": ""
            },
            "colorscale": [
             [
              0,
              "#0d0887"
             ],
             [
              0.1111111111111111,
              "#46039f"
             ],
             [
              0.2222222222222222,
              "#7201a8"
             ],
             [
              0.3333333333333333,
              "#9c179e"
             ],
             [
              0.4444444444444444,
              "#bd3786"
             ],
             [
              0.5555555555555556,
              "#d8576b"
             ],
             [
              0.6666666666666666,
              "#ed7953"
             ],
             [
              0.7777777777777778,
              "#fb9f3a"
             ],
             [
              0.8888888888888888,
              "#fdca26"
             ],
             [
              1,
              "#f0f921"
             ]
            ],
            "type": "heatmap"
           }
          ],
          "heatmapgl": [
           {
            "colorbar": {
             "outlinewidth": 0,
             "ticks": ""
            },
            "colorscale": [
             [
              0,
              "#0d0887"
             ],
             [
              0.1111111111111111,
              "#46039f"
             ],
             [
              0.2222222222222222,
              "#7201a8"
             ],
             [
              0.3333333333333333,
              "#9c179e"
             ],
             [
              0.4444444444444444,
              "#bd3786"
             ],
             [
              0.5555555555555556,
              "#d8576b"
             ],
             [
              0.6666666666666666,
              "#ed7953"
             ],
             [
              0.7777777777777778,
              "#fb9f3a"
             ],
             [
              0.8888888888888888,
              "#fdca26"
             ],
             [
              1,
              "#f0f921"
             ]
            ],
            "type": "heatmapgl"
           }
          ],
          "histogram": [
           {
            "marker": {
             "pattern": {
              "fillmode": "overlay",
              "size": 10,
              "solidity": 0.2
             }
            },
            "type": "histogram"
           }
          ],
          "histogram2d": [
           {
            "colorbar": {
             "outlinewidth": 0,
             "ticks": ""
            },
            "colorscale": [
             [
              0,
              "#0d0887"
             ],
             [
              0.1111111111111111,
              "#46039f"
             ],
             [
              0.2222222222222222,
              "#7201a8"
             ],
             [
              0.3333333333333333,
              "#9c179e"
             ],
             [
              0.4444444444444444,
              "#bd3786"
             ],
             [
              0.5555555555555556,
              "#d8576b"
             ],
             [
              0.6666666666666666,
              "#ed7953"
             ],
             [
              0.7777777777777778,
              "#fb9f3a"
             ],
             [
              0.8888888888888888,
              "#fdca26"
             ],
             [
              1,
              "#f0f921"
             ]
            ],
            "type": "histogram2d"
           }
          ],
          "histogram2dcontour": [
           {
            "colorbar": {
             "outlinewidth": 0,
             "ticks": ""
            },
            "colorscale": [
             [
              0,
              "#0d0887"
             ],
             [
              0.1111111111111111,
              "#46039f"
             ],
             [
              0.2222222222222222,
              "#7201a8"
             ],
             [
              0.3333333333333333,
              "#9c179e"
             ],
             [
              0.4444444444444444,
              "#bd3786"
             ],
             [
              0.5555555555555556,
              "#d8576b"
             ],
             [
              0.6666666666666666,
              "#ed7953"
             ],
             [
              0.7777777777777778,
              "#fb9f3a"
             ],
             [
              0.8888888888888888,
              "#fdca26"
             ],
             [
              1,
              "#f0f921"
             ]
            ],
            "type": "histogram2dcontour"
           }
          ],
          "mesh3d": [
           {
            "colorbar": {
             "outlinewidth": 0,
             "ticks": ""
            },
            "type": "mesh3d"
           }
          ],
          "parcoords": [
           {
            "line": {
             "colorbar": {
              "outlinewidth": 0,
              "ticks": ""
             }
            },
            "type": "parcoords"
           }
          ],
          "pie": [
           {
            "automargin": true,
            "type": "pie"
           }
          ],
          "scatter": [
           {
            "fillpattern": {
             "fillmode": "overlay",
             "size": 10,
             "solidity": 0.2
            },
            "type": "scatter"
           }
          ],
          "scatter3d": [
           {
            "line": {
             "colorbar": {
              "outlinewidth": 0,
              "ticks": ""
             }
            },
            "marker": {
             "colorbar": {
              "outlinewidth": 0,
              "ticks": ""
             }
            },
            "type": "scatter3d"
           }
          ],
          "scattercarpet": [
           {
            "marker": {
             "colorbar": {
              "outlinewidth": 0,
              "ticks": ""
             }
            },
            "type": "scattercarpet"
           }
          ],
          "scattergeo": [
           {
            "marker": {
             "colorbar": {
              "outlinewidth": 0,
              "ticks": ""
             }
            },
            "type": "scattergeo"
           }
          ],
          "scattergl": [
           {
            "marker": {
             "colorbar": {
              "outlinewidth": 0,
              "ticks": ""
             }
            },
            "type": "scattergl"
           }
          ],
          "scattermapbox": [
           {
            "marker": {
             "colorbar": {
              "outlinewidth": 0,
              "ticks": ""
             }
            },
            "type": "scattermapbox"
           }
          ],
          "scatterpolar": [
           {
            "marker": {
             "colorbar": {
              "outlinewidth": 0,
              "ticks": ""
             }
            },
            "type": "scatterpolar"
           }
          ],
          "scatterpolargl": [
           {
            "marker": {
             "colorbar": {
              "outlinewidth": 0,
              "ticks": ""
             }
            },
            "type": "scatterpolargl"
           }
          ],
          "scatterternary": [
           {
            "marker": {
             "colorbar": {
              "outlinewidth": 0,
              "ticks": ""
             }
            },
            "type": "scatterternary"
           }
          ],
          "surface": [
           {
            "colorbar": {
             "outlinewidth": 0,
             "ticks": ""
            },
            "colorscale": [
             [
              0,
              "#0d0887"
             ],
             [
              0.1111111111111111,
              "#46039f"
             ],
             [
              0.2222222222222222,
              "#7201a8"
             ],
             [
              0.3333333333333333,
              "#9c179e"
             ],
             [
              0.4444444444444444,
              "#bd3786"
             ],
             [
              0.5555555555555556,
              "#d8576b"
             ],
             [
              0.6666666666666666,
              "#ed7953"
             ],
             [
              0.7777777777777778,
              "#fb9f3a"
             ],
             [
              0.8888888888888888,
              "#fdca26"
             ],
             [
              1,
              "#f0f921"
             ]
            ],
            "type": "surface"
           }
          ],
          "table": [
           {
            "cells": {
             "fill": {
              "color": "#EBF0F8"
             },
             "line": {
              "color": "white"
             }
            },
            "header": {
             "fill": {
              "color": "#C8D4E3"
             },
             "line": {
              "color": "white"
             }
            },
            "type": "table"
           }
          ]
         },
         "layout": {
          "annotationdefaults": {
           "arrowcolor": "#2a3f5f",
           "arrowhead": 0,
           "arrowwidth": 1
          },
          "autotypenumbers": "strict",
          "coloraxis": {
           "colorbar": {
            "outlinewidth": 0,
            "ticks": ""
           }
          },
          "colorscale": {
           "diverging": [
            [
             0,
             "#8e0152"
            ],
            [
             0.1,
             "#c51b7d"
            ],
            [
             0.2,
             "#de77ae"
            ],
            [
             0.3,
             "#f1b6da"
            ],
            [
             0.4,
             "#fde0ef"
            ],
            [
             0.5,
             "#f7f7f7"
            ],
            [
             0.6,
             "#e6f5d0"
            ],
            [
             0.7,
             "#b8e186"
            ],
            [
             0.8,
             "#7fbc41"
            ],
            [
             0.9,
             "#4d9221"
            ],
            [
             1,
             "#276419"
            ]
           ],
           "sequential": [
            [
             0,
             "#0d0887"
            ],
            [
             0.1111111111111111,
             "#46039f"
            ],
            [
             0.2222222222222222,
             "#7201a8"
            ],
            [
             0.3333333333333333,
             "#9c179e"
            ],
            [
             0.4444444444444444,
             "#bd3786"
            ],
            [
             0.5555555555555556,
             "#d8576b"
            ],
            [
             0.6666666666666666,
             "#ed7953"
            ],
            [
             0.7777777777777778,
             "#fb9f3a"
            ],
            [
             0.8888888888888888,
             "#fdca26"
            ],
            [
             1,
             "#f0f921"
            ]
           ],
           "sequentialminus": [
            [
             0,
             "#0d0887"
            ],
            [
             0.1111111111111111,
             "#46039f"
            ],
            [
             0.2222222222222222,
             "#7201a8"
            ],
            [
             0.3333333333333333,
             "#9c179e"
            ],
            [
             0.4444444444444444,
             "#bd3786"
            ],
            [
             0.5555555555555556,
             "#d8576b"
            ],
            [
             0.6666666666666666,
             "#ed7953"
            ],
            [
             0.7777777777777778,
             "#fb9f3a"
            ],
            [
             0.8888888888888888,
             "#fdca26"
            ],
            [
             1,
             "#f0f921"
            ]
           ]
          },
          "colorway": [
           "#636efa",
           "#EF553B",
           "#00cc96",
           "#ab63fa",
           "#FFA15A",
           "#19d3f3",
           "#FF6692",
           "#B6E880",
           "#FF97FF",
           "#FECB52"
          ],
          "font": {
           "color": "#2a3f5f"
          },
          "geo": {
           "bgcolor": "white",
           "lakecolor": "white",
           "landcolor": "#E5ECF6",
           "showlakes": true,
           "showland": true,
           "subunitcolor": "white"
          },
          "hoverlabel": {
           "align": "left"
          },
          "hovermode": "closest",
          "mapbox": {
           "style": "light"
          },
          "paper_bgcolor": "white",
          "plot_bgcolor": "#E5ECF6",
          "polar": {
           "angularaxis": {
            "gridcolor": "white",
            "linecolor": "white",
            "ticks": ""
           },
           "bgcolor": "#E5ECF6",
           "radialaxis": {
            "gridcolor": "white",
            "linecolor": "white",
            "ticks": ""
           }
          },
          "scene": {
           "xaxis": {
            "backgroundcolor": "#E5ECF6",
            "gridcolor": "white",
            "gridwidth": 2,
            "linecolor": "white",
            "showbackground": true,
            "ticks": "",
            "zerolinecolor": "white"
           },
           "yaxis": {
            "backgroundcolor": "#E5ECF6",
            "gridcolor": "white",
            "gridwidth": 2,
            "linecolor": "white",
            "showbackground": true,
            "ticks": "",
            "zerolinecolor": "white"
           },
           "zaxis": {
            "backgroundcolor": "#E5ECF6",
            "gridcolor": "white",
            "gridwidth": 2,
            "linecolor": "white",
            "showbackground": true,
            "ticks": "",
            "zerolinecolor": "white"
           }
          },
          "shapedefaults": {
           "line": {
            "color": "#2a3f5f"
           }
          },
          "ternary": {
           "aaxis": {
            "gridcolor": "white",
            "linecolor": "white",
            "ticks": ""
           },
           "baxis": {
            "gridcolor": "white",
            "linecolor": "white",
            "ticks": ""
           },
           "bgcolor": "#E5ECF6",
           "caxis": {
            "gridcolor": "white",
            "linecolor": "white",
            "ticks": ""
           }
          },
          "title": {
           "x": 0.05
          },
          "xaxis": {
           "automargin": true,
           "gridcolor": "white",
           "linecolor": "white",
           "ticks": "",
           "title": {
            "standoff": 15
           },
           "zerolinecolor": "white",
           "zerolinewidth": 2
          },
          "yaxis": {
           "automargin": true,
           "gridcolor": "white",
           "linecolor": "white",
           "ticks": "",
           "title": {
            "standoff": 15
           },
           "zerolinecolor": "white",
           "zerolinewidth": 2
          }
         }
        },
        "title": {
         "text": "<b>Visualization of Microstates for N=3, E=30</b><br>Each point is an accessible microstate"
        }
       }
      }
     },
     "metadata": {},
     "output_type": "display_data"
    }
   ],
   "source": [
    "\"\"\"\n",
    "Main function to run the simulation and generate visualizations.\n",
    "\"\"\"\n",
    "# --- System Parameters ---\n",
    "# We'll use a simple system of 3 particles.\n",
    "num_particles = 3\n",
    "# Let's fix the total energy for our primary example.\n",
    "total_energy = 30\n",
    "# Assume the maximum energy a single particle can have is 7.\n",
    "# This is to keep the state space manageable for demonstration.\n",
    "max_particle_energy = total_energy - (num_particles - 1)  # Each particle must have at least 1 energy unit\n",
    "\n",
    "print(\"--- Microcanonical Ensemble Example ---\")\n",
    "print(f\"System Parameters:\")\n",
    "print(f\"  - Number of particles (N): {num_particles}\")\n",
    "print(f\"  - Total energy (E): {total_energy}\")\n",
    "print(f\"  - Max energy per particle: {max_particle_energy}\\n\")\n",
    "\n",
    "# --- Find and Display Microstates for a Fixed Energy ---\n",
    "# According to the fundamental postulate, in an isolated system (fixed N, V, E),\n",
    "# all accessible microstates are equally probable.\n",
    "microstates_at_e9 = find_microstates(num_particles, total_energy, max_particle_energy)\n",
    "num_microstates = len(microstates_at_e9)\n",
    "\n",
    "print(f\"For a total energy E = {total_energy}, we found {num_microstates} possible microstates.\")\n",
    "print(\"This number is Ω(E), the number of states at energy E.\")\n",
    "print(\"Each of these microstates is equally likely to occur.\")\n",
    "print(\"List of microstates (E_particle1, E_particle2, E_particle3):\")\n",
    "for state in microstates_at_e9:\n",
    "    print(f\"  {state}\")\n",
    "print(\"-\" * 35)\n",
    "\n",
    "# --- Visualization 1: 3D Plot of Microstates on the Constant Energy Surface ---\n",
    "# This plot shows that all our calculated microstates lie on a plane defined by\n",
    "# E1 + E2 + E3 = total_energy. This is the \"constant energy surface\" in the state space.\n",
    "\n",
    "fig1 = go.Figure()\n",
    "\n",
    "if num_microstates > 0:\n",
    "    # Unzip the microstates into separate lists for plotting\n",
    "    e1, e2, e3 = zip(*microstates_at_e9)\n",
    "    \n",
    "    fig1.add_trace(go.Scatter3d(\n",
    "        x=e1, y=e2, z=e3,\n",
    "        mode='markers',\n",
    "        marker=dict(\n",
    "            size=8,\n",
    "            color='royalblue',\n",
    "            opacity=0.8,\n",
    "            symbol='diamond'\n",
    "        ),\n",
    "        name=f'Microstates for E={total_energy}'\n",
    "    ))\n",
    "\n",
    "fig1.update_layout(\n",
    "    title=f'<b>Visualization of Microstates for N=3, E={total_energy}</b><br>Each point is an accessible microstate',\n",
    "    scene=dict(\n",
    "        xaxis_title='Energy of Particle 1 (E1)',\n",
    "        yaxis_title='Energy of Particle 2 (E2)',\n",
    "        zaxis_title='Energy of Particle 3 (E3)',\n",
    "        aspectratio=dict(x=1, y=1, z=1)\n",
    "    ),\n",
    "    margin=dict(l=0, r=0, b=0, t=40)\n",
    ")\n",
    "fig1.show()\n"
   ]
  },
  {
   "cell_type": "code",
   "execution_count": null,
   "id": "bb22e608",
   "metadata": {},
   "outputs": [
    {
     "name": "stdout",
     "output_type": "stream",
     "text": [
      "\n",
      "--- Calculating Ω(E) for a range of energies ---\n",
      "Energy (E) | Number of Microstates Ω(E)\n",
      "-----------|-----------------------------\n",
      "     5     |              1              \n",
      "     6     |              5              \n",
      "     7     |             15              \n",
      "     8     |             35              \n",
      "     9     |             70              \n",
      "    10     |             126             \n",
      "    11     |             210             \n",
      "    12     |             330             \n",
      "    13     |             495             \n",
      "    14     |             715             \n",
      "    15     |            1001             \n",
      "    16     |            1365             \n",
      "    17     |            1820             \n",
      "    18     |            2380             \n",
      "    19     |            3060             \n",
      "    20     |            3876             \n",
      "    21     |            4845             \n",
      "    22     |            5985             \n",
      "    23     |            7315             \n",
      "    24     |            8855             \n",
      "    25     |            10626            \n",
      "    26     |            12650            \n",
      "    27     |            14950            \n",
      "    28     |            17550            \n",
      "    29     |            20475            \n",
      "    30     |            23751            \n",
      "    31     |            27400            \n",
      "    32     |            31440            \n",
      "    33     |            35885            \n",
      "    34     |            40745            \n",
      "    35     |            46026            \n",
      "    36     |            51730            \n",
      "    37     |            57855            \n",
      "    38     |            64395            \n",
      "    39     |            71340            \n",
      "    40     |            78676            \n",
      "    41     |            86385            \n",
      "    42     |            94445            \n",
      "    43     |           102830            \n",
      "    44     |           111510            \n",
      "    45     |           120451            \n",
      "    46     |           129615            \n",
      "    47     |           138960            \n",
      "    48     |           148440            \n",
      "    49     |           158005            \n",
      "    50     |           167601            \n",
      "    51     |           177170            \n",
      "    52     |           186650            \n",
      "    53     |           195975            \n",
      "    54     |           205075            \n",
      "    55     |           213876            \n",
      "    56     |           222300            \n",
      "    57     |           230275            \n",
      "    58     |           237735            \n",
      "    59     |           244620            \n",
      "    60     |           250876            \n",
      "    61     |           256455            \n",
      "    62     |           261315            \n",
      "    63     |           265420            \n",
      "    64     |           268740            \n",
      "    65     |           271251            \n",
      "    66     |           272935            \n",
      "    67     |           273780            \n",
      "    68     |           273780            \n",
      "    69     |           272935            \n",
      "    70     |           271251            \n",
      "    71     |           268740            \n",
      "    72     |           265420            \n",
      "    73     |           261315            \n",
      "    74     |           256455            \n",
      "    75     |           250876            \n",
      "    76     |           244620            \n",
      "    77     |           237735            \n",
      "    78     |           230275            \n",
      "    79     |           222300            \n",
      "    80     |           213876            \n",
      "    81     |           205075            \n",
      "    82     |           195975            \n",
      "    83     |           186650            \n",
      "    84     |           177170            \n",
      "    85     |           167601            \n",
      "    86     |           158005            \n",
      "    87     |           148440            \n",
      "    88     |           138960            \n",
      "    89     |           129615            \n",
      "    90     |           120451            \n",
      "    91     |           111510            \n",
      "    92     |           102830            \n",
      "    93     |            94445            \n",
      "    94     |            86385            \n",
      "    95     |            78676            \n",
      "    96     |            71340            \n",
      "    97     |            64395            \n",
      "    98     |            57855            \n",
      "    99     |            51730            \n",
      "    100    |            46026            \n",
      "    101    |            40745            \n",
      "    102    |            35885            \n",
      "    103    |            31440            \n",
      "    104    |            27400            \n",
      "    105    |            23751            \n",
      "    106    |            20475            \n",
      "    107    |            17550            \n",
      "    108    |            14950            \n",
      "    109    |            12650            \n",
      "    110    |            10626            \n",
      "    111    |            8855             \n",
      "    112    |            7315             \n",
      "    113    |            5985             \n",
      "    114    |            4845             \n",
      "    115    |            3876             \n",
      "    116    |            3060             \n",
      "    117    |            2380             \n",
      "    118    |            1820             \n",
      "    119    |            1365             \n",
      "    120    |            1001             \n",
      "    121    |             715             \n",
      "    122    |             495             \n",
      "    123    |             330             \n",
      "    124    |             210             \n",
      "    125    |             126             \n",
      "    126    |             70              \n",
      "    127    |             35              \n",
      "    128    |             15              \n",
      "    129    |              5              \n",
      "    130    |              1              \n",
      "-----------------------------------\n"
     ]
    },
    {
     "data": {
      "application/vnd.plotly.v1+json": {
       "config": {
        "plotlyServerURL": "https://plot.ly"
       },
       "data": [
        {
         "marker": {
          "color": "crimson"
         },
         "name": "Ω(E)",
         "type": "bar",
         "x": [
          5,
          6,
          7,
          8,
          9,
          10,
          11,
          12,
          13,
          14,
          15,
          16,
          17,
          18,
          19,
          20,
          21,
          22,
          23,
          24,
          25,
          26,
          27,
          28,
          29,
          30,
          31,
          32,
          33,
          34,
          35,
          36,
          37,
          38,
          39,
          40,
          41,
          42,
          43,
          44,
          45,
          46,
          47,
          48,
          49,
          50,
          51,
          52,
          53,
          54,
          55,
          56,
          57,
          58,
          59,
          60,
          61,
          62,
          63,
          64,
          65,
          66,
          67,
          68,
          69,
          70,
          71,
          72,
          73,
          74,
          75,
          76,
          77,
          78,
          79,
          80,
          81,
          82,
          83,
          84,
          85,
          86,
          87,
          88,
          89,
          90,
          91,
          92,
          93,
          94,
          95,
          96,
          97,
          98,
          99,
          100,
          101,
          102,
          103,
          104,
          105,
          106,
          107,
          108,
          109,
          110,
          111,
          112,
          113,
          114,
          115,
          116,
          117,
          118,
          119,
          120,
          121,
          122,
          123,
          124,
          125,
          126,
          127,
          128,
          129,
          130
         ],
         "y": [
          1,
          5,
          15,
          35,
          70,
          126,
          210,
          330,
          495,
          715,
          1001,
          1365,
          1820,
          2380,
          3060,
          3876,
          4845,
          5985,
          7315,
          8855,
          10626,
          12650,
          14950,
          17550,
          20475,
          23751,
          27400,
          31440,
          35885,
          40745,
          46026,
          51730,
          57855,
          64395,
          71340,
          78676,
          86385,
          94445,
          102830,
          111510,
          120451,
          129615,
          138960,
          148440,
          158005,
          167601,
          177170,
          186650,
          195975,
          205075,
          213876,
          222300,
          230275,
          237735,
          244620,
          250876,
          256455,
          261315,
          265420,
          268740,
          271251,
          272935,
          273780,
          273780,
          272935,
          271251,
          268740,
          265420,
          261315,
          256455,
          250876,
          244620,
          237735,
          230275,
          222300,
          213876,
          205075,
          195975,
          186650,
          177170,
          167601,
          158005,
          148440,
          138960,
          129615,
          120451,
          111510,
          102830,
          94445,
          86385,
          78676,
          71340,
          64395,
          57855,
          51730,
          46026,
          40745,
          35885,
          31440,
          27400,
          23751,
          20475,
          17550,
          14950,
          12650,
          10626,
          8855,
          7315,
          5985,
          4845,
          3876,
          3060,
          2380,
          1820,
          1365,
          1001,
          715,
          495,
          330,
          210,
          126,
          70,
          35,
          15,
          5,
          1
         ]
        }
       ],
       "layout": {
        "bargap": 0.2,
        "template": {
         "data": {
          "bar": [
           {
            "error_x": {
             "color": "#2a3f5f"
            },
            "error_y": {
             "color": "#2a3f5f"
            },
            "marker": {
             "line": {
              "color": "#E5ECF6",
              "width": 0.5
             },
             "pattern": {
              "fillmode": "overlay",
              "size": 10,
              "solidity": 0.2
             }
            },
            "type": "bar"
           }
          ],
          "barpolar": [
           {
            "marker": {
             "line": {
              "color": "#E5ECF6",
              "width": 0.5
             },
             "pattern": {
              "fillmode": "overlay",
              "size": 10,
              "solidity": 0.2
             }
            },
            "type": "barpolar"
           }
          ],
          "carpet": [
           {
            "aaxis": {
             "endlinecolor": "#2a3f5f",
             "gridcolor": "white",
             "linecolor": "white",
             "minorgridcolor": "white",
             "startlinecolor": "#2a3f5f"
            },
            "baxis": {
             "endlinecolor": "#2a3f5f",
             "gridcolor": "white",
             "linecolor": "white",
             "minorgridcolor": "white",
             "startlinecolor": "#2a3f5f"
            },
            "type": "carpet"
           }
          ],
          "choropleth": [
           {
            "colorbar": {
             "outlinewidth": 0,
             "ticks": ""
            },
            "type": "choropleth"
           }
          ],
          "contour": [
           {
            "colorbar": {
             "outlinewidth": 0,
             "ticks": ""
            },
            "colorscale": [
             [
              0,
              "#0d0887"
             ],
             [
              0.1111111111111111,
              "#46039f"
             ],
             [
              0.2222222222222222,
              "#7201a8"
             ],
             [
              0.3333333333333333,
              "#9c179e"
             ],
             [
              0.4444444444444444,
              "#bd3786"
             ],
             [
              0.5555555555555556,
              "#d8576b"
             ],
             [
              0.6666666666666666,
              "#ed7953"
             ],
             [
              0.7777777777777778,
              "#fb9f3a"
             ],
             [
              0.8888888888888888,
              "#fdca26"
             ],
             [
              1,
              "#f0f921"
             ]
            ],
            "type": "contour"
           }
          ],
          "contourcarpet": [
           {
            "colorbar": {
             "outlinewidth": 0,
             "ticks": ""
            },
            "type": "contourcarpet"
           }
          ],
          "heatmap": [
           {
            "colorbar": {
             "outlinewidth": 0,
             "ticks": ""
            },
            "colorscale": [
             [
              0,
              "#0d0887"
             ],
             [
              0.1111111111111111,
              "#46039f"
             ],
             [
              0.2222222222222222,
              "#7201a8"
             ],
             [
              0.3333333333333333,
              "#9c179e"
             ],
             [
              0.4444444444444444,
              "#bd3786"
             ],
             [
              0.5555555555555556,
              "#d8576b"
             ],
             [
              0.6666666666666666,
              "#ed7953"
             ],
             [
              0.7777777777777778,
              "#fb9f3a"
             ],
             [
              0.8888888888888888,
              "#fdca26"
             ],
             [
              1,
              "#f0f921"
             ]
            ],
            "type": "heatmap"
           }
          ],
          "heatmapgl": [
           {
            "colorbar": {
             "outlinewidth": 0,
             "ticks": ""
            },
            "colorscale": [
             [
              0,
              "#0d0887"
             ],
             [
              0.1111111111111111,
              "#46039f"
             ],
             [
              0.2222222222222222,
              "#7201a8"
             ],
             [
              0.3333333333333333,
              "#9c179e"
             ],
             [
              0.4444444444444444,
              "#bd3786"
             ],
             [
              0.5555555555555556,
              "#d8576b"
             ],
             [
              0.6666666666666666,
              "#ed7953"
             ],
             [
              0.7777777777777778,
              "#fb9f3a"
             ],
             [
              0.8888888888888888,
              "#fdca26"
             ],
             [
              1,
              "#f0f921"
             ]
            ],
            "type": "heatmapgl"
           }
          ],
          "histogram": [
           {
            "marker": {
             "pattern": {
              "fillmode": "overlay",
              "size": 10,
              "solidity": 0.2
             }
            },
            "type": "histogram"
           }
          ],
          "histogram2d": [
           {
            "colorbar": {
             "outlinewidth": 0,
             "ticks": ""
            },
            "colorscale": [
             [
              0,
              "#0d0887"
             ],
             [
              0.1111111111111111,
              "#46039f"
             ],
             [
              0.2222222222222222,
              "#7201a8"
             ],
             [
              0.3333333333333333,
              "#9c179e"
             ],
             [
              0.4444444444444444,
              "#bd3786"
             ],
             [
              0.5555555555555556,
              "#d8576b"
             ],
             [
              0.6666666666666666,
              "#ed7953"
             ],
             [
              0.7777777777777778,
              "#fb9f3a"
             ],
             [
              0.8888888888888888,
              "#fdca26"
             ],
             [
              1,
              "#f0f921"
             ]
            ],
            "type": "histogram2d"
           }
          ],
          "histogram2dcontour": [
           {
            "colorbar": {
             "outlinewidth": 0,
             "ticks": ""
            },
            "colorscale": [
             [
              0,
              "#0d0887"
             ],
             [
              0.1111111111111111,
              "#46039f"
             ],
             [
              0.2222222222222222,
              "#7201a8"
             ],
             [
              0.3333333333333333,
              "#9c179e"
             ],
             [
              0.4444444444444444,
              "#bd3786"
             ],
             [
              0.5555555555555556,
              "#d8576b"
             ],
             [
              0.6666666666666666,
              "#ed7953"
             ],
             [
              0.7777777777777778,
              "#fb9f3a"
             ],
             [
              0.8888888888888888,
              "#fdca26"
             ],
             [
              1,
              "#f0f921"
             ]
            ],
            "type": "histogram2dcontour"
           }
          ],
          "mesh3d": [
           {
            "colorbar": {
             "outlinewidth": 0,
             "ticks": ""
            },
            "type": "mesh3d"
           }
          ],
          "parcoords": [
           {
            "line": {
             "colorbar": {
              "outlinewidth": 0,
              "ticks": ""
             }
            },
            "type": "parcoords"
           }
          ],
          "pie": [
           {
            "automargin": true,
            "type": "pie"
           }
          ],
          "scatter": [
           {
            "fillpattern": {
             "fillmode": "overlay",
             "size": 10,
             "solidity": 0.2
            },
            "type": "scatter"
           }
          ],
          "scatter3d": [
           {
            "line": {
             "colorbar": {
              "outlinewidth": 0,
              "ticks": ""
             }
            },
            "marker": {
             "colorbar": {
              "outlinewidth": 0,
              "ticks": ""
             }
            },
            "type": "scatter3d"
           }
          ],
          "scattercarpet": [
           {
            "marker": {
             "colorbar": {
              "outlinewidth": 0,
              "ticks": ""
             }
            },
            "type": "scattercarpet"
           }
          ],
          "scattergeo": [
           {
            "marker": {
             "colorbar": {
              "outlinewidth": 0,
              "ticks": ""
             }
            },
            "type": "scattergeo"
           }
          ],
          "scattergl": [
           {
            "marker": {
             "colorbar": {
              "outlinewidth": 0,
              "ticks": ""
             }
            },
            "type": "scattergl"
           }
          ],
          "scattermapbox": [
           {
            "marker": {
             "colorbar": {
              "outlinewidth": 0,
              "ticks": ""
             }
            },
            "type": "scattermapbox"
           }
          ],
          "scatterpolar": [
           {
            "marker": {
             "colorbar": {
              "outlinewidth": 0,
              "ticks": ""
             }
            },
            "type": "scatterpolar"
           }
          ],
          "scatterpolargl": [
           {
            "marker": {
             "colorbar": {
              "outlinewidth": 0,
              "ticks": ""
             }
            },
            "type": "scatterpolargl"
           }
          ],
          "scatterternary": [
           {
            "marker": {
             "colorbar": {
              "outlinewidth": 0,
              "ticks": ""
             }
            },
            "type": "scatterternary"
           }
          ],
          "surface": [
           {
            "colorbar": {
             "outlinewidth": 0,
             "ticks": ""
            },
            "colorscale": [
             [
              0,
              "#0d0887"
             ],
             [
              0.1111111111111111,
              "#46039f"
             ],
             [
              0.2222222222222222,
              "#7201a8"
             ],
             [
              0.3333333333333333,
              "#9c179e"
             ],
             [
              0.4444444444444444,
              "#bd3786"
             ],
             [
              0.5555555555555556,
              "#d8576b"
             ],
             [
              0.6666666666666666,
              "#ed7953"
             ],
             [
              0.7777777777777778,
              "#fb9f3a"
             ],
             [
              0.8888888888888888,
              "#fdca26"
             ],
             [
              1,
              "#f0f921"
             ]
            ],
            "type": "surface"
           }
          ],
          "table": [
           {
            "cells": {
             "fill": {
              "color": "#EBF0F8"
             },
             "line": {
              "color": "white"
             }
            },
            "header": {
             "fill": {
              "color": "#C8D4E3"
             },
             "line": {
              "color": "white"
             }
            },
            "type": "table"
           }
          ]
         },
         "layout": {
          "annotationdefaults": {
           "arrowcolor": "#2a3f5f",
           "arrowhead": 0,
           "arrowwidth": 1
          },
          "autotypenumbers": "strict",
          "coloraxis": {
           "colorbar": {
            "outlinewidth": 0,
            "ticks": ""
           }
          },
          "colorscale": {
           "diverging": [
            [
             0,
             "#8e0152"
            ],
            [
             0.1,
             "#c51b7d"
            ],
            [
             0.2,
             "#de77ae"
            ],
            [
             0.3,
             "#f1b6da"
            ],
            [
             0.4,
             "#fde0ef"
            ],
            [
             0.5,
             "#f7f7f7"
            ],
            [
             0.6,
             "#e6f5d0"
            ],
            [
             0.7,
             "#b8e186"
            ],
            [
             0.8,
             "#7fbc41"
            ],
            [
             0.9,
             "#4d9221"
            ],
            [
             1,
             "#276419"
            ]
           ],
           "sequential": [
            [
             0,
             "#0d0887"
            ],
            [
             0.1111111111111111,
             "#46039f"
            ],
            [
             0.2222222222222222,
             "#7201a8"
            ],
            [
             0.3333333333333333,
             "#9c179e"
            ],
            [
             0.4444444444444444,
             "#bd3786"
            ],
            [
             0.5555555555555556,
             "#d8576b"
            ],
            [
             0.6666666666666666,
             "#ed7953"
            ],
            [
             0.7777777777777778,
             "#fb9f3a"
            ],
            [
             0.8888888888888888,
             "#fdca26"
            ],
            [
             1,
             "#f0f921"
            ]
           ],
           "sequentialminus": [
            [
             0,
             "#0d0887"
            ],
            [
             0.1111111111111111,
             "#46039f"
            ],
            [
             0.2222222222222222,
             "#7201a8"
            ],
            [
             0.3333333333333333,
             "#9c179e"
            ],
            [
             0.4444444444444444,
             "#bd3786"
            ],
            [
             0.5555555555555556,
             "#d8576b"
            ],
            [
             0.6666666666666666,
             "#ed7953"
            ],
            [
             0.7777777777777778,
             "#fb9f3a"
            ],
            [
             0.8888888888888888,
             "#fdca26"
            ],
            [
             1,
             "#f0f921"
            ]
           ]
          },
          "colorway": [
           "#636efa",
           "#EF553B",
           "#00cc96",
           "#ab63fa",
           "#FFA15A",
           "#19d3f3",
           "#FF6692",
           "#B6E880",
           "#FF97FF",
           "#FECB52"
          ],
          "font": {
           "color": "#2a3f5f"
          },
          "geo": {
           "bgcolor": "white",
           "lakecolor": "white",
           "landcolor": "#E5ECF6",
           "showlakes": true,
           "showland": true,
           "subunitcolor": "white"
          },
          "hoverlabel": {
           "align": "left"
          },
          "hovermode": "closest",
          "mapbox": {
           "style": "light"
          },
          "paper_bgcolor": "white",
          "plot_bgcolor": "#E5ECF6",
          "polar": {
           "angularaxis": {
            "gridcolor": "white",
            "linecolor": "white",
            "ticks": ""
           },
           "bgcolor": "#E5ECF6",
           "radialaxis": {
            "gridcolor": "white",
            "linecolor": "white",
            "ticks": ""
           }
          },
          "scene": {
           "xaxis": {
            "backgroundcolor": "#E5ECF6",
            "gridcolor": "white",
            "gridwidth": 2,
            "linecolor": "white",
            "showbackground": true,
            "ticks": "",
            "zerolinecolor": "white"
           },
           "yaxis": {
            "backgroundcolor": "#E5ECF6",
            "gridcolor": "white",
            "gridwidth": 2,
            "linecolor": "white",
            "showbackground": true,
            "ticks": "",
            "zerolinecolor": "white"
           },
           "zaxis": {
            "backgroundcolor": "#E5ECF6",
            "gridcolor": "white",
            "gridwidth": 2,
            "linecolor": "white",
            "showbackground": true,
            "ticks": "",
            "zerolinecolor": "white"
           }
          },
          "shapedefaults": {
           "line": {
            "color": "#2a3f5f"
           }
          },
          "ternary": {
           "aaxis": {
            "gridcolor": "white",
            "linecolor": "white",
            "ticks": ""
           },
           "baxis": {
            "gridcolor": "white",
            "linecolor": "white",
            "ticks": ""
           },
           "bgcolor": "#E5ECF6",
           "caxis": {
            "gridcolor": "white",
            "linecolor": "white",
            "ticks": ""
           }
          },
          "title": {
           "x": 0.05
          },
          "xaxis": {
           "automargin": true,
           "gridcolor": "white",
           "linecolor": "white",
           "ticks": "",
           "title": {
            "standoff": 15
           },
           "zerolinecolor": "white",
           "zerolinewidth": 2
          },
          "yaxis": {
           "automargin": true,
           "gridcolor": "white",
           "linecolor": "white",
           "ticks": "",
           "title": {
            "standoff": 15
           },
           "zerolinecolor": "white",
           "zerolinewidth": 2
          }
         }
        },
        "title": {
         "text": "<b>Number of Microstates Ω(E) vs. Total Energy (E)</b><br>Analogous to the Density of States"
        },
        "xaxis": {
         "title": {
          "text": "Total System Energy (E)"
         }
        },
        "yaxis": {
         "title": {
          "text": "Number of Accessible Microstates Ω(E)"
         }
        }
       }
      }
     },
     "metadata": {},
     "output_type": "display_data"
    }
   ],
   "source": [
    "# --- Calculation & Visualization 2: Number of States Ω(E) vs. Energy E ---\n",
    "# Now, let's see how the number of microstates (Ω) changes as we vary the total energy E.\n",
    "# This is analogous to the concept of \"density of states\".\n",
    "\n",
    "num_particles = 5\n",
    "max_particle_energy = total_energy - (num_particles - 1)  # Each particle must have at least 1 energy unit\n",
    "\n",
    "min_energy = num_particles  # Each particle must have at least 1 unit of energy\n",
    "max_energy = num_particles * max_particle_energy\n",
    "\n",
    "energy_range = range(min_energy, max_energy + 1)\n",
    "\n",
    "# Calculate the number of microstates for each possible total energy\n",
    "omega_values = [len(find_microstates(num_particles, E, max_particle_energy)) for E in energy_range]\n",
    "\n",
    "print(\"\\n--- Calculating Ω(E) for a range of energies ---\")\n",
    "print(\"Energy (E) | Number of Microstates Ω(E)\")\n",
    "print(\"-----------|-----------------------------\")\n",
    "for E, omega in zip(energy_range, omega_values):\n",
    "    print(f\"{E:^11}|{omega:^29}\")\n",
    "print(\"-\" * 35)\n",
    "\n",
    "# Create the bar chart\n",
    "fig2 = go.Figure()\n",
    "fig2.add_trace(go.Bar(\n",
    "    x=list(energy_range),\n",
    "    y=omega_values,\n",
    "    marker_color='crimson',\n",
    "    name='Ω(E)'\n",
    "))\n",
    "\n",
    "fig2.update_layout(\n",
    "    title='<b>Number of Microstates Ω(E) vs. Total Energy (E)</b><br>Analogous to the Density of States',\n",
    "    xaxis_title='Total System Energy (E)',\n",
    "    yaxis_title='Number of Accessible Microstates Ω(E)',\n",
    "    bargap=0.2,\n",
    ")\n",
    "fig2.show()"
   ]
  }
 ],
 "metadata": {
  "kernelspec": {
   "display_name": "venv",
   "language": "python",
   "name": "python3"
  },
  "language_info": {
   "codemirror_mode": {
    "name": "ipython",
    "version": 3
   },
   "file_extension": ".py",
   "mimetype": "text/x-python",
   "name": "python",
   "nbconvert_exporter": "python",
   "pygments_lexer": "ipython3",
   "version": "3.13.5"
  }
 },
 "nbformat": 4,
 "nbformat_minor": 5
}
