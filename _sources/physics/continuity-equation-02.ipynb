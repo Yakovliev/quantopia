{
 "cells": [
  {
   "cell_type": "markdown",
   "metadata": {},
   "source": [
    "# The Continuity Equation: One-Dimensional Advection of a Density Profile"
   ]
  },
  {
   "cell_type": "markdown",
   "metadata": {},
   "source": [
    "\n",
    "**Physical Scenario**\n",
    "\n",
    "Imagine a pollutant being introduced into a river flowing at a constant speed $u$. The pollutant's concentration $\\rho(x, t)$ varies along the length of the river $x$ and changes over time $t$ due to the flow of water.\n",
    "\n",
    "**Mathematical Model**\n",
    "\n",
    "The one-dimensional continuity equation for this scenario is:\n",
    "\n",
    "$$\n",
    "\\frac{\\partial \\rho}{\\partial t} + \\frac{\\partial J}{\\partial x} = 0\n",
    "$$\n",
    "\n",
    "- $\\rho(x, t)$: Density (concentration) of the pollutant.\n",
    "- $J(x, t)$: Flux of the pollutant.\n",
    "\n",
    "Assuming the flux $J$ is proportional to the density and the constant velocity $u$:\n",
    "\n",
    "$$\n",
    "J = \\rho u\n",
    "$$\n",
    "\n",
    "Substituting $J$ into the continuity equation:\n",
    "\n",
    "$$\n",
    "\\frac{\\partial \\rho}{\\partial t} + \\frac{\\partial (\\rho u)}{\\partial x} = 0\n",
    "$$\n",
    "\n",
    "We consider the case when $u$ is constant:\n",
    "\n",
    "$$\n",
    "\\frac{\\partial \\rho}{\\partial t} + u \\frac{\\partial \\rho}{\\partial x} = 0\n",
    "$$\n",
    "\n",
    "This is the **advection equation**, which describes how the density profile propagates over time due to the flow.\n",
    "\n",
    "https://en.wikipedia.org/wiki/Advection\n",
    "\n",
    "---"
   ]
  },
  {
   "cell_type": "code",
   "execution_count": 1,
   "metadata": {},
   "outputs": [],
   "source": [
    "import numpy as np\n",
    "import plotly.graph_objects as go\n",
    "from plotly.subplots import make_subplots\n",
    "from IPython.display import HTML\n"
   ]
  },
  {
   "cell_type": "code",
   "execution_count": 2,
   "metadata": {},
   "outputs": [],
   "source": [
    "# Parameters\n",
    "L = 10.0          # Length of the river (meters)\n",
    "T = 5.0           # Total simulation time (seconds)\n",
    "u = 1.0           # Flow velocity (m/s)"
   ]
  },
  {
   "cell_type": "code",
   "execution_count": 3,
   "metadata": {},
   "outputs": [],
   "source": [
    "# Spatial and temporal discretization\n",
    "nx = 200          # Number of spatial points\n",
    "nt = 200          # Number of time steps\n",
    "dx = L / (nx - 1)\n",
    "dt = T / (nt - 1)\n",
    "x = np.linspace(0, L, nx)\n",
    "t = np.linspace(0, T, nt)\n",
    "\n",
    "# CFL condition for stability\n",
    "CFL = u * dt / dx\n",
    "if CFL > 1:\n",
    "    print(\"Warning: CFL condition not met. The simulation may be unstable.\")\n",
    "\n",
    "# Initial density profile (Gaussian distribution)\n",
    "def initial_density(x):\n",
    "    return np.exp(-((x - L/4)**2) / 0.1)\n",
    "\n",
    "rho = initial_density(x)"
   ]
  },
  {
   "cell_type": "markdown",
   "metadata": {},
   "source": [
    "In mathematics, the convergence condition by Courant–Friedrichs–Lewy (CFL) is a necessary condition for convergence while solving certain partial differential equations (usually hyperbolic PDEs) numerically. It arises in the numerical analysis of explicit time integration schemes, when these are used for the numerical solution. As a consequence, the time step must be less than a certain upper bound, given a fixed spatial increment, in many explicit time-marching computer simulations; otherwise, the simulation produces incorrect or unstable results. The condition is named after Richard Courant, Kurt Friedrichs, and Hans Lewy who described it in their 1928 paper.[1]\n",
    "\n",
    "https://en.wikipedia.org/wiki/Courant%E2%80%93Friedrichs%E2%80%93Lewy_condition"
   ]
  },
  {
   "cell_type": "code",
   "execution_count": null,
   "metadata": {},
   "outputs": [
    {
     "data": {
      "application/vnd.plotly.v1+json": {
       "config": {
        "plotlyServerURL": "https://plot.ly"
       },
       "data": [
        {
         "mode": "lines",
         "name": "Initial Density",
         "type": "scatter",
         "x": {
          "bdata": "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",
          "dtype": "f8"
         },
         "y": {
          "bdata": "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",
          "dtype": "f8"
         }
        }
       ],
       "layout": {
        "autosize": true,
        "height": 500,
        "template": {
         "data": {
          "bar": [
           {
            "error_x": {
             "color": "#2a3f5f"
            },
            "error_y": {
             "color": "#2a3f5f"
            },
            "marker": {
             "line": {
              "color": "#E5ECF6",
              "width": 0.5
             },
             "pattern": {
              "fillmode": "overlay",
              "size": 10,
              "solidity": 0.2
             }
            },
            "type": "bar"
           }
          ],
          "barpolar": [
           {
            "marker": {
             "line": {
              "color": "#E5ECF6",
              "width": 0.5
             },
             "pattern": {
              "fillmode": "overlay",
              "size": 10,
              "solidity": 0.2
             }
            },
            "type": "barpolar"
           }
          ],
          "carpet": [
           {
            "aaxis": {
             "endlinecolor": "#2a3f5f",
             "gridcolor": "white",
             "linecolor": "white",
             "minorgridcolor": "white",
             "startlinecolor": "#2a3f5f"
            },
            "baxis": {
             "endlinecolor": "#2a3f5f",
             "gridcolor": "white",
             "linecolor": "white",
             "minorgridcolor": "white",
             "startlinecolor": "#2a3f5f"
            },
            "type": "carpet"
           }
          ],
          "choropleth": [
           {
            "colorbar": {
             "outlinewidth": 0,
             "ticks": ""
            },
            "type": "choropleth"
           }
          ],
          "contour": [
           {
            "colorbar": {
             "outlinewidth": 0,
             "ticks": ""
            },
            "colorscale": [
             [
              0,
              "#0d0887"
             ],
             [
              0.1111111111111111,
              "#46039f"
             ],
             [
              0.2222222222222222,
              "#7201a8"
             ],
             [
              0.3333333333333333,
              "#9c179e"
             ],
             [
              0.4444444444444444,
              "#bd3786"
             ],
             [
              0.5555555555555556,
              "#d8576b"
             ],
             [
              0.6666666666666666,
              "#ed7953"
             ],
             [
              0.7777777777777778,
              "#fb9f3a"
             ],
             [
              0.8888888888888888,
              "#fdca26"
             ],
             [
              1,
              "#f0f921"
             ]
            ],
            "type": "contour"
           }
          ],
          "contourcarpet": [
           {
            "colorbar": {
             "outlinewidth": 0,
             "ticks": ""
            },
            "type": "contourcarpet"
           }
          ],
          "heatmap": [
           {
            "colorbar": {
             "outlinewidth": 0,
             "ticks": ""
            },
            "colorscale": [
             [
              0,
              "#0d0887"
             ],
             [
              0.1111111111111111,
              "#46039f"
             ],
             [
              0.2222222222222222,
              "#7201a8"
             ],
             [
              0.3333333333333333,
              "#9c179e"
             ],
             [
              0.4444444444444444,
              "#bd3786"
             ],
             [
              0.5555555555555556,
              "#d8576b"
             ],
             [
              0.6666666666666666,
              "#ed7953"
             ],
             [
              0.7777777777777778,
              "#fb9f3a"
             ],
             [
              0.8888888888888888,
              "#fdca26"
             ],
             [
              1,
              "#f0f921"
             ]
            ],
            "type": "heatmap"
           }
          ],
          "histogram": [
           {
            "marker": {
             "pattern": {
              "fillmode": "overlay",
              "size": 10,
              "solidity": 0.2
             }
            },
            "type": "histogram"
           }
          ],
          "histogram2d": [
           {
            "colorbar": {
             "outlinewidth": 0,
             "ticks": ""
            },
            "colorscale": [
             [
              0,
              "#0d0887"
             ],
             [
              0.1111111111111111,
              "#46039f"
             ],
             [
              0.2222222222222222,
              "#7201a8"
             ],
             [
              0.3333333333333333,
              "#9c179e"
             ],
             [
              0.4444444444444444,
              "#bd3786"
             ],
             [
              0.5555555555555556,
              "#d8576b"
             ],
             [
              0.6666666666666666,
              "#ed7953"
             ],
             [
              0.7777777777777778,
              "#fb9f3a"
             ],
             [
              0.8888888888888888,
              "#fdca26"
             ],
             [
              1,
              "#f0f921"
             ]
            ],
            "type": "histogram2d"
           }
          ],
          "histogram2dcontour": [
           {
            "colorbar": {
             "outlinewidth": 0,
             "ticks": ""
            },
            "colorscale": [
             [
              0,
              "#0d0887"
             ],
             [
              0.1111111111111111,
              "#46039f"
             ],
             [
              0.2222222222222222,
              "#7201a8"
             ],
             [
              0.3333333333333333,
              "#9c179e"
             ],
             [
              0.4444444444444444,
              "#bd3786"
             ],
             [
              0.5555555555555556,
              "#d8576b"
             ],
             [
              0.6666666666666666,
              "#ed7953"
             ],
             [
              0.7777777777777778,
              "#fb9f3a"
             ],
             [
              0.8888888888888888,
              "#fdca26"
             ],
             [
              1,
              "#f0f921"
             ]
            ],
            "type": "histogram2dcontour"
           }
          ],
          "mesh3d": [
           {
            "colorbar": {
             "outlinewidth": 0,
             "ticks": ""
            },
            "type": "mesh3d"
           }
          ],
          "parcoords": [
           {
            "line": {
             "colorbar": {
              "outlinewidth": 0,
              "ticks": ""
             }
            },
            "type": "parcoords"
           }
          ],
          "pie": [
           {
            "automargin": true,
            "type": "pie"
           }
          ],
          "scatter": [
           {
            "fillpattern": {
             "fillmode": "overlay",
             "size": 10,
             "solidity": 0.2
            },
            "type": "scatter"
           }
          ],
          "scatter3d": [
           {
            "line": {
             "colorbar": {
              "outlinewidth": 0,
              "ticks": ""
             }
            },
            "marker": {
             "colorbar": {
              "outlinewidth": 0,
              "ticks": ""
             }
            },
            "type": "scatter3d"
           }
          ],
          "scattercarpet": [
           {
            "marker": {
             "colorbar": {
              "outlinewidth": 0,
              "ticks": ""
             }
            },
            "type": "scattercarpet"
           }
          ],
          "scattergeo": [
           {
            "marker": {
             "colorbar": {
              "outlinewidth": 0,
              "ticks": ""
             }
            },
            "type": "scattergeo"
           }
          ],
          "scattergl": [
           {
            "marker": {
             "colorbar": {
              "outlinewidth": 0,
              "ticks": ""
             }
            },
            "type": "scattergl"
           }
          ],
          "scattermap": [
           {
            "marker": {
             "colorbar": {
              "outlinewidth": 0,
              "ticks": ""
             }
            },
            "type": "scattermap"
           }
          ],
          "scattermapbox": [
           {
            "marker": {
             "colorbar": {
              "outlinewidth": 0,
              "ticks": ""
             }
            },
            "type": "scattermapbox"
           }
          ],
          "scatterpolar": [
           {
            "marker": {
             "colorbar": {
              "outlinewidth": 0,
              "ticks": ""
             }
            },
            "type": "scatterpolar"
           }
          ],
          "scatterpolargl": [
           {
            "marker": {
             "colorbar": {
              "outlinewidth": 0,
              "ticks": ""
             }
            },
            "type": "scatterpolargl"
           }
          ],
          "scatterternary": [
           {
            "marker": {
             "colorbar": {
              "outlinewidth": 0,
              "ticks": ""
             }
            },
            "type": "scatterternary"
           }
          ],
          "surface": [
           {
            "colorbar": {
             "outlinewidth": 0,
             "ticks": ""
            },
            "colorscale": [
             [
              0,
              "#0d0887"
             ],
             [
              0.1111111111111111,
              "#46039f"
             ],
             [
              0.2222222222222222,
              "#7201a8"
             ],
             [
              0.3333333333333333,
              "#9c179e"
             ],
             [
              0.4444444444444444,
              "#bd3786"
             ],
             [
              0.5555555555555556,
              "#d8576b"
             ],
             [
              0.6666666666666666,
              "#ed7953"
             ],
             [
              0.7777777777777778,
              "#fb9f3a"
             ],
             [
              0.8888888888888888,
              "#fdca26"
             ],
             [
              1,
              "#f0f921"
             ]
            ],
            "type": "surface"
           }
          ],
          "table": [
           {
            "cells": {
             "fill": {
              "color": "#EBF0F8"
             },
             "line": {
              "color": "white"
             }
            },
            "header": {
             "fill": {
              "color": "#C8D4E3"
             },
             "line": {
              "color": "white"
             }
            },
            "type": "table"
           }
          ]
         },
         "layout": {
          "annotationdefaults": {
           "arrowcolor": "#2a3f5f",
           "arrowhead": 0,
           "arrowwidth": 1
          },
          "autotypenumbers": "strict",
          "coloraxis": {
           "colorbar": {
            "outlinewidth": 0,
            "ticks": ""
           }
          },
          "colorscale": {
           "diverging": [
            [
             0,
             "#8e0152"
            ],
            [
             0.1,
             "#c51b7d"
            ],
            [
             0.2,
             "#de77ae"
            ],
            [
             0.3,
             "#f1b6da"
            ],
            [
             0.4,
             "#fde0ef"
            ],
            [
             0.5,
             "#f7f7f7"
            ],
            [
             0.6,
             "#e6f5d0"
            ],
            [
             0.7,
             "#b8e186"
            ],
            [
             0.8,
             "#7fbc41"
            ],
            [
             0.9,
             "#4d9221"
            ],
            [
             1,
             "#276419"
            ]
           ],
           "sequential": [
            [
             0,
             "#0d0887"
            ],
            [
             0.1111111111111111,
             "#46039f"
            ],
            [
             0.2222222222222222,
             "#7201a8"
            ],
            [
             0.3333333333333333,
             "#9c179e"
            ],
            [
             0.4444444444444444,
             "#bd3786"
            ],
            [
             0.5555555555555556,
             "#d8576b"
            ],
            [
             0.6666666666666666,
             "#ed7953"
            ],
            [
             0.7777777777777778,
             "#fb9f3a"
            ],
            [
             0.8888888888888888,
             "#fdca26"
            ],
            [
             1,
             "#f0f921"
            ]
           ],
           "sequentialminus": [
            [
             0,
             "#0d0887"
            ],
            [
             0.1111111111111111,
             "#46039f"
            ],
            [
             0.2222222222222222,
             "#7201a8"
            ],
            [
             0.3333333333333333,
             "#9c179e"
            ],
            [
             0.4444444444444444,
             "#bd3786"
            ],
            [
             0.5555555555555556,
             "#d8576b"
            ],
            [
             0.6666666666666666,
             "#ed7953"
            ],
            [
             0.7777777777777778,
             "#fb9f3a"
            ],
            [
             0.8888888888888888,
             "#fdca26"
            ],
            [
             1,
             "#f0f921"
            ]
           ]
          },
          "colorway": [
           "#636efa",
           "#EF553B",
           "#00cc96",
           "#ab63fa",
           "#FFA15A",
           "#19d3f3",
           "#FF6692",
           "#B6E880",
           "#FF97FF",
           "#FECB52"
          ],
          "font": {
           "color": "#2a3f5f"
          },
          "geo": {
           "bgcolor": "white",
           "lakecolor": "white",
           "landcolor": "#E5ECF6",
           "showlakes": true,
           "showland": true,
           "subunitcolor": "white"
          },
          "hoverlabel": {
           "align": "left"
          },
          "hovermode": "closest",
          "mapbox": {
           "style": "light"
          },
          "paper_bgcolor": "white",
          "plot_bgcolor": "#E5ECF6",
          "polar": {
           "angularaxis": {
            "gridcolor": "white",
            "linecolor": "white",
            "ticks": ""
           },
           "bgcolor": "#E5ECF6",
           "radialaxis": {
            "gridcolor": "white",
            "linecolor": "white",
            "ticks": ""
           }
          },
          "scene": {
           "xaxis": {
            "backgroundcolor": "#E5ECF6",
            "gridcolor": "white",
            "gridwidth": 2,
            "linecolor": "white",
            "showbackground": true,
            "ticks": "",
            "zerolinecolor": "white"
           },
           "yaxis": {
            "backgroundcolor": "#E5ECF6",
            "gridcolor": "white",
            "gridwidth": 2,
            "linecolor": "white",
            "showbackground": true,
            "ticks": "",
            "zerolinecolor": "white"
           },
           "zaxis": {
            "backgroundcolor": "#E5ECF6",
            "gridcolor": "white",
            "gridwidth": 2,
            "linecolor": "white",
            "showbackground": true,
            "ticks": "",
            "zerolinecolor": "white"
           }
          },
          "shapedefaults": {
           "line": {
            "color": "#2a3f5f"
           }
          },
          "ternary": {
           "aaxis": {
            "gridcolor": "white",
            "linecolor": "white",
            "ticks": ""
           },
           "baxis": {
            "gridcolor": "white",
            "linecolor": "white",
            "ticks": ""
           },
           "bgcolor": "#E5ECF6",
           "caxis": {
            "gridcolor": "white",
            "linecolor": "white",
            "ticks": ""
           }
          },
          "title": {
           "x": 0.05
          },
          "xaxis": {
           "automargin": true,
           "gridcolor": "white",
           "linecolor": "white",
           "ticks": "",
           "title": {
            "standoff": 15
           },
           "zerolinecolor": "white",
           "zerolinewidth": 2
          },
          "yaxis": {
           "automargin": true,
           "gridcolor": "white",
           "linecolor": "white",
           "ticks": "",
           "title": {
            "standoff": 15
           },
           "zerolinecolor": "white",
           "zerolinewidth": 2
          }
         }
        },
        "title": {
         "text": "Initial Pollutant Concentration"
        },
        "xaxis": {
         "title": {
          "text": "Position along the River (m)"
         }
        },
        "yaxis": {
         "title": {
          "text": "Pollutant Concentration"
         }
        }
       }
      }
     },
     "metadata": {},
     "output_type": "display_data"
    }
   ],
   "source": [
    "# Initial Pollutant Concentration\n",
    "fig = go.Figure()\n",
    "\n",
    "fig.add_trace(go.Scatter(\n",
    "    x=x,\n",
    "    y=rho,\n",
    "    mode='lines',\n",
    "    name='Initial Density'\n",
    "))\n",
    "\n",
    "fig.update_layout(\n",
    "    title='Initial Pollutant Concentration',\n",
    "    xaxis_title='Position along the River (m)',\n",
    "    yaxis_title='Pollutant Concentration',\n",
    "    autosize=True,\n",
    "    height=500\n",
    ")\n",
    "\n",
    "html_fig = fig.to_html(full_html=False, include_plotlyjs='cdn')\n",
    "HTML(html_fig)"
   ]
  },
  {
   "cell_type": "code",
   "execution_count": 5,
   "metadata": {},
   "outputs": [],
   "source": [
    "# Store density profiles at selected time steps for visualization\n",
    "rho_history = [rho.copy()]\n",
    "time_steps = [0]\n",
    "\n",
    "# Finite Difference Scheme (Upwind method)\n",
    "for n in range(1, nt):\n",
    "    rho_new = rho.copy()\n",
    "    for i in range(1, nx):\n",
    "        rho_new[i] = rho[i] - CFL * (rho[i] - rho[i - 1])\n",
    "    rho = rho_new\n",
    "\n",
    "    # Store data every 20 time steps\n",
    "    if n % 20 == 0:\n",
    "        rho_history.append(rho.copy())\n",
    "        time_steps.append(t[n])"
   ]
  },
  {
   "cell_type": "markdown",
   "metadata": {},
   "source": [
    "**Upwind method** overview:\n",
    "\n",
    "https://en.wikipedia.org/wiki/Upwind_scheme"
   ]
  },
  {
   "cell_type": "code",
   "execution_count": null,
   "metadata": {},
   "outputs": [
    {
     "data": {
      "application/vnd.plotly.v1+json": {
       "config": {
        "plotlyServerURL": "https://plot.ly"
       },
       "data": [
        {
         "mode": "lines",
         "name": "t = 0.00 s",
         "type": "scatter",
         "x": {
          "bdata": "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",
          "dtype": "f8"
         },
         "y": {
          "bdata": "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",
          "dtype": "f8"
         }
        },
        {
         "mode": "lines",
         "name": "t = 0.50 s",
         "type": "scatter",
         "x": {
          "bdata": "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",
          "dtype": "f8"
         },
         "y": {
          "bdata": "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",
          "dtype": "f8"
         }
        },
        {
         "mode": "lines",
         "name": "t = 1.01 s",
         "type": "scatter",
         "x": {
          "bdata": "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",
          "dtype": "f8"
         },
         "y": {
          "bdata": "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",
          "dtype": "f8"
         }
        },
        {
         "mode": "lines",
         "name": "t = 1.51 s",
         "type": "scatter",
         "x": {
          "bdata": "AAAAAAAAAACBhJ9ciLqpP4GEn1yIurk/YaN3ReZLwz+BhJ9ciLrJP9Gy4zmVFNA/YaN3ReZL0z/xkwtRN4PWP4GEn1yIutk/EXUzaNnx3D/RsuM5lRTgPxmrrb89sOE/YaN3ReZL4z+pm0HLjufkP/GTC1E3g+Y/OYzV1t8e6D+BhJ9ciLrpP8l8aeIwVus/EXUzaNnx7D9Zbf3tgY3uP9Gy4zmVFPA/9a7IfGni8D8Zq62/PbDxPz2nkgISfvI/YaN3ReZL8z+Fn1yIuhn0P6mbQcuO5/Q/zZcmDmO19T/xkwtRN4P2PxWQ8JMLUfc/OYzV1t8e+D9diLoZtOz4P4GEn1yIuvk/pYCEn1yI+j/JfGniMFb7P+14TiUFJPw/EXUzaNnx/D81cRirrb/9P1lt/e2Bjf4/fWniMFZb/z/RsuM5lRQAQOMwVlt/ewBA9a7IfGniAEAHLTueU0kBQBmrrb89sAFAKykg4ScXAkA9p5ICEn4CQE8lBST85AJAYaN3ReZLA0BzIepm0LIDQIWfXIi6GQRAlx3PqaSABECpm0HLjucEQLsZtOx4TgVAzZcmDmO1BUDfFZkvTRwGQPGTC1E3gwZAAxJ+ciHqBkAVkPCTC1EHQCcOY7X1twdAOYzV1t8eCEBLCkj4yYUIQF2Iuhm07AhAbwYtO55TCUCBhJ9ciLoJQJMCEn5yIQpApYCEn1yICkC3/vbARu8KQMl8aeIwVgtA2/rbAxu9C0DteE4lBSQMQP/2wEbvigxAEXUzaNnxDEAj86WJw1gNQDVxGKutvw1AR++KzJcmDkBZbf3tgY0OQGvrbw9s9A5AfWniMFZbD0CP51RSQMIPQNGy4zmVFBBA2vGcSgpIEEDjMFZbf3sQQOxvD2z0rhBA9a7IfGniEED+7YGN3hURQActO55TSRFAEGz0rsh8EUAZq62/PbARQCLqZtCy4xFAKykg4ScXEkA0aNnxnEoSQD2nkgISfhJARuZLE4exEkBPJQUk/OQSQFhkvjRxGBNAYaN3ReZLE0Bq4jBWW38TQHMh6mbQshNAfGCjd0XmE0CFn1yIuhkUQI7eFZkvTRRAlx3PqaSAFECgXIi6GbQUQKmbQcuO5xRAstr62wMbFUC7GbTseE4VQMRYbf3tgRVAzZcmDmO1FUDW1t8e2OgVQN8VmS9NHBZA6FRSQMJPFkDxkwtRN4MWQPrSxGGsthZAAxJ+ciHqFkAMUTeDlh0XQBWQ8JMLURdAHs+ppICEF0AnDmO19bcXQDBNHMZq6xdAOYzV1t8eGEBCy47nVFIYQEsKSPjJhRhAVEkBCT+5GEBdiLoZtOwYQGbHcyopIBlAbwYtO55TGUB4ReZLE4cZQIGEn1yIuhlAisNYbf3tGUCTAhJ+ciEaQJxBy47nVBpApYCEn1yIGkCuvz2w0bsaQLf+9sBG7xpAwD2w0bsiG0DJfGniMFYbQNK7IvOliRtA2/rbAxu9G0DkOZUUkPAbQO14TiUFJBxA9rcHNnpXHED/9sBG74ocQAg2eldkvhxAEXUzaNnxHEAatOx4TiUdQCPzpYnDWB1ALDJfmjiMHUA1cRirrb8dQD6w0bsi8x1AR++KzJcmHkBQLkTdDFoeQFlt/e2BjR5AYqy2/vbAHkBr628PbPQeQHQqKSDhJx9AfWniMFZbH0CGqJtBy44fQI/nVFJAwh9AmCYOY7X1H0DRsuM5lRQgQFVSQMJPLiBA2vGcSgpIIEBekfnSxGEgQOMwVlt/eyBAZ9Cy4zmVIEDsbw9s9K4gQHAPbPSuyCBA9a7IfGniIEB5TiUFJPwgQP7tgY3eFSFAgo3eFZkvIUAHLTueU0khQIvMlyYOYyFAEGz0rsh8IUCUC1E3g5YhQBmrrb89sCFAnUoKSPjJIUAi6mbQsuMhQKaJw1ht/SFAKykg4ScXIkCvyHxp4jAiQDRo2fGcSiJAuAc2eldkIkA9p5ICEn4iQMFG74rMlyJARuZLE4exIkDKhaibQcsiQE8lBST85CJA08RhrLb+IkBYZL40cRgjQNwDG70rMiNAYaN3ReZLI0DlQtTNoGUjQGriMFZbfyNA7oGN3hWZI0BzIepm0LIjQPfARu+KzCNAfGCjd0XmI0AAAAAAAAAkQA==",
          "dtype": "f8"
         },
         "y": {
          "bdata": "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",
          "dtype": "f8"
         }
        },
        {
         "mode": "lines",
         "name": "t = 2.01 s",
         "type": "scatter",
         "x": {
          "bdata": "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",
          "dtype": "f8"
         },
         "y": {
          "bdata": "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",
          "dtype": "f8"
         }
        },
        {
         "mode": "lines",
         "name": "t = 2.51 s",
         "type": "scatter",
         "x": {
          "bdata": "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",
          "dtype": "f8"
         },
         "y": {
          "bdata": "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",
          "dtype": "f8"
         }
        },
        {
         "mode": "lines",
         "name": "t = 3.02 s",
         "type": "scatter",
         "x": {
          "bdata": "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",
          "dtype": "f8"
         },
         "y": {
          "bdata": "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",
          "dtype": "f8"
         }
        },
        {
         "mode": "lines",
         "name": "t = 3.52 s",
         "type": "scatter",
         "x": {
          "bdata": "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",
          "dtype": "f8"
         },
         "y": {
          "bdata": "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",
          "dtype": "f8"
         }
        },
        {
         "mode": "lines",
         "name": "t = 4.02 s",
         "type": "scatter",
         "x": {
          "bdata": "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",
          "dtype": "f8"
         },
         "y": {
          "bdata": "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",
          "dtype": "f8"
         }
        },
        {
         "mode": "lines",
         "name": "t = 4.52 s",
         "type": "scatter",
         "x": {
          "bdata": "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",
          "dtype": "f8"
         },
         "y": {
          "bdata": "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",
          "dtype": "f8"
         }
        }
       ],
       "layout": {
        "autosize": true,
        "height": 500,
        "legend": {
         "title": {
          "text": "Time Steps"
         }
        },
        "template": {
         "data": {
          "bar": [
           {
            "error_x": {
             "color": "#2a3f5f"
            },
            "error_y": {
             "color": "#2a3f5f"
            },
            "marker": {
             "line": {
              "color": "#E5ECF6",
              "width": 0.5
             },
             "pattern": {
              "fillmode": "overlay",
              "size": 10,
              "solidity": 0.2
             }
            },
            "type": "bar"
           }
          ],
          "barpolar": [
           {
            "marker": {
             "line": {
              "color": "#E5ECF6",
              "width": 0.5
             },
             "pattern": {
              "fillmode": "overlay",
              "size": 10,
              "solidity": 0.2
             }
            },
            "type": "barpolar"
           }
          ],
          "carpet": [
           {
            "aaxis": {
             "endlinecolor": "#2a3f5f",
             "gridcolor": "white",
             "linecolor": "white",
             "minorgridcolor": "white",
             "startlinecolor": "#2a3f5f"
            },
            "baxis": {
             "endlinecolor": "#2a3f5f",
             "gridcolor": "white",
             "linecolor": "white",
             "minorgridcolor": "white",
             "startlinecolor": "#2a3f5f"
            },
            "type": "carpet"
           }
          ],
          "choropleth": [
           {
            "colorbar": {
             "outlinewidth": 0,
             "ticks": ""
            },
            "type": "choropleth"
           }
          ],
          "contour": [
           {
            "colorbar": {
             "outlinewidth": 0,
             "ticks": ""
            },
            "colorscale": [
             [
              0,
              "#0d0887"
             ],
             [
              0.1111111111111111,
              "#46039f"
             ],
             [
              0.2222222222222222,
              "#7201a8"
             ],
             [
              0.3333333333333333,
              "#9c179e"
             ],
             [
              0.4444444444444444,
              "#bd3786"
             ],
             [
              0.5555555555555556,
              "#d8576b"
             ],
             [
              0.6666666666666666,
              "#ed7953"
             ],
             [
              0.7777777777777778,
              "#fb9f3a"
             ],
             [
              0.8888888888888888,
              "#fdca26"
             ],
             [
              1,
              "#f0f921"
             ]
            ],
            "type": "contour"
           }
          ],
          "contourcarpet": [
           {
            "colorbar": {
             "outlinewidth": 0,
             "ticks": ""
            },
            "type": "contourcarpet"
           }
          ],
          "heatmap": [
           {
            "colorbar": {
             "outlinewidth": 0,
             "ticks": ""
            },
            "colorscale": [
             [
              0,
              "#0d0887"
             ],
             [
              0.1111111111111111,
              "#46039f"
             ],
             [
              0.2222222222222222,
              "#7201a8"
             ],
             [
              0.3333333333333333,
              "#9c179e"
             ],
             [
              0.4444444444444444,
              "#bd3786"
             ],
             [
              0.5555555555555556,
              "#d8576b"
             ],
             [
              0.6666666666666666,
              "#ed7953"
             ],
             [
              0.7777777777777778,
              "#fb9f3a"
             ],
             [
              0.8888888888888888,
              "#fdca26"
             ],
             [
              1,
              "#f0f921"
             ]
            ],
            "type": "heatmap"
           }
          ],
          "histogram": [
           {
            "marker": {
             "pattern": {
              "fillmode": "overlay",
              "size": 10,
              "solidity": 0.2
             }
            },
            "type": "histogram"
           }
          ],
          "histogram2d": [
           {
            "colorbar": {
             "outlinewidth": 0,
             "ticks": ""
            },
            "colorscale": [
             [
              0,
              "#0d0887"
             ],
             [
              0.1111111111111111,
              "#46039f"
             ],
             [
              0.2222222222222222,
              "#7201a8"
             ],
             [
              0.3333333333333333,
              "#9c179e"
             ],
             [
              0.4444444444444444,
              "#bd3786"
             ],
             [
              0.5555555555555556,
              "#d8576b"
             ],
             [
              0.6666666666666666,
              "#ed7953"
             ],
             [
              0.7777777777777778,
              "#fb9f3a"
             ],
             [
              0.8888888888888888,
              "#fdca26"
             ],
             [
              1,
              "#f0f921"
             ]
            ],
            "type": "histogram2d"
           }
          ],
          "histogram2dcontour": [
           {
            "colorbar": {
             "outlinewidth": 0,
             "ticks": ""
            },
            "colorscale": [
             [
              0,
              "#0d0887"
             ],
             [
              0.1111111111111111,
              "#46039f"
             ],
             [
              0.2222222222222222,
              "#7201a8"
             ],
             [
              0.3333333333333333,
              "#9c179e"
             ],
             [
              0.4444444444444444,
              "#bd3786"
             ],
             [
              0.5555555555555556,
              "#d8576b"
             ],
             [
              0.6666666666666666,
              "#ed7953"
             ],
             [
              0.7777777777777778,
              "#fb9f3a"
             ],
             [
              0.8888888888888888,
              "#fdca26"
             ],
             [
              1,
              "#f0f921"
             ]
            ],
            "type": "histogram2dcontour"
           }
          ],
          "mesh3d": [
           {
            "colorbar": {
             "outlinewidth": 0,
             "ticks": ""
            },
            "type": "mesh3d"
           }
          ],
          "parcoords": [
           {
            "line": {
             "colorbar": {
              "outlinewidth": 0,
              "ticks": ""
             }
            },
            "type": "parcoords"
           }
          ],
          "pie": [
           {
            "automargin": true,
            "type": "pie"
           }
          ],
          "scatter": [
           {
            "fillpattern": {
             "fillmode": "overlay",
             "size": 10,
             "solidity": 0.2
            },
            "type": "scatter"
           }
          ],
          "scatter3d": [
           {
            "line": {
             "colorbar": {
              "outlinewidth": 0,
              "ticks": ""
             }
            },
            "marker": {
             "colorbar": {
              "outlinewidth": 0,
              "ticks": ""
             }
            },
            "type": "scatter3d"
           }
          ],
          "scattercarpet": [
           {
            "marker": {
             "colorbar": {
              "outlinewidth": 0,
              "ticks": ""
             }
            },
            "type": "scattercarpet"
           }
          ],
          "scattergeo": [
           {
            "marker": {
             "colorbar": {
              "outlinewidth": 0,
              "ticks": ""
             }
            },
            "type": "scattergeo"
           }
          ],
          "scattergl": [
           {
            "marker": {
             "colorbar": {
              "outlinewidth": 0,
              "ticks": ""
             }
            },
            "type": "scattergl"
           }
          ],
          "scattermap": [
           {
            "marker": {
             "colorbar": {
              "outlinewidth": 0,
              "ticks": ""
             }
            },
            "type": "scattermap"
           }
          ],
          "scattermapbox": [
           {
            "marker": {
             "colorbar": {
              "outlinewidth": 0,
              "ticks": ""
             }
            },
            "type": "scattermapbox"
           }
          ],
          "scatterpolar": [
           {
            "marker": {
             "colorbar": {
              "outlinewidth": 0,
              "ticks": ""
             }
            },
            "type": "scatterpolar"
           }
          ],
          "scatterpolargl": [
           {
            "marker": {
             "colorbar": {
              "outlinewidth": 0,
              "ticks": ""
             }
            },
            "type": "scatterpolargl"
           }
          ],
          "scatterternary": [
           {
            "marker": {
             "colorbar": {
              "outlinewidth": 0,
              "ticks": ""
             }
            },
            "type": "scatterternary"
           }
          ],
          "surface": [
           {
            "colorbar": {
             "outlinewidth": 0,
             "ticks": ""
            },
            "colorscale": [
             [
              0,
              "#0d0887"
             ],
             [
              0.1111111111111111,
              "#46039f"
             ],
             [
              0.2222222222222222,
              "#7201a8"
             ],
             [
              0.3333333333333333,
              "#9c179e"
             ],
             [
              0.4444444444444444,
              "#bd3786"
             ],
             [
              0.5555555555555556,
              "#d8576b"
             ],
             [
              0.6666666666666666,
              "#ed7953"
             ],
             [
              0.7777777777777778,
              "#fb9f3a"
             ],
             [
              0.8888888888888888,
              "#fdca26"
             ],
             [
              1,
              "#f0f921"
             ]
            ],
            "type": "surface"
           }
          ],
          "table": [
           {
            "cells": {
             "fill": {
              "color": "#EBF0F8"
             },
             "line": {
              "color": "white"
             }
            },
            "header": {
             "fill": {
              "color": "#C8D4E3"
             },
             "line": {
              "color": "white"
             }
            },
            "type": "table"
           }
          ]
         },
         "layout": {
          "annotationdefaults": {
           "arrowcolor": "#2a3f5f",
           "arrowhead": 0,
           "arrowwidth": 1
          },
          "autotypenumbers": "strict",
          "coloraxis": {
           "colorbar": {
            "outlinewidth": 0,
            "ticks": ""
           }
          },
          "colorscale": {
           "diverging": [
            [
             0,
             "#8e0152"
            ],
            [
             0.1,
             "#c51b7d"
            ],
            [
             0.2,
             "#de77ae"
            ],
            [
             0.3,
             "#f1b6da"
            ],
            [
             0.4,
             "#fde0ef"
            ],
            [
             0.5,
             "#f7f7f7"
            ],
            [
             0.6,
             "#e6f5d0"
            ],
            [
             0.7,
             "#b8e186"
            ],
            [
             0.8,
             "#7fbc41"
            ],
            [
             0.9,
             "#4d9221"
            ],
            [
             1,
             "#276419"
            ]
           ],
           "sequential": [
            [
             0,
             "#0d0887"
            ],
            [
             0.1111111111111111,
             "#46039f"
            ],
            [
             0.2222222222222222,
             "#7201a8"
            ],
            [
             0.3333333333333333,
             "#9c179e"
            ],
            [
             0.4444444444444444,
             "#bd3786"
            ],
            [
             0.5555555555555556,
             "#d8576b"
            ],
            [
             0.6666666666666666,
             "#ed7953"
            ],
            [
             0.7777777777777778,
             "#fb9f3a"
            ],
            [
             0.8888888888888888,
             "#fdca26"
            ],
            [
             1,
             "#f0f921"
            ]
           ],
           "sequentialminus": [
            [
             0,
             "#0d0887"
            ],
            [
             0.1111111111111111,
             "#46039f"
            ],
            [
             0.2222222222222222,
             "#7201a8"
            ],
            [
             0.3333333333333333,
             "#9c179e"
            ],
            [
             0.4444444444444444,
             "#bd3786"
            ],
            [
             0.5555555555555556,
             "#d8576b"
            ],
            [
             0.6666666666666666,
             "#ed7953"
            ],
            [
             0.7777777777777778,
             "#fb9f3a"
            ],
            [
             0.8888888888888888,
             "#fdca26"
            ],
            [
             1,
             "#f0f921"
            ]
           ]
          },
          "colorway": [
           "#636efa",
           "#EF553B",
           "#00cc96",
           "#ab63fa",
           "#FFA15A",
           "#19d3f3",
           "#FF6692",
           "#B6E880",
           "#FF97FF",
           "#FECB52"
          ],
          "font": {
           "color": "#2a3f5f"
          },
          "geo": {
           "bgcolor": "white",
           "lakecolor": "white",
           "landcolor": "#E5ECF6",
           "showlakes": true,
           "showland": true,
           "subunitcolor": "white"
          },
          "hoverlabel": {
           "align": "left"
          },
          "hovermode": "closest",
          "mapbox": {
           "style": "light"
          },
          "paper_bgcolor": "white",
          "plot_bgcolor": "#E5ECF6",
          "polar": {
           "angularaxis": {
            "gridcolor": "white",
            "linecolor": "white",
            "ticks": ""
           },
           "bgcolor": "#E5ECF6",
           "radialaxis": {
            "gridcolor": "white",
            "linecolor": "white",
            "ticks": ""
           }
          },
          "scene": {
           "xaxis": {
            "backgroundcolor": "#E5ECF6",
            "gridcolor": "white",
            "gridwidth": 2,
            "linecolor": "white",
            "showbackground": true,
            "ticks": "",
            "zerolinecolor": "white"
           },
           "yaxis": {
            "backgroundcolor": "#E5ECF6",
            "gridcolor": "white",
            "gridwidth": 2,
            "linecolor": "white",
            "showbackground": true,
            "ticks": "",
            "zerolinecolor": "white"
           },
           "zaxis": {
            "backgroundcolor": "#E5ECF6",
            "gridcolor": "white",
            "gridwidth": 2,
            "linecolor": "white",
            "showbackground": true,
            "ticks": "",
            "zerolinecolor": "white"
           }
          },
          "shapedefaults": {
           "line": {
            "color": "#2a3f5f"
           }
          },
          "ternary": {
           "aaxis": {
            "gridcolor": "white",
            "linecolor": "white",
            "ticks": ""
           },
           "baxis": {
            "gridcolor": "white",
            "linecolor": "white",
            "ticks": ""
           },
           "bgcolor": "#E5ECF6",
           "caxis": {
            "gridcolor": "white",
            "linecolor": "white",
            "ticks": ""
           }
          },
          "title": {
           "x": 0.05
          },
          "xaxis": {
           "automargin": true,
           "gridcolor": "white",
           "linecolor": "white",
           "ticks": "",
           "title": {
            "standoff": 15
           },
           "zerolinecolor": "white",
           "zerolinewidth": 2
          },
          "yaxis": {
           "automargin": true,
           "gridcolor": "white",
           "linecolor": "white",
           "ticks": "",
           "title": {
            "standoff": 15
           },
           "zerolinecolor": "white",
           "zerolinewidth": 2
          }
         }
        },
        "title": {
         "text": "Advection of Pollutant Concentration Over Time"
        },
        "xaxis": {
         "title": {
          "text": "Position along the River (m)"
         }
        },
        "yaxis": {
         "title": {
          "text": "Pollutant Concentration"
         }
        }
       }
      }
     },
     "metadata": {},
     "output_type": "display_data"
    }
   ],
   "source": [
    "# Visualization using Plotly\n",
    "fig = go.Figure()\n",
    "\n",
    "for idx, rho_snapshot in enumerate(rho_history):\n",
    "    fig.add_trace(go.Scatter(\n",
    "        x=x,\n",
    "        y=rho_snapshot,\n",
    "        mode='lines',\n",
    "        name=f't = {time_steps[idx]:.2f} s'\n",
    "    ))\n",
    "\n",
    "fig.update_layout(\n",
    "    title='Advection of Pollutant Concentration Over Time',\n",
    "    xaxis_title='Position along the River (m)',\n",
    "    yaxis_title='Pollutant Concentration',\n",
    "    legend_title='Time Steps',\n",
    "    autosize=True,\n",
    "    height=500\n",
    ")\n",
    "\n",
    "html_fig = fig.to_html(full_html=False, include_plotlyjs='cdn')\n",
    "HTML(html_fig)\n"
   ]
  },
  {
   "cell_type": "markdown",
   "metadata": {},
   "source": [
    "**IMPORTANT: This result is not correct!**\n",
    "\n",
    "**It is affected by the numerical diffusion. In general, the shape of the figure should not be changed in this specific example.**\n",
    "\n",
    "The discrepancy arises from the numerical method used to solve the advection equation. Specifically, the Upwind Finite Difference Method is a first-order scheme, which inherently introduces numerical diffusion.\n",
    "\n",
    "**Numerical Diffusion Explained**\n",
    "- First-Order Accuracy: The Upwind scheme approximates derivatives using first-order differences, which are less accurate compared to higher-order methods.\n",
    "- Artificial Spreading: This lower accuracy causes the numerical solution to diffuse the concentration profile artificially, leading to a loss of sharpness in gradients. As a result:\n",
    "    - Peak Concentration: Decreases because the high-density region spreads out.\n",
    "    - Width: Increases as the pollutant disperses over a larger area.\n",
    "- https://en.wikipedia.org/wiki/Numerical_diffusion\n",
    "\n",
    "We used the following parameters:\n",
    "\n",
    "nx = 200 (Number of spatial points)\n",
    "\n",
    "nt = 200 (Number of time steps)\n",
    "\n",
    "Let's increast nx and nt, recalculate the solution, and compare new graphical representation with a new one."
   ]
  },
  {
   "cell_type": "code",
   "execution_count": 7,
   "metadata": {},
   "outputs": [],
   "source": [
    "# Spatial and temporal discretization\n",
    "nx = 1000          # Number of spatial points\n",
    "nt = 1000          # Number of time steps\n",
    "dx = L / (nx - 1)\n",
    "dt = T / (nt - 1)\n",
    "x = np.linspace(0, L, nx)\n",
    "t = np.linspace(0, T, nt)\n",
    "\n",
    "# CFL condition for stability\n",
    "CFL = u * dt / dx\n",
    "if CFL > 1:\n",
    "    print(\"Warning: CFL condition not met. The simulation may be unstable.\")\n",
    "\n",
    "rho = initial_density(x)"
   ]
  },
  {
   "cell_type": "code",
   "execution_count": 8,
   "metadata": {},
   "outputs": [],
   "source": [
    "# Store density profiles at selected time steps for visualization\n",
    "rho_history = [rho.copy()]\n",
    "time_steps = [0]\n",
    "\n",
    "# Finite Difference Scheme (Upwind method)\n",
    "for n in range(1, nt):\n",
    "    rho_new = rho.copy()\n",
    "    for i in range(1, nx):\n",
    "        rho_new[i] = rho[i] - CFL * (rho[i] - rho[i - 1])\n",
    "    rho = rho_new\n",
    "\n",
    "    # Store data every 100 time steps\n",
    "    if n % 100 == 0:\n",
    "        rho_history.append(rho.copy())\n",
    "        time_steps.append(t[n])"
   ]
  },
  {
   "cell_type": "code",
   "execution_count": null,
   "metadata": {},
   "outputs": [
    {
     "data": {
      "application/vnd.plotly.v1+json": {
       "config": {
        "plotlyServerURL": "https://plot.ly"
       },
       "data": [
        {
         "mode": "lines",
         "name": "t = 0.00 s",
         "type": "scatter",
         "x": {
          "bdata": "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",
          "dtype": "f8"
         },
         "y": {
          "bdata": "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",
          "dtype": "f8"
         }
        },
        {
         "mode": "lines",
         "name": "t = 0.50 s",
         "type": "scatter",
         "x": {
          "bdata": "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",
          "dtype": "f8"
         },
         "y": {
          "bdata": "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",
          "dtype": "f8"
         }
        },
        {
         "mode": "lines",
         "name": "t = 1.00 s",
         "type": "scatter",
         "x": {
          "bdata": "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",
          "dtype": "f8"
         },
         "y": {
          "bdata": "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",
          "dtype": "f8"
         }
        },
        {
         "mode": "lines",
         "name": "t = 1.50 s",
         "type": "scatter",
         "x": {
          "bdata": "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",
          "dtype": "f8"
         },
         "y": {
          "bdata": "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",
          "dtype": "f8"
         }
        },
        {
         "mode": "lines",
         "name": "t = 2.00 s",
         "type": "scatter",
         "x": {
          "bdata": "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",
          "dtype": "f8"
         },
         "y": {
          "bdata": "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",
          "dtype": "f8"
         }
        },
        {
         "mode": "lines",
         "name": "t = 2.50 s",
         "type": "scatter",
         "x": {
          "bdata": "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",
          "dtype": "f8"
         },
         "y": {
          "bdata": "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",
          "dtype": "f8"
         }
        },
        {
         "mode": "lines",
         "name": "t = 3.00 s",
         "type": "scatter",
         "x": {
          "bdata": "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",
          "dtype": "f8"
         },
         "y": {
          "bdata": "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",
          "dtype": "f8"
         }
        },
        {
         "mode": "lines",
         "name": "t = 3.50 s",
         "type": "scatter",
         "x": {
          "bdata": "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",
          "dtype": "f8"
         },
         "y": {
          "bdata": "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",
          "dtype": "f8"
         }
        },
        {
         "mode": "lines",
         "name": "t = 4.00 s",
         "type": "scatter",
         "x": {
          "bdata": "AAAAAAAAAAACSAHNIICEPwJIAc0ggJQ/A+yBMzHAnj8CSAHNIICkPwKaQQApoKk/A+yBMzHArj8CH2GzHPCxPwJIAc0ggLQ/AnGh5iQQtz8CmkEAKaC5PwPD4RktMLw/A+yBMzHAvj+CCpGmGqjAPwIfYbMc8ME/gjMxwB44wz8CSAHNIIDEP4Jc0dkiyMU/AnGh5iQQxz+ChXHzJljIPwKaQQApoMk/g64RDSvoyj8Dw+EZLTDMP4PXsSYveM0/A+yBMzHAzj9CACmgGQTQP4IKkaYaqNA/whT5rBtM0T8CH2GzHPDRP0IpybkdlNI/gjMxwB440z/CPZnGH9zTPwJIAc0ggNQ/QlJp0yEk1T+CXNHZIsjVP8JmOeAjbNY/AnGh5iQQ1z9CewntJbTXP4KFcfMmWNg/wo/Z+Sf82D8CmkEAKaDZP0OkqQYqRNo/g64RDSvo2j/DuHkTLIzbPwPD4RktMNw/Q81JIC7U3D+D17EmL3jdP8PhGS0wHN4/A+yBMzHA3j9D9uk5MmTfP0IAKaAZBOA/YgVdIxpW4D+CCpGmGqjgP6IPxSkb+uA/whT5rBtM4T/iGS0wHJ7hPwIfYbMc8OE/IiSVNh1C4j9CKcm5HZTiP2Iu/Twe5uI/gjMxwB444z+iOGVDH4rjP8I9mcYf3OM/4kLNSSAu5D8CSAHNIIDkPyJNNVAh0uQ/QlJp0yEk5T9iV51WInblP4Jc0dkiyOU/omEFXSMa5j/CZjngI2zmP+JrbWMkvuY/AnGh5iQQ5z8idtVpJWLnP0J7Ce0ltOc/YoA9cCYG6D+ChXHzJljoP6KKpXYnqug/wo/Z+Sf86D/ilA19KE7pPwKaQQApoOk/I591gyny6T9DpKkGKkTqP2Op3Ykqluo/g64RDSvo6j+js0WQKzrrP8O4eRMsjOs/472tlize6z8Dw+EZLTDsPyPIFZ0tguw/Q81JIC7U7D9j0n2jLibtP4PXsSYveO0/o9zlqS/K7T/D4RktMBzuP+PmTbAwbu4/A+yBMzHA7j8j8bW2MRLvP0P26TkyZO8/Y/sdvTK27z9CACmgGQTwP9ICw+EZLfA/YgVdIxpW8D/yB/dkGn/wP4IKkaYaqPA/Eg0r6BrR8D+iD8UpG/rwPzISX2sbI/E/whT5rBtM8T9SF5PuG3XxP+IZLTAcnvE/chzHcRzH8T8CH2GzHPDxP5Ih+/QcGfI/IiSVNh1C8j+yJi94HWvyP0IpybkdlPI/0itj+x298j9iLv08HubyP/Iwl34eD/M/gjMxwB448z8SNssBH2HzP6I4ZUMfivM/Mjv/hB+z8z/CPZnGH9zzP1JAMwggBfQ/4kLNSSAu9D9yRWeLIFf0PwJIAc0ggPQ/kkqbDiGp9D8iTTVQIdL0P7JPz5Eh+/Q/QlJp0yEk9T/SVAMVIk31P2JXnVYidvU/8lk3mCKf9T+CXNHZIsj1PxJfaxsj8fU/omEFXSMa9j8yZJ+eI0P2P8JmOeAjbPY/UmnTISSV9j/ia21jJL72P3JuB6Uk5/Y/AnGh5iQQ9z+SczsoJTn3PyJ21WklYvc/snhvqyWL9z9CewntJbT3P9J9oy4m3fc/YoA9cCYG+D/ygtexJi/4P4KFcfMmWPg/EogLNSeB+D+iiqV2J6r4PzKNP7gn0/g/wo/Z+Sf8+D9SknM7KCX5P+KUDX0oTvk/cpenvih3+T8CmkEAKaD5P5Oc20Epyfk/I591gyny+T+zoQ/FKRv6P0OkqQYqRPo/06ZDSCpt+j9jqd2JKpb6P/Ord8sqv/o/g64RDSvo+j8TsatOKxH7P6OzRZArOvs/M7bf0Stj+z/DuHkTLIz7P1O7E1Ustfs/472tlize+z9zwEfYLAf8PwPD4RktMPw/k8V7Wy1Z/D8jyBWdLYL8P7PKr94tq/w/Q81JIC7U/D/Tz+NhLv38P2PSfaMuJv0/89QX5S5P/T+D17EmL3j9PxPaS2gvof0/o9zlqS/K/T8z33/rL/P9P8PhGS0wHP4/U+SzbjBF/j/j5k2wMG7+P3Pp5/Ewl/4/A+yBMzHA/j+T7ht1Men+PyPxtbYxEv8/s/NP+DE7/z9D9uk5MmT/P9P4g3syjf8/Y/sdvTK2/z/z/bf+Mt//P0IAKaAZBABAigH2wJkYAEDSAsPhGS0AQBoEkAKaQQBAYgVdIxpWAECqBipEmmoAQPIH92QafwBAOgnEhZqTAECCCpGmGqgAQMoLXseavABAEg0r6BrRAEBaDvgIm+UAQKIPxSkb+gBA6hCSSpsOAUAyEl9rGyMBQHoTLIybNwFAwhT5rBtMAUAKFsbNm2ABQFIXk+4bdQFAmhhgD5yJAUDiGS0wHJ4BQCob+lCcsgFAchzHcRzHAUC6HZSSnNsBQAIfYbMc8AFASiAu1JwEAkCSIfv0HBkCQNoiyBWdLQJAIiSVNh1CAkBqJWJXnVYCQLImL3gdawJA+if8mJ1/AkBCKcm5HZQCQIoqltqdqAJA0itj+x29AkAaLTAcntECQGIu/Twe5gJAqi/KXZ76AkDyMJd+Hg8DQDoyZJ+eIwNAgjMxwB44A0DKNP7gnkwDQBI2ywEfYQNAWjeYIp91A0CiOGVDH4oDQOo5MmSfngNAMjv/hB+zA0B6PMyln8cDQMI9mcYf3ANACj9m55/wA0BSQDMIIAUEQJpBACmgGQRA4kLNSSAuBEAqRJpqoEIEQHJFZ4sgVwRAukY0rKBrBEACSAHNIIAEQEpJzu2glARAkkqbDiGpBEDaS2gvob0EQCJNNVAh0gRAak4CcaHmBECyT8+RIfsEQPpQnLKhDwVAQlJp0yEkBUCKUzb0oTgFQNJUAxUiTQVAGlbQNaJhBUBiV51WInYFQKpYaneiigVA8lk3mCKfBUA6WwS5orMFQIJc0dkiyAVAyl2e+qLcBUASX2sbI/EFQFpgODyjBQZAomEFXSMaBkDqYtJ9oy4GQDJkn54jQwZAemVsv6NXBkDCZjngI2wGQApoBgGkgAZAUmnTISSVBkCaaqBCpKkGQOJrbWMkvgZAKm06hKTSBkBybgelJOcGQLpv1MWk+wZAAnGh5iQQB0BKcm4HpSQHQJJzOyglOQdA2nQISaVNB0AidtVpJWIHQGp3ooqldgdAsnhvqyWLB0D6eTzMpZ8HQEJ7Ce0ltAdAinzWDabIB0DSfaMuJt0HQBp/cE+m8QdAYoA9cCYGCECqgQqRphoIQPKC17EmLwhAOoSk0qZDCECChXHzJlgIQMqGPhSnbAhAEogLNSeBCEBaidhVp5UIQKKKpXYnqghA6otyl6e+CEAyjT+4J9MIQHqODNmn5whAwo/Z+Sf8CEAKkaYaqBAJQFKSczsoJQlAmpNAXKg5CUDilA19KE4JQCqW2p2oYglAcpenvih3CUC6mHTfqIsJQAKaQQApoAlAS5sOIam0CUCTnNtBKckJQNudqGKp3QlAI591gynyCUBroEKkqQYKQLOhD8UpGwpA+6Lc5akvCkBDpKkGKkQKQIuldieqWApA06ZDSCptCkAbqBBpqoEKQGOp3YkqlgpAq6qqqqqqCkDzq3fLKr8KQDutROyq0wpAg64RDSvoCkDLr94tq/wKQBOxq04rEQtAW7J4b6slC0Cjs0WQKzoLQOu0ErGrTgtAM7bf0StjC0B7t6zyq3cLQMO4eRMsjAtAC7pGNKygC0BTuxNVLLULQJu84HWsyQtA472tlizeC0Arv3q3rPILQHPAR9gsBwxAu8EU+awbDEADw+EZLTAMQEvErjqtRAxAk8V7Wy1ZDEDbxkh8rW0MQCPIFZ0tggxAa8niva2WDECzyq/eLasMQPvLfP+tvwxAQ81JIC7UDECLzhZBrugMQNPP42Eu/QxAG9Gwgq4RDUBj0n2jLiYNQKvTSsSuOg1A89QX5S5PDUA71uQFr2MNQIPXsSYveA1Ay9h+R6+MDUAT2ktoL6ENQFvbGImvtQ1Ao9zlqS/KDUDr3bLKr94NQDPff+sv8w1Ae+BMDLAHDkDD4RktMBwOQAvj5k2wMA5AU+SzbjBFDkCb5YCPsFkOQOPmTbAwbg5AK+ga0bCCDkBz6efxMJcOQLvqtBKxqw5AA+yBMzHADkBL7U5UsdQOQJPuG3Ux6Q5A2+/olbH9DkAj8bW2MRIPQGvygtexJg9As/NP+DE7D0D79BwZsk8PQEP26TkyZA9Ai/e2WrJ4D0DT+IN7Mo0PQBv6UJyyoQ9AY/sdvTK2D0Cr/OrdssoPQPP9t/4y3w9AO/+EH7PzD0BCACmgGQQQQOaAj7BZDhBAigH2wJkYEEAuglzR2SIQQNICw+EZLRBAdoMp8lk3EEAaBJACmkEQQL6E9hLaSxBAYgVdIxpWEEAGhsMzWmAQQKoGKkSaahBAToeQVNp0EEDyB/dkGn8QQJaIXXVaiRBAOgnEhZqTEEDeiSqW2p0QQIIKkaYaqBBAJov3tlqyEEDKC17HmrwQQG6MxNfaxhBAEg0r6BrREEC2jZH4WtsQQFoO+Aib5RBA/o5eGdvvEECiD8UpG/oQQEaQKzpbBBFA6hCSSpsOEUCOkfha2xgRQDISX2sbIxFA1pLFe1stEUB6EyyMmzcRQB6UkpzbQRFAwhT5rBtMEUBmlV+9W1YRQAoWxs2bYBFArpYs3ttqEUBSF5PuG3URQPaX+f5bfxFAmhhgD5yJEUA+mcYf3JMRQOIZLTAcnhFAhpqTQFyoEUAqG/pQnLIRQM6bYGHcvBFAchzHcRzHEUAWnS2CXNERQLodlJKc2xFAXp76otzlEUACH2GzHPARQKafx8Nc+hFASiAu1JwEEkDuoJTk3A4SQJIh+/QcGRJANqJhBV0jEkDaIsgVnS0SQH6jLibdNxJAIiSVNh1CEkDGpPtGXUwSQGolYledVhJADqbIZ91gEkCyJi94HWsSQFanlYhddRJA+if8mJ1/EkCeqGKp3YkSQEIpybkdlBJA5qkvyl2eEkCKKpbanagSQC6r/OrdshJA0itj+x29EkB2rMkLXscSQBotMBye0RJAvq2WLN7bEkBiLv08HuYSQAavY01e8BJAqi/KXZ76EkBOsDBu3gQTQPIwl34eDxNAlrH9jl4ZE0A6MmSfniMTQN6yyq/eLRNAgjMxwB44E0AmtJfQXkITQMo0/uCeTBNAbrVk8d5WE0ASNssBH2ETQLa2MRJfaxNAWjeYIp91E0D+t/4y338TQKI4ZUMfihNARrnLU1+UE0DqOTJkn54TQI66mHTfqBNAMjv/hB+zE0DWu2WVX70TQHo8zKWfxxNAHr0ytt/RE0DCPZnGH9wTQGa+/9Zf5hNACj9m55/wE0Cuv8z33/oTQFJAMwggBRRA9sCZGGAPFECaQQApoBkUQD7CZjngIxRA4kLNSSAuFECGwzNaYDgUQCpEmmqgQhRAzsQAe+BMFEByRWeLIFcUQBbGzZtgYRRAukY0rKBrFEBex5q84HUUQAJIAc0ggBRApshn3WCKFEBKSc7toJQUQO7JNP7gnhRAkkqbDiGpFEA2ywEfYbMUQNpLaC+hvRRAfszOP+HHFEAiTTVQIdIUQMbNm2Bh3BRAak4CcaHmFEAOz2iB4fAUQLJPz5Eh+xRAVtA1omEFFUD6UJyyoQ8VQJ7RAsPhGRVAQlJp0yEkFUDm0s/jYS4VQIpTNvShOBVALtScBOJCFUDSVAMVIk0VQHbVaSViVxVAGlbQNaJhFUC+1jZG4msVQGJXnVYidhVABtgDZ2KAFUCqWGp3oooVQE7Z0IfilBVA8lk3mCKfFUCW2p2oYqkVQDpbBLmisxVA3ttqyeK9FUCCXNHZIsgVQCbdN+pi0hVAyl2e+qLcFUBu3gQL4+YVQBJfaxsj8RVAtt/RK2P7FUBaYDg8owUWQP7gnkzjDxZAomEFXSMaFkBG4mttYyQWQOpi0n2jLhZAjuM4juM4FkAyZJ+eI0MWQNbkBa9jTRZAemVsv6NXFkAe5tLP42EWQMJmOeAjbBZAZuef8GN2FkAKaAYBpIAWQK7obBHkihZAUmnTISSVFkD26TkyZJ8WQJpqoEKkqRZAPusGU+SzFkDia21jJL4WQIbs03NkyBZAKm06hKTSFkDO7aCU5NwWQHJuB6Uk5xZAFu9ttWTxFkC6b9TFpPsWQF7wOtbkBRdAAnGh5iQQF0Cm8Qf3ZBoXQEpybgelJBdA7vLUF+UuF0CSczsoJTkXQDb0oThlQxdA2nQISaVNF0B+9W5Z5VcXQCJ21WklYhdAxvY7emVsF0Bqd6KKpXYXQA74CJvlgBdAsnhvqyWLF0BW+dW7ZZUXQPp5PMylnxdAnvqi3OWpF0BCewntJbQXQOb7b/1lvhdAinzWDabIF0Au/Twe5tIXQNJ9oy4m3RdAdv4JP2bnF0Aaf3BPpvEXQL7/1l/m+xdAYoA9cCYGGEAGAaSAZhAYQKqBCpGmGhhATgJxoeYkGEDygtexJi8YQJYDPsJmORhAOoSk0qZDGEDeBAvj5k0YQIKFcfMmWBhAJgbYA2diGEDKhj4Up2wYQG4HpSTndhhAEogLNSeBGEC2CHJFZ4sYQFqJ2FWnlRhA/gk/ZuefGECiiqV2J6oYQEYLDIdntBhA6otyl6e+GECODNmn58gYQDKNP7gn0xhA1g2myGfdGEB6jgzZp+cYQB4Pc+nn8RhAwo/Z+Sf8GEBmEEAKaAYZQAqRphqoEBlArhENK+gaGUBSknM7KCUZQPYS2ktoLxlAmpNAXKg5GUA+FKds6EMZQOKUDX0oThlAhhV0jWhYGUAqltqdqGIZQM4WQa7obBlAcpenvih3GUAWGA7PaIEZQLqYdN+oixlAXhnb7+iVGUACmkEAKaAZQKcaqBBpqhlAS5sOIam0GUDvG3Ux6b4ZQJOc20EpyRlANx1CUmnTGUDbnahiqd0ZQH8eD3Pp5xlAI591gynyGUDHH9yTafwZQGugQqSpBhpADyGptOkQGkCzoQ/FKRsaQFcidtVpJRpA+6Lc5akvGkCfI0P26TkaQEOkqQYqRBpA5yQQF2pOGkCLpXYnqlgaQC8m3TfqYhpA06ZDSCptGkB3J6pYancaQBuoEGmqgRpAvyh3eeqLGkBjqd2JKpYaQAcqRJpqoBpAq6qqqqqqGkBPKxG76rQaQPOrd8sqvxpAlyze22rJGkA7rUTsqtMaQN8tq/zq3RpAg64RDSvoGkAnL3gda/IaQMuv3i2r/BpAbzBFPusGG0ATsatOKxEbQLcxEl9rGxtAW7J4b6slG0D/Mt9/6y8bQKOzRZArOhtARzSsoGtEG0DrtBKxq04bQI81ecHrWBtAM7bf0StjG0DXNkbia20bQHu3rPKrdxtAHzgTA+yBG0DDuHkTLIwbQGc54CNslhtAC7pGNKygG0CvOq1E7KobQFO7E1UstRtA9zt6ZWy/G0CbvOB1rMkbQD89R4bs0xtA472tlizeG0CHPhSnbOgbQCu/eres8htAzz/hx+z8G0BzwEfYLAccQBdBruhsERxAu8EU+awbHEBfQnsJ7SUcQAPD4RktMBxAp0NIKm06HEBLxK46rUQcQO9EFUvtThxAk8V7Wy1ZHEA3RuJrbWMcQNvGSHytbRxAf0evjO13HEAjyBWdLYIcQMdIfK1tjBxAa8niva2WHEAPSknO7aAcQLPKr94tqxxAV0sW7221HED7y3z/rb8cQJ9M4w/uyRxAQ81JIC7UHEDnTbAwbt4cQIvOFkGu6BxAL099Ue7yHEDTz+NhLv0cQHdQSnJuBx1AG9Gwgq4RHUC/UReT7hsdQGPSfaMuJh1AB1Pks24wHUCr00rErjodQE9UsdTuRB1A89QX5S5PHUCXVX71blkdQDvW5AWvYx1A31ZLFu9tHUCD17EmL3gdQCdYGDdvgh1Ay9h+R6+MHUBvWeVX75YdQBPaS2gvoR1At1qyeG+rHUBb2xiJr7UdQP9bf5nvvx1Ao9zlqS/KHUBHXUy6b9QdQOvdssqv3h1Aj14Z2+/oHUAz33/rL/MdQNdf5vtv/R1Ae+BMDLAHHkAfYbMc8BEeQMPhGS0wHB5AZ2KAPXAmHkAL4+ZNsDAeQK9jTV7wOh5AU+SzbjBFHkD3ZBp/cE8eQJvlgI+wWR5AP2bnn/BjHkDj5k2wMG4eQIdntMBweB5AK+ga0bCCHkDPaIHh8IweQHPp5/Ewlx5AF2pOAnGhHkC76rQSsaseQF9rGyPxtR5AA+yBMzHAHkCnbOhDccoeQEvtTlSx1B5A7221ZPHeHkCT7ht1MekeQDdvgoVx8x5A2+/olbH9HkB/cE+m8QcfQCPxtbYxEh9Ax3Ecx3EcH0Br8oLXsSYfQA9z6efxMB9As/NP+DE7H0BXdLYIckUfQPv0HBmyTx9An3WDKfJZH0BD9uk5MmQfQOd2UEpybh9Ai/e2WrJ4H0AveB1r8oIfQNP4g3syjR9Ad3nqi3KXH0Ab+lCcsqEfQL96t6zyqx9AY/sdvTK2H0AHfITNcsAfQKv86t2yyh9AT31R7vLUH0Dz/bf+Mt8fQJd+Hg9z6R9AO/+EH7PzH0Dff+sv8/0fQEIAKaAZBCBAlEBcqDkJIEDmgI+wWQ4gQDjBwrh5EyBAigH2wJkYIEDcQSnJuR0gQC6CXNHZIiBAgMKP2fknIEDSAsPhGS0gQCRD9uk5MiBAdoMp8lk3IEDIw1z6eTwgQBoEkAKaQSBAbETDCrpGIEC+hPYS2ksgQBDFKRv6UCBAYgVdIxpWIEC0RZArOlsgQAaGwzNaYCBAWMb2O3plIECqBipEmmogQPxGXUy6byBAToeQVNp0IECgx8Nc+nkgQPIH92QafyBAREgqbTqEIECWiF11WokgQOjIkH16jiBAOgnEhZqTIECMSfeNupggQN6JKpbanSBAMMpdnvqiIECCCpGmGqggQNRKxK46rSBAJov3tlqyIEB4yyq/ercgQMoLXseavCBAHEyRz7rBIEBujMTX2sYgQMDM99/6yyBAEg0r6BrRIEBkTV7wOtYgQLaNkfha2yBACM7EAHvgIEBaDvgIm+UgQKxOKxG76iBA/o5eGdvvIEBQz5Eh+/QgQKIPxSkb+iBA9E/4MTv/IEBGkCs6WwQhQJjQXkJ7CSFA6hCSSpsOIUA8UcVSuxMhQI6R+FrbGCFA4NErY/sdIUAyEl9rGyMhQIRSknM7KCFA1pLFe1stIUAo0/iDezIhQHoTLIybNyFAzFNflLs8IUAelJKc20EhQHDUxaT7RiFAwhT5rBtMIUAUVSy1O1EhQGaVX71bViFAuNWSxXtbIUAKFsbNm2AhQFxW+dW7ZSFArpYs3ttqIUAA11/m+28hQFIXk+4bdSFApFfG9jt6IUD2l/n+W38hQEjYLAd8hCFAmhhgD5yJIUDsWJMXvI4hQD6Zxh/ckyFAkNn5J/yYIUDiGS0wHJ4hQDRaYDg8oyFAhpqTQFyoIUDY2sZIfK0hQCob+lCcsiFAfFstWby3IUDOm2Bh3LwhQCDck2n8wSFAchzHcRzHIUDEXPp5PMwhQBadLYJc0SFAaN1ginzWIUC6HZSSnNshQAxex5q84CFAXp76otzlIUCw3i2r/OohQAIfYbMc8CFAVF+Uuzz1IUCmn8fDXPohQPjf+st8/yFASiAu1JwEIkCcYGHcvAkiQO6glOTcDiJAQOHH7PwTIkCSIfv0HBkiQORhLv08HiJANqJhBV0jIkCI4pQNfSgiQNoiyBWdLSJALGP7Hb0yIkB+oy4m3TciQNDjYS79PCJAIiSVNh1CIkB0ZMg+PUciQMak+0ZdTCJAGOUuT31RIkBqJWJXnVYiQLxllV+9WyJADqbIZ91gIkBg5vtv/WUiQLImL3gdayJABGdigD1wIkBWp5WIXXUiQKjnyJB9eiJA+if8mJ1/IkBMaC+hvYQiQJ6oYqndiSJA8OiVsf2OIkBCKcm5HZQiQJRp/ME9mSJA5qkvyl2eIkA46mLSfaMiQIoqltqdqCJA3GrJ4r2tIkAuq/zq3bIiQIDrL/P9tyJA0itj+x29IkAkbJYDPsIiQHasyQtexyJAyOz8E37MIkAaLTAcntEiQGxtYyS+1iJAvq2WLN7bIkAQ7sk0/uAiQGIu/Twe5iJAtG4wRT7rIkAGr2NNXvAiQFjvllV+9SJAqi/KXZ76IkD8b/1lvv8iQE6wMG7eBCNAoPBjdv4JI0DyMJd+Hg8jQERxyoY+FCNAlrH9jl4ZI0Do8TCXfh4jQDoyZJ+eIyNAjHKXp74oI0Dessqv3i0jQDDz/bf+MiNAgjMxwB44I0DUc2TIPj0jQCa0l9BeQiNAePTK2H5HI0DKNP7gnkwjQBx1Mem+USNAbrVk8d5WI0DA9Zf5/lsjQBI2ywEfYSNAZHb+CT9mI0C2tjESX2sjQAj3ZBp/cCNAWjeYIp91I0Csd8sqv3ojQP63/jLffyNAUPgxO/+EI0CiOGVDH4ojQPR4mEs/jyNARrnLU1+UI0CY+f5bf5kjQOo5MmSfniNAPHplbL+jI0COuph036gjQOD6y3z/rSNAMjv/hB+zI0CEezKNP7gjQNa7ZZVfvSNAKPyYnX/CI0B6PMyln8cjQMx8/62/zCNAHr0ytt/RI0Bw/WW+/9YjQMI9mcYf3CNAFH7Mzj/hI0Bmvv/WX+YjQLj+Mt9/6yNACj9m55/wI0Bcf5nvv/UjQK6/zPff+iNAAAAAAAAAJEA=",
          "dtype": "f8"
         },
         "y": {
          "bdata": "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",
          "dtype": "f8"
         }
        },
        {
         "mode": "lines",
         "name": "t = 4.50 s",
         "type": "scatter",
         "x": {
          "bdata": "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",
          "dtype": "f8"
         },
         "y": {
          "bdata": "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",
          "dtype": "f8"
         }
        }
       ],
       "layout": {
        "autosize": true,
        "height": 500,
        "legend": {
         "title": {
          "text": "Time Steps"
         }
        },
        "template": {
         "data": {
          "bar": [
           {
            "error_x": {
             "color": "#2a3f5f"
            },
            "error_y": {
             "color": "#2a3f5f"
            },
            "marker": {
             "line": {
              "color": "#E5ECF6",
              "width": 0.5
             },
             "pattern": {
              "fillmode": "overlay",
              "size": 10,
              "solidity": 0.2
             }
            },
            "type": "bar"
           }
          ],
          "barpolar": [
           {
            "marker": {
             "line": {
              "color": "#E5ECF6",
              "width": 0.5
             },
             "pattern": {
              "fillmode": "overlay",
              "size": 10,
              "solidity": 0.2
             }
            },
            "type": "barpolar"
           }
          ],
          "carpet": [
           {
            "aaxis": {
             "endlinecolor": "#2a3f5f",
             "gridcolor": "white",
             "linecolor": "white",
             "minorgridcolor": "white",
             "startlinecolor": "#2a3f5f"
            },
            "baxis": {
             "endlinecolor": "#2a3f5f",
             "gridcolor": "white",
             "linecolor": "white",
             "minorgridcolor": "white",
             "startlinecolor": "#2a3f5f"
            },
            "type": "carpet"
           }
          ],
          "choropleth": [
           {
            "colorbar": {
             "outlinewidth": 0,
             "ticks": ""
            },
            "type": "choropleth"
           }
          ],
          "contour": [
           {
            "colorbar": {
             "outlinewidth": 0,
             "ticks": ""
            },
            "colorscale": [
             [
              0,
              "#0d0887"
             ],
             [
              0.1111111111111111,
              "#46039f"
             ],
             [
              0.2222222222222222,
              "#7201a8"
             ],
             [
              0.3333333333333333,
              "#9c179e"
             ],
             [
              0.4444444444444444,
              "#bd3786"
             ],
             [
              0.5555555555555556,
              "#d8576b"
             ],
             [
              0.6666666666666666,
              "#ed7953"
             ],
             [
              0.7777777777777778,
              "#fb9f3a"
             ],
             [
              0.8888888888888888,
              "#fdca26"
             ],
             [
              1,
              "#f0f921"
             ]
            ],
            "type": "contour"
           }
          ],
          "contourcarpet": [
           {
            "colorbar": {
             "outlinewidth": 0,
             "ticks": ""
            },
            "type": "contourcarpet"
           }
          ],
          "heatmap": [
           {
            "colorbar": {
             "outlinewidth": 0,
             "ticks": ""
            },
            "colorscale": [
             [
              0,
              "#0d0887"
             ],
             [
              0.1111111111111111,
              "#46039f"
             ],
             [
              0.2222222222222222,
              "#7201a8"
             ],
             [
              0.3333333333333333,
              "#9c179e"
             ],
             [
              0.4444444444444444,
              "#bd3786"
             ],
             [
              0.5555555555555556,
              "#d8576b"
             ],
             [
              0.6666666666666666,
              "#ed7953"
             ],
             [
              0.7777777777777778,
              "#fb9f3a"
             ],
             [
              0.8888888888888888,
              "#fdca26"
             ],
             [
              1,
              "#f0f921"
             ]
            ],
            "type": "heatmap"
           }
          ],
          "histogram": [
           {
            "marker": {
             "pattern": {
              "fillmode": "overlay",
              "size": 10,
              "solidity": 0.2
             }
            },
            "type": "histogram"
           }
          ],
          "histogram2d": [
           {
            "colorbar": {
             "outlinewidth": 0,
             "ticks": ""
            },
            "colorscale": [
             [
              0,
              "#0d0887"
             ],
             [
              0.1111111111111111,
              "#46039f"
             ],
             [
              0.2222222222222222,
              "#7201a8"
             ],
             [
              0.3333333333333333,
              "#9c179e"
             ],
             [
              0.4444444444444444,
              "#bd3786"
             ],
             [
              0.5555555555555556,
              "#d8576b"
             ],
             [
              0.6666666666666666,
              "#ed7953"
             ],
             [
              0.7777777777777778,
              "#fb9f3a"
             ],
             [
              0.8888888888888888,
              "#fdca26"
             ],
             [
              1,
              "#f0f921"
             ]
            ],
            "type": "histogram2d"
           }
          ],
          "histogram2dcontour": [
           {
            "colorbar": {
             "outlinewidth": 0,
             "ticks": ""
            },
            "colorscale": [
             [
              0,
              "#0d0887"
             ],
             [
              0.1111111111111111,
              "#46039f"
             ],
             [
              0.2222222222222222,
              "#7201a8"
             ],
             [
              0.3333333333333333,
              "#9c179e"
             ],
             [
              0.4444444444444444,
              "#bd3786"
             ],
             [
              0.5555555555555556,
              "#d8576b"
             ],
             [
              0.6666666666666666,
              "#ed7953"
             ],
             [
              0.7777777777777778,
              "#fb9f3a"
             ],
             [
              0.8888888888888888,
              "#fdca26"
             ],
             [
              1,
              "#f0f921"
             ]
            ],
            "type": "histogram2dcontour"
           }
          ],
          "mesh3d": [
           {
            "colorbar": {
             "outlinewidth": 0,
             "ticks": ""
            },
            "type": "mesh3d"
           }
          ],
          "parcoords": [
           {
            "line": {
             "colorbar": {
              "outlinewidth": 0,
              "ticks": ""
             }
            },
            "type": "parcoords"
           }
          ],
          "pie": [
           {
            "automargin": true,
            "type": "pie"
           }
          ],
          "scatter": [
           {
            "fillpattern": {
             "fillmode": "overlay",
             "size": 10,
             "solidity": 0.2
            },
            "type": "scatter"
           }
          ],
          "scatter3d": [
           {
            "line": {
             "colorbar": {
              "outlinewidth": 0,
              "ticks": ""
             }
            },
            "marker": {
             "colorbar": {
              "outlinewidth": 0,
              "ticks": ""
             }
            },
            "type": "scatter3d"
           }
          ],
          "scattercarpet": [
           {
            "marker": {
             "colorbar": {
              "outlinewidth": 0,
              "ticks": ""
             }
            },
            "type": "scattercarpet"
           }
          ],
          "scattergeo": [
           {
            "marker": {
             "colorbar": {
              "outlinewidth": 0,
              "ticks": ""
             }
            },
            "type": "scattergeo"
           }
          ],
          "scattergl": [
           {
            "marker": {
             "colorbar": {
              "outlinewidth": 0,
              "ticks": ""
             }
            },
            "type": "scattergl"
           }
          ],
          "scattermap": [
           {
            "marker": {
             "colorbar": {
              "outlinewidth": 0,
              "ticks": ""
             }
            },
            "type": "scattermap"
           }
          ],
          "scattermapbox": [
           {
            "marker": {
             "colorbar": {
              "outlinewidth": 0,
              "ticks": ""
             }
            },
            "type": "scattermapbox"
           }
          ],
          "scatterpolar": [
           {
            "marker": {
             "colorbar": {
              "outlinewidth": 0,
              "ticks": ""
             }
            },
            "type": "scatterpolar"
           }
          ],
          "scatterpolargl": [
           {
            "marker": {
             "colorbar": {
              "outlinewidth": 0,
              "ticks": ""
             }
            },
            "type": "scatterpolargl"
           }
          ],
          "scatterternary": [
           {
            "marker": {
             "colorbar": {
              "outlinewidth": 0,
              "ticks": ""
             }
            },
            "type": "scatterternary"
           }
          ],
          "surface": [
           {
            "colorbar": {
             "outlinewidth": 0,
             "ticks": ""
            },
            "colorscale": [
             [
              0,
              "#0d0887"
             ],
             [
              0.1111111111111111,
              "#46039f"
             ],
             [
              0.2222222222222222,
              "#7201a8"
             ],
             [
              0.3333333333333333,
              "#9c179e"
             ],
             [
              0.4444444444444444,
              "#bd3786"
             ],
             [
              0.5555555555555556,
              "#d8576b"
             ],
             [
              0.6666666666666666,
              "#ed7953"
             ],
             [
              0.7777777777777778,
              "#fb9f3a"
             ],
             [
              0.8888888888888888,
              "#fdca26"
             ],
             [
              1,
              "#f0f921"
             ]
            ],
            "type": "surface"
           }
          ],
          "table": [
           {
            "cells": {
             "fill": {
              "color": "#EBF0F8"
             },
             "line": {
              "color": "white"
             }
            },
            "header": {
             "fill": {
              "color": "#C8D4E3"
             },
             "line": {
              "color": "white"
             }
            },
            "type": "table"
           }
          ]
         },
         "layout": {
          "annotationdefaults": {
           "arrowcolor": "#2a3f5f",
           "arrowhead": 0,
           "arrowwidth": 1
          },
          "autotypenumbers": "strict",
          "coloraxis": {
           "colorbar": {
            "outlinewidth": 0,
            "ticks": ""
           }
          },
          "colorscale": {
           "diverging": [
            [
             0,
             "#8e0152"
            ],
            [
             0.1,
             "#c51b7d"
            ],
            [
             0.2,
             "#de77ae"
            ],
            [
             0.3,
             "#f1b6da"
            ],
            [
             0.4,
             "#fde0ef"
            ],
            [
             0.5,
             "#f7f7f7"
            ],
            [
             0.6,
             "#e6f5d0"
            ],
            [
             0.7,
             "#b8e186"
            ],
            [
             0.8,
             "#7fbc41"
            ],
            [
             0.9,
             "#4d9221"
            ],
            [
             1,
             "#276419"
            ]
           ],
           "sequential": [
            [
             0,
             "#0d0887"
            ],
            [
             0.1111111111111111,
             "#46039f"
            ],
            [
             0.2222222222222222,
             "#7201a8"
            ],
            [
             0.3333333333333333,
             "#9c179e"
            ],
            [
             0.4444444444444444,
             "#bd3786"
            ],
            [
             0.5555555555555556,
             "#d8576b"
            ],
            [
             0.6666666666666666,
             "#ed7953"
            ],
            [
             0.7777777777777778,
             "#fb9f3a"
            ],
            [
             0.8888888888888888,
             "#fdca26"
            ],
            [
             1,
             "#f0f921"
            ]
           ],
           "sequentialminus": [
            [
             0,
             "#0d0887"
            ],
            [
             0.1111111111111111,
             "#46039f"
            ],
            [
             0.2222222222222222,
             "#7201a8"
            ],
            [
             0.3333333333333333,
             "#9c179e"
            ],
            [
             0.4444444444444444,
             "#bd3786"
            ],
            [
             0.5555555555555556,
             "#d8576b"
            ],
            [
             0.6666666666666666,
             "#ed7953"
            ],
            [
             0.7777777777777778,
             "#fb9f3a"
            ],
            [
             0.8888888888888888,
             "#fdca26"
            ],
            [
             1,
             "#f0f921"
            ]
           ]
          },
          "colorway": [
           "#636efa",
           "#EF553B",
           "#00cc96",
           "#ab63fa",
           "#FFA15A",
           "#19d3f3",
           "#FF6692",
           "#B6E880",
           "#FF97FF",
           "#FECB52"
          ],
          "font": {
           "color": "#2a3f5f"
          },
          "geo": {
           "bgcolor": "white",
           "lakecolor": "white",
           "landcolor": "#E5ECF6",
           "showlakes": true,
           "showland": true,
           "subunitcolor": "white"
          },
          "hoverlabel": {
           "align": "left"
          },
          "hovermode": "closest",
          "mapbox": {
           "style": "light"
          },
          "paper_bgcolor": "white",
          "plot_bgcolor": "#E5ECF6",
          "polar": {
           "angularaxis": {
            "gridcolor": "white",
            "linecolor": "white",
            "ticks": ""
           },
           "bgcolor": "#E5ECF6",
           "radialaxis": {
            "gridcolor": "white",
            "linecolor": "white",
            "ticks": ""
           }
          },
          "scene": {
           "xaxis": {
            "backgroundcolor": "#E5ECF6",
            "gridcolor": "white",
            "gridwidth": 2,
            "linecolor": "white",
            "showbackground": true,
            "ticks": "",
            "zerolinecolor": "white"
           },
           "yaxis": {
            "backgroundcolor": "#E5ECF6",
            "gridcolor": "white",
            "gridwidth": 2,
            "linecolor": "white",
            "showbackground": true,
            "ticks": "",
            "zerolinecolor": "white"
           },
           "zaxis": {
            "backgroundcolor": "#E5ECF6",
            "gridcolor": "white",
            "gridwidth": 2,
            "linecolor": "white",
            "showbackground": true,
            "ticks": "",
            "zerolinecolor": "white"
           }
          },
          "shapedefaults": {
           "line": {
            "color": "#2a3f5f"
           }
          },
          "ternary": {
           "aaxis": {
            "gridcolor": "white",
            "linecolor": "white",
            "ticks": ""
           },
           "baxis": {
            "gridcolor": "white",
            "linecolor": "white",
            "ticks": ""
           },
           "bgcolor": "#E5ECF6",
           "caxis": {
            "gridcolor": "white",
            "linecolor": "white",
            "ticks": ""
           }
          },
          "title": {
           "x": 0.05
          },
          "xaxis": {
           "automargin": true,
           "gridcolor": "white",
           "linecolor": "white",
           "ticks": "",
           "title": {
            "standoff": 15
           },
           "zerolinecolor": "white",
           "zerolinewidth": 2
          },
          "yaxis": {
           "automargin": true,
           "gridcolor": "white",
           "linecolor": "white",
           "ticks": "",
           "title": {
            "standoff": 15
           },
           "zerolinecolor": "white",
           "zerolinewidth": 2
          }
         }
        },
        "title": {
         "text": "Advection of Pollutant Concentration Over Time"
        },
        "xaxis": {
         "title": {
          "text": "Position along the River (m)"
         }
        },
        "yaxis": {
         "title": {
          "text": "Pollutant Concentration"
         }
        }
       }
      }
     },
     "metadata": {},
     "output_type": "display_data"
    }
   ],
   "source": [
    "\n",
    "# Visualization using Plotly\n",
    "fig = go.Figure()\n",
    "\n",
    "for idx, rho_snapshot in enumerate(rho_history):\n",
    "    fig.add_trace(go.Scatter(\n",
    "        x=x,\n",
    "        y=rho_snapshot,\n",
    "        mode='lines',\n",
    "        name=f't = {time_steps[idx]:.2f} s'\n",
    "    ))\n",
    "\n",
    "fig.update_layout(\n",
    "    title='Advection of Pollutant Concentration Over Time',\n",
    "    xaxis_title='Position along the River (m)',\n",
    "    yaxis_title='Pollutant Concentration',\n",
    "    legend_title='Time Steps',\n",
    "    autosize=True,\n",
    "    height=500\n",
    ")\n",
    "\n",
    "html_fig = fig.to_html(full_html=False, include_plotlyjs='cdn')\n",
    "HTML(html_fig)\n"
   ]
  },
  {
   "cell_type": "markdown",
   "metadata": {},
   "source": [
    "**More accurate result**\n",
    "\n",
    "nx = 1000 (Number of spatial points)\n",
    "\n",
    "nt = 1000 (Number of time steps)\n",
    "\n",
    "However, even for this result we can see that the shape of the original Gaussian is changed over time. \n",
    "\n",
    "**Let's review the general theory and understand why the shape should not be changed, and then we will revisit our numerical approach to decrease the numerical diffusion.**"
   ]
  },
  {
   "cell_type": "markdown",
   "metadata": {},
   "source": [
    "---\n",
    "\n",
    "### The shape of the function remains unchanged as it propagates\n",
    "\n",
    "Let's delve into how substituting a function of the form $ \\rho(x - ut) $ into the **advection equation** demonstrates that the shape of the function remains unchanged as it propagates. This is a fundamental property of solutions to the advection equation, often interpreted as **traveling wave solutions**.\n",
    "\n",
    "**1. The Advection Equation Recap**\n",
    "\n",
    "The **linear advection equation** with constant speed $ u $ in one spatial dimension is given by:\n",
    "\n",
    "$$\n",
    "\\frac{\\partial \\rho}{\\partial t} + u \\frac{\\partial \\rho}{\\partial x} = 0\n",
    "$$\n",
    "\n",
    "where:\n",
    "- $ \\rho = \\rho(x, t) $ is the transported quantity (e.g., concentration, temperature),\n",
    "- $ u $ is the constant advection (transport) speed,\n",
    "- $ x $ is the spatial coordinate,\n",
    "- $ t $ is time.\n",
    "\n",
    "**2. Proposing a Traveling Wave Solution**\n",
    "\n",
    "We propose a solution of the form:\n",
    "\n",
    "$$\n",
    "\\rho(x, t) = f(\\xi) \\quad \\text{where} \\quad \\xi = x - ut\n",
    "$$\n",
    "\n",
    "Here, $ f $ is an arbitrary differentiable function representing the shape of the wave, and $ \\xi $ is a **moving coordinate** that shifts with speed $ u $.\n",
    "\n",
    "**Interpretation:**\n",
    "- **$ f(\\xi) $:** Represents the wave's shape.\n",
    "- **$ \\xi = x - ut $:** As time $ t $ increases, $ \\xi $ adjusts so that the wave maintains its shape while moving in the positive $ x $-direction at speed $ u $.\n",
    "\n",
    "**3. Substituting $ \\rho(x, t) = f(x - ut) $ into the Advection Equation**\n",
    "\n",
    "Let's verify that this proposed solution satisfies the advection equation.\n",
    "\n",
    "**Step 1: Compute Partial Derivatives**\n",
    "\n",
    "1. **Partial derivative with respect to time $ t $:**\n",
    "\n",
    "$$\n",
    "\\frac{\\partial \\rho}{\\partial t} = \\frac{d f}{d \\xi} \\cdot \\frac{\\partial \\xi}{\\partial t} = f'(\\xi) \\cdot (-u) = -u f'(\\xi)\n",
    "$$\n",
    "\n",
    "2. **Partial derivative with respect to space $ x $:**\n",
    "\n",
    "$$\n",
    "\\frac{\\partial \\rho}{\\partial x} = \\frac{d f}{d \\xi} \\cdot \\frac{\\partial \\xi}{\\partial x} = f'(\\xi) \\cdot 1 = f'(\\xi)\n",
    "$$\n",
    "\n",
    "*Here, $ f'(\\xi) $ denotes the derivative of $ f $ with respect to its argument $ \\xi $.*\n",
    "\n",
    "**Step 2: Substitute into the Advection Equation**\n",
    "\n",
    "$$\n",
    "\\frac{\\partial \\rho}{\\partial t} + u \\frac{\\partial \\rho}{\\partial x} = -u f'(\\xi) + u f'(\\xi) = 0\n",
    "$$\n",
    "\n",
    "**Conclusion:**\n",
    "\n",
    "The left-hand side of the advection equation simplifies to zero, which satisfies the equation identically. Therefore, $ \\rho(x, t) = f(x - ut) $ is indeed a solution to the advection equation.\n",
    "\n",
    "**4. Implications of the Solution**\n",
    "\n",
    "**a. Shape Preservation**\n",
    "\n",
    "Since $ f(\\xi) $ remains unchanged as $ \\xi = x - ut $ varies, the **shape of the wave** $ f $ is preserved over time. The entire profile $ f $ simply translates along the $ x $-axis without distortion.\n",
    "\n",
    "**b. Wave Propagation**\n",
    "\n",
    "The solution represents a **traveling wave** moving in the positive $ x $-direction with speed $ u $. If $ u $ is negative, the wave travels in the negative $ x $-direction, and the solution can be written as $ \\rho(x, t) = f(x + |u|t) $.\n",
    "\n",
    "**c. Superposition Principle**\n",
    "\n",
    "Given the linearity of the advection equation, any linear combination of traveling wave solutions is also a solution. For example:\n",
    "\n",
    "$$\n",
    "\\rho(x, t) = f(x - ut) + g(x + ut)\n",
    "$$\n",
    "\n",
    "where $ f $ and $ g $ are arbitrary differentiable functions, represents waves traveling in opposite directions.\n",
    "\n",
    "**5. Visual Illustration**\n",
    "\n",
    "Imagine a **pulse** or **wave packet** described by $ f(\\xi) $:\n",
    "\n",
    "- **Initial Condition at $ t = 0 $:** $ \\rho(x, 0) = f(x) $\n",
    "- **At $ t = t_0 $:** $ \\rho(x, t_0) = f(x - ut_0) $\n",
    "\n",
    "This shows that the entire profile of $ f $ has shifted to the right by $ u t_0 $ units without any change in its shape or amplitude.\n",
    "\n",
    "**6. Generalizations and Extensions**\n",
    "\n",
    "While $ \\rho(x - ut) $ is a simple traveling wave solution, more complex solutions can involve superpositions, discontinuities (shock waves), or even multi-dimensional traveling waves, depending on the context and the nature of the function $ f $.\n",
    "\n",
    "**Nonlinear Advection:**\n",
    "In nonlinear advection equations, where the speed $ u $ may depend on $ \\rho $ itself (e.g., $ \\frac{\\partial \\rho}{\\partial t} + u(\\rho) \\frac{\\partial \\rho}{\\partial x} = 0 $), the solutions can exhibit more complex behaviors like wave steepening and shock formation.\n",
    "\n",
    "**7. Conclusion**\n",
    "\n",
    "By substituting a function of the form $ \\rho(x - ut) $ into the linear advection equation with constant speed $ u $, we demonstrate that:\n",
    "\n",
    "1. **The proposed function satisfies the equation identically.**\n",
    "2. **The shape of the function $ f $ is preserved over time.**\n",
    "3. **The solution represents a traveling wave moving at speed $ u $ without distortion.**\n",
    "\n",
    "This fundamental property makes the advection equation a powerful model for understanding transport phenomena where the shape of the moving quantity remains unchanged as it propagates through space.\n"
   ]
  },
  {
   "cell_type": "markdown",
   "metadata": {},
   "source": [
    "---\n",
    "\n",
    "### Understanding the Advection Example\n",
    "\n",
    "In the current example, we model how the concentration (or density) of a pollutant in a river evolves over time. The pollutant is transported by the river's flow at a constant velocity. This process is described by the **advection equation**, a simplified form of the continuity equation.\n",
    "\n",
    "---\n",
    "\n",
    "**Physical Scenario**\n",
    "\n",
    "- **Pollutant in a River**: Imagine a pollutant introduced into a river flowing at a constant velocity $u$.\n",
    "- **One-Dimensional Flow**: We model the river as a one-dimensional domain along the $x$-axis.\n",
    "- **Density Function**: The pollutant concentration is represented by $\\rho(x, t)$, which depends on position $x$ and time $t$.\n",
    "\n",
    "---\n",
    "\n",
    "**Key Assumptions**\n",
    "\n",
    "- **No Sources or Sinks**: There's no addition or removal of pollutant within the river.\n",
    "- **No Diffusion or Dispersion**: The pollutant does not spread out due to molecular diffusion or turbulent mixing.\n",
    "- **Constant Flow Velocity**: The river flows at a steady speed $u$, and this velocity does not change over time or position.\n",
    "\n",
    "---\n",
    "\n",
    "**Connection to the Differential Equation**\n",
    "\n",
    "**The Advection Equation**\n",
    "\n",
    "The continuity equation simplifies to the **advection equation** under the given assumptions:\n",
    "\n",
    "$$\n",
    "\\frac{\\partial \\rho}{\\partial t} + u \\frac{\\partial \\rho}{\\partial x} = 0\n",
    "$$\n",
    "\n",
    "- $\\frac{\\partial \\rho}{\\partial t}$: The rate of change of pollutant concentration at a fixed point in space.\n",
    "- $u \\frac{\\partial \\rho}{\\partial x}$: The rate at which pollutant concentration is transported by the flow.\n",
    "\n",
    "---\n",
    "\n",
    "**Physical Interpretation**\n",
    "\n",
    "- The advection equation states that the change in concentration at a point over time is due to the movement of concentration gradients by the flow.\n",
    "- If there is a higher concentration upstream ($x - \\Delta x$) compared to downstream ($x$), the pollutant will be carried to $x$, increasing the concentration there.\n",
    "\n",
    "---\n",
    "\n",
    "**Analytical Solution**\n",
    "\n",
    "**Method of Characteristics**\n",
    "\n",
    "The advection equation is a first-order linear partial differential equation that can be solved using the method of characteristics.\n",
    "\n",
    "**General Solution**:\n",
    "\n",
    "$$\n",
    "\\rho(x, t) = f(x - u t)\n",
    "$$\n",
    "\n",
    "- $f$: The initial concentration profile at time $t = 0$.\n",
    "- **Interpretation**: The initial profile moves to the right (downstream) without changing shape at a constant speed $u$.\n",
    "\n",
    "**Verification**\n",
    "\n",
    "To verify that $\\rho(x, t) = f(x - u t)$ is a solution:\n",
    "\n",
    "1. **Compute Time Derivative**:\n",
    "\n",
    "   $$\n",
    "   \\frac{\\partial \\rho}{\\partial t} = \\frac{d f}{d (x - u t)} \\cdot (-u) = -u f'(x - u t)\n",
    "   $$\n",
    "\n",
    "2. **Compute Spatial Derivative**:\n",
    "\n",
    "   $$\n",
    "   \\frac{\\partial \\rho}{\\partial x} = \\frac{d f}{d (x - u t)} \\cdot 1 = f'(x - u t)\n",
    "   $$\n",
    "\n",
    "3. **Substitute into the Advection Equation**:\n",
    "\n",
    "   $$\n",
    "   \\frac{\\partial \\rho}{\\partial t} + u \\frac{\\partial \\rho}{\\partial x} = (-u f') + u (f') = 0\n",
    "   $$\n",
    "\n",
    "- **Conclusion**: The expression satisfies the advection equation.\n",
    "\n",
    "---\n",
    "\n",
    "**Understanding the Graph**\n",
    "\n",
    "**Movement of the Density Profile**\n",
    "\n",
    "- **Initial Profile**: At $t = 0$, the concentration is a Gaussian centered at $x = x_0$.\n",
    "- **Evolution Over Time**: As time progresses, the entire Gaussian profile shifts to the right without changing shape.\n",
    "- **Constant Speed**: The profile moves at speed $u$, consistent with the solution $\\rho(x, t) = f(x - u t)$.\n",
    "\n",
    "---\n",
    "\n",
    "**Connection to the Differential Equation**\n",
    "\n",
    "- **Advection-Driven Transport**: The advection equation predicts that the concentration at a point $x$ at time $t$ is the same as the initial concentration at $x - u t$.\n",
    "- **Shape Preservation**: Since there are no terms in the equation accounting for diffusion, the shape remains unchanged.\n",
    "- **Mass Conservation**: The area under the concentration curve remains constant, indicating that the total amount of pollutant is conserved.\n",
    "\n",
    "---\n",
    "\n",
    "**Numerical Simulation**\n",
    "\n",
    "**Finite Difference Method**\n",
    "\n",
    "- **Discretization**: Space and time are discretized into small intervals ($\\Delta x$ and $\\Delta t$).\n",
    "- **Upwind Scheme**: An explicit method suitable for solving hyperbolic PDEs like the advection equation.\n",
    "\n",
    "**Update Formula**:\n",
    "\n",
    "$$\n",
    "\\rho_i^{n+1} = \\rho_i^n - \\frac{u \\Delta t}{\\Delta x} (\\rho_i^n - \\rho_{i-1}^n)\n",
    "$$\n",
    "\n",
    "- $\\rho_i^n$: Concentration at position $x_i$ and time $t_n$.\n",
    "- **Courant Number (CFL)**:\n",
    "\n",
    "  $$\n",
    "  \\text{CFL} = \\frac{u \\Delta t}{\\Delta x}\n",
    "  $$\n",
    "\n",
    "  - Must satisfy $\\text{CFL} \\leq 1$ for numerical stability.\n",
    "\n",
    "- https://en.wikipedia.org/wiki/Upwind_scheme\n",
    "---\n",
    "\n",
    "**How It Solves the Advection Equation**\n",
    "\n",
    "- **Approximation of Derivatives**:\n",
    "\n",
    "  - **Temporal Derivative**:\n",
    "\n",
    "    $$\n",
    "    \\frac{\\partial \\rho}{\\partial t} \\approx \\frac{\\rho_i^{n+1} - \\rho_i^n}{\\Delta t}\n",
    "    $$\n",
    "\n",
    "  - **Spatial Derivative**:\n",
    "\n",
    "    $$\n",
    "    \\frac{\\partial \\rho}{\\partial x} \\approx \\frac{\\rho_i^n - \\rho_{i-1}^n}{\\Delta x}\n",
    "    $$\n",
    "\n",
    "- **Substituting into the Advection Equation**:\n",
    "\n",
    "  $$\n",
    "  \\frac{\\rho_i^{n+1} - \\rho_i^n}{\\Delta t} + u \\frac{\\rho_i^n - \\rho_{i-1}^n}{\\Delta x} = 0\n",
    "  $$\n",
    "\n",
    "- **Rearranging**:\n",
    "\n",
    "  $$\n",
    "  \\rho_i^{n+1} = \\rho_i^n - \\text{CFL} (\\rho_i^n - \\rho_{i-1}^n)\n",
    "  $$\n",
    "\n",
    "- **Interpretation**:\n",
    "\n",
    "  - The new concentration at $x_i$ depends on its current value and the difference between its value and that at the upstream point $x_{i-1}$.\n",
    "  - This captures the upstream influence, consistent with the direction of advection.\n",
    "\n",
    "---\n",
    "\n",
    "**Visualization**\n",
    "\n",
    "- **Profiles Over Time**: The simulation records the concentration profile at various time steps.\n",
    "- **Graph Movement**: The plotted profiles show the initial Gaussian shifting to the right over time.\n",
    "- **Consistency with Theory**: The numerical results align with the analytical solution of the advection equation.\n",
    "\n",
    "---\n",
    "\n",
    "**Connecting Differential Equation and Graph**\n",
    "\n",
    "**Role of the Differential Equation**\n",
    "\n",
    "- **Predicts Behavior**: The advection equation dictates how the concentration changes in both space and time.\n",
    "- **Shape and Movement**: It predicts that the shape of the concentration profile remains constant while moving at speed $u$.\n",
    "\n",
    "---\n",
    "\n",
    "**Numerical Simulation as an Approximation**\n",
    "\n",
    "- **Discretization Errors**: While the finite difference method approximates derivatives, small errors can accumulate.\n",
    "- **CFL Condition**: Ensures stability and accuracy of the simulation.\n",
    "- **Visualization of Solutions**: The simulation provides a visual representation of the mathematical solution.\n",
    "\n",
    "---\n"
   ]
  },
  {
   "cell_type": "markdown",
   "metadata": {},
   "source": [
    "### Solutions to Mitigate Numerical Diffusion\n",
    "\n",
    "To better preserve the Gaussian shape in the simulation, consider the following approaches:\n",
    "\n",
    "1. **Higher-Order Numerical Schemes**\n",
    "   - **Lax-Wendroff Method**: A second-order accurate scheme that reduces numerical diffusion.\n",
    "   - **MacCormack Method**: Another second-order method suitable for hyperbolic PDEs like the advection equation.\n",
    "   - **Essentially Non-Oscillatory (ENO) Schemes**: High-order schemes that handle sharp gradients without introducing significant diffusion.\n",
    "   \n",
    "2. **Refining Discretization Parameters**\n",
    "   - Increase Spatial Resolution ($nx$): Finer spatial grids can capture gradients more accurately.\n",
    "   - Decrease Time Step ($nt$): Smaller time steps reduce the Courant–Friedrichs–Lewy (CFL) number, potentially enhancing stability and accuracy.\n",
    "\n",
    "3. **Implementing Anti-Diffusion Techniques**\n",
    "   - **Flux Limiters**: Modify the numerical flux to prevent excessive diffusion.\n",
    "   - **Total Variation Diminishing (TVD) Schemes**: Ensure that the total variation of the solution does not increase, preserving sharp fronts.\n"
   ]
  },
  {
   "cell_type": "markdown",
   "metadata": {},
   "source": [
    "### Implementing a Higher-Order Scheme: Lax-Wendroff Method\n",
    "\n",
    "To address the numerical diffusion observed with the Upwind scheme, let's implement the Lax-Wendroff Method, which is second-order accurate in both space and time. This method provides a better approximation of the advection equation and preserves the shape of the Gaussian profile more effectively.\n",
    "\n",
    "**Lax-Wendroff Scheme Overview**\n",
    "\n",
    "The Lax-Wendroff scheme updates the density $\\rho$ using both first and second spatial derivatives, effectively capturing the wave propagation with reduced numerical diffusion.\n",
    "\n",
    "**Update Formula**:\n",
    "\n",
    "$$\n",
    "\\rho_i^{n+1} = \\rho_i^n - \\frac{u \\Delta t}{2 \\Delta x} (\\rho_{i+1}^n - \\rho_{i-1}^n) + \\frac{u^2 \\Delta t^2}{2 \\Delta x^2} (\\rho_{i+1}^n - 2 \\rho_i^n + \\rho_{i-1}^n)\n",
    "$$\n",
    "\n",
    "\n"
   ]
  },
  {
   "cell_type": "code",
   "execution_count": 10,
   "metadata": {},
   "outputs": [],
   "source": [
    "# Parameters\n",
    "L = 10.0          # Length of the river (meters)\n",
    "T = 5.0           # Total simulation time (seconds)\n",
    "nx = 1000          # Number of spatial points\n",
    "nt = 1000          # Number of time steps\n",
    "u = 1.0           # Flow velocity (m/s)\n",
    "\n",
    "# Spatial and temporal discretization\n",
    "dx = L / (nx - 1)\n",
    "dt = T / (nt - 1)\n",
    "x = np.linspace(0, L, nx)\n",
    "t = np.linspace(0, T, nt)\n",
    "\n",
    "# CFL condition for stability\n",
    "CFL = u * dt / dx\n",
    "if CFL > 1:\n",
    "    print(\"Warning: CFL condition not met. The simulation may be unstable.\")\n",
    "\n",
    "rho = initial_density(x)\n",
    "\n",
    "# Store density profiles at selected time steps for visualization\n",
    "rho_history = [rho.copy()]\n",
    "\n",
    "time_steps = [0]\n",
    "\n",
    "# Lax-Wendroff Scheme\n",
    "for n in range(1, nt):\n",
    "    rho_new = rho.copy()\n",
    "    for i in range(1, nx-1):\n",
    "        rho_new[i] = (rho[i] - \n",
    "                      0.5 * CFL * (rho[i+1] - rho[i-1]) + \n",
    "                      0.5 * CFL**2 * (rho[i+1] - 2*rho[i] + rho[i-1]))\n",
    "    # Boundary conditions (Periodic)\n",
    "    rho_new[0] = rho_new[-2]\n",
    "    rho_new[-1] = rho_new[0]\n",
    "    \n",
    "    rho = rho_new.copy()\n",
    "    \n",
    "    # Store data every 100 time steps\n",
    "    if n % 100 == 0:\n",
    "        rho_history.append(rho.copy())\n",
    "        time_steps.append(t[n])"
   ]
  },
  {
   "cell_type": "code",
   "execution_count": null,
   "metadata": {},
   "outputs": [
    {
     "data": {
      "application/vnd.plotly.v1+json": {
       "config": {
        "plotlyServerURL": "https://plot.ly"
       },
       "data": [
        {
         "mode": "lines",
         "name": "t = 0.00 s",
         "type": "scatter",
         "x": {
          "bdata": "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",
          "dtype": "f8"
         },
         "y": {
          "bdata": "SvDB00Z5TDrsVbzf+nVXOlKdrji0SmM65Jxc+eipbzo0elRcz+55Ok2Mj2pbMoU6Ot0CynRKkTorcAO9JiecOmCjMniX36Y6197RS/eLsjreDXDDSwS+OuIm6NHVPcg62rx9DsyJ0zop4o6VlW7fOtL2FcJ3O+k6oLIXvgM39Dr07+odrCkAO80MYd9Jywk7f95T/YaKFDtGpN9MPlMgOzHdWmWn5Sk7lJG5weB/NDsyXj24xzFAO3lEuoAmiUk766DjOKMXVDuYt3plJo5fO7hT7nG4umg7P8M8zFpXczvwChmVjjF+OzhqOo05hYc7pnww3hBJkjuOpI6/zl+cO30UjuR++KU7a6FloG36sDu6UC0OHDC6O+dcIgD/J8Q7iN+ueyf3zjvgy1OI8LzXO5SkKxU+KeI7/o6Ipa+76zuTmuI9+yH1O9kn9h4rEgA8LFxiwu9kCDybfUvuInoSPIRImGgz7xs8lLJoKugSJTy9IkHwmbsvPOaj5T361zc879abKkbhQTyNpC20GsNKPAjRgnn7/FM8YZE5AUnMXTwJvPUiqCpmPK1JnWLodHA8VyQRh91ieDwVDzYKNgiCPNrx26kinYo8vXUcJr2ZkzyE9YwhItCcPEGR8GylIqU8jTkqleXxrjxYfd8OvZu2PKysTYgOfMA8/z5Er679xzw7N7vON2zRPJJyadA8Qdk837bf6WhE4jzZKvojgF/qPAhLt0Hv//I8qQCt3SVS+zxf/EOelpoDPZ7twPuqEww94a3zMNEQFD1sBoJ/kZ8cPcCt9k/aXyQ95gwYyYzyLD3gzOQJ0oU0PQ6GN7OiCj09ACErEtCBRD0gJteeP+dMPRFHj/vsU1Q9j8ohUzyJXD1XgLs9Qf1jPXYxE17V8ms9PNq/E9p/cz1P+VdwlCd7PRxSb9Gk3oI9wpx49Cwsij2UTELSUR2SPca9HdBNBpk99jewlDBAoT0IJGHKarynPaB5QekGTLA9xOSdcoBVtj2BgJ6fyou+PaOBrpLV2MQ9l8E4WvVlzD2s/KM0vU3TPYreOd/SMNo9Ya9TEVy74T1KOwkOQPbnPT8ZxuBzKPA96uXwiGy/9T3t7B4RbTb9PdlvRLChlAM+RU+XIkUyCj4WxfJoF30RPgpMK1/TTRc+zCLCwK79Hj7mkNciw5AkPqWJvFRdPSs+NNjgIv0AMj5at1ywWcA3PoHFhtldRT8+xQMQF16LRD6JI2oSxPBKPrLCaCnqoFE+70Gvkz8GVz5001KL+QJePnmmzAE9hWM+FV5FwLFXaT6bt+Kq6WpwPmsU23WhOnU+pS1NNkBlez6t8dN1JqSBPjQghOKprIY+xKF9hd4VjT71v6NI/p2SPj5ag3USyZc+uWy5vd9Tnj4R6gmWwUujPph9Aps+gag+jEz6UcIOrz4MJyMQV6SzPsBUHzZ3y7g+6d0NYJs8vz5BXqW2BaPDPvs+g/zDo8g+MaDV6PXazj7AXIig30fTPnmIfYVFDNg+rLHcqArv3T6kYpxgwJfiPn3QUfEEDec+prW8qkmF7D5YH+w335vxPjIv2iE/s/U+ib1tLUSw+j5RNiKUAmEAPxTPlKBBEAQ/VhworBiHCD9LmPsJ2+wNPw81Zfz7NxI/Si+syJAjFj/wvXJmTtkaP+0ZdsdvPyA/M5ENliegIz8tXv34fagnP1ZfhBlVdiw/UtZupi0WMT8gA+AeW3k0P9C7wp7gezg/2KA9CXA4PT/AKRnj2WZBP1+c4kRnr0Q/CbAjkvOJSD//sZpoYA1NP1xiZxjYKVE/Z4pSny89VD+hbnvDYdFXPwtz7m05+Vs/LjtZ4etkYD+0rAe7di1jP8IJkHl7Y2Y/Gu6+g70Vaj+GR4TYpVRuPw0peCQymXE/yRrsnIhhdD97K6XJZ453P5GjZDr3K3s/V7e5GoVHfz+5jsAJy/eBPyFXiSD6mYQ/pQmedN6Shz/PZh9KtuuKP9i1RJJ0ro4/ZBWBYOJykT8dxfCZhs6TPwv+ffc3cJY/TiuauWRemT9x4+W31p+cP0wHVETYHaA/4sY0rLQcoj/j2hyqY1CkPwyfZ0XsvKY/htOLFXVmqT9fbe8EP1GsP2bCCC6fga8/LLHu5ft9sT9vkdAcWGKzPwDKJQAWcLU/i641emCptz9wzyM1VhC6P9xGO8UDp7w/ulG1al1vvz8HvkE6nDXBP1q6/ycizsI/nIziqQGCxD8c5S2r4VHGP0l+0xFLPsg/wWMn86RHyj+iaTHOMG7MPxWLK9gGss4/6y1FNImJ0D9YOklJh8jRP1Wxen3BFdM/6hcafOBw1D8v4UeGcNnVP028DWTgTtc/QnuIkIDQ2D/hP+Wngl3aP1EVZR359Ns/ft73PteV3T/LSTuL8T7fP7zh4i5/d+A/ZzRRektS4T9JY2JoHC/iP/K4ArkjDeM/aNz3Nofr4z8E56jvYcnkP9nGkJXFpeU/jSrzCrx/5j/kZb0RSVbnPxhB0xxsKOg/ls9mPiL16D+iiGUuaLvpP1kdf2M8euo/7+nWOKEw6z+pHxIan93rP3hHLa9GgOw/LoNVAbMX7T+RiO6RC6PtP3zC9lyGIe4/odIfwGmS7j+czTJADvXuPzxatCbgSO8/Uis08mCN7z/MWEOUKMLvP5mks3jm5u8/Ovl7UmL77z+qPWmrfP/vPwFsmjQv8+8/c9un1ozW7z9Y3juBwanvP3YPyroRbe8/acb28dkg7z9rEx2TjcXuP6doM+W1W+4/rQoSsvDj7T9VJc++7l7tP7X9fxlyzew/GKgyQkww7D8S5101XIjrPx3tU16M1uo/hrt3eNAb6j/1cQtmI1npP7BLaAOFj+g/tAtQ/fe/5z/8g8ywf+vmP2V+vhoeE+Y/Q8zT3NE35T9YNx9dlFrkP+da/wRYfOM/qSdmowae4j+KQe31f8DhP/TVdluY5OA/MVFqshcL4D8udtfHcGneP0c7fTlNxNw/YC+6Z/8n2z8enVd8o5XZPy9mPJw2Dtg/Bxosu5aS1j/bU56/giPVP0Bne/GawdM/ugTYrWFt0j8WkThZPCfRP6mV7RLp3s8/qmoxwHKMzT8uQnsbQlfLP9T8d+5UP8k//8k86n1Exz/9wrpMaGbFP9mo9p6bpMM/z8UJf3/+wT8pyM9pX3PAP9/fQ/LcBL4/dbQmGZZVuz8p2ounBNe4P84DOmUnh7Y/8LuI8edjtD9qeWPOIGuyPzgv4P6imrA/b/aFZnbgrT/XaMv8bNOqPxBP5STNCag/7oZhCUt/pT8TDYIzsi+jP+FDPTrrFqE/0Y/OHwFinj/+/orxRPSaP6ieEm1U3Zc/MqsX7DgWlT/vhU4bVpiSPwoecTZsXZA/SBjSRDK/jD9OiVMJsTKJP0t89OwFC4Y/3Dhs5Jg+gz+JSvQuhMSAPz4HOocdKX0/KWsKr0tOeT8zqINaq+p1P5SKyrOD8XI/M6AgUDpXcD9W/3n1hCJsPwftpYkYLGg/NNVtJue5ZD9Mg5y0XrxhP/AlO8YES14/4Txfg5XRWT/vIsQNDvZVP64+Dlp/pFI/FlWrG2qWTz+XOJiNAbVKP+PAGDkRiUY/Oivs1TH6Qj8ZwgSY5eU/P7iu6bMVwTo/HLbuJx5lNj8mJjYMYLUyPzFMVuTyMS8/9lKlP630KT+MmPG5m40lPzxjO1SK3CE/UEmD0oSLHT9lJBxq82IYPxRkO0eiFhQ/itlnLMSDED+pjIRoYxkLP7ZaGmdsMAY/2o7EguQhAj/8MRTpRpP9Ph4NGd5MEvg+hNI1aHyN8z7vyqtqY7PvPpB8vWSQpek+ZtgjwhS15D5AYNlkj6/gPsPWxLIu1to+VU2ugciJ1T7wn5iOUkDRPpy+s65vlMs+AtMZjoIAxj64lrdmYITBPqbftVND1rs+7xXroPIStj4wzM22FnixPlZ1W2sjmKs+pOvkqxvApT68ZWQnHhyhPvqhU5Rj3Zo+Ve0gU2oMlT5ls7VEW3WQPkG0LbXlr4k+IMj6s1ABhD5SqJYxABl/PsocGS88H3g+i3Zn0HOscj5S4WnLl9psPidjteBUP2Y+FdThI4QeYT5JxlI3IEtaPu3PsozVJlQ+bfaAQcjTTj5OT8lWL4hHPsNHa5BZ7UE+OBTIrIZCOz5X9eMSH680Pp5i7WiCUy8+MnBi86asJz6NJTM8GdshPv+II2F54Ro+uwXEO2wxFD7iDjrOFEcOPsZjenVjpwY+r5HRCHDqAD4wi//zLTb5PdXlJLMYwPI9JjmHgo3V6z2rZDBGNp7kPSQdJ4f0e949owEznpx91j3oH2CSWo/QPSZIIuhoVsg9Y1MIiSDZwT1gJCpNNCC6Pdj+5UU8FbM9PYOadVDSqz3WJhHhgj2kPSAg27ALZJ09IC5GmeBLlT2L65Pz+cyOPRtOTEyNOoY9x99Msp8CgD0q1rfKQAR3PY4U2nPsgnA9SyXydWSkZz1foZqBb+RgPd9ghp8/F1g90+Ro098kUT3MYytTHFpIPd5xYN+1QkE9WQDij2JrOD1IgVkMOz0xPYdLcXKoSig9J3t585AUIT0fIUxstvgXPTgWxwmwyRA9k5zqSn93Bz322srEXV4APeCl54AMyvY8qZEHjDWq7zz0mmbHX/TlPHAOkg8UYt48pHrDv0v71Dy1+LzGpOvMPFsFaLFF5MM87BywGvhOuzyqKmjOMrWyPFk/bp2XlKk8HIjvjjN0oTztSzKZO8WXPDjCnq5vJ5A8Qi21PIPphTzLEjBUyql9PIDRA4uyCXQ84AvxlngEazyYK4WweC1iPIhpBNREaVg87tT0ucBbUDyD4voJWeFFPMWxIuYbNT08zGZ5u4R0MzzsOQ/vyN0pPOaRuWQkKSE8TYi1nHu5FjxtQRoMMwgOPOJLxpMRzgM8yOSylKMR+jthGjHKZh/xO7nEFWK2cuY7+Nvw3vNe3Tt0SXdsBS3TO4du34E7/cg7MCO5dfU/wDu09wi2Zhe1OzVQC5sZUqs7V79WWtOooTvOFAKGnciWO19ZcQb6VY07AwPwES7Zgjt57vX+9yt4OwDP8zjE7247o+JIh/jBYzvaGxuZoC9ZO2C1DdlQBVA7uVxJDDlXRDvqjBMvGcY5O4obV4DfSzA7GCatgQ6RJDuq5y1LZOcZO0w+NajKRxA7S3ZTw2BsBDun5YUauZH5OmRMDq+U8u866rHF3ybr4zoeTLf9q8nYOhlL9hcayc46sa1vcToUwzrfAsyzxpm3OpYkZYGyIq06Ox+Nnb3yoTppebbrnBGWOgR4giDCFIs6oyRqiyaVgDoerCzUeUR0OhYWdW65uGg6AgLiCBsYXjp4PwidzkdSOjkisGgNKkY6y7Zbr8HROjryuqcyjzEwOn/1AoIshCM6qc1GxER5FzrrXVyfUi0MOgquIaKl4AA6BkZE9Jwt9DlrwxP0dRPoOYUf20tXq9w5TOVK7wcJ0TkHHBJjRDTEOa+xaLgg6rc5s5biEus/rDm4XC9H5KagOaj4E42Bl5M5jq6mSi4BhznlD5ODM/V6OcIWP9rwhm85COr4rAZmYjm9DHsgVW5VOcUkRrzL6Ug5LwUWqkTnPDnLYunGk7swORunEnPCVSM5JEYomRhMFjlGSiC9b6kJOUKfUGSdef04AIBkhr/k8DirpdyMglPjODo2pDSeENY4Do0gISskyThtLEAh15a8OPsRk3zzOLA4cFU2Z5tfojg4A9+CnMSUOAuI4q95bYc49sK8Ef1fejhpvVSSNKJtOIgr3J02nWA4rdsJqZaXUjj0BdKMlsNEOPoNexunJDc4iGZ3zUi+KTihO/T3BZQcOB5dzkBsqQ84FAenpwKBAThKCO1dp1DzN27x86FYReU3oWhhpbtg1ze+NqZZYaTJNzdeRRHBEbw36ipT3zKqrjdaCnXgdLegN3PLHs92MJI3sYdomYrAgzfUPRD3/2d1N7bn1+8HJ2c30FZ44bH9WDfiaVmg6OtKN9FKa75v8Tw3zinYA+ENLzdMkbsSVaAgN2WrdWKFxBE3NSYVYwnzAjenuN+CUCv0NlwTQz2xbOU2M6df5mi21jaia621mwfINjRghRNVX7k21vSeLIi8qjbw0LzNEB6cNo0Q24i0go02+BQ1JCTpfjaIITep/idwNomRCVnm2mA2DFHGCIiMUTaV7MB5HDxCNp+2RafX6DI2QcEFQeqRIzYn2H08gzYUNjFlSnnR1QQ2dN7vcwVv9TUt+EMCUwHmNUKIWRTzi9Y1YayZdCUOxzWRDZKBMoe3NZf68tts9qc1tr1BAzNbmDUf2+Pb8LSINbk+XxkhA3k1Otb4h05FaTUoxj0xFXtZNUD0eVcjpEk1mfymRDrAOTUlsPbpLs8pNTQ9wU3q0Bk1qF9OxmnFCTVRJKcAv6z5NJzRV9MPh+k0dvbD3ZVU2TQmMWb1nRXJNLOMBmOHyrg0zUua8sJzqDRGwBvZ0RGYNKZXNXREpYc0w5oW6LgudzTluzGg2a5mNCuZ87dbJlY0oC/FUP2VRTS/6Mvag/40NO6s7VW6YCQ08HWWkG+9EzRB+Z9pdBUDNEnJiRqaafIzSPTqjrC64TNh5K7NhAnRM2a7SHjfVsAzJhwpxwZHrzNLID+bWOCdM2V+E2Ybe4wzUuVPjKMYezNRsv0SMbppM4H+QR3uYFgzs0/cs+0NRzNySFbWKsI1M8l/0tSHfiQzSxt68M1DEzPhJa8/rRICMwF8Z9K86/AyGoDXJPae3zIziFC1nHzNMo2HmIALcbsyC5E8ELR8qTKfpWWE3Z+XMnH+Jgyn2oUyAWW/kgotdDLw9QSW35ZiMoHCgxreF1Eyj9OfZENfPzI48EsYWbssMux+VgLVQhoyIl7cMGj0BzIgTE3wos71MZbrRXv6z+MxYV2Ea8720TGirKXhbUHAMYIch7Y4XK0x+HDOYSx2mjEZ8CBuKc2HMbT7gv6jXXUxwlkmbxgkYzHH/Y1RER1RMbLsX1BZij4x1B3HzEAyKzE5SMp2fCsYMacwyWHtbwUxxUbgTbf58jD3tztwRMPgMFbzekaQjs0wAFOqLYEBujBywesz79WmMIFXZSwFA5QwtC+HrIOAgTBdQl6+fI1uMKjHwZgwnVowrtqLg/4iRzDaSQILzRI0MAh55POBYSEwJtaGV+sJDjBdpzNFzOf5L9u67I7SS+YvHQbotr4m0y9Fvo+PymrAL3vwv3UcF6wvuCB6fMv7ly+waJvBrm+ELwIiBQD2YHEvbDm68Yl/XS+Sh7lhDfxIL/YMgmmGHjUvHBlX9e/QIS8ZRk+py/8NL+oHiy7ANPkugMicSuci5S6wSojiL7DRLiktzGDGi70u0j6T6oagqC5S8gRJZ3yULnoEeQzPAYEu35cbJW8ubC5xKVTiVU1XLqyJqiGhOkMu2VVHhRmsLy7xBtFnFggaLlJqMwJIWgUu2QIG9cp68S0V6pt2no/cLeL9Mwh6ScctAKQSrurysi1accILrsaeLT7shEpS8YgtlcK0/qgsdC2xK1BU/EhgLXgkp1sNPUotwLLb6WgYNS0d9IQXKO0gLZLU6GK3Gwstqpy/Sfyp9SyWYbY7SkfhLPFc7Uqbgcss9XSUn67ZtSzZ1xMNl1KhLO9Vj9FHaYssJ1vVCvKkdSze0iBxcw5hLHqE2NMK1EosDlV0TJkONSzr9cmtgn4gLB8JpabTyQkstsE3rJce9Ct8VVoUqFTfKyQVUCaAWMgrfTDuqU7hsiuFaMTZdDmdK6ZCUW2qkoYrzlzsN39mcSvA3/a1xMVaK0UxQPcbjkQrUd2XWf1/Lytt83elgxYYK96aFycUYgIrCdc9UKoA7CpweXvrAEnVKi1Yvo2SJcAqGlPQb9ZyqCqNmEsx6niSKlYqOfOh23sqZNLNAs/2ZCrd5f6JQn1PKu5vIPYemjcqaOETdKinISqa+S8tGVwKKgW6kk6Oo/MpEW8saWQ03Sl3zH/W4KvFKbgKq7yTDLAp+v6lMCy5lyluy/1Bmn+BKReyouwfw2kpPK8JgiPtUilYcTEvwcA7KQFOPZ2pTiQpaW7udKioDSnWvvdXcp31KLlv7NlIcd8oyZCoKMTSxijQ9UANn4iwKDqWHuAe6JcomLNW9c4/gSheLqJddddoKN7OdWwk2lEoQXT7iWWbOSiVHv1gG1QiKAP8MMlrLwooJbK2dd2q8iff2ao1D5DaJ7i5gRZe3MInPWnrRwS7qid90G0Qb+eSJ6+G+wdEr3ongQBMjMzLYideFkeBFm1KJ5f9+8EfijInoxJn5A/2GSdzegk++CMCJ0u0qH8ATekmx004Gbyb0SaTuYpx2HW4Jr8N2gCQ9KAmLRCxooB1hyaZ4EBeODJwJoHjHyOrUVYm67iBh+qxPiYFynpvnRAlJvL6rwG22gwm8cRFYPe48yWhuim0UujaJZcYD5R5UcIl2AA0t0bkqCVPfQEHzuCQJX0zRDHT13YlRao7hqraXiVsRN3WsMtEJRACPFf0+SslTjUn69bHEiWxR3jKGyr5JMiXn39O0+AkL+HRnVl0xiTcEubIJeitJAQQXdtZ4JMk4OLI4/5deiTm7VJKK3RhJEPt4jWUD0ckvnfscoBoLiQyRss5EwIUJClBmzv9Rvojpba1TIs44SP4kz3huYbGI2rbWvk7aK0jhdnMwBEokyM51+4pduh4I1eDu5EpKWAjnGIXPcjtRCMwIgfjowwrIxPTvojmcREjvd9AI9h09iKIdprmh9ncIn3PopCXfsIiurGmUDGqpyKEIhOgTDiOIprKAdu6QXMi5N8v5RJ+WCKlYITK4BY/Iu/rn7ApsSMiQChCPF/lCCJDQVr4gWnvIfhCdF74xtMhzB7yPZPauCHVmDYUxCufIa49TKL7gYMh6koIH0NeaCEDQL7B9WBOIVeVfT7j5TIhoFGLNg13FyHNbWk71RP9IFd4v2vm+uEggFqAiQQxxiDjk9X0nlWrINVwvnQMzZAgsVa7ZaWcdCD/54h8kzxZIHDz0nhP1j4goZzMO3TNIiDlJWSxIeIGICU1seNDy+sfbQ65y2/Y0B9+7HIb62C0H7GrDyp4mpgfqD32BAWlfR+uDOsW2dJhHwVbTrLHY0UfmMqtFTeeKR/hApDR5Z4OH8CjGNZ0Q/IegZsiIR++1R7/9ajLMNW5HgwHl5t/oZ4eWTcEnKofgh7D3swCamdlHvLnIPAxOkkeDFvqW5OsLR4+MaA93WoRHlZLdF3YZ/Qd2zW0J9Hb1x1lTiqJE9e7HUIg0JLjNaAd0ISvOQvXgh3Cv9hfK9plHUqM+V6YS0kdAfWZmOQ4LR1/VoRLetgQHdUy0lcJYvMcUh4A6QBC1hwehsaSB4K5HJEz3gaRLJ0ctbDLiHKmgBx4z+qpkvdiHDslprwokEUcbEIv0yR3KBx4xh1r57MLHAf67G9ATu8bbN/edTan0RvQ2KKgid6zG7KwRuWeUZYbVT/H3CkFeRuIWPwMCP5bGwV4N2s7QT8bOIDe6fFpIRsfpNC1m10DG5eIufI8fuUa+Xc6UnnOxxonPfne8FCqGoVEPO45CI0aXhashtr2bxpSHnahoI9RGj6fsNzeQTMa5eWdOjwTFRoz7tpHtQT3GZB3pX0qF9kZeN3FyltLuxldN3gL5KGdGalLqz6aDYAZdD6+HshbYRm4vBjwg7tCGf/sKZm6LCQZK5W7mjuvBRmNYhU0t0LnGAFHD7a85sgYqAvrDbmaqhiZRaWQ9V2MGEWZHQ+XL24Y85p+nU4HUBi8zs8x8fwwGEa4usgN+BEYWBayguz38hcbdUWQw/vTFz+1ytu3ArUXeyK06d0Llhf1KrzvOhZ3F7caSCLGIFgXqleUNmoqORc0YGkXBzIaF7IdRclzNvsWkYgTeoA23BY1vsi3+DC9FrnJcMilJJ4WI+2aHVEQfxZpv2rcxvJfFjZEijlsZUAWfokPmq/LIBbhR7t3nysBFlEAlkC0hOEVpuDWJm7WwRWnmatRViCiFSRJtfz/YYIV+MluggmbYhXmN+xNHctCFcvbrrDy8SIV8QWimU4PAxW1eLwqBCPjFHQUNCv1LMMUDhStVBItoxQgC1F6WyODFOu0QYnfD2MUkwRmYrzyQhQkJRqOHswiFPUr08pAnAIUci9KeGtj4hOlQz7h8yHCE41rT2Y72KETtlnbjK6GgRNQTR/1wy1hE65cLTv7zUAT88F/xttnIBNZBEAY5/f/EktS5I6rFd8SSl18WzMqvhITrRNBsjadEgtXfMVePHwSRerYqG88WxI9vqJxGTg6Emqw5ROMMBkSFkDPufAm+BHUGAGzZxzXEQx6WY8GErYRNR4badYIlRGlB45h0gF0Ee3pXlLm/VIRanAvte39MRGcv/rBsgIREcW3KcTtDPAQGErrSok6zhAefBFalWisEAafV+EApYoQEXWF6qfwaBD48bz2QUxHEBGZiehiuCUQiJj3Nnw1BBBo6FRh3sPiDyTM7Zq6Y8EPtfDspSQVoA9Y4AepKbB9D3GMQU/UWFsPTlNpBdkjOQ9TkNrYnRAXDw4KbaljHvUOEmTKsUpM0w6SWgz/VpmxDtjk6ct0BJAOimo2avkYbQ7wLw58b2BKDqEgdjzG3CcOhMQzo2eLBQ5hHhvNs2njDf4/uA0HdcEN9/z4435Vnw0v5PxjgxB8DYuZ9CP7FVkNO7FOaeNgNg0=",
          "dtype": "f8"
         }
        },
        {
         "mode": "lines",
         "name": "t = 0.50 s",
         "type": "scatter",
         "x": {
          "bdata": "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",
          "dtype": "f8"
         },
         "y": {
          "bdata": "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",
          "dtype": "f8"
         }
        },
        {
         "mode": "lines",
         "name": "t = 1.00 s",
         "type": "scatter",
         "x": {
          "bdata": "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",
          "dtype": "f8"
         },
         "y": {
          "bdata": "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",
          "dtype": "f8"
         }
        },
        {
         "mode": "lines",
         "name": "t = 1.50 s",
         "type": "scatter",
         "x": {
          "bdata": "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",
          "dtype": "f8"
         },
         "y": {
          "bdata": "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",
          "dtype": "f8"
         }
        },
        {
         "mode": "lines",
         "name": "t = 2.00 s",
         "type": "scatter",
         "x": {
          "bdata": "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",
          "dtype": "f8"
         },
         "y": {
          "bdata": "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",
          "dtype": "f8"
         }
        },
        {
         "mode": "lines",
         "name": "t = 2.50 s",
         "type": "scatter",
         "x": {
          "bdata": "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",
          "dtype": "f8"
         },
         "y": {
          "bdata": "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",
          "dtype": "f8"
         }
        },
        {
         "mode": "lines",
         "name": "t = 3.00 s",
         "type": "scatter",
         "x": {
          "bdata": "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",
          "dtype": "f8"
         },
         "y": {
          "bdata": "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",
          "dtype": "f8"
         }
        },
        {
         "mode": "lines",
         "name": "t = 3.50 s",
         "type": "scatter",
         "x": {
          "bdata": "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",
          "dtype": "f8"
         },
         "y": {
          "bdata": "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",
          "dtype": "f8"
         }
        },
        {
         "mode": "lines",
         "name": "t = 4.00 s",
         "type": "scatter",
         "x": {
          "bdata": "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",
          "dtype": "f8"
         },
         "y": {
          "bdata": "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",
          "dtype": "f8"
         }
        },
        {
         "mode": "lines",
         "name": "t = 4.50 s",
         "type": "scatter",
         "x": {
          "bdata": "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",
          "dtype": "f8"
         },
         "y": {
          "bdata": "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",
          "dtype": "f8"
         }
        }
       ],
       "layout": {
        "autosize": true,
        "height": 500,
        "legend": {
         "title": {
          "text": "Time Steps"
         }
        },
        "template": {
         "data": {
          "bar": [
           {
            "error_x": {
             "color": "#2a3f5f"
            },
            "error_y": {
             "color": "#2a3f5f"
            },
            "marker": {
             "line": {
              "color": "#E5ECF6",
              "width": 0.5
             },
             "pattern": {
              "fillmode": "overlay",
              "size": 10,
              "solidity": 0.2
             }
            },
            "type": "bar"
           }
          ],
          "barpolar": [
           {
            "marker": {
             "line": {
              "color": "#E5ECF6",
              "width": 0.5
             },
             "pattern": {
              "fillmode": "overlay",
              "size": 10,
              "solidity": 0.2
             }
            },
            "type": "barpolar"
           }
          ],
          "carpet": [
           {
            "aaxis": {
             "endlinecolor": "#2a3f5f",
             "gridcolor": "white",
             "linecolor": "white",
             "minorgridcolor": "white",
             "startlinecolor": "#2a3f5f"
            },
            "baxis": {
             "endlinecolor": "#2a3f5f",
             "gridcolor": "white",
             "linecolor": "white",
             "minorgridcolor": "white",
             "startlinecolor": "#2a3f5f"
            },
            "type": "carpet"
           }
          ],
          "choropleth": [
           {
            "colorbar": {
             "outlinewidth": 0,
             "ticks": ""
            },
            "type": "choropleth"
           }
          ],
          "contour": [
           {
            "colorbar": {
             "outlinewidth": 0,
             "ticks": ""
            },
            "colorscale": [
             [
              0,
              "#0d0887"
             ],
             [
              0.1111111111111111,
              "#46039f"
             ],
             [
              0.2222222222222222,
              "#7201a8"
             ],
             [
              0.3333333333333333,
              "#9c179e"
             ],
             [
              0.4444444444444444,
              "#bd3786"
             ],
             [
              0.5555555555555556,
              "#d8576b"
             ],
             [
              0.6666666666666666,
              "#ed7953"
             ],
             [
              0.7777777777777778,
              "#fb9f3a"
             ],
             [
              0.8888888888888888,
              "#fdca26"
             ],
             [
              1,
              "#f0f921"
             ]
            ],
            "type": "contour"
           }
          ],
          "contourcarpet": [
           {
            "colorbar": {
             "outlinewidth": 0,
             "ticks": ""
            },
            "type": "contourcarpet"
           }
          ],
          "heatmap": [
           {
            "colorbar": {
             "outlinewidth": 0,
             "ticks": ""
            },
            "colorscale": [
             [
              0,
              "#0d0887"
             ],
             [
              0.1111111111111111,
              "#46039f"
             ],
             [
              0.2222222222222222,
              "#7201a8"
             ],
             [
              0.3333333333333333,
              "#9c179e"
             ],
             [
              0.4444444444444444,
              "#bd3786"
             ],
             [
              0.5555555555555556,
              "#d8576b"
             ],
             [
              0.6666666666666666,
              "#ed7953"
             ],
             [
              0.7777777777777778,
              "#fb9f3a"
             ],
             [
              0.8888888888888888,
              "#fdca26"
             ],
             [
              1,
              "#f0f921"
             ]
            ],
            "type": "heatmap"
           }
          ],
          "histogram": [
           {
            "marker": {
             "pattern": {
              "fillmode": "overlay",
              "size": 10,
              "solidity": 0.2
             }
            },
            "type": "histogram"
           }
          ],
          "histogram2d": [
           {
            "colorbar": {
             "outlinewidth": 0,
             "ticks": ""
            },
            "colorscale": [
             [
              0,
              "#0d0887"
             ],
             [
              0.1111111111111111,
              "#46039f"
             ],
             [
              0.2222222222222222,
              "#7201a8"
             ],
             [
              0.3333333333333333,
              "#9c179e"
             ],
             [
              0.4444444444444444,
              "#bd3786"
             ],
             [
              0.5555555555555556,
              "#d8576b"
             ],
             [
              0.6666666666666666,
              "#ed7953"
             ],
             [
              0.7777777777777778,
              "#fb9f3a"
             ],
             [
              0.8888888888888888,
              "#fdca26"
             ],
             [
              1,
              "#f0f921"
             ]
            ],
            "type": "histogram2d"
           }
          ],
          "histogram2dcontour": [
           {
            "colorbar": {
             "outlinewidth": 0,
             "ticks": ""
            },
            "colorscale": [
             [
              0,
              "#0d0887"
             ],
             [
              0.1111111111111111,
              "#46039f"
             ],
             [
              0.2222222222222222,
              "#7201a8"
             ],
             [
              0.3333333333333333,
              "#9c179e"
             ],
             [
              0.4444444444444444,
              "#bd3786"
             ],
             [
              0.5555555555555556,
              "#d8576b"
             ],
             [
              0.6666666666666666,
              "#ed7953"
             ],
             [
              0.7777777777777778,
              "#fb9f3a"
             ],
             [
              0.8888888888888888,
              "#fdca26"
             ],
             [
              1,
              "#f0f921"
             ]
            ],
            "type": "histogram2dcontour"
           }
          ],
          "mesh3d": [
           {
            "colorbar": {
             "outlinewidth": 0,
             "ticks": ""
            },
            "type": "mesh3d"
           }
          ],
          "parcoords": [
           {
            "line": {
             "colorbar": {
              "outlinewidth": 0,
              "ticks": ""
             }
            },
            "type": "parcoords"
           }
          ],
          "pie": [
           {
            "automargin": true,
            "type": "pie"
           }
          ],
          "scatter": [
           {
            "fillpattern": {
             "fillmode": "overlay",
             "size": 10,
             "solidity": 0.2
            },
            "type": "scatter"
           }
          ],
          "scatter3d": [
           {
            "line": {
             "colorbar": {
              "outlinewidth": 0,
              "ticks": ""
             }
            },
            "marker": {
             "colorbar": {
              "outlinewidth": 0,
              "ticks": ""
             }
            },
            "type": "scatter3d"
           }
          ],
          "scattercarpet": [
           {
            "marker": {
             "colorbar": {
              "outlinewidth": 0,
              "ticks": ""
             }
            },
            "type": "scattercarpet"
           }
          ],
          "scattergeo": [
           {
            "marker": {
             "colorbar": {
              "outlinewidth": 0,
              "ticks": ""
             }
            },
            "type": "scattergeo"
           }
          ],
          "scattergl": [
           {
            "marker": {
             "colorbar": {
              "outlinewidth": 0,
              "ticks": ""
             }
            },
            "type": "scattergl"
           }
          ],
          "scattermap": [
           {
            "marker": {
             "colorbar": {
              "outlinewidth": 0,
              "ticks": ""
             }
            },
            "type": "scattermap"
           }
          ],
          "scattermapbox": [
           {
            "marker": {
             "colorbar": {
              "outlinewidth": 0,
              "ticks": ""
             }
            },
            "type": "scattermapbox"
           }
          ],
          "scatterpolar": [
           {
            "marker": {
             "colorbar": {
              "outlinewidth": 0,
              "ticks": ""
             }
            },
            "type": "scatterpolar"
           }
          ],
          "scatterpolargl": [
           {
            "marker": {
             "colorbar": {
              "outlinewidth": 0,
              "ticks": ""
             }
            },
            "type": "scatterpolargl"
           }
          ],
          "scatterternary": [
           {
            "marker": {
             "colorbar": {
              "outlinewidth": 0,
              "ticks": ""
             }
            },
            "type": "scatterternary"
           }
          ],
          "surface": [
           {
            "colorbar": {
             "outlinewidth": 0,
             "ticks": ""
            },
            "colorscale": [
             [
              0,
              "#0d0887"
             ],
             [
              0.1111111111111111,
              "#46039f"
             ],
             [
              0.2222222222222222,
              "#7201a8"
             ],
             [
              0.3333333333333333,
              "#9c179e"
             ],
             [
              0.4444444444444444,
              "#bd3786"
             ],
             [
              0.5555555555555556,
              "#d8576b"
             ],
             [
              0.6666666666666666,
              "#ed7953"
             ],
             [
              0.7777777777777778,
              "#fb9f3a"
             ],
             [
              0.8888888888888888,
              "#fdca26"
             ],
             [
              1,
              "#f0f921"
             ]
            ],
            "type": "surface"
           }
          ],
          "table": [
           {
            "cells": {
             "fill": {
              "color": "#EBF0F8"
             },
             "line": {
              "color": "white"
             }
            },
            "header": {
             "fill": {
              "color": "#C8D4E3"
             },
             "line": {
              "color": "white"
             }
            },
            "type": "table"
           }
          ]
         },
         "layout": {
          "annotationdefaults": {
           "arrowcolor": "#2a3f5f",
           "arrowhead": 0,
           "arrowwidth": 1
          },
          "autotypenumbers": "strict",
          "coloraxis": {
           "colorbar": {
            "outlinewidth": 0,
            "ticks": ""
           }
          },
          "colorscale": {
           "diverging": [
            [
             0,
             "#8e0152"
            ],
            [
             0.1,
             "#c51b7d"
            ],
            [
             0.2,
             "#de77ae"
            ],
            [
             0.3,
             "#f1b6da"
            ],
            [
             0.4,
             "#fde0ef"
            ],
            [
             0.5,
             "#f7f7f7"
            ],
            [
             0.6,
             "#e6f5d0"
            ],
            [
             0.7,
             "#b8e186"
            ],
            [
             0.8,
             "#7fbc41"
            ],
            [
             0.9,
             "#4d9221"
            ],
            [
             1,
             "#276419"
            ]
           ],
           "sequential": [
            [
             0,
             "#0d0887"
            ],
            [
             0.1111111111111111,
             "#46039f"
            ],
            [
             0.2222222222222222,
             "#7201a8"
            ],
            [
             0.3333333333333333,
             "#9c179e"
            ],
            [
             0.4444444444444444,
             "#bd3786"
            ],
            [
             0.5555555555555556,
             "#d8576b"
            ],
            [
             0.6666666666666666,
             "#ed7953"
            ],
            [
             0.7777777777777778,
             "#fb9f3a"
            ],
            [
             0.8888888888888888,
             "#fdca26"
            ],
            [
             1,
             "#f0f921"
            ]
           ],
           "sequentialminus": [
            [
             0,
             "#0d0887"
            ],
            [
             0.1111111111111111,
             "#46039f"
            ],
            [
             0.2222222222222222,
             "#7201a8"
            ],
            [
             0.3333333333333333,
             "#9c179e"
            ],
            [
             0.4444444444444444,
             "#bd3786"
            ],
            [
             0.5555555555555556,
             "#d8576b"
            ],
            [
             0.6666666666666666,
             "#ed7953"
            ],
            [
             0.7777777777777778,
             "#fb9f3a"
            ],
            [
             0.8888888888888888,
             "#fdca26"
            ],
            [
             1,
             "#f0f921"
            ]
           ]
          },
          "colorway": [
           "#636efa",
           "#EF553B",
           "#00cc96",
           "#ab63fa",
           "#FFA15A",
           "#19d3f3",
           "#FF6692",
           "#B6E880",
           "#FF97FF",
           "#FECB52"
          ],
          "font": {
           "color": "#2a3f5f"
          },
          "geo": {
           "bgcolor": "white",
           "lakecolor": "white",
           "landcolor": "#E5ECF6",
           "showlakes": true,
           "showland": true,
           "subunitcolor": "white"
          },
          "hoverlabel": {
           "align": "left"
          },
          "hovermode": "closest",
          "mapbox": {
           "style": "light"
          },
          "paper_bgcolor": "white",
          "plot_bgcolor": "#E5ECF6",
          "polar": {
           "angularaxis": {
            "gridcolor": "white",
            "linecolor": "white",
            "ticks": ""
           },
           "bgcolor": "#E5ECF6",
           "radialaxis": {
            "gridcolor": "white",
            "linecolor": "white",
            "ticks": ""
           }
          },
          "scene": {
           "xaxis": {
            "backgroundcolor": "#E5ECF6",
            "gridcolor": "white",
            "gridwidth": 2,
            "linecolor": "white",
            "showbackground": true,
            "ticks": "",
            "zerolinecolor": "white"
           },
           "yaxis": {
            "backgroundcolor": "#E5ECF6",
            "gridcolor": "white",
            "gridwidth": 2,
            "linecolor": "white",
            "showbackground": true,
            "ticks": "",
            "zerolinecolor": "white"
           },
           "zaxis": {
            "backgroundcolor": "#E5ECF6",
            "gridcolor": "white",
            "gridwidth": 2,
            "linecolor": "white",
            "showbackground": true,
            "ticks": "",
            "zerolinecolor": "white"
           }
          },
          "shapedefaults": {
           "line": {
            "color": "#2a3f5f"
           }
          },
          "ternary": {
           "aaxis": {
            "gridcolor": "white",
            "linecolor": "white",
            "ticks": ""
           },
           "baxis": {
            "gridcolor": "white",
            "linecolor": "white",
            "ticks": ""
           },
           "bgcolor": "#E5ECF6",
           "caxis": {
            "gridcolor": "white",
            "linecolor": "white",
            "ticks": ""
           }
          },
          "title": {
           "x": 0.05
          },
          "xaxis": {
           "automargin": true,
           "gridcolor": "white",
           "linecolor": "white",
           "ticks": "",
           "title": {
            "standoff": 15
           },
           "zerolinecolor": "white",
           "zerolinewidth": 2
          },
          "yaxis": {
           "automargin": true,
           "gridcolor": "white",
           "linecolor": "white",
           "ticks": "",
           "title": {
            "standoff": 15
           },
           "zerolinecolor": "white",
           "zerolinewidth": 2
          }
         }
        },
        "title": {
         "text": "Advection of Pollutant Concentration Over Time (Lax-Wendroff)"
        },
        "xaxis": {
         "title": {
          "text": "Position along the River (m)"
         }
        },
        "yaxis": {
         "title": {
          "text": "Pollutant Concentration"
         }
        }
       }
      }
     },
     "metadata": {},
     "output_type": "display_data"
    }
   ],
   "source": [
    "# Visualization using Plotly\n",
    "fig = go.Figure()\n",
    "\n",
    "for idx, rho_snapshot in enumerate(rho_history):\n",
    "    fig.add_trace(go.Scatter(\n",
    "        x=x,\n",
    "        y=rho_snapshot,\n",
    "        mode='lines',\n",
    "        name=f't = {time_steps[idx]:.2f} s'\n",
    "    ))\n",
    "\n",
    "fig.update_layout(\n",
    "    title='Advection of Pollutant Concentration Over Time (Lax-Wendroff)',\n",
    "    xaxis_title='Position along the River (m)',\n",
    "    yaxis_title='Pollutant Concentration',\n",
    "    legend_title='Time Steps',\n",
    "    autosize=True,\n",
    "    height=500\n",
    ")\n",
    "\n",
    "html_fig = fig.to_html(full_html=False, include_plotlyjs='cdn')\n",
    "HTML(html_fig)"
   ]
  },
  {
   "cell_type": "markdown",
   "metadata": {},
   "source": [
    "**Explanation of the Updated Code**\n",
    "\n",
    "1.  **Lax-Wendroff Update**: The core update loop implements the Lax-Wendroff scheme, incorporating both first and second spatial derivatives to improve accuracy.\n",
    "    \n",
    "2.  **Boundary Conditions**: Implemented **periodic boundary conditions** to allow the Gaussian to exit one end and enter the other, minimizing edge effects. You can adjust this based on your physical scenario.\n",
    "    \n",
    "3.  **Visualization**: The Plotly graph now reflects the reduced numerical diffusion, showing the Gaussian maintaining its shape as it advects downstream.\n",
    "\n",
    "---\n",
    "\n",
    "**Expected Results**\n",
    "\n",
    "With the Lax-Wendroff scheme:\n",
    "\n",
    "- **Shape Preservation**: The Gaussian maintains its peak and width more accurately over time.\n",
    "- **Reduced Numerical Diffusion**: Less artificial spreading and peak attenuation compared to the Upwind scheme.\n",
    "- **Mass Conservation**: The total area under the Gaussian remains approximately constant, indicating better mass conservation.\n"
   ]
  },
  {
   "cell_type": "markdown",
   "metadata": {},
   "source": [
    "---\n",
    "\n",
    "### Summary of the Shape Preservation in the Advection Equation\n",
    "\n",
    "**1. Analyzing the Advection Equation Itself**\n",
    "\n",
    "The **advection equation** is a simplified form of the continuity equation, focusing solely on the transport of a conserved quantity without any sources, sinks, or diffusion. The equation is given by:\n",
    "\n",
    "$$\n",
    "\\frac{\\partial \\rho}{\\partial t} + u \\frac{\\partial \\rho}{\\partial x} = 0\n",
    "$$\n",
    "\n",
    "Where:\n",
    "- $\\rho(x, t)$ is the **density** or **concentration** of the conserved quantity at position $x$ and time $t$.\n",
    "- $u$ is the **constant flow velocity**.\n",
    "\n",
    "**Key Characteristics of the Advection Equation:**\n",
    "\n",
    "1. **Linearity**:\n",
    "   - The equation is **linear** in $\\rho$, meaning that if $\\rho_1$ and $\\rho_2$ are solutions, then any linear combination $a \\rho_1 + b \\rho_2$ is also a solution.\n",
    "   \n",
    "2. **First-Order Partial Differential Equation (PDE)**:\n",
    "   - It involves first-order derivatives in both time and space.\n",
    "   \n",
    "3. **Hyperbolic Nature**:\n",
    "   - Being a hyperbolic PDE, it models wave propagation and transport phenomena where information travels along characteristic lines.\n",
    "\n",
    "4. **No Diffusion or Dispersion Terms**:\n",
    "   - Unlike equations that include second-order spatial derivatives (e.g., diffusion equation), the advection equation lacks terms that cause spreading or smoothing of the solution.\n",
    "\n",
    "**Implications of These Characteristics:**\n",
    "\n",
    "- **Shape Preservation**:\n",
    "  - Since there are no diffusion or dispersion terms to cause spreading, the **shape** of the initial density profile is preserved as it moves.\n",
    "  \n",
    "- **Translation of the Initial Profile**:\n",
    "  - The entire profile translates downstream at a constant velocity $u$ without any deformation.\n",
    "\n",
    "---\n",
    "\n",
    "**2. Role of Initial Conditions**\n",
    "\n",
    "While the **advection equation** dictates **how** the density profile moves, the **initial conditions** define **what** is being moved. The solution to the advection equation depends on both the equation itself and the initial profile provided."
   ]
  },
  {
   "cell_type": "markdown",
   "metadata": {},
   "source": [
    "**General Solution Using Method of Characteristics:**\n",
    "\n",
    "The method of characteristics transforms the PDE into ordinary differential equations (ODEs) along characteristic lines where the solution is constant.\n",
    "\n",
    "**Characteristic Lines**:\n",
    "\n",
    "$$\n",
    "\\frac{dx}{dt} = u\n",
    "$$\n",
    "\n",
    "**Solution Along Characteristics**:\n",
    "\n",
    "$$\n",
    "\\rho(x, t) = f(x - u t)\n",
    "$$\n",
    "\n",
    "Where $f$ is the **initial concentration profile** at $t = 0$:\n",
    "\n",
    "$$\n",
    "\\rho(x, 0) = f(x)\n",
    "$$\n",
    "\n",
    "**Interpretation**:\n",
    "\n",
    "- **Translation Without Change**:\n",
    "  - The function $f(x - u t)$ represents the initial profile $f(x)$ shifted by $u t$ units to the right (assuming $u > 0$).\n",
    "  \n",
    "- **No Change in Shape**:\n",
    "  - Since $f$ is merely shifted and not altered in form, the **shape** of the density profile remains unchanged over time.\n",
    "\n",
    "---"
   ]
  },
  {
   "cell_type": "markdown",
   "metadata": {},
   "source": [
    "**3. Visual Confirmation**\n",
    "\n",
    "Consider an initial Gaussian density profile:\n",
    "\n",
    "$$\n",
    "\\rho(x, 0) = e^{-\\frac{(x - x_0)^2}{2\\sigma^2}}\n",
    "$$\n",
    "\n",
    "**Solution at Time $t$:**\n",
    "\n",
    "$$\n",
    "\\rho(x, t) = e^{-\\frac{(x - x_0 - u t)^2}{2\\sigma^2}}\n",
    "$$\n",
    "\n",
    "**Observations:**\n",
    "\n",
    "- **Mean Shift**:\n",
    "  - The peak of the Gaussian moves to $x = x_0 + u t$.\n",
    "  \n",
    "- **Variance Remains Constant**:\n",
    "  - The spread ($\\sigma$) of the Gaussian remains unchanged, indicating no diffusion.\n",
    "\n",
    "- **Shape Unaltered**:\n",
    "  - The Gaussian retains its bell shape as it translates downstream.\n",
    "\n",
    "---"
   ]
  }
 ],
 "metadata": {
  "kernelspec": {
   "display_name": "venv (3.13.5)",
   "language": "python",
   "name": "python3"
  },
  "language_info": {
   "codemirror_mode": {
    "name": "ipython",
    "version": 3
   },
   "file_extension": ".py",
   "mimetype": "text/x-python",
   "name": "python",
   "nbconvert_exporter": "python",
   "pygments_lexer": "ipython3",
   "version": "3.13.5"
  }
 },
 "nbformat": 4,
 "nbformat_minor": 2
}
