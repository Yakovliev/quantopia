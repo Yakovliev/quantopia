{
 "cells": [
  {
   "cell_type": "markdown",
   "metadata": {},
   "source": [
    "# Directional Derivative\n",
    "\n",
    "The directional derivative is a concept in multivariable calculus that measures the rate of change of a scalar-valued function in a specific direction at a given point. It generalizes the concept of a partial derivative, which measures the rate of change of a function with respect to a particular variable while holding other variables constant.\n",
    "\n",
    "Given a scalar-valued function $f(x_1, x_2, \\ldots, x_n)$ and a unit vector $\\mathbf{u} = (u_1, u_2, \\ldots, u_n)$, the directional derivative of $f$ at a point $(a_1, a_2, \\ldots, a_n)$ in the direction of $\\mathbf{u}$ is denoted as $D_{\\mathbf{u}}f(a_1, a_2, \\ldots, a_n)$ and is defined as:\n",
    "\n",
    "$$\n",
    "D_{\\mathbf{u}}f(a_1, a_2, \\ldots, a_n) = \\lim_{h \\to 0} \\frac{f(a_1 + hu_1, a_2 + hu_2, \\ldots, a_n + hu_n) - f(a_1, a_2, \\ldots, a_n)}{h}\n",
    "$$\n",
    "\n",
    "This limit, if it exists, measures the instantaneous rate of change of the function $f$ in the direction of $\\mathbf{u}$ at the point $(a_1, a_2, \\ldots, a_n)$.\n",
    "\n",
    "The directional derivative can also be expressed in terms of the gradient vector $\\nabla f = \\left(\\frac{\\partial f}{\\partial x_1}, \\frac{\\partial f}{\\partial x_2}, \\ldots, \\frac{\\partial f}{\\partial x_n}\\right)$ and the unit vector $\\mathbf{u}$:\n",
    "\n",
    "$$\n",
    "D_{\\mathbf{u}}f(a_1, a_2, \\ldots, a_n) = \\nabla f(a_1, a_2, \\ldots, a_n) \\cdot \\mathbf{u}\n",
    "$$\n",
    "\n",
    "This means that the directional derivative is the dot product of the gradient vector and the unit vector $\\mathbf{u}$ at the point $(a_1, a_2, \\ldots, a_n)$.\n",
    "\n",
    "**Some key properties of the directional derivative:**\n",
    "\n",
    "- The directional derivative is a scalar value that represents the rate of change of the function in the specified direction. \n",
    "- If vector $\\mathbf{u} = (u_1, u_2, \\ldots, u_n)$ is not a unit vector, it should be normalized to be a unit vector that can be used for calculation of the directional derivative.\n",
    "- The maximum value of the directional derivative at a point is the magnitude of the gradient vector at that point, and it occurs in the direction of the gradient vector.\n",
    "- The minimum value of the directional derivative at a point is the negative of the magnitude of the gradient vector, and it occurs in the direction opposite to the gradient vector.\n",
    "- If the gradient vector is zero at a point, the directional derivative is zero in all directions at that point.\n"
   ]
  },
  {
   "cell_type": "markdown",
   "metadata": {},
   "source": [
    "### Calculation of the Directional Derivative through the Gradient\n",
    "\n",
    "Given a scalar-valued function $f(x_1, x_2, \\ldots, x_n)$ and a unit vector $\\mathbf{u} = (u_1, u_2, \\ldots, u_n)$, the directional derivative of $f$ at a point $(a_1, a_2, \\ldots, a_n)$ in the direction of $\\mathbf{u}$ is defined as:\n",
    "\n",
    "$$\n",
    "D_{\\mathbf{u}}f(a_1, a_2, \\ldots, a_n) = \\lim_{h \\to 0} \\frac{f(a_1 + hu_1, a_2 + hu_2, \\ldots, a_n + hu_n) - f(a_1, a_2, \\ldots, a_n)}{h}\n",
    "$$\n",
    "\n",
    "Now, let's apply the multivariable chain rule to the numerator:\n",
    "\n",
    "$$\n",
    "f(a_1 + hu_1, a_2 + hu_2, \\ldots, a_n + hu_n) - f(a_1, a_2, \\ldots, a_n) \\approx \\frac{\\partial f}{\\partial x_1}(a_1, a_2, \\ldots, a_n) \\cdot hu_1 + \\\\\n",
    "\\frac{\\partial f}{\\partial x_2}(a_1, a_2, \\ldots, a_n) \\cdot hu_2 + \\ldots + \\frac{\\partial f}{\\partial x_n}(a_1, a_2, \\ldots, a_n) \\cdot hu_n\n",
    "$$\n",
    "\n",
    "This approximation becomes exact as $h \\to 0$. Substituting this into the definition of the directional derivative:\n",
    "\n",
    "$$\n",
    "D_{\\mathbf{u}}f(a_1, a_2, \\ldots, a_n) = \\lim_{h \\to 0} \\frac{\\frac{\\partial f}{\\partial x_1}(a_1, a_2, \\ldots, a_n) \\cdot hu_1 + \\frac{\\partial f}{\\partial x_2}(a_1, a_2, \\ldots, a_n) \\cdot hu_2 + \\ldots + \\frac{\\partial f}{\\partial x_n}(a_1, a_2, \\ldots, a_n) \\cdot hu_n}{h}\n",
    "$$\n",
    "\n",
    "Now, we can factor out the $h$ from the numerator:\n",
    "\n",
    "$$\n",
    "D_{\\mathbf{u}}f(a_1, a_2, \\ldots, a_n) = \\lim_{h \\to 0} \\frac{h\\left(\\frac{\\partial f}{\\partial x_1}(a_1, a_2, \\ldots, a_n) \\cdot u_1 + \\frac{\\partial f}{\\partial x_2}(a_1, a_2, \\ldots, a_n) \\cdot u_2 + \\ldots + \\frac{\\partial f}{\\partial x_n}(a_1, a_2, \\ldots, a_n) \\cdot u_n\\right)}{h}\n",
    "$$\n",
    "\n",
    "The $h$'s cancel out, and we are left with:\n",
    "\n",
    "$$\n",
    "D_{\\mathbf{u}}f(a_1, a_2, \\ldots, a_n) = \\frac{\\partial f}{\\partial x_1}(a_1, a_2, \\ldots, a_n) \\cdot u_1 + \\frac{\\partial f}{\\partial x_2}(a_1, a_2, \\ldots, a_n) \\cdot u_2 + \\ldots + \\frac{\\partial f}{\\partial x_n}(a_1, a_2, \\ldots, a_n) \\cdot u_n\n",
    "$$\n",
    "\n",
    "Recall that the gradient vector is defined as $\\nabla f = \\left(\\frac{\\partial f}{\\partial x_1}, \\frac{\\partial f}{\\partial x_2}, \\ldots, \\frac{\\partial f}{\\partial x_n}\\right)$. So, the right-hand side of the equation above is the dot product of the gradient vector and the unit vector $\\mathbf{u}$:\n",
    "\n",
    "$$\n",
    "D_{\\mathbf{u}}f(a_1, a_2, \\ldots, a_n) = \\nabla f(a_1, a_2, \\ldots, a_n) \\cdot \\mathbf{u}\n",
    "$$\n",
    "\n",
    "This derivation shows that the directional derivative can be expressed as the dot product of the gradient vector and the unit vector in the desired direction.\n",
    "\n",
    "This formula can also explain why the gradient of the scalar field always points in the direction of the steepest ascent of the function at a given point, and its magnitude represents the rate of change of the function in that direction. The directional derivative $D_{\\mathbf{u}}f(a_1, a_2, \\ldots, a_n)$ has maximum value only in a case when a unit vector $\\mathbf{u}$ has the same direction as gradient $\\nabla f(a_1, a_2, \\ldots, a_n)$.\n"
   ]
  },
  {
   "cell_type": "markdown",
   "metadata": {},
   "source": [
    "### Directional Derivative in the Direction of the Gradient\n",
    "\n",
    "We will start with the formula for the directional derivative:\n",
    "\n",
    "$$ D_{\\mathbf{u}} f = \\nabla f \\cdot \\mathbf{u} $$\n",
    "\n",
    "The next step is to select $ \\mathbf{u} = \\frac{\\nabla f}{\\|\\nabla f\\|} $ and get\n",
    "\n",
    "$$ D_{\\mathbf{u}} f = \\nabla f \\cdot \\frac{\\nabla f}{\\|\\nabla f\\|} = \\frac{\\|\\nabla f\\|^2}{\\|\\nabla f\\|} = \\|\\nabla f\\|$$\n",
    "\n",
    "Therefore, the directional derivative that is calculated in the direction of the gradient is equal to the norm of the gradient. This is the maximum possible value of the directional derivative as demonstrated previously. Thus from the definition of the directional derivative and the obtained formula, we can conclude that the norm of the gradient is the maximum possible rate of change of a scalar-valued function and the direction of this maximum rate of change is the direction of the gradient of this function."
   ]
  },
  {
   "cell_type": "markdown",
   "metadata": {},
   "source": [
    "### Code"
   ]
  },
  {
   "cell_type": "code",
   "execution_count": null,
   "metadata": {},
   "outputs": [],
   "source": [
    "import numpy as np\n",
    "import matplotlib.pyplot as plt\n",
    "import plotly.graph_objects as go\n",
    "from plotly.subplots import make_subplots\n",
    "\n",
    "import plotly.io as pio\n",
    "pio.renderers.default = 'notebook'"
   ]
  },
  {
   "cell_type": "code",
   "execution_count": null,
   "metadata": {},
   "outputs": [],
   "source": [
    "# Define the function\n",
    "def f(x, y):\n",
    "    return x**2 + y**2\n",
    "\n",
    "# Define the gradient of the function\n",
    "def grad_f(x, y):\n",
    "    return np.array([2*x, 2*y])"
   ]
  },
  {
   "cell_type": "code",
   "execution_count": null,
   "metadata": {},
   "outputs": [],
   "source": [
    "# Define the direction vector\n",
    "v = np.array([3, 4])\n",
    "# Unit vector in the direction of v\n",
    "u = v / np.linalg.norm(v)"
   ]
  },
  {
   "cell_type": "code",
   "execution_count": null,
   "metadata": {},
   "outputs": [],
   "source": [
    "# Create a grid of points\n",
    "x = np.linspace(-2, 2, 30)\n",
    "y = np.linspace(-2, 2, 30)\n",
    "X, Y = np.meshgrid(x, y)\n",
    "\n",
    "# Compute the original function values\n",
    "Z_func = f(X, Y)"
   ]
  },
  {
   "cell_type": "code",
   "execution_count": null,
   "metadata": {},
   "outputs": [],
   "source": [
    "# Compute the directional derivatives\n",
    "Z_dir_deriv = np.zeros_like(X)\n",
    "U = np.zeros_like(X)\n",
    "V = np.zeros_like(Y)\n",
    "for i in range(X.shape[0]):\n",
    "    for j in range(X.shape[1]):\n",
    "        grad = grad_f(X[i, j], Y[i, j])\n",
    "        Z_dir_deriv[i, j] = np.dot(grad, u)\n",
    "        U[i, j] = grad[0]\n",
    "        V[i, j] = grad[1]"
   ]
  },
  {
   "cell_type": "markdown",
   "metadata": {},
   "source": [
    "IMPORTANT: The quiver function automatically scales the vectors. This issue is resolved in the next plot where we compare two types of vectors\n"
   ]
  },
  {
   "cell_type": "code",
   "execution_count": null,
   "metadata": {},
   "outputs": [],
   "source": [
    "# Plotting\n",
    "plt.figure(figsize=(10, 8))\n",
    "plt.contourf(X, Y, Z_dir_deriv, 20, cmap='viridis')\n",
    "plt.colorbar(label='Directional Derivative')\n",
    "plt.quiver(X, Y, Z_dir_deriv*u[0], Z_dir_deriv*u[1], color='b') \n",
    "#IMPORTANT: The quiver function automatically scales the vectors. This issue is resolved in the next plot where we compare two types of vectors\n",
    "\n",
    "plt.xlabel('X')\n",
    "plt.ylabel('Y')\n",
    "plt.title('Directional Derivative in Direction of Vector (3, 4)')\n",
    "plt.tight_layout()\n",
    "plt.show()"
   ]
  },
  {
   "cell_type": "markdown",
   "metadata": {},
   "source": [
    "Calculate the value of the directional derivative $D_{\\mathbf{u}}f(x, y)$ using the formula:\n",
    "$D_{\\mathbf{u}}f(x, y) = \\nabla f(x, y) \\cdot \\mathbf{u} = \\frac{\\partial f}{\\partial x}(x, y) \\cdot u_1 + \\frac{\\partial f}{\\partial y}(x, y) \\cdot u_2$\n",
    "Multiply the unit vector $\\mathbf{u}$ by the value of the directional derivative $D_{\\mathbf{u}}f(x, y)$. This will give you a new vector $\\mathbf{v}$ that points in the same direction as $\\mathbf{u}$ but has a magnitude equal to the value of the directional derivative:\n",
    "$\\mathbf{v} = D_{\\mathbf{u}}f(x, y) \\cdot \\mathbf{u} = (D_{\\mathbf{u}}f(x, y) \\cdot u_1, D_{\\mathbf{u}}f(x, y) \\cdot u_2)$\n",
    "To draw the vector $\\mathbf{v}$, start at the point $(x, y)$ and draw an arrow pointing in the direction of $\\mathbf{v}$. The length of the arrow should be proportional to the magnitude of $\\mathbf{v}$."
   ]
  },
  {
   "cell_type": "code",
   "execution_count": null,
   "metadata": {},
   "outputs": [],
   "source": [
    "# Plotting\n",
    "\n",
    "# This is very important to scale the gradient vectors and the directional derivative vectors with the same scale factor in order to compare them\n",
    "scale_factor = 40 \n",
    "\n",
    "plt.figure(figsize=(10, 10))\n",
    "plt.contour(X, Y, Z_func, levels=10, cmap='viridis')\n",
    "# plt.contour(X, Y, Z_func, levels=10, colors='white', linestyles='dashed')  # Contour lines of the original function\n",
    "plt.quiver(X, Y, U, V, color='red',scale=scale_factor, scale_units='xy')  # Gradient vectors\n",
    "plt.quiver(X, Y, Z_dir_deriv*u[0], Z_dir_deriv*u[1], color='blue', scale=scale_factor, scale_units='xy')\n",
    "plt.quiver(0, 0, u[0], u[1], color='green') # direction of the unit vector u\n",
    "\n",
    "plt.xlabel('X')\n",
    "plt.ylabel('Y')\n",
    "plt.title('Contour plot of $f(x, y) = x^2 + y^2$, gradient, and unit vector u scaled by the directional derivative in the direction of u')\n",
    "plt.tight_layout()\n",
    "plt.show()"
   ]
  },
  {
   "cell_type": "code",
   "execution_count": null,
   "metadata": {},
   "outputs": [],
   "source": [
    "# Create a 3D plot\n",
    "# Add the surface plot of the original function\n",
    "surface = go.Surface(z=Z_func, x=X, y=Y, colorscale='Viridis', showscale=True, opacity=0.8)\n",
    "\n",
    "fig = go.Figure(data=[surface])\n",
    "\n",
    "# Update layout\n",
    "fig.update_layout(scene=dict(zaxis_title='f(x, y)', xaxis_title='X', yaxis_title='Y'),\n",
    "                  title=\"3D Plot of f(x, y) = x<sup>2</sup> + y<sup>2</sup>\",\n",
    "                  autosize=True, height=600)\n",
    "\n",
    "# Show the figure\n",
    "fig.show()"
   ]
  },
  {
   "cell_type": "code",
   "execution_count": null,
   "metadata": {},
   "outputs": [],
   "source": [
    "# Create a 3D plot\n",
    "quiver_w = np.zeros_like(U).flatten()  # No change in z for the gradient vectors in this 2D function\n",
    "\n",
    "# Add cones to represent the gradient\n",
    "quiver_grad = go.Cone(x=X.flatten(), y=Y.flatten(), z=Z_func.flatten(),\n",
    "                      u=U.flatten(), v=V.flatten(), w=quiver_w, colorscale='Reds',\n",
    "                      sizemode='scaled', sizeref=1.0, showscale=True,\n",
    "                      colorbar=dict(title=dict(text=\"Gradient Vectors\", side=\"right\"), x=1.1, y=0.5))\n",
    "\n",
    "# Add cones to represent the directional derivatives\n",
    "quiver_dir_deriv = go.Cone(x=X.flatten(), y=Y.flatten(), z=Z_func.flatten(),\n",
    "                           u=(Z_dir_deriv*u[0]).flatten(), v=(Z_dir_deriv*u[1]).flatten(), w=quiver_w, colorscale='Blues',\n",
    "                           sizemode='scaled', sizeref=1.0, showscale=True,\n",
    "                           colorbar=dict(title=dict(text=\"Directional Derivatives\", side=\"right\"), x=1.2, y=0.5))\n",
    "\n",
    "fig = go.Figure(data=[quiver_grad, quiver_dir_deriv])\n",
    "\n",
    "# Update layout\n",
    "fig.update_layout(scene=dict(zaxis_title='f(x, y)', xaxis_title='X', yaxis_title='Y'),\n",
    "                  title=\"3D Plot of Gradients and Directional Derivatives of f(x, y) = x<sup>2</sup> + y<sup>2</sup>\",\n",
    "                  autosize=True, height=600)\n",
    "\n",
    "# Show the figure\n",
    "fig.show()"
   ]
  }
 ],
 "metadata": {
  "kernelspec": {
   "display_name": "venv",
   "language": "python",
   "name": "python3"
  },
  "language_info": {
   "codemirror_mode": {
    "name": "ipython",
    "version": 3
   },
   "file_extension": ".py",
   "mimetype": "text/x-python",
   "name": "python",
   "nbconvert_exporter": "python",
   "pygments_lexer": "ipython3",
   "version": "3.13.0"
  }
 },
 "nbformat": 4,
 "nbformat_minor": 2
}
