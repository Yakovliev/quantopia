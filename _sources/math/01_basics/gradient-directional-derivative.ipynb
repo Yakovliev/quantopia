{
 "cells": [
  {
   "cell_type": "markdown",
   "metadata": {},
   "source": [
    "# Directional Derivative\n",
    "\n",
    "The directional derivative is a concept in multivariable calculus that measures the rate of change of a scalar-valued function in a specific direction at a given point. It generalizes the concept of a partial derivative, which measures the rate of change of a function with respect to a particular variable while holding other variables constant.\n",
    "\n",
    "Given a scalar-valued function $f(x_1, x_2, \\ldots, x_n)$ and a unit vector $\\mathbf{u} = (u_1, u_2, \\ldots, u_n)$, the directional derivative of $f$ at a point $(a_1, a_2, \\ldots, a_n)$ in the direction of $\\mathbf{u}$ is denoted as $D_{\\mathbf{u}}f(a_1, a_2, \\ldots, a_n)$ and is defined as:\n",
    "\n",
    "$$\n",
    "D_{\\mathbf{u}}f(a_1, a_2, \\ldots, a_n) = \\lim_{h \\to 0} \\frac{f(a_1 + hu_1, a_2 + hu_2, \\ldots, a_n + hu_n) - f(a_1, a_2, \\ldots, a_n)}{h}\n",
    "$$\n",
    "\n",
    "This limit, if it exists, measures the instantaneous rate of change of the function $f$ in the direction of $\\mathbf{u}$ at the point $(a_1, a_2, \\ldots, a_n)$.\n",
    "\n",
    "The directional derivative can also be expressed in terms of the gradient vector $\\nabla f = \\left(\\frac{\\partial f}{\\partial x_1}, \\frac{\\partial f}{\\partial x_2}, \\ldots, \\frac{\\partial f}{\\partial x_n}\\right)$ and the unit vector $\\mathbf{u}$:\n",
    "\n",
    "$$\n",
    "D_{\\mathbf{u}}f(a_1, a_2, \\ldots, a_n) = \\nabla f(a_1, a_2, \\ldots, a_n) \\cdot \\mathbf{u}\n",
    "$$\n",
    "\n",
    "This means that the directional derivative is the dot product of the gradient vector and the unit vector $\\mathbf{u}$ at the point $(a_1, a_2, \\ldots, a_n)$.\n",
    "\n",
    "**Some key properties of the directional derivative:**\n",
    "\n",
    "- The directional derivative is a scalar value that represents the rate of change of the function in the specified direction. \n",
    "- If vector $\\mathbf{u} = (u_1, u_2, \\ldots, u_n)$ is not a unit vector, it should be normalized to be a unit vector that can be used for calculation of the directional derivative.\n",
    "- The maximum value of the directional derivative at a point is the magnitude of the gradient vector at that point, and it occurs in the direction of the gradient vector.\n",
    "- The minimum value of the directional derivative at a point is the negative of the magnitude of the gradient vector, and it occurs in the direction opposite to the gradient vector.\n",
    "- If the gradient vector is zero at a point, the directional derivative is zero in all directions at that point.\n"
   ]
  },
  {
   "cell_type": "markdown",
   "metadata": {},
   "source": [
    "### Calculation of the Directional Derivative through the Gradient\n",
    "\n",
    "Given a scalar-valued function $f(x_1, x_2, \\ldots, x_n)$ and a unit vector $\\mathbf{u} = (u_1, u_2, \\ldots, u_n)$, the directional derivative of $f$ at a point $(a_1, a_2, \\ldots, a_n)$ in the direction of $\\mathbf{u}$ is defined as:\n",
    "\n",
    "$$\n",
    "D_{\\mathbf{u}}f(a_1, a_2, \\ldots, a_n) = \\lim_{h \\to 0} \\frac{f(a_1 + hu_1, a_2 + hu_2, \\ldots, a_n + hu_n) - f(a_1, a_2, \\ldots, a_n)}{h}\n",
    "$$\n",
    "\n",
    "Now, let's apply the multivariable chain rule to the numerator:\n",
    "\n",
    "$$\n",
    "f(a_1 + hu_1, a_2 + hu_2, \\ldots, a_n + hu_n) - f(a_1, a_2, \\ldots, a_n) \\approx \\frac{\\partial f}{\\partial x_1}(a_1, a_2, \\ldots, a_n) \\cdot hu_1 + \\\\\n",
    "\\frac{\\partial f}{\\partial x_2}(a_1, a_2, \\ldots, a_n) \\cdot hu_2 + \\ldots + \\frac{\\partial f}{\\partial x_n}(a_1, a_2, \\ldots, a_n) \\cdot hu_n\n",
    "$$\n",
    "\n",
    "This approximation becomes exact as $h \\to 0$. Substituting this into the definition of the directional derivative:\n",
    "\n",
    "$$\n",
    "D_{\\mathbf{u}}f(a_1, a_2, \\ldots, a_n) = \\lim_{h \\to 0} \\frac{\\frac{\\partial f}{\\partial x_1}(a_1, a_2, \\ldots, a_n) \\cdot hu_1 + \\frac{\\partial f}{\\partial x_2}(a_1, a_2, \\ldots, a_n) \\cdot hu_2 + \\ldots + \\frac{\\partial f}{\\partial x_n}(a_1, a_2, \\ldots, a_n) \\cdot hu_n}{h}\n",
    "$$\n",
    "\n",
    "Now, we can factor out the $h$ from the numerator:\n",
    "\n",
    "$$\n",
    "D_{\\mathbf{u}}f(a_1, a_2, \\ldots, a_n) = \\lim_{h \\to 0} \\frac{h\\left(\\frac{\\partial f}{\\partial x_1}(a_1, a_2, \\ldots, a_n) \\cdot u_1 + \\frac{\\partial f}{\\partial x_2}(a_1, a_2, \\ldots, a_n) \\cdot u_2 + \\ldots + \\frac{\\partial f}{\\partial x_n}(a_1, a_2, \\ldots, a_n) \\cdot u_n\\right)}{h}\n",
    "$$\n",
    "\n",
    "The $h$'s cancel out, and we are left with:\n",
    "\n",
    "$$\n",
    "D_{\\mathbf{u}}f(a_1, a_2, \\ldots, a_n) = \\frac{\\partial f}{\\partial x_1}(a_1, a_2, \\ldots, a_n) \\cdot u_1 + \\frac{\\partial f}{\\partial x_2}(a_1, a_2, \\ldots, a_n) \\cdot u_2 + \\ldots + \\frac{\\partial f}{\\partial x_n}(a_1, a_2, \\ldots, a_n) \\cdot u_n\n",
    "$$\n",
    "\n",
    "Recall that the gradient vector is defined as $\\nabla f = \\left(\\frac{\\partial f}{\\partial x_1}, \\frac{\\partial f}{\\partial x_2}, \\ldots, \\frac{\\partial f}{\\partial x_n}\\right)$. So, the right-hand side of the equation above is the dot product of the gradient vector and the unit vector $\\mathbf{u}$:\n",
    "\n",
    "$$\n",
    "D_{\\mathbf{u}}f(a_1, a_2, \\ldots, a_n) = \\nabla f(a_1, a_2, \\ldots, a_n) \\cdot \\mathbf{u}\n",
    "$$\n",
    "\n",
    "This derivation shows that the directional derivative can be expressed as the dot product of the gradient vector and the unit vector in the desired direction.\n",
    "\n",
    "This formula can also explain why the gradient of the scalar field always points in the direction of the steepest ascent of the function at a given point, and its magnitude represents the rate of change of the function in that direction. The directional derivative $D_{\\mathbf{u}}f(a_1, a_2, \\ldots, a_n)$ has maximum value only in a case when a unit vector $\\mathbf{u}$ has the same direction as gradient $\\nabla f(a_1, a_2, \\ldots, a_n)$.\n"
   ]
  },
  {
   "cell_type": "markdown",
   "metadata": {},
   "source": [
    "### Directional Derivative in the Direction of the Gradient\n",
    "\n",
    "We will start with the formula for the directional derivative:\n",
    "\n",
    "$$ D_{\\mathbf{u}} f = \\nabla f \\cdot \\mathbf{u} $$\n",
    "\n",
    "The next step is to select $ \\mathbf{u} = \\frac{\\nabla f}{\\|\\nabla f\\|} $ and get\n",
    "\n",
    "$$ D_{\\mathbf{u}} f = \\nabla f \\cdot \\frac{\\nabla f}{\\|\\nabla f\\|} = \\frac{\\|\\nabla f\\|^2}{\\|\\nabla f\\|} = \\|\\nabla f\\|$$\n",
    "\n",
    "Therefore, the directional derivative that is calculated in the direction of the gradient is equal to the norm of the gradient. This is the maximum possible value of the directional derivative as demonstrated previously. Thus from the definition of the directional derivative and the obtained formula, we can conclude that the norm of the gradient is the maximum possible rate of change of a scalar-valued function and the direction of this maximum rate of change is the direction of the gradient of this function."
   ]
  },
  {
   "cell_type": "markdown",
   "metadata": {},
   "source": [
    "### Code"
   ]
  },
  {
   "cell_type": "code",
   "execution_count": null,
   "metadata": {},
   "outputs": [],
   "source": [
    "import numpy as np\n",
    "import matplotlib.pyplot as plt\n",
    "import plotly.graph_objects as go\n",
    "from plotly.subplots import make_subplots"
   ]
  },
  {
   "cell_type": "code",
   "execution_count": null,
   "metadata": {},
   "outputs": [],
   "source": [
    "# Define the function\n",
    "def f(x, y):\n",
    "    return x**2 + y**2\n",
    "\n",
    "# Define the gradient of the function\n",
    "def grad_f(x, y):\n",
    "    return np.array([2*x, 2*y])"
   ]
  },
  {
   "cell_type": "code",
   "execution_count": null,
   "metadata": {},
   "outputs": [],
   "source": [
    "# Define the direction vector\n",
    "v = np.array([3, 4])\n",
    "# Unit vector in the direction of v\n",
    "u = v / np.linalg.norm(v)"
   ]
  },
  {
   "cell_type": "code",
   "execution_count": null,
   "metadata": {},
   "outputs": [],
   "source": [
    "# Create a grid of points\n",
    "x = np.linspace(-2, 2, 30)\n",
    "y = np.linspace(-2, 2, 30)\n",
    "X, Y = np.meshgrid(x, y)\n",
    "\n",
    "# Compute the original function values\n",
    "Z_func = f(X, Y)"
   ]
  },
  {
   "cell_type": "code",
   "execution_count": null,
   "metadata": {},
   "outputs": [],
   "source": [
    "# Compute the directional derivatives\n",
    "Z_dir_deriv = np.zeros_like(X)\n",
    "U = np.zeros_like(X)\n",
    "V = np.zeros_like(Y)\n",
    "for i in range(X.shape[0]):\n",
    "    for j in range(X.shape[1]):\n",
    "        grad = grad_f(X[i, j], Y[i, j])\n",
    "        Z_dir_deriv[i, j] = np.dot(grad, u)\n",
    "        U[i, j] = grad[0]\n",
    "        V[i, j] = grad[1]"
   ]
  },
  {
   "cell_type": "markdown",
   "metadata": {},
   "source": [
    "IMPORTANT: The quiver function automatically scales the vectors. This issue is resolved in the next plot where we compare two types of vectors\n"
   ]
  },
  {
   "cell_type": "code",
   "execution_count": null,
   "metadata": {},
   "outputs": [],
   "source": [
    "# Plotting\n",
    "plt.figure(figsize=(10, 8))\n",
    "plt.contourf(X, Y, Z_dir_deriv, 20, cmap='viridis')\n",
    "plt.colorbar(label='Directional Derivative')\n",
    "plt.quiver(X, Y, Z_dir_deriv*u[0], Z_dir_deriv*u[1], color='b') \n",
    "#IMPORTANT: The quiver function automatically scales the vectors. This issue is resolved in the next plot where we compare two types of vectors\n",
    "\n",
    "plt.xlabel('X')\n",
    "plt.ylabel('Y')\n",
    "plt.title('Directional Derivative in Direction of Vector (3, 4)')\n",
    "plt.tight_layout()\n",
    "plt.show()"
   ]
  },
  {
   "cell_type": "markdown",
   "metadata": {},
   "source": [
    "Calculate the value of the directional derivative $D_{\\mathbf{u}}f(x, y)$ using the formula:\n",
    "$D_{\\mathbf{u}}f(x, y) = \\nabla f(x, y) \\cdot \\mathbf{u} = \\frac{\\partial f}{\\partial x}(x, y) \\cdot u_1 + \\frac{\\partial f}{\\partial y}(x, y) \\cdot u_2$\n",
    "Multiply the unit vector $\\mathbf{u}$ by the value of the directional derivative $D_{\\mathbf{u}}f(x, y)$. This will give you a new vector $\\mathbf{v}$ that points in the same direction as $\\mathbf{u}$ but has a magnitude equal to the value of the directional derivative:\n",
    "$\\mathbf{v} = D_{\\mathbf{u}}f(x, y) \\cdot \\mathbf{u} = (D_{\\mathbf{u}}f(x, y) \\cdot u_1, D_{\\mathbf{u}}f(x, y) \\cdot u_2)$\n",
    "To draw the vector $\\mathbf{v}$, start at the point $(x, y)$ and draw an arrow pointing in the direction of $\\mathbf{v}$. The length of the arrow should be proportional to the magnitude of $\\mathbf{v}$."
   ]
  },
  {
   "cell_type": "code",
   "execution_count": null,
   "metadata": {},
   "outputs": [],
   "source": [
    "# Plotting\n",
    "\n",
    "# This is very important to scale the gradient vectors and the directional derivative vectors with the same scale factor in order to compare them\n",
    "scale_factor = 40 \n",
    "\n",
    "plt.figure(figsize=(10, 10))\n",
    "plt.contour(X, Y, Z_func, levels=10, cmap='viridis')\n",
    "# plt.contour(X, Y, Z_func, levels=10, colors='white', linestyles='dashed')  # Contour lines of the original function\n",
    "plt.quiver(X, Y, U, V, color='red',scale=scale_factor, scale_units='xy')  # Gradient vectors\n",
    "plt.quiver(X, Y, Z_dir_deriv*u[0], Z_dir_deriv*u[1], color='blue', scale=scale_factor, scale_units='xy')\n",
    "plt.quiver(0, 0, u[0], u[1], color='green') # direction of the unit vector u\n",
    "\n",
    "plt.xlabel('X')\n",
    "plt.ylabel('Y')\n",
    "plt.title('Contour plot of $f(x, y) = x^2 + y^2$, gradient, and unit vector u scaled by the directional derivative in the direction of u')\n",
    "plt.tight_layout()\n",
    "plt.show()"
   ]
  },
  {
   "cell_type": "code",
   "execution_count": null,
   "metadata": {},
   "outputs": [],
   "source": [
    "# Create a 3D plot\n",
    "# Add the surface plot of the original function\n",
    "surface = go.Surface(z=Z_func, x=X, y=Y, colorscale='Viridis', showscale=True, opacity=0.8)\n",
    "\n",
    "fig = go.Figure(data=[surface])\n",
    "\n",
    "# Update layout\n",
    "fig.update_layout(scene=dict(zaxis_title='f(x, y)', xaxis_title='X', yaxis_title='Y'),\n",
    "                  title=\"3D Plot of f(x, y) = x<sup>2</sup> + y<sup>2</sup>\",\n",
    "                  autosize=True, height=600)\n",
    "\n",
    "# Show the figure\n",
    "fig"
   ]
  },
  {
   "cell_type": "code",
   "execution_count": null,
   "metadata": {},
   "outputs": [],
   "source": [
    "# Create a 3D plot\n",
    "quiver_w = np.zeros_like(U).flatten()  # No change in z for the gradient vectors in this 2D function\n",
    "\n",
    "# Add cones to represent the gradient\n",
    "quiver_grad = go.Cone(x=X.flatten(), y=Y.flatten(), z=Z_func.flatten(),\n",
    "                      u=U.flatten(), v=V.flatten(), w=quiver_w, colorscale='Reds',\n",
    "                      sizemode='scaled', sizeref=1.0, showscale=True,\n",
    "                      colorbar=dict(title=dict(text=\"Gradient Vectors\", side=\"right\"), x=1.1, y=0.5))\n",
    "\n",
    "# Add cones to represent the directional derivatives\n",
    "quiver_dir_deriv = go.Cone(x=X.flatten(), y=Y.flatten(), z=Z_func.flatten(),\n",
    "                           u=(Z_dir_deriv*u[0]).flatten(), v=(Z_dir_deriv*u[1]).flatten(), w=quiver_w, colorscale='Blues',\n",
    "                           sizemode='scaled', sizeref=1.0, showscale=True,\n",
    "                           colorbar=dict(title=dict(text=\"Directional Derivatives\", side=\"right\"), x=1.2, y=0.5))\n",
    "\n",
    "fig = go.Figure(data=[quiver_grad, quiver_dir_deriv])\n",
    "\n",
    "# Update layout\n",
    "fig.update_layout(scene=dict(zaxis_title='f(x, y)', xaxis_title='X', yaxis_title='Y'),\n",
    "                  title=\"3D Plot of Gradients and Directional Derivatives of f(x, y) = x<sup>2</sup> + y<sup>2</sup>\",\n",
    "                  autosize=True, height=600)\n",
    "\n",
    "# Show the figure\n",
    "fig"
   ]
  },
  {
   "cell_type": "code",
   "execution_count": 128,
   "metadata": {},
   "outputs": [],
   "source": [
    "import plotly.express as px\n",
    "\n",
    "# Create a sample figure\n",
    "df = px.data.iris()\n",
    "fig = px.scatter(df, x=\"sepal_width\", y=\"sepal_length\", color=\"species\")\n"
   ]
  },
  {
   "cell_type": "code",
   "execution_count": 129,
   "metadata": {},
   "outputs": [
    {
     "data": {
      "text/html": [
       "<div>                        <script type=\"text/javascript\">window.PlotlyConfig = {MathJaxConfig: 'local'};</script>\n",
       "        <script charset=\"utf-8\" src=\"https://cdn.plot.ly/plotly-3.0.1.min.js\" integrity=\"sha256-oy6Be7Eh6eiQFs5M7oXuPxxm9qbJXEtTpfSI93dW16Q=\" crossorigin=\"anonymous\"></script>                <div id=\"7eb3e0ad-ad65-451c-a319-b524e814d0f9\" class=\"plotly-graph-div\" style=\"height:100%; width:100%;\"></div>            <script type=\"text/javascript\">                window.PLOTLYENV=window.PLOTLYENV || {};                                if (document.getElementById(\"7eb3e0ad-ad65-451c-a319-b524e814d0f9\")) {                    Plotly.newPlot(                        \"7eb3e0ad-ad65-451c-a319-b524e814d0f9\",                        [{\"hovertemplate\":\"species=setosa\\u003cbr\\u003esepal_width=%{x}\\u003cbr\\u003esepal_length=%{y}\\u003cextra\\u003e\\u003c\\u002fextra\\u003e\",\"legendgroup\":\"setosa\",\"marker\":{\"color\":\"#636efa\",\"symbol\":\"circle\"},\"mode\":\"markers\",\"name\":\"setosa\",\"orientation\":\"v\",\"showlegend\":true,\"x\":{\"dtype\":\"f8\",\"bdata\":\"AAAAAAAADEAAAAAAAAAIQJqZmZmZmQlAzczMzMzMCEDNzMzMzMwMQDMzMzMzMw9AMzMzMzMzC0AzMzMzMzMLQDMzMzMzMwdAzczMzMzMCECamZmZmZkNQDMzMzMzMwtAAAAAAAAACEAAAAAAAAAIQAAAAAAAABBAmpmZmZmZEUAzMzMzMzMPQAAAAAAAAAxAZmZmZmZmDkBmZmZmZmYOQDMzMzMzMwtAmpmZmZmZDUDNzMzMzMwMQGZmZmZmZgpAMzMzMzMzC0AAAAAAAAAIQDMzMzMzMwtAAAAAAAAADEAzMzMzMzMLQJqZmZmZmQlAzczMzMzMCEAzMzMzMzMLQGZmZmZmZhBAzczMzMzMEEDNzMzMzMwIQJqZmZmZmQlAAAAAAAAADEDNzMzMzMwIQAAAAAAAAAhAMzMzMzMzC0AAAAAAAAAMQGZmZmZmZgJAmpmZmZmZCUAAAAAAAAAMQGZmZmZmZg5AAAAAAAAACEBmZmZmZmYOQJqZmZmZmQlAmpmZmZmZDUBmZmZmZmYKQA==\"},\"xaxis\":\"x\",\"y\":{\"dtype\":\"f8\",\"bdata\":\"ZmZmZmZmFECamZmZmZkTQM3MzMzMzBJAZmZmZmZmEkAAAAAAAAAUQJqZmZmZmRVAZmZmZmZmEkAAAAAAAAAUQJqZmZmZmRFAmpmZmZmZE0CamZmZmZkVQDMzMzMzMxNAMzMzMzMzE0AzMzMzMzMRQDMzMzMzMxdAzczMzMzMFkCamZmZmZkVQGZmZmZmZhRAzczMzMzMFkBmZmZmZmYUQJqZmZmZmRVAZmZmZmZmFEBmZmZmZmYSQGZmZmZmZhRAMzMzMzMzE0AAAAAAAAAUQAAAAAAAABRAzczMzMzMFEDNzMzMzMwUQM3MzMzMzBJAMzMzMzMzE0CamZmZmZkVQM3MzMzMzBRAAAAAAAAAFkCamZmZmZkTQAAAAAAAABRAAAAAAAAAFkCamZmZmZkTQJqZmZmZmRFAZmZmZmZmFEAAAAAAAAAUQAAAAAAAABJAmpmZmZmZEUAAAAAAAAAUQGZmZmZmZhRAMzMzMzMzE0BmZmZmZmYUQGZmZmZmZhJAMzMzMzMzFUAAAAAAAAAUQA==\"},\"yaxis\":\"y\",\"type\":\"scatter\"},{\"hovertemplate\":\"species=versicolor\\u003cbr\\u003esepal_width=%{x}\\u003cbr\\u003esepal_length=%{y}\\u003cextra\\u003e\\u003c\\u002fextra\\u003e\",\"legendgroup\":\"versicolor\",\"marker\":{\"color\":\"#EF553B\",\"symbol\":\"circle\"},\"mode\":\"markers\",\"name\":\"versicolor\",\"orientation\":\"v\",\"showlegend\":true,\"x\":{\"dtype\":\"f8\",\"bdata\":\"mpmZmZmZCUCamZmZmZkJQM3MzMzMzAhAZmZmZmZmAkBmZmZmZmYGQGZmZmZmZgZAZmZmZmZmCkAzMzMzMzMDQDMzMzMzMwdAmpmZmZmZBUAAAAAAAAAAQAAAAAAAAAhAmpmZmZmZAUAzMzMzMzMHQDMzMzMzMwdAzczMzMzMCEAAAAAAAAAIQJqZmZmZmQVAmpmZmZmZAUAAAAAAAAAEQJqZmZmZmQlAZmZmZmZmBkAAAAAAAAAEQGZmZmZmZgZAMzMzMzMzB0AAAAAAAAAIQGZmZmZmZgZAAAAAAAAACEAzMzMzMzMHQM3MzMzMzARAMzMzMzMzA0AzMzMzMzMDQJqZmZmZmQVAmpmZmZmZBUAAAAAAAAAIQDMzMzMzMwtAzczMzMzMCEBmZmZmZmYCQAAAAAAAAAhAAAAAAAAABEDNzMzMzMwEQAAAAAAAAAhAzczMzMzMBEBmZmZmZmYCQJqZmZmZmQVAAAAAAAAACEAzMzMzMzMHQDMzMzMzMwdAAAAAAAAABEBmZmZmZmYGQA==\"},\"xaxis\":\"x\",\"y\":{\"dtype\":\"f8\",\"bdata\":\"AAAAAAAAHECamZmZmZkZQJqZmZmZmRtAAAAAAAAAFkAAAAAAAAAaQM3MzMzMzBZAMzMzMzMzGUCamZmZmZkTQGZmZmZmZhpAzczMzMzMFEAAAAAAAAAUQJqZmZmZmRdAAAAAAAAAGEBmZmZmZmYYQGZmZmZmZhZAzczMzMzMGkBmZmZmZmYWQDMzMzMzMxdAzczMzMzMGEBmZmZmZmYWQJqZmZmZmRdAZmZmZmZmGEAzMzMzMzMZQGZmZmZmZhhAmpmZmZmZGUBmZmZmZmYaQDMzMzMzMxtAzczMzMzMGkAAAAAAAAAYQM3MzMzMzBZAAAAAAAAAFkAAAAAAAAAWQDMzMzMzMxdAAAAAAAAAGECamZmZmZkVQAAAAAAAABhAzczMzMzMGkAzMzMzMzMZQGZmZmZmZhZAAAAAAAAAFkAAAAAAAAAWQGZmZmZmZhhAMzMzMzMzF0AAAAAAAAAUQGZmZmZmZhZAzczMzMzMFkDNzMzMzMwWQM3MzMzMzBhAZmZmZmZmFEDNzMzMzMwWQA==\"},\"yaxis\":\"y\",\"type\":\"scatter\"},{\"hovertemplate\":\"species=virginica\\u003cbr\\u003esepal_width=%{x}\\u003cbr\\u003esepal_length=%{y}\\u003cextra\\u003e\\u003c\\u002fextra\\u003e\",\"legendgroup\":\"virginica\",\"marker\":{\"color\":\"#00cc96\",\"symbol\":\"circle\"},\"mode\":\"markers\",\"name\":\"virginica\",\"orientation\":\"v\",\"showlegend\":true,\"x\":{\"dtype\":\"f8\",\"bdata\":\"ZmZmZmZmCkCamZmZmZkFQAAAAAAAAAhAMzMzMzMzB0AAAAAAAAAIQAAAAAAAAAhAAAAAAAAABEAzMzMzMzMHQAAAAAAAAARAzczMzMzMDECamZmZmZkJQJqZmZmZmQVAAAAAAAAACEAAAAAAAAAEQGZmZmZmZgZAmpmZmZmZCUAAAAAAAAAIQGZmZmZmZg5AzczMzMzMBECamZmZmZkBQJqZmZmZmQlAZmZmZmZmBkBmZmZmZmYGQJqZmZmZmQVAZmZmZmZmCkCamZmZmZkJQGZmZmZmZgZAAAAAAAAACEBmZmZmZmYGQAAAAAAAAAhAZmZmZmZmBkBmZmZmZmYOQGZmZmZmZgZAZmZmZmZmBkDNzMzMzMwEQAAAAAAAAAhAMzMzMzMzC0DNzMzMzMwIQAAAAAAAAAhAzczMzMzMCEDNzMzMzMwIQM3MzMzMzAhAmpmZmZmZBUCamZmZmZkJQGZmZmZmZgpAAAAAAAAACEAAAAAAAAAEQAAAAAAAAAhAMzMzMzMzC0AAAAAAAAAIQA==\"},\"xaxis\":\"x\",\"y\":{\"dtype\":\"f8\",\"bdata\":\"MzMzMzMzGUAzMzMzMzMXQGZmZmZmZhxAMzMzMzMzGUAAAAAAAAAaQGZmZmZmZh5AmpmZmZmZE0AzMzMzMzMdQM3MzMzMzBpAzczMzMzMHEAAAAAAAAAaQJqZmZmZmRlAMzMzMzMzG0DNzMzMzMwWQDMzMzMzMxdAmpmZmZmZGUAAAAAAAAAaQM3MzMzMzB5AzczMzMzMHkAAAAAAAAAYQJqZmZmZmRtAZmZmZmZmFkDNzMzMzMweQDMzMzMzMxlAzczMzMzMGkDNzMzMzMwcQM3MzMzMzBhAZmZmZmZmGECamZmZmZkZQM3MzMzMzBxAmpmZmZmZHUCamZmZmZkfQJqZmZmZmRlAMzMzMzMzGUBmZmZmZmYYQM3MzMzMzB5AMzMzMzMzGUCamZmZmZkZQAAAAAAAABhAmpmZmZmZG0DNzMzMzMwaQJqZmZmZmRtAMzMzMzMzF0AzMzMzMzMbQM3MzMzMzBpAzczMzMzMGkAzMzMzMzMZQAAAAAAAABpAzczMzMzMGECamZmZmZkXQA==\"},\"yaxis\":\"y\",\"type\":\"scatter\"}],                        {\"template\":{\"data\":{\"histogram2dcontour\":[{\"type\":\"histogram2dcontour\",\"colorbar\":{\"outlinewidth\":0,\"ticks\":\"\"},\"colorscale\":[[0.0,\"#0d0887\"],[0.1111111111111111,\"#46039f\"],[0.2222222222222222,\"#7201a8\"],[0.3333333333333333,\"#9c179e\"],[0.4444444444444444,\"#bd3786\"],[0.5555555555555556,\"#d8576b\"],[0.6666666666666666,\"#ed7953\"],[0.7777777777777778,\"#fb9f3a\"],[0.8888888888888888,\"#fdca26\"],[1.0,\"#f0f921\"]]}],\"choropleth\":[{\"type\":\"choropleth\",\"colorbar\":{\"outlinewidth\":0,\"ticks\":\"\"}}],\"histogram2d\":[{\"type\":\"histogram2d\",\"colorbar\":{\"outlinewidth\":0,\"ticks\":\"\"},\"colorscale\":[[0.0,\"#0d0887\"],[0.1111111111111111,\"#46039f\"],[0.2222222222222222,\"#7201a8\"],[0.3333333333333333,\"#9c179e\"],[0.4444444444444444,\"#bd3786\"],[0.5555555555555556,\"#d8576b\"],[0.6666666666666666,\"#ed7953\"],[0.7777777777777778,\"#fb9f3a\"],[0.8888888888888888,\"#fdca26\"],[1.0,\"#f0f921\"]]}],\"heatmap\":[{\"type\":\"heatmap\",\"colorbar\":{\"outlinewidth\":0,\"ticks\":\"\"},\"colorscale\":[[0.0,\"#0d0887\"],[0.1111111111111111,\"#46039f\"],[0.2222222222222222,\"#7201a8\"],[0.3333333333333333,\"#9c179e\"],[0.4444444444444444,\"#bd3786\"],[0.5555555555555556,\"#d8576b\"],[0.6666666666666666,\"#ed7953\"],[0.7777777777777778,\"#fb9f3a\"],[0.8888888888888888,\"#fdca26\"],[1.0,\"#f0f921\"]]}],\"contourcarpet\":[{\"type\":\"contourcarpet\",\"colorbar\":{\"outlinewidth\":0,\"ticks\":\"\"}}],\"contour\":[{\"type\":\"contour\",\"colorbar\":{\"outlinewidth\":0,\"ticks\":\"\"},\"colorscale\":[[0.0,\"#0d0887\"],[0.1111111111111111,\"#46039f\"],[0.2222222222222222,\"#7201a8\"],[0.3333333333333333,\"#9c179e\"],[0.4444444444444444,\"#bd3786\"],[0.5555555555555556,\"#d8576b\"],[0.6666666666666666,\"#ed7953\"],[0.7777777777777778,\"#fb9f3a\"],[0.8888888888888888,\"#fdca26\"],[1.0,\"#f0f921\"]]}],\"surface\":[{\"type\":\"surface\",\"colorbar\":{\"outlinewidth\":0,\"ticks\":\"\"},\"colorscale\":[[0.0,\"#0d0887\"],[0.1111111111111111,\"#46039f\"],[0.2222222222222222,\"#7201a8\"],[0.3333333333333333,\"#9c179e\"],[0.4444444444444444,\"#bd3786\"],[0.5555555555555556,\"#d8576b\"],[0.6666666666666666,\"#ed7953\"],[0.7777777777777778,\"#fb9f3a\"],[0.8888888888888888,\"#fdca26\"],[1.0,\"#f0f921\"]]}],\"mesh3d\":[{\"type\":\"mesh3d\",\"colorbar\":{\"outlinewidth\":0,\"ticks\":\"\"}}],\"scatter\":[{\"fillpattern\":{\"fillmode\":\"overlay\",\"size\":10,\"solidity\":0.2},\"type\":\"scatter\"}],\"parcoords\":[{\"type\":\"parcoords\",\"line\":{\"colorbar\":{\"outlinewidth\":0,\"ticks\":\"\"}}}],\"scatterpolargl\":[{\"type\":\"scatterpolargl\",\"marker\":{\"colorbar\":{\"outlinewidth\":0,\"ticks\":\"\"}}}],\"bar\":[{\"error_x\":{\"color\":\"#2a3f5f\"},\"error_y\":{\"color\":\"#2a3f5f\"},\"marker\":{\"line\":{\"color\":\"#E5ECF6\",\"width\":0.5},\"pattern\":{\"fillmode\":\"overlay\",\"size\":10,\"solidity\":0.2}},\"type\":\"bar\"}],\"scattergeo\":[{\"type\":\"scattergeo\",\"marker\":{\"colorbar\":{\"outlinewidth\":0,\"ticks\":\"\"}}}],\"scatterpolar\":[{\"type\":\"scatterpolar\",\"marker\":{\"colorbar\":{\"outlinewidth\":0,\"ticks\":\"\"}}}],\"histogram\":[{\"marker\":{\"pattern\":{\"fillmode\":\"overlay\",\"size\":10,\"solidity\":0.2}},\"type\":\"histogram\"}],\"scattergl\":[{\"type\":\"scattergl\",\"marker\":{\"colorbar\":{\"outlinewidth\":0,\"ticks\":\"\"}}}],\"scatter3d\":[{\"type\":\"scatter3d\",\"line\":{\"colorbar\":{\"outlinewidth\":0,\"ticks\":\"\"}},\"marker\":{\"colorbar\":{\"outlinewidth\":0,\"ticks\":\"\"}}}],\"scattermap\":[{\"type\":\"scattermap\",\"marker\":{\"colorbar\":{\"outlinewidth\":0,\"ticks\":\"\"}}}],\"scattermapbox\":[{\"type\":\"scattermapbox\",\"marker\":{\"colorbar\":{\"outlinewidth\":0,\"ticks\":\"\"}}}],\"scatterternary\":[{\"type\":\"scatterternary\",\"marker\":{\"colorbar\":{\"outlinewidth\":0,\"ticks\":\"\"}}}],\"scattercarpet\":[{\"type\":\"scattercarpet\",\"marker\":{\"colorbar\":{\"outlinewidth\":0,\"ticks\":\"\"}}}],\"carpet\":[{\"aaxis\":{\"endlinecolor\":\"#2a3f5f\",\"gridcolor\":\"white\",\"linecolor\":\"white\",\"minorgridcolor\":\"white\",\"startlinecolor\":\"#2a3f5f\"},\"baxis\":{\"endlinecolor\":\"#2a3f5f\",\"gridcolor\":\"white\",\"linecolor\":\"white\",\"minorgridcolor\":\"white\",\"startlinecolor\":\"#2a3f5f\"},\"type\":\"carpet\"}],\"table\":[{\"cells\":{\"fill\":{\"color\":\"#EBF0F8\"},\"line\":{\"color\":\"white\"}},\"header\":{\"fill\":{\"color\":\"#C8D4E3\"},\"line\":{\"color\":\"white\"}},\"type\":\"table\"}],\"barpolar\":[{\"marker\":{\"line\":{\"color\":\"#E5ECF6\",\"width\":0.5},\"pattern\":{\"fillmode\":\"overlay\",\"size\":10,\"solidity\":0.2}},\"type\":\"barpolar\"}],\"pie\":[{\"automargin\":true,\"type\":\"pie\"}]},\"layout\":{\"autotypenumbers\":\"strict\",\"colorway\":[\"#636efa\",\"#EF553B\",\"#00cc96\",\"#ab63fa\",\"#FFA15A\",\"#19d3f3\",\"#FF6692\",\"#B6E880\",\"#FF97FF\",\"#FECB52\"],\"font\":{\"color\":\"#2a3f5f\"},\"hovermode\":\"closest\",\"hoverlabel\":{\"align\":\"left\"},\"paper_bgcolor\":\"white\",\"plot_bgcolor\":\"#E5ECF6\",\"polar\":{\"bgcolor\":\"#E5ECF6\",\"angularaxis\":{\"gridcolor\":\"white\",\"linecolor\":\"white\",\"ticks\":\"\"},\"radialaxis\":{\"gridcolor\":\"white\",\"linecolor\":\"white\",\"ticks\":\"\"}},\"ternary\":{\"bgcolor\":\"#E5ECF6\",\"aaxis\":{\"gridcolor\":\"white\",\"linecolor\":\"white\",\"ticks\":\"\"},\"baxis\":{\"gridcolor\":\"white\",\"linecolor\":\"white\",\"ticks\":\"\"},\"caxis\":{\"gridcolor\":\"white\",\"linecolor\":\"white\",\"ticks\":\"\"}},\"coloraxis\":{\"colorbar\":{\"outlinewidth\":0,\"ticks\":\"\"}},\"colorscale\":{\"sequential\":[[0.0,\"#0d0887\"],[0.1111111111111111,\"#46039f\"],[0.2222222222222222,\"#7201a8\"],[0.3333333333333333,\"#9c179e\"],[0.4444444444444444,\"#bd3786\"],[0.5555555555555556,\"#d8576b\"],[0.6666666666666666,\"#ed7953\"],[0.7777777777777778,\"#fb9f3a\"],[0.8888888888888888,\"#fdca26\"],[1.0,\"#f0f921\"]],\"sequentialminus\":[[0.0,\"#0d0887\"],[0.1111111111111111,\"#46039f\"],[0.2222222222222222,\"#7201a8\"],[0.3333333333333333,\"#9c179e\"],[0.4444444444444444,\"#bd3786\"],[0.5555555555555556,\"#d8576b\"],[0.6666666666666666,\"#ed7953\"],[0.7777777777777778,\"#fb9f3a\"],[0.8888888888888888,\"#fdca26\"],[1.0,\"#f0f921\"]],\"diverging\":[[0,\"#8e0152\"],[0.1,\"#c51b7d\"],[0.2,\"#de77ae\"],[0.3,\"#f1b6da\"],[0.4,\"#fde0ef\"],[0.5,\"#f7f7f7\"],[0.6,\"#e6f5d0\"],[0.7,\"#b8e186\"],[0.8,\"#7fbc41\"],[0.9,\"#4d9221\"],[1,\"#276419\"]]},\"xaxis\":{\"gridcolor\":\"white\",\"linecolor\":\"white\",\"ticks\":\"\",\"title\":{\"standoff\":15},\"zerolinecolor\":\"white\",\"automargin\":true,\"zerolinewidth\":2},\"yaxis\":{\"gridcolor\":\"white\",\"linecolor\":\"white\",\"ticks\":\"\",\"title\":{\"standoff\":15},\"zerolinecolor\":\"white\",\"automargin\":true,\"zerolinewidth\":2},\"scene\":{\"xaxis\":{\"backgroundcolor\":\"#E5ECF6\",\"gridcolor\":\"white\",\"linecolor\":\"white\",\"showbackground\":true,\"ticks\":\"\",\"zerolinecolor\":\"white\",\"gridwidth\":2},\"yaxis\":{\"backgroundcolor\":\"#E5ECF6\",\"gridcolor\":\"white\",\"linecolor\":\"white\",\"showbackground\":true,\"ticks\":\"\",\"zerolinecolor\":\"white\",\"gridwidth\":2},\"zaxis\":{\"backgroundcolor\":\"#E5ECF6\",\"gridcolor\":\"white\",\"linecolor\":\"white\",\"showbackground\":true,\"ticks\":\"\",\"zerolinecolor\":\"white\",\"gridwidth\":2}},\"shapedefaults\":{\"line\":{\"color\":\"#2a3f5f\"}},\"annotationdefaults\":{\"arrowcolor\":\"#2a3f5f\",\"arrowhead\":0,\"arrowwidth\":1},\"geo\":{\"bgcolor\":\"white\",\"landcolor\":\"#E5ECF6\",\"subunitcolor\":\"white\",\"showland\":true,\"showlakes\":true,\"lakecolor\":\"white\"},\"title\":{\"x\":0.05},\"mapbox\":{\"style\":\"light\"}}},\"xaxis\":{\"anchor\":\"y\",\"domain\":[0.0,1.0],\"title\":{\"text\":\"sepal_width\"}},\"yaxis\":{\"anchor\":\"x\",\"domain\":[0.0,1.0],\"title\":{\"text\":\"sepal_length\"}},\"legend\":{\"title\":{\"text\":\"species\"},\"tracegroupgap\":0},\"margin\":{\"t\":60}},                        {\"responsive\": true}                    )                };            </script>        </div>"
      ],
      "text/plain": [
       "<IPython.core.display.HTML object>"
      ]
     },
     "execution_count": 129,
     "metadata": {},
     "output_type": "execute_result"
    }
   ],
   "source": [
    "from IPython.display import HTML\n",
    "\n",
    "# Convert the figure to an HTML string and display it\n",
    "html_fig_str = fig.to_html(full_html=False, include_plotlyjs='cdn')\n",
    "HTML(html_fig_str)\n"
   ]
  }
 ],
 "metadata": {
  "kernelspec": {
   "display_name": "venv",
   "language": "python",
   "name": "python3"
  },
  "language_info": {
   "codemirror_mode": {
    "name": "ipython",
    "version": 3
   },
   "file_extension": ".py",
   "mimetype": "text/x-python",
   "name": "python",
   "nbconvert_exporter": "python",
   "pygments_lexer": "ipython3",
   "version": "3.13.5"
  }
 },
 "nbformat": 4,
 "nbformat_minor": 2
}
