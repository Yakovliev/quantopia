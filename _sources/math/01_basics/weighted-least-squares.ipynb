{
 "cells": [
  {
   "cell_type": "markdown",
   "id": "2f4b4898",
   "metadata": {},
   "source": [
    "# Weighted Least Squares"
   ]
  },
  {
   "cell_type": "markdown",
   "id": "c0a99129",
   "metadata": {},
   "source": [
    "## What is Weighted Least Squares (WLS)?\n",
    "\n",
    "**Weighted Least Squares (WLS)** is a variation of the Ordinary Least Squares (OLS) method. In OLS, it's assumed that the variance of the errors (residuals) is constant across all observations. This assumption is called **homoscedasticity**. However, in many real-world scenarios, this assumption doesn't hold; the errors might be larger for some observations than for others. This situation is called **heteroscedasticity**.\n",
    "\n",
    "When heteroscedasticity is present, OLS gives equal weight to all data points. This can lead to inefficient parameter estimates (meaning the estimates are not the most precise possible) and incorrect standard errors, which in turn affect the reliability of confidence intervals and hypothesis tests.\n",
    "\n",
    "WLS addresses this by assigning different **weights** to each data point in the regression. The goal of WLS is to minimize the sum of the *weighted* squared residuals:\n",
    "\n",
    "$$\\sum_{i=1}^{n} w_i (y_i - f(x_i, \\beta))^2$$\n",
    "\n",
    "where:\n",
    "* $w_i$ is the weight for the $i$-th data point.\n",
    "* $y_i$ is the observed dependent variable for the $i$-th point.\n",
    "* $f(x_i, \\beta)$ is the predicted value from the model for the $i$-th point, with parameters $\\beta$.\n",
    "\n",
    "**How are weights determined?**\n",
    "The weights are typically inversely proportional to the variance of the errors for each observation. If $\\sigma_i^2$ is the variance of the error for the $i$-th observation, then the weight $w_i$ is usually $1/\\sigma_i^2$. This means:\n",
    "* Observations with smaller errors (lower variance) get larger weights, influencing the fit more.\n",
    "* Observations with larger errors (higher variance) get smaller weights, influencing the fit less."
   ]
  },
  {
   "cell_type": "markdown",
   "id": "9b6b2bc1",
   "metadata": {},
   "source": [
    "## Standard deviation\n",
    "\n",
    "In experimental sciences and data analysis, observations are inherently subject to **measurement uncertainty**. This uncertainty reflects the lack of perfect knowledge about the true value of a quantity due to limitations of instruments, environmental variations, or inherent stochastic processes. In our case of the regression analysis and statistics, we may also call it as an \"error\".\n",
    "\n",
    "The **standard deviation ($\\sigma$)** is the most common statistical measure used to quantify the spread or dispersion of a set of data points around their mean. In the context of individual experimental measurements, the standard deviation of a measurement (or its uncertainty) refers to the expected variability if that measurement were to be repeated multiple times under identical conditions.\n",
    "\n",
    "If a measurement $Y$ is reported as $Y \\pm \\delta Y$, where $\\delta Y$ represents the uncertainty, this $\\delta Y$ is frequently taken to be the **standard deviation** of that measurement. It implies that approximately 68.3% of repeated measurements would fall within the range $[Y - \\delta Y, Y + \\delta Y]$, assuming a normal distribution of errors."
   ]
  },
  {
   "cell_type": "markdown",
   "id": "9e3cad65",
   "metadata": {},
   "source": [
    "### Interpretation of Individual Data Points in Weighted Least Squares\n",
    "\n",
    "When performing regression analysis, especially Weighted Least Squares (WLS), each data point $(x_i, y_i)$ is treated as follows:\n",
    "* **$x_i$ (Independent Variable):** Typically assumed to be known precisely, or to have negligible uncertainty compared to $y_i$.\n",
    "* **$y_i$ (Dependent Variable):** This value is considered the **best estimate** (or the sample mean) of the true underlying value of the dependent variable at $x_i$. This implies that if multiple independent measurements of $y$ were taken at $x_i$, $y_i$ would represent their average, aiming to minimize random errors.\n",
    "* **$\\sigma_i$ (Uncertainty/Standard Deviation of $y_i$):** This parameter, provided to the fitting algorithm (e.g., via the `sigma` argument in `scipy.optimize.curve_fit`), quantifies the **standard deviation of the measurement $y_i$**. It reflects the precision with which $y_i$ was determined. A smaller $\\sigma_i$ indicates a more precise (less uncertain) measurement, and vice-versa.\n"
   ]
  },
  {
   "cell_type": "markdown",
   "id": "7b11376e",
   "metadata": {},
   "source": [
    "### Role in Weighted Least Squares (WLS)\n",
    "\n",
    "The `scipy.optimize.curve_fit` function, when provided with the `sigma` array and `absolute_sigma=True`, performs a Weighted Least Squares minimization.\n",
    "\n",
    "* **Weight Calculation:** For each data point $(x_i, y_i)$ with associated standard deviation $\\sigma_i$, a weight $w_i$ is calculated as the inverse of the variance: $w_i = \\frac{1}{\\sigma_i^2}$.\n",
    "* **Minimization Objective:** The Levenberg-Marquardt algorithm (the default for `curve_fit`) then seeks to minimize the **weighted sum of squared residuals (WSSR)**:\n",
    "\n",
    "    $$\\text{WSSR} = \\sum_{i=1}^{N} w_i (y_i - f(x_i, \\beta))^2 = \\sum_{i=1}^{N} \\frac{(y_i - f(x_i, \\beta))^2}{\\sigma_i^2}$$\n",
    "    \n",
    "    where $f(x_i, \\beta)$ is the model's predicted value and $\\beta$ represents the model parameters.\n",
    "* **Impact of Weights:** Measurements with smaller $\\sigma_i$ (higher precision) receive larger weights ($w_i$), thus exerting a greater influence on the determination of the fitted parameters. Conversely, measurements with larger $\\sigma_i$ (lower precision) receive smaller weights, having less impact on the fit. This ensures that the fitting process prioritizes minimizing deviations for the more reliable data points.\n",
    "\n",
    "By incorporating these standard deviations, WLS provides more statistically efficient (more precise) estimates of the model parameters when the assumption of constant error variance (homoscedasticity) is violated, as is the case when different data points have different known uncertainties."
   ]
  },
  {
   "cell_type": "markdown",
   "id": "6b153194",
   "metadata": {},
   "source": [
    "## What if each point has the same standard deviation?\n",
    "\n",
    "If each data point has the same standard deviation, the homoscedasticity is not violated. However, we can use standard deviation data to improve our results."
   ]
  },
  {
   "cell_type": "markdown",
   "id": "2b561742",
   "metadata": {},
   "source": [
    "**Homoscedasticity** is the statistical assumption that the **variance of the errors** is constant across all levels of the independent variable. In our notation, this means $\\sigma_i^2 = C$, where $C$ is a constant for all data points $i$.\n",
    "\n",
    "Since standard deviation is the square root of variance ($\\sigma = \\sqrt{\\sigma^2}$), a constant variance implies a constant standard deviation. If every data point has the same standard deviation, then the assumption of homoscedasticity is **satisfied and not violated**.\n"
   ]
  },
  {
   "cell_type": "markdown",
   "id": "c195c2f1",
   "metadata": {},
   "source": [
    "This leads to a crucial and interesting point about the relationship between Weighted Least Squares (WLS) and Ordinary Least Squares (OLS).\n",
    "\n",
    "1.  **WLS Objective:** WLS minimizes the weighted sum of squared residuals:\n",
    "\n",
    "    $$\\sum_{i=1}^{N} w_i (y_i - f(x_i, \\beta))^2$$\n",
    "\n",
    "    where the weight $w_i = 1/\\sigma_i^2$.\n",
    "\n",
    "2.  **When Homoscedasticity is Satisfied:** If every data point has the same standard deviation, let's call it $\\sigma_{const}$. Then, for all $i$, we have $\\sigma_i = \\sigma_{const}$. This means all the weights are also the same:\n",
    "\n",
    "    $$w_i = \\frac{1}{\\sigma_i^2} = \\frac{1}{\\sigma_{const}^2} = C$$\n",
    "\n",
    "    where $C$ is a constant.\n",
    "\n",
    "3.  **Mathematical Equivalence:** The WLS minimization objective then becomes:\n",
    "\n",
    "    $$\\sum_{i=1}^{N} C (y_i - f(x_i, \\beta))^2 = C \\sum_{i=1}^{N} (y_i - f(x_i, \\beta))^2$$\n",
    "\n",
    "    Since $C$ is just a positive constant, minimizing this expression is mathematically identical to minimizing the expression without the constant:\n",
    "\n",
    "    $$\\sum_{i=1}^{N} (y_i - f(x_i, \\beta))^2$$\n",
    "    \n",
    "    This is exactly the objective of **Ordinary Least Squares (OLS)**."
   ]
  },
  {
   "cell_type": "markdown",
   "id": "b1390d6b",
   "metadata": {},
   "source": [
    "If the assumption of homoscedasticity holds true (i.e., every data point has the same standard deviation), then **Weighted Least Squares and Ordinary Least Squares will produce the exact same parameter estimates**.\n",
    "\n",
    "However, WLS can still be valuable even in this situation if you have a known, constant `sigma` and use `absolute_sigma=True`, because it will provide you with the correct uncertainties (standard errors) for your fitted parameters. OLS would simply assume the errors are scaled by the goodness of fit, which might not be an accurate reflection of the true experimental uncertainties."
   ]
  },
  {
   "cell_type": "markdown",
   "id": "9e6cf041",
   "metadata": {},
   "source": [
    "### Scenario A: Using a constant `sigma` array with `absolute_sigma=True`\n",
    "\n",
    "Let's assume your known, constant standard deviation is $\\sigma_{known} = 0.5$. Your `sigma` array would be `[0.5, 0.5, 0.5, ...]`\n",
    "\n",
    "* **Fitted Parameters (`popt`):** The optimal values for parameters A and B will be **identical** to the case where you don't use `sigma`. As we discussed, the minimization is mathematically equivalent to OLS, and the location of the minimum of the objective function is the same.\n",
    "* **Covariance Matrix (`pcov`) and Parameter Errors (`perr`):** This is where the difference lies. By providing `sigma` and setting `absolute_sigma=True`, you are telling the algorithm: \"My measurements have an absolute standard deviation of 0.5. Calculate the parameter uncertainties based on this known fact.\" The covariance matrix (`pcov`) and the standard errors (`perr`) derived from it will directly reflect the propagated uncertainty from your measurements.\n",
    "\n",
    "This is the **statistically correct** approach when you have known measurement uncertainties. The resulting parameter errors are a more accurate representation of the true uncertainty in your fitted parameters, grounded in the physical reality of your experiment.\n",
    "\n",
    "### Scenario B: Skipping the `sigma` parameter\n",
    "\n",
    "In this case, you simply call `curve_fit` without specifying `sigma`.\n",
    "\n",
    "* **Fitted Parameters (`popt`):** The optimal values for parameters A and B will be **identical** to Scenario A.\n",
    "* **Covariance Matrix (`pcov`) and Parameter Errors (`perr`):** The `curve_fit` function handles this differently. It performs a standard OLS fit (which is equivalent to WLS with constant weights), but then it **scales the covariance matrix by the reduced chi-squared value (the goodness of fit)**. This is the behavior of `absolute_sigma=False` (the default).\n",
    "\n",
    "    * The standard errors you get are based on the **observed scatter of your data points around the fitted curve**, not on any known measurement uncertainty.\n",
    "    * If your data points are very close to the fitted curve, the reduced chi-squared value will be small, and the calculated `perr` will be artificially small.\n",
    "    * If your data points are very scattered around the fitted curve, the reduced chi-squared value will be large, and the calculated `perr` will be artificially large."
   ]
  },
  {
   "cell_type": "markdown",
   "metadata": {},
   "source": [
    "Summary:\n",
    "\n",
    "| Feature                  | Using `sigma` with `absolute_sigma=True` (constant `sigma`) | Skipping `sigma` (OLS)                                    |\n",
    "| ------------------------ | ------------------------------------------------------------- | ----------------------------------------------------------- |\n",
    "| **Fitted Parameters (`popt`)** | **Identical** | **Identical** |\n",
    "| **Parameter Errors (`perr`)** | **More Accurate.** Based on your known measurement uncertainty. | **Less Accurate.** Based on the observed scatter of the data. |\n",
    "| **Statistical Assumption** | You know the absolute uncertainty of your measurements.         | You don't know the absolute uncertainty, and the uncertainty is constant. |\n",
    "| **Purpose** | To find the parameters and their uncertainties based on your experimental knowledge. | To find the parameters and their uncertainties based on the model's goodness of fit. |"
   ]
  }
 ],
 "metadata": {
  "kernelspec": {
   "display_name": "venv (3.13.5)",
   "language": "python",
   "name": "python3"
  },
  "language_info": {
   "codemirror_mode": {
    "name": "ipython",
    "version": 3
   },
   "file_extension": ".py",
   "mimetype": "text/x-python",
   "name": "python",
   "nbconvert_exporter": "python",
   "pygments_lexer": "ipython3",
   "version": "3.13.5"
  }
 },
 "nbformat": 4,
 "nbformat_minor": 5
}
