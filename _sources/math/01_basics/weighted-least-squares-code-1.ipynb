{
 "cells": [
  {
   "cell_type": "markdown",
   "id": "1e95e97c",
   "metadata": {},
   "source": [
    "# WLS - Code Examples Part 1"
   ]
  },
  {
   "cell_type": "markdown",
   "id": "3a0b118f",
   "metadata": {},
   "source": [
    "## Example 1\n",
    "\n",
    "Documentation link: https://www.statsmodels.org/dev/generated/statsmodels.regression.linear_model.RegressionResults.html#statsmodels.regression.linear_model.RegressionResults"
   ]
  },
  {
   "cell_type": "code",
   "execution_count": 467,
   "id": "dc801d71",
   "metadata": {},
   "outputs": [],
   "source": [
    "import numpy as np\n",
    "import statsmodels.api as sm\n",
    "import matplotlib.pyplot as plt\n",
    "from statsmodels.tools.eval_measures import rmse\n",
    "import scipy.stats as stats"
   ]
  },
  {
   "cell_type": "code",
   "execution_count": 468,
   "id": "c0c786e7",
   "metadata": {},
   "outputs": [],
   "source": [
    "# Sample data from a hypothetical physics experiment\n",
    "# x represents an independent variable\n",
    "# y_obs represents the observed dependent variable\n",
    "x = np.array([1, 2, 3, 4, 5, 6, 7, 8])\n",
    "y_obs = np.array([2.3, 3.8, 5.1, 6.9, 8.2, 10.3, 11.8, 14.1])"
   ]
  },
  {
   "cell_type": "code",
   "execution_count": 469,
   "id": "8732fb7a",
   "metadata": {},
   "outputs": [],
   "source": [
    "# Standard deviation for each data point\n",
    "sigma = np.array([0.2, 0.3, 0.4, 0.5, 0.6, 0.7, 0.8, 0.9])"
   ]
  },
  {
   "cell_type": "code",
   "execution_count": 470,
   "id": "583c95de",
   "metadata": {},
   "outputs": [],
   "source": [
    "# The weights for WLS are the inverse of the variance (1 / sigma^2)\n",
    "weights = 1.0 / (sigma**2)\n",
    "\n",
    "# Add a constant to the independent variable to include an intercept in the model\n",
    "X = sm.add_constant(x)"
   ]
  },
  {
   "cell_type": "code",
   "execution_count": 471,
   "id": "14fdf6c2",
   "metadata": {},
   "outputs": [
    {
     "name": "stdout",
     "output_type": "stream",
     "text": [
      "[[1. 1.]\n",
      " [1. 2.]\n",
      " [1. 3.]\n",
      " [1. 4.]\n",
      " [1. 5.]\n",
      " [1. 6.]\n",
      " [1. 7.]\n",
      " [1. 8.]]\n"
     ]
    }
   ],
   "source": [
    "print(X)\n"
   ]
  },
  {
   "cell_type": "markdown",
   "id": "679720b8",
   "metadata": {},
   "source": [
    "### The Intercept Term in Linear Regression \n",
    "\n",
    "In a linear regression model, the relationship between a dependent variable ($y$) and an independent variable ($x$) is expressed as:\n",
    "\n",
    "$y = \\beta_0 + \\beta_1x + \\epsilon$\n",
    "\n",
    "Here, $\\beta_0$ is the **intercept** and $\\beta_1$ is the slope. The intercept ($\\beta_0$) represents the expected value of $y$ when $x$ is zero. In the context of our code, it represents the baseline spending when income is zero. The `statsmodels` library, by default, expects you to explicitly include this intercept term as a column of ones in your predictor matrix. This is because it treats the linear model as:\n",
    "\n",
    "$y = \\beta_0 \\cdot 1 + \\beta_1 \\cdot x + \\epsilon$\n",
    "\n",
    "By adding a constant column of ones to your predictor variables, you're creating a matrix where the first column is a representation of the constant term (1), allowing the model to estimate the coefficient $\\beta_0$.\n",
    "\n",
    "### How `sm.add_constant` Works\n",
    "\n",
    "The `sm.add_constant(income)` function takes the `income` array and adds a new column of ones to the beginning of it.\n",
    "\n",
    "* **Original `income` array:**\n",
    "    `[1.0, 2.0, ..., 8.0]`\n",
    "\n",
    "* **After `sm.add_constant(income)`:**\n",
    "    `[[1.0, 1.0], [1.0, 2.0], ..., [1.0, 8.0]]`\n",
    "    \n",
    "This modified array, named `X`, now has two columns. The first column (all ones) is used to calculate the intercept, while the second column (`income`) is used to calculate the slope. This is why the in the comment to the code we mentioned \"(for the intercept)\"; it's explicitly explaining the purpose of adding the constant column."
   ]
  },
  {
   "cell_type": "code",
   "execution_count": 472,
   "id": "643da5a1",
   "metadata": {},
   "outputs": [
    {
     "name": "stdout",
     "output_type": "stream",
     "text": [
      "                            WLS Regression Results                            \n",
      "==============================================================================\n",
      "Dep. Variable:                      y   R-squared:                       0.996\n",
      "Model:                            WLS   Adj. R-squared:                  0.995\n",
      "Method:                 Least Squares   F-statistic:                     1443.\n",
      "Date:                Fri, 15 Aug 2025   Prob (F-statistic):           2.22e-08\n",
      "Time:                        22:39:04   Log-Likelihood:               0.049782\n",
      "No. Observations:                   8   AIC:                             3.900\n",
      "Df Residuals:                       6   BIC:                             4.059\n",
      "Df Model:                           1                                         \n",
      "Covariance Type:            nonrobust                                         \n",
      "==============================================================================\n",
      "                 coef    std err          t      P>|t|      [0.025      0.975]\n",
      "------------------------------------------------------------------------------\n",
      "const          0.6375      0.126      5.078      0.002       0.330       0.945\n",
      "x1             1.5857      0.042     37.986      0.000       1.484       1.688\n",
      "==============================================================================\n",
      "Omnibus:                        0.030   Durbin-Watson:                   1.334\n",
      "Prob(Omnibus):                  0.985   Jarque-Bera (JB):                0.183\n",
      "Skew:                           0.086   Prob(JB):                        0.913\n",
      "Kurtosis:                       2.280   Cond. No.                         5.31\n",
      "==============================================================================\n",
      "\n",
      "Notes:\n",
      "[1] Standard Errors assume that the covariance matrix of the errors is correctly specified.\n"
     ]
    }
   ],
   "source": [
    "# Fit the Weighted Least Squares model\n",
    "wls_model = sm.WLS(y_obs, X, weights=weights)\n",
    "results = wls_model.fit()\n",
    "\n",
    "# --- Print the detailed summary of the regression ---\n",
    "print(results.summary())"
   ]
  },
  {
   "cell_type": "markdown",
   "id": "8ac415f7",
   "metadata": {},
   "source": [
    "### Output Analysis\n",
    "\n",
    "The parameters `t`, `P>|t|`, and `[0.025 0.975]` are essential for **hypothesis testing** and **confidence interval estimation**. They help us determine if the relationship between our independent and dependent variables is statistically significant.\n",
    "\n",
    "### The t-statistic ($t$)\n",
    "\n",
    "The **t-statistic** measures how many standard deviations the estimated coefficient is from zero. In other words, it quantifies the evidence against the null hypothesis ($H_0$), which states that the true coefficient is zero (i.e., there is no relationship between the independent and dependent variables). A larger absolute value of $t$ indicates that the coefficient is less likely to be zero by chance.\n",
    "\n",
    "$$t = \\frac{\\text{Estimated Coefficient} - 0}{\\text{Standard Error of the Coefficient}}$$\n",
    "\n",
    "In our output:\n",
    "* For the intercept $\\beta_0$: $t = \\frac{0.6375}{0.126} \\approx 5.078$.\n",
    "* For the slope coefficient $\\beta_1$: $t = \\frac{1.5857}{0.042} \\approx 37.986$.\n",
    "\n",
    "The very high $t$-statistic for the slope coefficient ($37.986$) strongly suggests that the slope is not zero, meaning there is a significant relationship between $x$ and $y$.\n",
    "\n",
    "### The P-value ($P>|t|$)\n",
    "\n",
    "The **P-value** is the probability of observing a $t$-statistic as extreme as, or more extreme than, the one calculated, assuming the null hypothesis is true. A small P-value provides strong evidence to **reject the null hypothesis**. The common threshold for significance is $\\alpha = 0.05$. If our P-value is less than 0.05, we can conclude that the coefficient is statistically significant. \n",
    "\n",
    "In our output:\n",
    "* For the intercept $\\beta_0$: the P-value is 0.002\n",
    "* For the slope coefficient $\\beta_1$: the P-value is 0.000\n",
    "* This means the probability of observing these coefficients if there were no real relationship is practically zero. You can confidently reject the null hypothesis and conclude that both the intercept and the slope are statistically significant.\n",
    "\n",
    "### The Confidence Interval ([0.025 0.975])\n",
    "\n",
    "The **confidence interval** is a range of values that likely contains the true, unknown value of the coefficient. The `[0.025 0.975]` columns represent the **95% confidence interval**, meaning that if you were to repeat our sampling and analysis many times, 95% of the calculated confidence intervals would contain the true population parameter. The key takeaway is to see if this interval includes zero. If the interval does not contain zero, it is further evidence that the coefficient is statistically significant, consistent with a low P-value.\n",
    "\n",
    "In our output:\n",
    "* For the intercept $\\beta_0$: The 95% confidence interval is `[0.330, 0.945]`. Since this range does not contain zero, the intercept is statistically significant.\n",
    "* For the income coefficient ($\\beta_1$): The 95% confidence interval is `[1.484, 1.688]`. This range also does not contain zero."
   ]
  },
  {
   "cell_type": "code",
   "execution_count": 473,
   "id": "c289be22",
   "metadata": {},
   "outputs": [
    {
     "name": "stdout",
     "output_type": "stream",
     "text": [
      "Degrees of Freedom: 6.0\n",
      "Number of Observations: 8.0\n",
      "Condition Number: 5.307859000400287\n"
     ]
    }
   ],
   "source": [
    "# Degrees of Freedom\n",
    "degrees_of_freedom = results.df_resid\n",
    "print(f\"Degrees of Freedom: {degrees_of_freedom}\")\n",
    "\n",
    "n = results.nobs\n",
    "print(f\"Number of Observations: {n}\")\n",
    "\n",
    "condition_number = results.condition_number\n",
    "print(f\"Condition Number: {condition_number}\")"
   ]
  },
  {
   "cell_type": "code",
   "execution_count": 474,
   "id": "65693e24",
   "metadata": {},
   "outputs": [
    {
     "name": "stdout",
     "output_type": "stream",
     "text": [
      "T-value for Intercept: 5.078177576125257\n",
      "T-value for Slope: 37.98558492481207\n"
     ]
    }
   ],
   "source": [
    "t_value_intercept = results.tvalues[0]\n",
    "print(f\"T-value for Intercept: {t_value_intercept}\")\n",
    "\n",
    "t_value_slope = results.tvalues[1]\n",
    "print(f\"T-value for Slope: {t_value_slope}\")"
   ]
  },
  {
   "cell_type": "code",
   "execution_count": 475,
   "id": "a70d0d65",
   "metadata": {},
   "outputs": [
    {
     "name": "stdout",
     "output_type": "stream",
     "text": [
      "P-value for Intercept: 0.002269613591419451\n",
      "P-value for Slope: 2.2225928494730514e-08\n"
     ]
    }
   ],
   "source": [
    "p_value_intercept = results.pvalues[0]\n",
    "print(f\"P-value for Intercept: {p_value_intercept}\")\n",
    "\n",
    "p_value_slope = results.pvalues[1]\n",
    "print(f\"P-value for Slope: {p_value_slope}\")"
   ]
  },
  {
   "cell_type": "code",
   "execution_count": 476,
   "id": "eef17481",
   "metadata": {},
   "outputs": [
    {
     "name": "stdout",
     "output_type": "stream",
     "text": [
      "P-value for Intercept (SciPy): 0.002269613591419451\n",
      "P-value for Slope (SciPy): 2.2225928494730514e-08\n"
     ]
    }
   ],
   "source": [
    "p_value_intercept_scipy = stats.t.sf(np.abs(t_value_intercept), df=degrees_of_freedom) * 2  # two-tailed p-value\n",
    "print(f\"P-value for Intercept (SciPy): {p_value_intercept_scipy}\")\n",
    "\n",
    "p_value_slope_scipy = stats.t.sf(np.abs(t_value_slope), df=degrees_of_freedom) * 2  # two-tailed p-value\n",
    "print(f\"P-value for Slope (SciPy): {p_value_slope_scipy}\")\n"
   ]
  },
  {
   "cell_type": "code",
   "execution_count": 477,
   "id": "0c44223f",
   "metadata": {},
   "outputs": [
    {
     "name": "stdout",
     "output_type": "stream",
     "text": [
      "1) RSS from unweighted residuals (results.resid): 0.8626\n",
      "2) Weighted RSS from weighted residuals (results.wresid): 1.8848\n",
      "3) Weighted RSS from results.ssr: 1.8848\n",
      "4) Manually calculated RSS (unweighted): 0.8626\n",
      "5) Manually calculated Weighted RSS: 1.8848\n"
     ]
    }
   ],
   "source": [
    "# --- 1) Calculate RSS using results.resid (unweighted residuals) ---\n",
    "rss_unweighted = np.sum(results.resid**2)\n",
    "print(f\"1) RSS from unweighted residuals (results.resid): {rss_unweighted:.4f}\")\n",
    "\n",
    "\n",
    "# --- 2) Calculate RSS using results.wresid (weighted residuals) ---\n",
    "# This is the value that WLS minimizes.\n",
    "rss_weighted_from_wresid = np.sum(results.wresid**2)\n",
    "print(f\"2) Weighted RSS from weighted residuals (results.wresid): {rss_weighted_from_wresid:.4f}\")\n",
    "\n",
    "rss_weighted_sm = results.ssr\n",
    "print(f\"3) Weighted RSS from results.ssr: {rss_weighted_sm:.4f}\")\n",
    "\n",
    "\n",
    "# --- 3) Calculate RSS manually using the linear equation ---\n",
    "# Get the coefficients from the model results\n",
    "intercept, slope = results.params\n",
    "# Calculate the predicted y values\n",
    "y_pred = intercept + slope * x\n",
    "# Calculate the residuals manually\n",
    "manual_residuals = y_obs - y_pred\n",
    "# Square and sum the residuals\n",
    "rss_unweighted_manual = np.sum(manual_residuals**2)\n",
    "print(f\"4) Manually calculated RSS (unweighted): {rss_unweighted_manual:.4f}\")\n",
    "\n",
    "\n",
    "# --- 4) Calculate weighted RSS manually ---\n",
    "# Use the manual residuals and the weights\n",
    "manual_weighted_residuals_sq = (manual_residuals**2) * weights\n",
    "rss_weighted_manual = np.sum(manual_weighted_residuals_sq)\n",
    "print(f\"5) Manually calculated Weighted RSS: {rss_weighted_manual:.4f}\")\n",
    "\n",
    "# --- Verification ---\n",
    "# Note that the unweighted RSS values from (1) and (3) should be identical.\n",
    "# The weighted RSS values from (2) and (4) should also be identical.\n",
    "# The small differences might occur due to floating-point precision."
   ]
  },
  {
   "cell_type": "code",
   "execution_count": 478,
   "id": "4f5ea30f",
   "metadata": {},
   "outputs": [
    {
     "name": "stdout",
     "output_type": "stream",
     "text": [
      "Total weighted sum of squares centered about the mean (statsmodels results.centered_tss): 455.1540\n",
      "Uncentered total weighted sum of squares (statsmodels results.uncentered_tss): 1511.9919\n",
      "\n",
      "Manual calculation of total (weighted) sum of squares centered about the mean: 455.1540\n",
      "Manual calculation of uncentered total (weighted) sum of squares: 1511.9919\n",
      "\n",
      "Manual calculation of unweighted TSS centered about the mean: 116.4488\n",
      "Manual calculation of uncentered unweighted TSS: 604.7300\n"
     ]
    }
   ],
   "source": [
    "# 1) print tss value using results.centered_tss\n",
    "centered_tss_sm = results.centered_tss\n",
    "print(f\"Total weighted sum of squares centered about the mean (statsmodels results.centered_tss): {centered_tss_sm:.4f}\")\n",
    "\n",
    "# 2) print tss value using results.uncentered_tss\n",
    "uncentered_tss_sm = results.uncentered_tss\n",
    "print(f\"Uncentered total weighted sum of squares (statsmodels results.uncentered_tss): {uncentered_tss_sm:.4f}\")\n",
    "\n",
    "# 3) calculate centered_tss manually\n",
    "# First, calculate the weighted mean of y_obs\n",
    "weighted_mean_y = np.sum(weights * y_obs) / np.sum(weights)\n",
    "# Then, calculate the centered_tss using the formula\n",
    "weighted_centered_tss_manual = np.sum(weights * (y_obs - weighted_mean_y)**2)\n",
    "print(f\"\\nManual calculation of total (weighted) sum of squares centered about the mean: {weighted_centered_tss_manual:.4f}\")\n",
    "\n",
    "# 4) calculate uncentered_tss manually\n",
    "# The formula is the sum of weighted squared y values\n",
    "weighted_uncentered_tss_manual = np.sum(weights * y_obs**2)\n",
    "print(f\"Manual calculation of uncentered total (weighted) sum of squares: {weighted_uncentered_tss_manual:.4f}\")\n",
    "\n",
    "# --- Manual Unweighted Calculations ---\n",
    "\n",
    "# 5) calculate unweighted centered_tss manually\n",
    "# First, calculate the standard (unweighted) mean of y_obs\n",
    "unweighted_mean_y = np.mean(y_obs)\n",
    "# Then, calculate the unweighted centered_tss\n",
    "# Formula: sum((y_obs - mean(y_obs))^2)\n",
    "unweighted_centered_tss_manual = np.sum((y_obs - unweighted_mean_y)**2)\n",
    "print(f\"\\nManual calculation of unweighted TSS centered about the mean: {unweighted_centered_tss_manual:.4f}\")\n",
    "\n",
    "# 6) calculate unweighted uncentered_tss manually\n",
    "# The formula is the sum of squared y values without weighting\n",
    "# Formula: sum(y_obs^2)\n",
    "unweighted_uncentered_tss_manual = np.sum(y_obs**2)\n",
    "print(f\"Manual calculation of uncentered unweighted TSS: {unweighted_uncentered_tss_manual:.4f}\")"
   ]
  },
  {
   "cell_type": "code",
   "execution_count": 479,
   "id": "8102d80f",
   "metadata": {},
   "outputs": [
    {
     "name": "stdout",
     "output_type": "stream",
     "text": [
      "Weighted Explained Sum of Squares (ESS): 453.2692\n",
      "Weighted Explained Sum of Squares (ESS) manual calculation: 453.2692\n",
      "Explained Sum of Squares (ESS) unweighted manual calculation: 105.6192\n"
     ]
    }
   ],
   "source": [
    "ess = results.ess # The explained sum of squares.\n",
    "print(f\"Weighted Explained Sum of Squares (ESS): {ess:.4f}\")\n",
    "\n",
    "# Manually calculate the ESS\n",
    "# Get the fitted values (y_hat) from the model\n",
    "y_hat = results.predict(X)\n",
    "\n",
    "# Calculate the weighted mean of y_obs\n",
    "weighted_mean_y = np.sum(weights * y_obs) / np.sum(weights)\n",
    "\n",
    "# Calculate ESS using the formula: sum(weights * (y_hat - weighted_mean_y)^2)\n",
    "ess_weighted_manual = np.sum(weights * (y_hat - weighted_mean_y)**2)\n",
    "print(f\"Weighted Explained Sum of Squares (ESS) manual calculation: {ess_weighted_manual:.4f}\")\n",
    "\n",
    "# Calculate the unweighted mean of y_obs\n",
    "unweighted_mean_y = np.mean(y_obs)\n",
    "\n",
    "# Finally, calculate the unweighted ESS using the formula: sum((y_hat - unweighted_mean_y)^2)\n",
    "ess_unweighted_manual = np.sum((y_hat - unweighted_mean_y)**2)\n",
    "print(f\"Explained Sum of Squares (ESS) unweighted manual calculation: {ess_unweighted_manual:.4f}\")"
   ]
  },
  {
   "cell_type": "code",
   "execution_count": 480,
   "id": "f9a89580",
   "metadata": {},
   "outputs": [
    {
     "name": "stdout",
     "output_type": "stream",
     "text": [
      "Number of observations (n): 8.0\n",
      "Number of parameters (p): 2.0\n"
     ]
    }
   ],
   "source": [
    "# Get the number of observations and parameters\n",
    "n = results.nobs\n",
    "p = results.df_model + 1  # df_model is number of explanatory variables, add 1 for intercept\n",
    "\n",
    "print(f\"Number of observations (n): {n}\")\n",
    "print(f\"Number of parameters (p): {p}\")"
   ]
  },
  {
   "cell_type": "code",
   "execution_count": 481,
   "id": "935564b9",
   "metadata": {},
   "outputs": [
    {
     "name": "stdout",
     "output_type": "stream",
     "text": [
      "Weighted R-squared (statsmodels results.rsquared): 0.9959\n",
      "Weighted Adjusted R-squared (statsmodels results.rsquared_adj): 0.9952\n",
      "\n",
      "Manual Weighted R-squared (1 - RSS_w/TSS_w): 0.9959\n",
      "Manual Weighted Adjusted R-squared: 0.9952\n",
      "\n",
      "Manual Unweighted R-squared (1 - RSS/TSS): 0.9926\n",
      "Manual Unweighted Adjusted R-squared: 0.9914\n",
      "\n",
      "Manual Weighted R-squared (alternative formula) (ESS_w/TSS_w): 0.9959\n",
      "Manual Unweighted R-squared alternative formula (ESS/TSS): 0.9070\n"
     ]
    }
   ],
   "source": [
    "r_squared = results.rsquared\n",
    "print(f\"Weighted R-squared (statsmodels results.rsquared): {r_squared:.4f}\")\n",
    "\n",
    "r_squared_adj = results.rsquared_adj\n",
    "print(f\"Weighted Adjusted R-squared (statsmodels results.rsquared_adj): {r_squared_adj:.4f}\")\n",
    "\n",
    "# --- Manual calculation of Weighted R-squared ---\n",
    "\n",
    "r_squared_manual_weighted = 1 - rss_weighted_manual / weighted_centered_tss_manual\n",
    "print(f\"\\nManual Weighted R-squared (1 - RSS_w/TSS_w): {r_squared_manual_weighted:.4f}\")\n",
    "\n",
    "# Manual calculation of Weighted Adjusted R-squared\n",
    "# Formula: 1 - (1 - R^2_w) * ((n-1)/(n-p))\n",
    "r_squared_adj_manual_weighted = 1 - (1 - r_squared_manual_weighted) * ((n - 1) / (n - p))\n",
    "print(f\"Manual Weighted Adjusted R-squared: {r_squared_adj_manual_weighted:.4f}\")\n",
    "\n",
    "# --- Manual calculation of Unweighted R-squared ---\n",
    "# We need to calculate the unweighted centered TSS first\n",
    "unweighted_mean_y = np.mean(y_obs)\n",
    "unweighted_centered_tss = np.sum((y_obs - unweighted_mean_y)**2)\n",
    "\n",
    "r_squared_manual_unweighted = 1 - rss_unweighted_manual / unweighted_centered_tss\n",
    "print(f\"\\nManual Unweighted R-squared (1 - RSS/TSS): {r_squared_manual_unweighted:.4f}\")\n",
    "\n",
    "# Manual calculation of Unweighted Adjusted R-squared\n",
    "# Formula: 1 - (1 - R^2_unweighted) * ((n-1)/(n-p))\n",
    "r_squared_adj_manual_unweighted = 1 - (1 - r_squared_manual_unweighted) * ((n - 1) / (n - p))\n",
    "print(f\"Manual Unweighted Adjusted R-squared: {r_squared_adj_manual_unweighted:.4f}\")\n",
    "\n",
    "# Formula: ESS_weighted / TSS_centered_weighted\n",
    "r_squared_manual_weighted_2 = ess_weighted_manual / weighted_centered_tss_manual\n",
    "print(f\"\\nManual Weighted R-squared (alternative formula) (ESS_w/TSS_w): {r_squared_manual_weighted_2:.4f}\")\n",
    "\n",
    "# Formula: ESS_unweighted / TSS_centered_unweighted\n",
    "r_squared_manual_unweighted_2 = ess_unweighted_manual / unweighted_centered_tss\n",
    "print(f\"Manual Unweighted R-squared alternative formula (ESS/TSS): {r_squared_manual_unweighted_2:.4f}\")"
   ]
  },
  {
   "cell_type": "code",
   "execution_count": 482,
   "id": "713b08aa",
   "metadata": {},
   "outputs": [
    {
     "name": "stdout",
     "output_type": "stream",
     "text": [
      "Chi-Squared: 1.8848\n",
      "Reduced Chi-Squared: 0.3141\n"
     ]
    }
   ],
   "source": [
    "# Chi-Squared\n",
    "chi_squared = np.sum(((y_obs - results.predict()) / sigma)**2)\n",
    "print(f\"Chi-Squared: {chi_squared:.4f}\")\n",
    "\n",
    "# Reduced Chi-Squared\n",
    "reduced_chi_squared = chi_squared / degrees_of_freedom\n",
    "print(f\"Reduced Chi-Squared: {reduced_chi_squared:.4f}\")"
   ]
  },
  {
   "cell_type": "code",
   "execution_count": 483,
   "id": "1eb30751",
   "metadata": {},
   "outputs": [
    {
     "name": "stdout",
     "output_type": "stream",
     "text": [
      "\n",
      "--- Root Mean Squared Error (RMSE) ---\n",
      "RMSE (statsmodels.tools.eval_measures.rmse method): 0.3284\n",
      "Manual Unweighted RMSE: 0.3284\n",
      "Manual Weighted RMSE: 0.1869\n"
     ]
    }
   ],
   "source": [
    "# --- Root Mean Squared Error (RMSE) Calculations ---\n",
    "print(\"\\n--- Root Mean Squared Error (RMSE) ---\")\n",
    "\n",
    "# RMSE from statsmodels (this is an unweighted RMSE)\n",
    "rmse_val = rmse(y_obs, results.fittedvalues)\n",
    "print(f\"RMSE (statsmodels.tools.eval_measures.rmse method): {rmse_val:.4f}\")\n",
    "\n",
    "# Manual calculation of Unweighted RMSE\n",
    "# Formula: sqrt(sum of squared unweighted residuals / number of observations)\n",
    "rmse_manual_unweighted = np.sqrt(rss_unweighted_manual / n)\n",
    "print(f\"Manual Unweighted RMSE: {rmse_manual_unweighted:.4f}\")\n",
    "\n",
    "# Manual calculation of Weighted RMSE\n",
    "# Formula: sqrt(sum of squared weighted residuals / sum of weights)\n",
    "rmse_manual_weighted = np.sqrt(rss_weighted_manual / np.sum(weights))\n",
    "print(f\"Manual Weighted RMSE: {rmse_manual_weighted:.4f}\")"
   ]
  },
  {
   "cell_type": "code",
   "execution_count": 484,
   "id": "179e0ae4",
   "metadata": {},
   "outputs": [
    {
     "name": "stdout",
     "output_type": "stream",
     "text": [
      "\n",
      "Manual Weighted SER: 0.5605\n",
      "Statsmodels SER (results.ssr / results.df_resid): 0.5605\n"
     ]
    }
   ],
   "source": [
    "# --- Standard Error of the Regression (SER) ---\n",
    "\n",
    "# 1) Calculate weighted SER manually\n",
    "# Formula: sqrt(RSS_weighted / degrees_of_freedom)\n",
    "degrees_of_freedom = results.df_resid\n",
    "ser_manual_weighted = np.sqrt(rss_weighted_manual / degrees_of_freedom)\n",
    "print(f\"\\nManual Weighted SER: {ser_manual_weighted:.4f}\")\n",
    "\n",
    "# Compare with statsmodels SER calculation\n",
    "ser_sm = np.sqrt(results.ssr / results.df_resid)\n",
    "print(f\"Statsmodels SER (results.ssr / results.df_resid): {ser_sm:.4f}\")"
   ]
  },
  {
   "cell_type": "code",
   "execution_count": 485,
   "id": "1109842b",
   "metadata": {},
   "outputs": [
    {
     "name": "stdout",
     "output_type": "stream",
     "text": [
      "\n",
      "--- Standard Error of the Regression (SER) ---\n",
      "SER (from statsmodels results): 0.5605\n",
      "Manual Weighted SER: 0.5605\n",
      "Manual Unweighted SER: 0.3792\n"
     ]
    }
   ],
   "source": [
    "# --- Standard Error of the Regression (SER) Calculations ---\n",
    "print(\"\\n--- Standard Error of the Regression (SER) ---\")\n",
    "\n",
    "# SER from statsmodels results (this is a weighted SER)\n",
    "# It is the square root of the weighted RSS divided by the degrees of freedom\n",
    "ser_sm = np.sqrt(results.ssr / results.df_resid)\n",
    "print(f\"SER (from statsmodels results): {ser_sm:.4f}\")\n",
    "\n",
    "# Manual calculation of Weighted SER\n",
    "# This should match the value from statsmodels\n",
    "# Formula: sqrt(sum of squared weighted residuals / degrees of freedom)\n",
    "ser_manual_weighted = np.sqrt(rss_weighted_manual / degrees_of_freedom)\n",
    "print(f\"Manual Weighted SER: {ser_manual_weighted:.4f}\")\n",
    "\n",
    "# Manual calculation of Unweighted SER\n",
    "# Formula: sqrt(sum of squared unweighted residuals / degrees of freedom)\n",
    "ser_manual_unweighted = np.sqrt(rss_unweighted_manual / degrees_of_freedom)\n",
    "print(f\"Manual Unweighted SER: {ser_manual_unweighted:.4f}\")"
   ]
  },
  {
   "cell_type": "code",
   "execution_count": 486,
   "id": "2f6d2ac0",
   "metadata": {},
   "outputs": [
    {
     "name": "stdout",
     "output_type": "stream",
     "text": [
      "--- Statsmodels Results (Weighted) ---\n",
      "Mean Squared Error of the Model (mse_model): 453.2692\n",
      "Mean Squared Error of the Residuals (MSE) (mse_resid): 0.3141\n",
      "Total Mean Squared Error (mse_total): 65.0220\n",
      "\n",
      "--- Manual Calculations ---\n",
      "Manual Weighted mse_model: 453.2692 (Should match statsmodels)\n",
      "Manual Unweighted mse_model: 105.6192\n",
      "\n",
      "Manual Weighted mse_resid: 0.3141 (Should match statsmodels)\n",
      "Manual Unweighted mse_resid: 0.1438\n",
      "\n",
      "Manual Weighted mse_total: 65.0220 (Should match statsmodels)\n",
      "Manual Unweighted mse_total: 16.6355\n"
     ]
    }
   ],
   "source": [
    "n = results.nobs\n",
    "p = results.df_model + 1\n",
    "\n",
    "# --- MSE values from statsmodels results ---\n",
    "print(\"--- Statsmodels Results (Weighted) ---\")\n",
    "mse_model_sm = results.mse_model\n",
    "print(f\"Mean Squared Error of the Model (mse_model): {mse_model_sm:.4f}\")\n",
    "\n",
    "mse_resid_sm = results.mse_resid\n",
    "print(f\"Mean Squared Error of the Residuals (MSE) (mse_resid): {mse_resid_sm:.4f}\")\n",
    "\n",
    "mse_total_sm = results.mse_total\n",
    "print(f\"Total Mean Squared Error (mse_total): {mse_total_sm:.4f}\")\n",
    "\n",
    "# --- Manual Calculations ---\n",
    "print(\"\\n--- Manual Calculations ---\")\n",
    "\n",
    "# 1. MSE Model\n",
    "mse_model_manual_weighted = ess_weighted_manual / (p - 1)\n",
    "mse_model_manual_unweighted = ess_unweighted_manual / (p - 1)\n",
    "print(f\"Manual Weighted mse_model: {mse_model_manual_weighted:.4f} (Should match statsmodels)\")\n",
    "print(f\"Manual Unweighted mse_model: {mse_model_manual_unweighted:.4f}\")\n",
    "\n",
    "# 2. MSE Residuals\n",
    "mse_resid_manual_weighted = rss_weighted_manual / (n - p)\n",
    "mse_resid_manual_unweighted = rss_unweighted_manual / (n - p)\n",
    "print(f\"\\nManual Weighted mse_resid: {mse_resid_manual_weighted:.4f} (Should match statsmodels)\")\n",
    "print(f\"Manual Unweighted mse_resid: {mse_resid_manual_unweighted:.4f}\")\n",
    "\n",
    "# 3. MSE Total\n",
    "mse_total_manual_weighted = weighted_centered_tss_manual / (n - 1)\n",
    "mse_total_manual_unweighted = unweighted_centered_tss_manual / (n - 1)\n",
    "print(f\"\\nManual Weighted mse_total: {mse_total_manual_weighted:.4f} (Should match statsmodels)\")\n",
    "print(f\"Manual Unweighted mse_total: {mse_total_manual_unweighted:.4f}\")"
   ]
  },
  {
   "cell_type": "code",
   "execution_count": 487,
   "id": "621c339c",
   "metadata": {},
   "outputs": [
    {
     "name": "stdout",
     "output_type": "stream",
     "text": [
      "Unbiased Scale (statsmodels results.scale): 0.3141\n",
      "Degrees of Freedom: 6.0\n",
      "Weighted Sum of Squared Residuals (statsmodels results.ssr): 1.8848\n",
      "Unbiased Scale (weighted RSS / degrees of freedom): 0.3141\n"
     ]
    }
   ],
   "source": [
    "# Unbiased Scale using results.scale\n",
    "unbiased_scale_sm = results.scale # ssr / df_resid\n",
    "print(f\"Unbiased Scale (statsmodels results.scale): {unbiased_scale_sm:.4f}\")\n",
    "\n",
    "# Degrees of Freedom\n",
    "degrees_of_freedom = results.df_resid\n",
    "print(f\"Degrees of Freedom: {degrees_of_freedom}\")\n",
    "\n",
    "rss_weighted_sm = results.ssr # Weighted Sum of Squared Residuals\n",
    "print(f\"Weighted Sum of Squared Residuals (statsmodels results.ssr): {rss_weighted_sm:.4f}\")\n",
    "\n",
    "unbiased_scale_sm_rss = rss_weighted_sm / degrees_of_freedom\n",
    "print(f\"Unbiased Scale (weighted RSS / degrees of freedom): {unbiased_scale_sm_rss:.4f}\")"
   ]
  },
  {
   "cell_type": "markdown",
   "id": "7888fa31",
   "metadata": {},
   "source": [
    "### What `results.scale` Means\n",
    "\n",
    "In `statsmodels`, **`results.scale`** is a value that represents the estimated variance of the error term ($\\sigma^2$) in the regression model. It's calculated by dividing the **Weighted Sum of Squared Residuals (`results.ssr`)** (we denote this as weighted residual sum of squares (RSS)) by the **degrees of freedom of the residuals (`results.df_resid`)**, which is the same calculation as the **Mean Squared Error of the Residuals (`results.mse_resid`)**. Therefore, for a weighted least squares (WLS) model, `results.scale` and `results.mse_resid` will have the same value.\n",
    "\n",
    "NOTE: In statsmodels, results.ssr in a WLS context represents the sum of the whitened (i.e., weighted) residuals.\n",
    "\n",
    "The `results.scale` parameter is crucial in regression analysis for a few key reasons:\n",
    "\n",
    "* **Estimating Error Variance (estimating variance of errors) $\\sigma^2$:** In a WLS model, the scale is an unbiased estimator of the variance of the underlying error term. This value is used to calculate the standard errors of the regression coefficients. A smaller scale value suggests a better-fitting model, as it implies the residuals are smaller on average.\n",
    "\n",
    "* **Calculating Standard Errors:** The **covariance matrix** of the estimated coefficients is given by:\n",
    "\n",
    "    $$\\text{Cov}(\\hat{\\beta}) = \\hat{\\sigma}^2 (X^T W X)^{-1}$$\n",
    "\n",
    "    Here, $\\hat{\\sigma}^2$ is the estimated variance of the error term, which is precisely `results.scale`. The standard errors of the coefficients are the square roots of the diagonal elements of this covariance matrix. Without this scale factor, the standard errors would be incorrect.\n",
    "\n",
    "* **Hypothesis Testing:** Since the t-statistic is calculated as `Estimated Coefficient / Standard Error`, and the standard error depends on `results.scale`, this value is fundamental for determining the statistical significance of the coefficients. It directly influences the **t-values** and **p-values** in the model summary.\n",
    "\n",
    "* **Addressing Heteroscedasticity:** The standard Ordinary Least Squares (OLS) model assumes that the error variance is constant (homoscedasticity). Weighted Least Squares (WLS) is used specifically when this assumption is violated, a condition known as heteroscedasticity. In WLS, you provide weights that are ideally the inverse of the variance of each observation. After applying these weights, the transformed model should have constant error variance. The `results.scale` is the estimate of this now-constant variance in the weighted model.\n",
    "\n",
    "* **Standard Error of the Regression:** The square root of `results.scale` is often referred to as the **Standard Error of the Regression (SER)**. This value gives you a measure of the typical distance that the observed values fall from the regression line in the units of the dependent variable (after accounting for the weighting).\n",
    "\n",
    "In a standard (unweighted) Ordinary Least Squares (OLS) model, the assumption is that the variance of the errors is constant and unknown ($\\text{Var}(\\epsilon_i) = \\sigma^2$). OLS estimates this $\\sigma^2$ from the data using `RSS / degrees of freedom`.\n",
    "\n",
    "In the context of the WLS model, **`results.scale` is the unbiased estimate of the variance of the weighted residuals $\\sigma^2$**.\n",
    "\n",
    "Let's break that down:\n",
    "\n",
    "*   **Variance:** It represents the average squared difference between the observed `y` values and the predicted `y` values (`y_hat`) on the regression line, after the weighting has been applied.\n",
    "*   **Unbiased Estimate:** You are calculating this variance from a sample, not the entire population. Dividing by the degrees of freedom (`df_resid` or `n-p`) instead of just the number of observations (`n`) corrects for the fact that you've already used some information from your data to estimate the model's coefficients (the slope and intercept). This makes it an \"unbiased\" estimator.\n",
    "\n",
    "So, while weighted RSS gives you the *total* sum of the squared errors, `results.scale` (or `mse_resid`) gives you the *average* squared error, adjusted for the number of parameters you estimated. It is the key measure of the dispersion of your data points around the fitted regression line in the transformed, weighted system.\n",
    "\n",
    "In **Weighted Least Squares (WLS)** `statsmodels`, the assumption is that the error variances are known up to a constant factor ($\\text{Var}(\\epsilon_i) = \\sigma_i^2 = \\sigma^2 / w_i$), where $w_i$ are the known weights. The `results.scale` value provides an estimate of this unknown constant $\\sigma^2$. The WLS algorithm minimizes the **weighted sum of squared residuals (`results.ssr`)**, and this minimized value, when divided by the degrees of freedom, gives us the best estimate for $\\sigma^2$ based on our model and weights.\n",
    "\n",
    "> IMPORTANT: The last statement may confuse a bit. At the very beginning, we defined standard deviations $\\sigma_i$ for each point:\n",
    "\n",
    "```python\n",
    "# Standard deviation for each data point\n",
    "sigma = np.array([0.2, 0.3, 0.4, 0.5, 0.6, 0.7, 0.8, 0.9])\n",
    "```\n",
    "\n",
    "Then we calculated the weights based on the standard formula $w_i = 1 / \\sigma_i^2$\n",
    "\n",
    "```python\n",
    "# The weights for WLS are the inverse of the variance (1 / sigma^2)\n",
    "weights = 1.0 / (sigma**2)\n",
    "```\n",
    "\n",
    "However, we provide weights $w_i$ array as an argument for `sm.WLS`, not sigma $\\sigma_i$ array (see below) because `sm.WLS` doesn't have such a argument like `sigma`.\n",
    "\n",
    "```python\n",
    "# Add a constant to the independent variable to include an intercept in the model\n",
    "X = sm.add_constant(x)\n",
    "\n",
    "wls_model = sm.WLS(y_obs, X, weights=weights)\n",
    "```\n",
    "\n",
    "Thus, the `sm.WLS` actually doesn't know that we have standard deviations defined from the experiments. Therefore, the algorithm will perform its own estimate of the error variance ($\\text{Var}(\\epsilon_i) = \\sigma_i^2 = \\sigma^2 / w_i$). In this last formula $w_i$ are known because we provided them to the algorithm, but $\\sigma^2$ is the unknown metric which is estimated by the algorithm. If the estimated value of $\\sigma^2$ is close to 1, then $\\text{Var}(\\epsilon_i)$ will be close to the squared values (variance) of the original standard deviations from which we started the calculation of weights.\n",
    "\n",
    "On the other hand, `scipy.optimize.curve_fit` can consider standard deviation values $\\sigma_i$ if we use `sigma` argument for the standard deviations and `absolute_sigma=True`. If `absolute_sigma=False` (the default), `scipy.optimize.curve_fit` treats the provided `sigma` values as relative weights to scale the residuals, and the final parameter covariance is scaled by the reduced chi-squared value. This approach is conceptually similar to statsmodels WLS, where an unknown variance scale is estimated from the residuals.\n",
    "\n",
    "`scipy.optimize.curve_fit` can be utilized for both linear and non-linear models. Also, note that `scipy.optimize.curve_fit` doesn't provide you with such a number of metrics as statsmodels that we reviewed above. \n"
   ]
  },
  {
   "cell_type": "markdown",
   "id": "8df42eee",
   "metadata": {},
   "source": [
    "### Log-Likelihood\n",
    "\n",
    "Let's figure out how the value of Log-Likelihood of the Model is calculated. The standard formulas for AIC and BIC can be found [here](../01_basics/aic-and-bic.ipynb)\n",
    "\n",
    "We start with the general [formula](../01_basics/aic-and-bic.ipynb):\n",
    "\n",
    "$$\\ln(L) = - \\sum_{i=1}^{n} \\ln(\\sqrt{2\\pi\\sigma_i^2}) - \\frac{1}{2} \\sum_{i=1}^{n} \\frac{(y_i - f(x_i, \\beta))^2}{\\sigma_i^2}$$\n",
    "\n",
    "Let's modify it a bit using the assumptions from statsmodels. In **Weighted Least Squares (WLS)** `statsmodels`, the assumption is that the error variances are known up to a constant factor ($\\text{Var}(\\epsilon_i) = \\sigma_i^2 = \\sigma^2 / w_i$), where $w_i$ are the known weights. The `results.scale` value provides an estimate of this unknown constant $\\sigma^2$. Therefore, we substitute\n",
    "\n",
    "$$\\sigma_i^2 = \\sigma^2 / w_i$$\n",
    "\n",
    "in the formula for $\\ln(L)$:\n",
    "\n",
    "$$\\ln(L) = - \\sum_{i=1}^{n} \\ln\\left(\\sqrt{\\frac{2\\pi\\sigma^2}{w_i}}\\right) - \\frac{1}{2} \\sum_{i=1}^{n} \\frac{w_i (y_i - f(x_i, \\beta))^2}{\\sigma^2}$$\n",
    "\n",
    "$$\\ln(L) = - \\sum_{i=1}^{n} \\ln\\left(\\sqrt{\\frac{2\\pi\\sigma^2}{w_i}}\\right) - \\frac{1}{2 \\sigma^2} \\sum_{i=1}^{n} w_i (y_i - f(x_i, \\beta))^2$$\n",
    "\n",
    "$$\\ln(L) = - \\frac{1}{2}\\sum_{i=1}^{n} \\ln\\left(\\frac{2\\pi\\sigma^2}{w_i}\\right) - \\frac{1}{2} \\frac{RSS_w}{\\sigma^2}$$\n",
    "\n",
    "where $RSS_w$ is weighted RSS. Note, that $RSS_w = \\chi^2$.\n",
    "\n",
    "$$\\ln(L) = - \\frac{1}{2}\\sum_{i=1}^{n} \\left( \\ln\\left(2 \\pi\\right) + \\ln\\left(\\sigma^2\\right) - \\ln\\left(w_i\\right) \\right) - \\frac{RSS_w}{2 \\sigma^2}$$\n",
    "\n",
    "$$\\ln(L) = - \\frac{1}{2}\\sum_{i=1}^{n} \\ln\\left(2 \\pi\\right) - \\frac{1}{2}\\sum_{i=1}^{n} \\ln\\left(\\sigma^2\\right) + \\frac{1}{2}\\sum_{i=1}^{n} \\ln\\left(w_i\\right) - \\frac{RSS_w}{2 \\sigma^2}$$\n",
    "\n",
    "$$\\ln(L) = - \\frac{n}{2} \\ln\\left(2 \\pi\\right) - \\frac{n}{2} \\ln\\left(\\sigma^2\\right) + \\frac{1}{2}\\sum_{i=1}^{n} \\ln\\left(w_i\\right) - \\frac{RSS_w}{2 \\sigma^2}$$\n",
    "\n",
    "Now, we can find the **Maximum Likelihood Estimate (MLE)** for the variance, denoted as $\\hat{\\sigma}^2$, by taking the partial derivative of the log-likelihood function with respect to $\\sigma^2$ and setting it to zero. The same approach is described [here](../01_basics/aic-and-bic.ipynb) in more details.\n",
    "\n",
    "$$\\frac{\\partial \\ln(L)}{\\partial \\sigma^2} = - \\frac{n}{2\\sigma^2} + \\frac{RSS_w}{2(\\sigma^2)^2}$$\n",
    "\n",
    "Setting the derivative to zero to find the maximum:\n",
    "\n",
    "$$\\frac{n}{2\\hat{\\sigma}^2} = \\frac{RSS_w}{2(\\hat{\\sigma}^2)^2}$$\n",
    "\n",
    "Solving for $\\hat{\\sigma}^2$ gives us the MLE for the variance:\n",
    "\n",
    "$$\\hat{\\sigma}^2 = \\frac{RSS_w}{n}$$\n",
    "\n",
    "> This is a fundamentally important result: the maximum likelihood estimate (MLE) for the unknown variance $\\sigma^2$ is the weighted residual sum of squares divided by the number of data points. Note that our result is a biased estimator. Discussion about biased vs unbiased estimator can be found [here](../01_basics/aic-and-bic.ipynb).\n",
    "\n",
    "Now, we can substitute this estimate $\\hat{\\sigma}^2$ back into the log-likelihood equation to get the *maximized* log-likelihood, $\\ln(\\hat{L})$. This value represents the highest possible likelihood given the data and the model form.\n",
    "\n",
    "$$\\ln(\\hat{L}) = - \\frac{n}{2} \\ln(2\\pi) - \\frac{n}{2} \\ln\\left(\\frac{RSS_w}{n}\\right) + \\frac{1}{2}\\sum_{i=1}^{n} \\ln\\left(w_i\\right) - \\frac{RSS_w}{2\\left(\\frac{RSS_w}{n}\\right)}$$\n",
    "\n",
    "$$\\ln(\\hat{L}) = - \\frac{n}{2} \\ln(2\\pi) - \\frac{n}{2} \\ln\\left(\\frac{RSS_w}{n}\\right) + \\frac{1}{2}\\sum_{i=1}^{n} \\ln\\left(w_i\\right) - \\frac{n}{2}$$\n",
    "\n",
    "$$\\ln(\\hat{L}) = - \\frac{n}{2} \\left(\\ln(2\\pi) + 1\\right) - \\frac{n}{2} \\ln\\left(\\frac{RSS_w}{n}\\right) + \\frac{1}{2}\\sum_{i=1}^{n} \\ln\\left(w_i\\right)$$\n",
    "\n",
    "This is the final expression for the maximized log-likelihood when $\\sigma^2$ is unknown and we utilize statsmodels WLS."
   ]
  },
  {
   "cell_type": "code",
   "execution_count": 488,
   "id": "4c53f300",
   "metadata": {},
   "outputs": [
    {
     "name": "stdout",
     "output_type": "stream",
     "text": [
      "--- Information Criteria from statsmodels ---\n",
      "Maximum Log-Likelihood of the Model (results.llf) from statsmodels: 0.0498\n",
      "Akaike Information Criterion AIC (results.aic) from statsmodels: 3.9004\n",
      "Bayesian Information Criterion BIC (results.bic) from statsmodels: 4.0593\n",
      "\n",
      "--- Manual Calculation Verification ---\n",
      "MLE for variance (RSS_w / n): 0.2356\n",
      "\n",
      "Maximum Log-Likelihood calculated using the formula: 0.0498\n",
      "Manual AIC: 3.9004\n",
      "Manual BIC: 4.0593\n",
      "Manual AICc (Corrected Akaike Information Criterion): 6.3004\n"
     ]
    }
   ],
   "source": [
    "print(\"--- Information Criteria from statsmodels ---\")\n",
    "\n",
    "llf = results.llf # Log-likelihood of model\n",
    "print(f\"Maximum Log-Likelihood of the Model (results.llf) from statsmodels: {llf:.4f}\")\n",
    "\n",
    "aic = results.aic\n",
    "print(f\"Akaike Information Criterion AIC (results.aic) from statsmodels: {aic:.4f}\")\n",
    "\n",
    "bic = results.bic\n",
    "print(f\"Bayesian Information Criterion BIC (results.bic) from statsmodels: {bic:.4f}\")\n",
    "\n",
    "\n",
    "# --- Manual Calculations ---\n",
    "print(\"\\n--- Manual Calculation Verification ---\")\n",
    "\n",
    "n = results.nobs\n",
    "p = results.df_model + 1\n",
    "rss_w = results.ssr # Weighted sum of squared residuals\n",
    "\n",
    "# First, calculate the Maximum Likelihood Estimate for the scale/variance parameter\n",
    "mle_variance = rss_w / n\n",
    "print(f\"MLE for variance (RSS_w / n): {mle_variance:.4f}\")\n",
    "\n",
    "# Now, use the simplified formula derived from substituting the MLE scale\n",
    "term1 = -n / 2 * (np.log(2 * np.pi) + 1)\n",
    "term2 = -n / 2 * np.log(mle_variance)\n",
    "term3 = 0.5 * np.sum(np.log(weights))\n",
    "llf_manual_correct = term1 + term2 + term3\n",
    "\n",
    "print(f\"\\nMaximum Log-Likelihood calculated using the formula: {llf_manual_correct:.4f}\")\n",
    "\n",
    "aic = -2 * llf_manual_correct + 2 * p  # p = 2 parameters (intercept and slope)\n",
    "print(f\"Manual AIC: {aic:.4f}\")\n",
    "\n",
    "bic = -2 * llf_manual_correct + np.log(n) * p\n",
    "print(f\"Manual BIC: {bic:.4f}\")\n",
    "\n",
    "aicc = aic + (2 * p * (p + 1)) / (n - p - 1)\n",
    "print(f\"Manual AICc (Corrected Akaike Information Criterion): {aicc:.4f}\")\n"
   ]
  },
  {
   "cell_type": "code",
   "execution_count": 489,
   "id": "cdc6a209",
   "metadata": {},
   "outputs": [
    {
     "name": "stdout",
     "output_type": "stream",
     "text": [
      "Weighted Sigma: [1. 1. 1. 1. 1. 1. 1. 1.]\n"
     ]
    },
    {
     "data": {
      "image/png": "[encoded data removed]",
      "text/plain": [
       "<Figure size 1000x1600 with 3 Axes>"
      ]
     },
     "metadata": {},
     "output_type": "display_data"
    }
   ],
   "source": [
    "# --- Generate and display plots ---\n",
    "\n",
    "residuals = results.resid  # Unweighted residuals\n",
    "\n",
    "weighted_residuals = results.wresid  # Weighted residuals\n",
    "\n",
    "weighted_sigma = sigma * np.sqrt(weights) # This gives us an array with the values of 1 for each observation\n",
    "print(f\"Weighted Sigma: {weighted_sigma}\")\n",
    "\n",
    "# Create a figure and axes for the plots\n",
    "fig, (ax1, ax2, ax3) = plt.subplots(3, 1, figsize=(10, 16))\n",
    "fig.suptitle('WLS Regression Analysis', fontsize=16)\n",
    "\n",
    "# --- Plot 1: WLS Fit with Confidence and Prediction Intervals ---\n",
    "ax1.errorbar(x, y_obs, yerr=sigma, fmt='o', label='Data with Error Bars', capsize=5)\n",
    "ax1.plot(x, results.fittedvalues, 'r-', label='WLS Fit')\n",
    "\n",
    "# Get prediction intervals\n",
    "predictions = results.get_prediction(X)\n",
    "prediction_summary = predictions.summary_frame(alpha=0.05)\n",
    "\n",
    "# Plot confidence and prediction intervals\n",
    "ax1.plot(x, prediction_summary['mean_ci_lower'], 'g--', label='95% Confidence Interval')\n",
    "ax1.plot(x, prediction_summary['mean_ci_upper'], 'g--')\n",
    "ax1.plot(x, prediction_summary['obs_ci_lower'], 'y:', label='95% Prediction Interval')\n",
    "ax1.plot(x, prediction_summary['obs_ci_upper'], 'y:')\n",
    "\n",
    "ax1.set_xlabel(\"Independent Variable (x)\")\n",
    "ax1.set_ylabel(\"Dependent Variable (y)\")\n",
    "ax1.set_title(\"WLS Fit with Confidence and Prediction Intervals\")\n",
    "ax1.legend()\n",
    "ax1.grid(True)\n",
    "\n",
    "\n",
    "# --- Plot 2: Residuals Plot ---\n",
    "ax2.errorbar(x, residuals, yerr=sigma, fmt='o', capsize=5)\n",
    "ax2.axhline(y=0, color='r', linestyle='--')\n",
    "ax2.set_xlabel(\"Independent Variable (x)\")\n",
    "ax2.set_ylabel(\"Residuals\")\n",
    "ax2.set_title(\"Residuals of the WLS Fit\")\n",
    "ax2.grid(True)\n",
    "\n",
    "# --- Plot 3: Weighted Residuals Plot ---\n",
    "ax3.errorbar(x, weighted_residuals, yerr=weighted_sigma, fmt='o', capsize=5)\n",
    "ax3.axhline(y=0, color='r', linestyle='--')\n",
    "ax3.set_xlabel(\"Independent Variable (x)\")\n",
    "ax3.set_ylabel(\"Weighted Residuals\")\n",
    "ax3.set_title(\"Weighted Residuals of the WLS Fit\")\n",
    "ax3.grid(True)\n",
    "\n",
    "plt.tight_layout(rect=[0, 0.03, 1, 0.95])\n",
    "plt.show()"
   ]
  },
  {
   "cell_type": "markdown",
   "id": "3b816577",
   "metadata": {},
   "source": [
    "### Confidence and Prediction Intervals\n",
    "\n",
    "When you use `results.get_prediction(X).summary_frame()`, you are generating confidence and prediction intervals for your model's predictions. Here's a breakdown of what each of these columns in the resulting DataFrame represents:\n",
    "\n",
    "### Confidence Interval: `mean_ci_lower` and `mean_ci_upper`\n",
    "\n",
    "These two columns define the **confidence interval for the mean prediction**. In simpler terms, they provide a range in which the *average* value of the outcome is likely to fall for a given set of input values.\n",
    "\n",
    "*   `mean_ci_lower`: This is the lower bound of the 95% confidence interval for the predicted mean.\n",
    "*   `mean_ci_upper`: This is the upper bound of the 95% confidence interval for the predicted mean.\n",
    "\n",
    "A 95% confidence interval means that if you were to repeatedly draw new samples and re-run your regression, 95% of the calculated confidence intervals would contain the TRUE average value of the population. It essentially quantifies the uncertainty around the estimated regression line itself. Additional notes:\n",
    "- In frequentist statistics, the true population mean (or the true regression coefficient) is considered a fixed, single value. It does not vary.\n",
    "- Each time you draw a new random sample from the population, you will get a slightly different sample mean and, therefore, a slightly different confidence interval.\n",
    "- Imagine you and 99 other researchers all study the same phenomenon. You each collect your own random sample and each compute a 95% confidence interval. The \"95% confidence\" means we would expect about 95 of those 100 different confidence intervals to successfully \"capture\" the true, fixed population parameter. The other 5 researchers would have been unlucky and their intervals would not contain the true value. The problem is, when you do your one study, you only have your one interval. You cannot know if you are in the lucky 95% or the unlucky 5%.\n",
    "\n",
    "### Prediction Interval: `obs_ci_lower` and `obs_ci_upper`\n",
    "\n",
    "These columns define the **prediction interval for a single observation**. This interval is wider than the confidence interval because it accounts for two sources of uncertainty:\n",
    "\n",
    "1.  The uncertainty in the estimate of the mean (the regression line).\n",
    "2.  The inherent random variation of individual data points around the mean.\n",
    "\n",
    "*   `obs_ci_lower`: This is the lower bound of the 95% prediction interval for a new observation.\n",
    "*   `obs_ci_upper`: This is the upper bound of the 95% prediction interval for a new observation.\n",
    "\n",
    "A 95% prediction interval suggests that for a new data point, there is a 95% probability that its actual value will fall within this range.\n",
    "\n",
    "**In summary:**\n",
    "\n",
    "| Term | Full Name | Description |\n",
    "| --- | --- | --- |\n",
    "| `mean_ci_lower` | Mean Confidence Interval Lower Bound | The lower limit for the range where the *average* outcome is likely to be. |\n",
    "| `mean_ci_upper` | Mean Confidence Interval Upper Bound | The upper limit for the range where the *average* outcome is likely to be. |\n",
    "| `obs_ci_lower` | Observation Confidence Interval Lower Bound | The lower limit for the range where a *single new observation* is likely to fall. |\n",
    "| `obs_ci_upper` | Observation Confidence Interval Upper Bound | The upper limit for the range where a *single new observation* is likely to fall. |\n",
    "\n",
    "The `alpha=0.05` argument in `summary_frame(alpha=0.05)` call is what specifies the 95% confidence level (1 - 0.05 = 0.95). You can adjust this alpha to change the width of your intervals.\n",
    "\n",
    "Documentation: https://www.statsmodels.org/stable/examples/notebooks/generated/statespace_forecasting.html\n",
    "\n",
    "### Comment about the 3rd Plot (Weighted Residuals of the WLS fit)\n",
    "\n",
    "In our `statsmodels` Weighted Least Squares (WLS) regression analysis, using `yerr=sigma` for the error bars on the **weighted** residuals plot is **not correct**. This approach misrepresents the uncertainty associated with the weighted residuals. That's why we calculated `weighted_sigma = sigma * np.sqrt(weights)` which gives us an array populated with `1.0` values.\n",
    "\n",
    "The purpose of using weighted residuals is to transform the residuals to a scale where they have a constant variance (a property known as homoscedasticity). In a correctly specified WLS model, the weighted residuals should have a theoretical variance of 1."
   ]
  },
  {
   "cell_type": "markdown",
   "id": "75b933ea",
   "metadata": {},
   "source": [
    "## Example 2\n",
    "\n",
    "The only difference compared to the previous example is the initial `sigma` araay:\n",
    "\n",
    "```python\n",
    "sigma = np.array([0.5, 0.5, 0.5, 0.5, 0.5, 0.5, 0.5, 0.5])\n",
    "```\n"
   ]
  },
  {
   "cell_type": "code",
   "execution_count": 490,
   "id": "ee8a1214",
   "metadata": {},
   "outputs": [],
   "source": [
    "import numpy as np\n",
    "import statsmodels.api as sm\n",
    "import matplotlib.pyplot as plt\n",
    "from statsmodels.tools.eval_measures import rmse"
   ]
  },
  {
   "cell_type": "code",
   "execution_count": 491,
   "id": "dac58aad",
   "metadata": {},
   "outputs": [],
   "source": [
    "# Sample data from a hypothetical physics experiment\n",
    "# x represents an independent variable\n",
    "# y_obs represents the observed dependent variable\n",
    "x = np.array([1, 2, 3, 4, 5, 6, 7, 8])\n",
    "y_obs = np.array([2.3, 3.8, 5.1, 6.9, 8.2, 10.3, 11.8, 14.1])"
   ]
  },
  {
   "cell_type": "code",
   "execution_count": 492,
   "id": "65b3316c",
   "metadata": {},
   "outputs": [],
   "source": [
    "# Standard deviation for each data point\n",
    "sigma = np.array([0.5, 0.5, 0.5, 0.5, 0.5, 0.5, 0.5, 0.5])"
   ]
  },
  {
   "cell_type": "code",
   "execution_count": 493,
   "id": "0ab612fb",
   "metadata": {},
   "outputs": [],
   "source": [
    "# The weights for WLS are the inverse of the variance (1 / sigma^2)\n",
    "weights = 1.0 / (sigma**2)\n",
    "\n",
    "# Add a constant to the independent variable to include an intercept in the model\n",
    "X = sm.add_constant(x)"
   ]
  },
  {
   "cell_type": "code",
   "execution_count": 494,
   "id": "a889670d",
   "metadata": {},
   "outputs": [
    {
     "name": "stdout",
     "output_type": "stream",
     "text": [
      "                            WLS Regression Results                            \n",
      "==============================================================================\n",
      "Dep. Variable:                      y   R-squared:                       0.995\n",
      "Model:                            WLS   Adj. R-squared:                  0.994\n",
      "Method:                 Least Squares   F-statistic:                     1132.\n",
      "Date:                Fri, 15 Aug 2025   Prob (F-statistic):           4.59e-08\n",
      "Time:                        22:39:05   Log-Likelihood:                -1.0822\n",
      "No. Observations:                   8   AIC:                             6.164\n",
      "Df Residuals:                       6   BIC:                             6.323\n",
      "Df Model:                           1                                         \n",
      "Covariance Type:            nonrobust                                         \n",
      "==============================================================================\n",
      "                 coef    std err          t      P>|t|      [0.025      0.975]\n",
      "------------------------------------------------------------------------------\n",
      "const          0.3393      0.249      1.361      0.222      -0.271       0.949\n",
      "x1             1.6607      0.049     33.646      0.000       1.540       1.781\n",
      "==============================================================================\n",
      "Omnibus:                        0.129   Durbin-Watson:                   1.520\n",
      "Prob(Omnibus):                  0.937   Jarque-Bera (JB):                0.298\n",
      "Skew:                           0.201   Prob(JB):                        0.862\n",
      "Kurtosis:                       2.144   Cond. No.                         11.5\n",
      "==============================================================================\n",
      "\n",
      "Notes:\n",
      "[1] Standard Errors assume that the covariance matrix of the errors is correctly specified.\n"
     ]
    }
   ],
   "source": [
    "# Fit the Weighted Least Squares model\n",
    "wls_model = sm.WLS(y_obs, X, weights=weights)\n",
    "results = wls_model.fit()\n",
    "\n",
    "# --- Print the detailed summary of the regression ---\n",
    "print(results.summary())"
   ]
  },
  {
   "cell_type": "markdown",
   "id": "deec5687",
   "metadata": {},
   "source": [
    "### Output Analysis\n",
    "\n",
    "$t \\approx 1.361$ is too low for $\\beta_0$ which causes the $P>|t| \\approx 0.222$ value to be greater than the threshold for significance $\\alpha=0.05$. Thus, we cannot reject the null hypothesis for $\\beta_0$. Thus the obtained estimate of $\\beta_0 = 0.3393$ is not statistically significant. Also, as we can see from the confidence interval ([0.025 0.975]), this confidence interval from -0.271 to 0.949 contains zero value as well."
   ]
  },
  {
   "cell_type": "code",
   "execution_count": 495,
   "id": "96734343",
   "metadata": {},
   "outputs": [
    {
     "name": "stdout",
     "output_type": "stream",
     "text": [
      "Degrees of Freedom: 6.0\n",
      "Number of Observations: 8.0\n",
      "Condition Number: 11.478428240732693\n"
     ]
    }
   ],
   "source": [
    "# Degrees of Freedom\n",
    "degrees_of_freedom = results.df_resid\n",
    "print(f\"Degrees of Freedom: {degrees_of_freedom}\")\n",
    "\n",
    "n = results.nobs\n",
    "print(f\"Number of Observations: {n}\")\n",
    "\n",
    "condition_number = results.condition_number\n",
    "print(f\"Condition Number: {condition_number}\")"
   ]
  },
  {
   "cell_type": "code",
   "execution_count": 496,
   "id": "d38e1878",
   "metadata": {},
   "outputs": [
    {
     "name": "stdout",
     "output_type": "stream",
     "text": [
      "T-value for Intercept: 1.3612466734221584\n",
      "T-value for Slope: 33.64621914609759\n"
     ]
    }
   ],
   "source": [
    "t_value_intercept = results.tvalues[0]\n",
    "print(f\"T-value for Intercept: {t_value_intercept}\")\n",
    "\n",
    "t_value_slope = results.tvalues[1]\n",
    "print(f\"T-value for Slope: {t_value_slope}\")"
   ]
  },
  {
   "cell_type": "code",
   "execution_count": 497,
   "id": "2e831421",
   "metadata": {},
   "outputs": [
    {
     "name": "stdout",
     "output_type": "stream",
     "text": [
      "P-value for Intercept: 0.22233728808292874\n",
      "P-value for Slope: 4.588381846337238e-08\n"
     ]
    }
   ],
   "source": [
    "p_value_intercept = results.pvalues[0]\n",
    "print(f\"P-value for Intercept: {p_value_intercept}\")\n",
    "\n",
    "p_value_slope = results.pvalues[1]\n",
    "print(f\"P-value for Slope: {p_value_slope}\")"
   ]
  },
  {
   "cell_type": "code",
   "execution_count": 498,
   "id": "b509f02c",
   "metadata": {},
   "outputs": [
    {
     "name": "stdout",
     "output_type": "stream",
     "text": [
      "P-value for Intercept (SciPy): 0.22233728808292874\n",
      "P-value for Slope (SciPy): 4.588381846337238e-08\n"
     ]
    }
   ],
   "source": [
    "p_value_intercept_scipy = stats.t.sf(np.abs(t_value_intercept), df=degrees_of_freedom) * 2  # two-tailed p-value\n",
    "print(f\"P-value for Intercept (SciPy): {p_value_intercept_scipy}\")\n",
    "\n",
    "p_value_slope_scipy = stats.t.sf(np.abs(t_value_slope), df=degrees_of_freedom) * 2  # two-tailed p-value\n",
    "print(f\"P-value for Slope (SciPy): {p_value_slope_scipy}\")\n"
   ]
  },
  {
   "cell_type": "code",
   "execution_count": 499,
   "id": "44e94ac9",
   "metadata": {},
   "outputs": [
    {
     "name": "stdout",
     "output_type": "stream",
     "text": [
      "1) RSS from unweighted residuals (results.resid): 0.6139\n",
      "2) Weighted RSS from weighted residuals (results.wresid): 2.4557\n",
      "3) Weighted RSS from results.ssr: 2.4557\n",
      "4) Manually calculated RSS (unweighted): 0.6139\n",
      "5) Manually calculated Weighted RSS: 2.4557\n"
     ]
    }
   ],
   "source": [
    "# --- 1) Calculate RSS using results.resid (unweighted residuals) ---\n",
    "rss_unweighted = np.sum(results.resid**2)\n",
    "print(f\"1) RSS from unweighted residuals (results.resid): {rss_unweighted:.4f}\")\n",
    "\n",
    "\n",
    "# --- 2) Calculate RSS using results.wresid (weighted residuals) ---\n",
    "# This is the value that WLS minimizes.\n",
    "rss_weighted_from_wresid = np.sum(results.wresid**2)\n",
    "print(f\"2) Weighted RSS from weighted residuals (results.wresid): {rss_weighted_from_wresid:.4f}\")\n",
    "\n",
    "rss_weighted_sm = results.ssr\n",
    "print(f\"3) Weighted RSS from results.ssr: {rss_weighted_sm:.4f}\")\n",
    "\n",
    "\n",
    "# --- 3) Calculate RSS manually using the linear equation ---\n",
    "# Get the coefficients from the model results\n",
    "intercept, slope = results.params\n",
    "# Calculate the predicted y values\n",
    "y_pred = intercept + slope * x\n",
    "# Calculate the residuals manually\n",
    "manual_residuals = y_obs - y_pred\n",
    "# Square and sum the residuals\n",
    "rss_unweighted_manual = np.sum(manual_residuals**2)\n",
    "print(f\"4) Manually calculated RSS (unweighted): {rss_unweighted_manual:.4f}\")\n",
    "\n",
    "\n",
    "# --- 4) Calculate weighted RSS manually ---\n",
    "# Use the manual residuals and the weights\n",
    "manual_weighted_residuals_sq = (manual_residuals**2) * weights\n",
    "rss_weighted_manual = np.sum(manual_weighted_residuals_sq)\n",
    "print(f\"5) Manually calculated Weighted RSS: {rss_weighted_manual:.4f}\")\n",
    "\n",
    "# --- Verification ---\n",
    "# Note that the unweighted RSS values from (1) and (3) should be identical.\n",
    "# The weighted RSS values from (2) and (4) should also be identical.\n",
    "# The small differences might occur due to floating-point precision."
   ]
  },
  {
   "cell_type": "code",
   "execution_count": 500,
   "id": "1b3c5113",
   "metadata": {},
   "outputs": [
    {
     "name": "stdout",
     "output_type": "stream",
     "text": [
      "Total weighted sum of squares centered about the mean (statsmodels results.centered_tss): 465.7950\n",
      "Uncentered total weighted sum of squares (statsmodels results.uncentered_tss): 2418.9200\n",
      "\n",
      "Manual calculation of total (weighted) sum of squares centered about the mean: 465.7950\n",
      "Manual calculation of uncentered total (weighted) sum of squares: 2418.9200\n",
      "\n",
      "Manual calculation of unweighted TSS centered about the mean: 116.4488\n",
      "Manual calculation of uncentered unweighted TSS: 604.7300\n"
     ]
    }
   ],
   "source": [
    "# 1) print tss value using results.centered_tss\n",
    "centered_tss_sm = results.centered_tss\n",
    "print(f\"Total weighted sum of squares centered about the mean (statsmodels results.centered_tss): {centered_tss_sm:.4f}\")\n",
    "\n",
    "# 2) print tss value using results.uncentered_tss\n",
    "uncentered_tss_sm = results.uncentered_tss\n",
    "print(f\"Uncentered total weighted sum of squares (statsmodels results.uncentered_tss): {uncentered_tss_sm:.4f}\")\n",
    "\n",
    "# 3) calculate centered_tss manually\n",
    "# First, calculate the weighted mean of y_obs\n",
    "weighted_mean_y = np.sum(weights * y_obs) / np.sum(weights)\n",
    "# Then, calculate the centered_tss using the formula\n",
    "weighted_centered_tss_manual = np.sum(weights * (y_obs - weighted_mean_y)**2)\n",
    "print(f\"\\nManual calculation of total (weighted) sum of squares centered about the mean: {weighted_centered_tss_manual:.4f}\")\n",
    "\n",
    "# 4) calculate uncentered_tss manually\n",
    "# The formula is the sum of weighted squared y values\n",
    "weighted_uncentered_tss_manual = np.sum(weights * y_obs**2)\n",
    "print(f\"Manual calculation of uncentered total (weighted) sum of squares: {weighted_uncentered_tss_manual:.4f}\")\n",
    "\n",
    "# --- Manual Unweighted Calculations ---\n",
    "\n",
    "# 5) calculate unweighted centered_tss manually\n",
    "# First, calculate the standard (unweighted) mean of y_obs\n",
    "unweighted_mean_y = np.mean(y_obs)\n",
    "# Then, calculate the unweighted centered_tss\n",
    "# Formula: sum((y_obs - mean(y_obs))^2)\n",
    "unweighted_centered_tss_manual = np.sum((y_obs - unweighted_mean_y)**2)\n",
    "print(f\"\\nManual calculation of unweighted TSS centered about the mean: {unweighted_centered_tss_manual:.4f}\")\n",
    "\n",
    "# 6) calculate unweighted uncentered_tss manually\n",
    "# The formula is the sum of squared y values without weighting\n",
    "# Formula: sum(y_obs^2)\n",
    "unweighted_uncentered_tss_manual = np.sum(y_obs**2)\n",
    "print(f\"Manual calculation of uncentered unweighted TSS: {unweighted_uncentered_tss_manual:.4f}\")"
   ]
  },
  {
   "cell_type": "code",
   "execution_count": 501,
   "id": "d9cc82eb",
   "metadata": {},
   "outputs": [
    {
     "name": "stdout",
     "output_type": "stream",
     "text": [
      "Weighted Explained Sum of Squares (ESS): 463.3393\n",
      "Weighted Explained Sum of Squares (ESS) manual calculation: 463.3393\n",
      "Explained Sum of Squares (ESS) unweighted manual calculation: 115.8348\n"
     ]
    }
   ],
   "source": [
    "ess = results.ess # The explained sum of squares.\n",
    "print(f\"Weighted Explained Sum of Squares (ESS): {ess:.4f}\")\n",
    "\n",
    "# Manually calculate the ESS\n",
    "# Get the fitted values (y_hat) from the model\n",
    "y_hat = results.predict(X)\n",
    "\n",
    "# Calculate the weighted mean of y_obs\n",
    "weighted_mean_y = np.sum(weights * y_obs) / np.sum(weights)\n",
    "\n",
    "# Calculate ESS using the formula: sum(weights * (y_hat - weighted_mean_y)^2)\n",
    "ess_weighted_manual = np.sum(weights * (y_hat - weighted_mean_y)**2)\n",
    "print(f\"Weighted Explained Sum of Squares (ESS) manual calculation: {ess_weighted_manual:.4f}\")\n",
    "\n",
    "# Calculate the unweighted mean of y_obs\n",
    "unweighted_mean_y = np.mean(y_obs)\n",
    "\n",
    "# Finally, calculate the unweighted ESS using the formula: sum((y_hat - unweighted_mean_y)^2)\n",
    "ess_unweighted_manual = np.sum((y_hat - unweighted_mean_y)**2)\n",
    "print(f\"Explained Sum of Squares (ESS) unweighted manual calculation: {ess_unweighted_manual:.4f}\")"
   ]
  },
  {
   "cell_type": "code",
   "execution_count": 502,
   "id": "ea5c644f",
   "metadata": {},
   "outputs": [
    {
     "name": "stdout",
     "output_type": "stream",
     "text": [
      "Number of observations (n): 8.0\n",
      "Number of parameters (p): 2.0\n"
     ]
    }
   ],
   "source": [
    "# Get the number of observations and parameters\n",
    "n = results.nobs\n",
    "p = results.df_model + 1  # df_model is number of explanatory variables, add 1 for intercept\n",
    "\n",
    "print(f\"Number of observations (n): {n}\")\n",
    "print(f\"Number of parameters (p): {p}\")"
   ]
  },
  {
   "cell_type": "code",
   "execution_count": 503,
   "id": "15c94e1d",
   "metadata": {},
   "outputs": [
    {
     "name": "stdout",
     "output_type": "stream",
     "text": [
      "Weighted R-squared (statsmodels results.rsquared): 0.994728\n",
      "Weighted Adjusted R-squared (statsmodels results.rsquared_adj): 0.993849\n",
      "\n",
      "Manual Weighted R-squared (1 - RSS_w/TSS_w): 0.994728\n",
      "Manual Weighted Adjusted R-squared: 0.993849\n",
      "\n",
      "Manual Unweighted R-squared (1 - RSS/TSS): 0.994728\n",
      "Manual Unweighted Adjusted R-squared: 0.993849\n",
      "\n",
      "Manual Weighted R-squared (alternative formula) (ESS_w/TSS_w): 0.994728\n",
      "Manual Unweighted R-squared alternative formula (ESS/TSS): 0.994728\n"
     ]
    }
   ],
   "source": [
    "r_squared = results.rsquared\n",
    "print(f\"Weighted R-squared (statsmodels results.rsquared): {r_squared:.6f}\")\n",
    "\n",
    "r_squared_adj = results.rsquared_adj\n",
    "print(f\"Weighted Adjusted R-squared (statsmodels results.rsquared_adj): {r_squared_adj:.6f}\")\n",
    "\n",
    "# --- Manual calculation of Weighted R-squared ---\n",
    "\n",
    "r_squared_manual_weighted = 1 - rss_weighted_manual / weighted_centered_tss_manual\n",
    "print(f\"\\nManual Weighted R-squared (1 - RSS_w/TSS_w): {r_squared_manual_weighted:.6f}\")\n",
    "\n",
    "# Manual calculation of Weighted Adjusted R-squared\n",
    "# Formula: 1 - (1 - R^2_w) * ((n-1)/(n-p))\n",
    "r_squared_adj_manual_weighted = 1 - (1 - r_squared_manual_weighted) * ((n - 1) / (n - p))\n",
    "print(f\"Manual Weighted Adjusted R-squared: {r_squared_adj_manual_weighted:.6f}\")\n",
    "\n",
    "# --- Manual calculation of Unweighted R-squared ---\n",
    "# We need to calculate the unweighted centered TSS first\n",
    "unweighted_mean_y = np.mean(y_obs)\n",
    "unweighted_centered_tss = np.sum((y_obs - unweighted_mean_y)**2)\n",
    "\n",
    "r_squared_manual_unweighted = 1 - rss_unweighted_manual / unweighted_centered_tss\n",
    "print(f\"\\nManual Unweighted R-squared (1 - RSS/TSS): {r_squared_manual_unweighted:.6f}\")\n",
    "\n",
    "# Manual calculation of Unweighted Adjusted R-squared\n",
    "# Formula: 1 - (1 - R^2_unweighted) * ((n-1)/(n-p))\n",
    "r_squared_adj_manual_unweighted = 1 - (1 - r_squared_manual_unweighted) * ((n - 1) / (n - p))\n",
    "print(f\"Manual Unweighted Adjusted R-squared: {r_squared_adj_manual_unweighted:.6f}\")\n",
    "\n",
    "# Formula: ESS_weighted / TSS_centered_weighted\n",
    "r_squared_manual_weighted_2 = ess_weighted_manual / weighted_centered_tss_manual\n",
    "print(f\"\\nManual Weighted R-squared (alternative formula) (ESS_w/TSS_w): {r_squared_manual_weighted_2:.6f}\")\n",
    "\n",
    "# Formula: ESS_unweighted / TSS_centered_unweighted\n",
    "r_squared_manual_unweighted_2 = ess_unweighted_manual / unweighted_centered_tss\n",
    "print(f\"Manual Unweighted R-squared alternative formula (ESS/TSS): {r_squared_manual_unweighted_2:.6f}\")"
   ]
  },
  {
   "cell_type": "markdown",
   "id": "6a8ba927",
   "metadata": {},
   "source": [
    "NOTE: When all of the $\\sigma_i$ values are the same, weighted and unweighted versions of R-squared and Adjusted R-square have the same values."
   ]
  },
  {
   "cell_type": "code",
   "execution_count": 504,
   "id": "21075fe3",
   "metadata": {},
   "outputs": [
    {
     "name": "stdout",
     "output_type": "stream",
     "text": [
      "Chi-Squared: 2.4557\n",
      "Reduced Chi-Squared: 0.4093\n"
     ]
    }
   ],
   "source": [
    "# Chi-Squared\n",
    "chi_squared = np.sum(((y_obs - results.predict()) / sigma)**2)\n",
    "print(f\"Chi-Squared: {chi_squared:.4f}\")\n",
    "\n",
    "# Reduced Chi-Squared\n",
    "reduced_chi_squared = chi_squared / degrees_of_freedom\n",
    "print(f\"Reduced Chi-Squared: {reduced_chi_squared:.4f}\")"
   ]
  },
  {
   "cell_type": "markdown",
   "id": "af5ae83d",
   "metadata": {},
   "source": [
    "NOTE: While the estimated value of $\\beta_0$ is not statistically significant, Reduced Chi-Squared value is low and less than 1 which is good. This means that probably our standard deviations (measurement uncertainties) are overestimated. \n",
    "\n",
    "If we can increase the accuracy of our measurements and decrease measurement uncertainties from 0.5 to, for example, 0.3, the reduced chi-squared value will be increased but it doesn't necessarily change the $P>|t|$ value for $\\beta_0$ (you can open this code in Google Colab using the appropriate icon in the top Action pane, try to change all the `sigma` values from 0.5 to 0.3 and double-check that this will not affect anything related to $\\beta_0$)."
   ]
  },
  {
   "cell_type": "code",
   "execution_count": 505,
   "id": "38e9ecf9",
   "metadata": {},
   "outputs": [
    {
     "name": "stdout",
     "output_type": "stream",
     "text": [
      "\n",
      "--- Root Mean Squared Error (RMSE) ---\n",
      "RMSE (statsmodels.tools.eval_measures.rmse method): 0.2770\n",
      "Manual Unweighted RMSE: 0.2770\n",
      "Manual Weighted RMSE: 0.2770\n"
     ]
    }
   ],
   "source": [
    "# --- Root Mean Squared Error (RMSE) Calculations ---\n",
    "print(\"\\n--- Root Mean Squared Error (RMSE) ---\")\n",
    "\n",
    "# RMSE from statsmodels (this is an unweighted RMSE)\n",
    "rmse_val = rmse(y_obs, results.fittedvalues)\n",
    "print(f\"RMSE (statsmodels.tools.eval_measures.rmse method): {rmse_val:.4f}\")\n",
    "\n",
    "# Manual calculation of Unweighted RMSE\n",
    "# Formula: sqrt(sum of squared unweighted residuals / number of observations)\n",
    "rmse_manual_unweighted = np.sqrt(rss_unweighted_manual / n)\n",
    "print(f\"Manual Unweighted RMSE: {rmse_manual_unweighted:.4f}\")\n",
    "\n",
    "# Manual calculation of Weighted RMSE\n",
    "# Formula: sqrt(sum of squared weighted residuals / sum of weights)\n",
    "rmse_manual_weighted = np.sqrt(rss_weighted_manual / np.sum(weights))\n",
    "print(f\"Manual Weighted RMSE: {rmse_manual_weighted:.4f}\")"
   ]
  },
  {
   "cell_type": "code",
   "execution_count": 506,
   "id": "6b4b566f",
   "metadata": {},
   "outputs": [
    {
     "name": "stdout",
     "output_type": "stream",
     "text": [
      "\n",
      "Manual Weighted SER: 0.6398\n",
      "Statsmodels SER (results.ssr / degrees_of_freedom): 0.6398\n"
     ]
    }
   ],
   "source": [
    "# --- Standard Error of the Regression (SER) ---\n",
    "\n",
    "# 1) Calculate weighted SER manually\n",
    "# Formula: sqrt(RSS_weighted / degrees_of_freedom)\n",
    "degrees_of_freedom = results.df_resid\n",
    "ser_manual_weighted = np.sqrt(rss_weighted_manual / degrees_of_freedom)\n",
    "print(f\"\\nManual Weighted SER: {ser_manual_weighted:.4f}\")\n",
    "\n",
    "# Compare with statsmodels SER calculation\n",
    "ser_sm = np.sqrt(results.ssr / degrees_of_freedom)\n",
    "print(f\"Statsmodels SER (results.ssr / degrees_of_freedom): {ser_sm:.4f}\")"
   ]
  },
  {
   "cell_type": "code",
   "execution_count": 507,
   "id": "7b41b282",
   "metadata": {},
   "outputs": [
    {
     "name": "stdout",
     "output_type": "stream",
     "text": [
      "\n",
      "--- Standard Error of the Regression (SER) ---\n",
      "SER (from statsmodels results): 0.6398\n",
      "Manual Weighted SER: 0.6398\n",
      "Manual Unweighted SER: 0.3199\n"
     ]
    }
   ],
   "source": [
    "# --- Standard Error of the Regression (SER) Calculations ---\n",
    "print(\"\\n--- Standard Error of the Regression (SER) ---\")\n",
    "\n",
    "# SER from statsmodels results (this is a weighted SER)\n",
    "# It is the square root of the weighted RSS divided by the degrees of freedom\n",
    "ser_sm = np.sqrt(results.ssr / results.df_resid)\n",
    "print(f\"SER (from statsmodels results): {ser_sm:.4f}\")\n",
    "\n",
    "# Manual calculation of Weighted SER\n",
    "# This should match the value from statsmodels\n",
    "# Formula: sqrt(sum of squared weighted residuals / degrees of freedom)\n",
    "ser_manual_weighted = np.sqrt(rss_weighted_manual / degrees_of_freedom)\n",
    "print(f\"Manual Weighted SER: {ser_manual_weighted:.4f}\")\n",
    "\n",
    "# Manual calculation of Unweighted SER\n",
    "# Formula: sqrt(sum of squared unweighted residuals / degrees of freedom)\n",
    "ser_manual_unweighted = np.sqrt(rss_unweighted_manual / degrees_of_freedom)\n",
    "print(f\"Manual Unweighted SER: {ser_manual_unweighted:.4f}\")"
   ]
  },
  {
   "cell_type": "code",
   "execution_count": 508,
   "id": "d510ff5c",
   "metadata": {},
   "outputs": [
    {
     "name": "stdout",
     "output_type": "stream",
     "text": [
      "--- Statsmodels Results (Weighted) ---\n",
      "Mean Squared Error of the Model (mse_model): 463.3393\n",
      "Mean Squared Error of the Residuals (MSE) (mse_resid): 0.4093\n",
      "Total Mean Squared Error (mse_total): 66.5421\n",
      "\n",
      "--- Manual Calculations ---\n",
      "Manual Weighted mse_model: 463.3393 (Should match statsmodels)\n",
      "Manual Unweighted mse_model: 115.8348\n",
      "\n",
      "Manual Weighted mse_resid: 0.4093 (Should match statsmodels)\n",
      "Manual Unweighted mse_resid: 0.1023\n",
      "\n",
      "Manual Weighted mse_total: 66.5421 (Should match statsmodels)\n",
      "Manual Unweighted mse_total: 16.6355\n"
     ]
    }
   ],
   "source": [
    "n = results.nobs\n",
    "p = results.df_model + 1\n",
    "\n",
    "# --- MSE values from statsmodels results ---\n",
    "print(\"--- Statsmodels Results (Weighted) ---\")\n",
    "mse_model_sm = results.mse_model\n",
    "print(f\"Mean Squared Error of the Model (mse_model): {mse_model_sm:.4f}\")\n",
    "\n",
    "mse_resid_sm = results.mse_resid\n",
    "print(f\"Mean Squared Error of the Residuals (MSE) (mse_resid): {mse_resid_sm:.4f}\")\n",
    "\n",
    "mse_total_sm = results.mse_total\n",
    "print(f\"Total Mean Squared Error (mse_total): {mse_total_sm:.4f}\")\n",
    "\n",
    "# --- Manual Calculations ---\n",
    "print(\"\\n--- Manual Calculations ---\")\n",
    "\n",
    "# 1. MSE Model\n",
    "mse_model_manual_weighted = ess_weighted_manual / (p - 1)\n",
    "mse_model_manual_unweighted = ess_unweighted_manual / (p - 1)\n",
    "print(f\"Manual Weighted mse_model: {mse_model_manual_weighted:.4f} (Should match statsmodels)\")\n",
    "print(f\"Manual Unweighted mse_model: {mse_model_manual_unweighted:.4f}\")\n",
    "\n",
    "# 2. MSE Residuals\n",
    "mse_resid_manual_weighted = rss_weighted_manual / (n - p)\n",
    "mse_resid_manual_unweighted = rss_unweighted_manual / (n - p)\n",
    "print(f\"\\nManual Weighted mse_resid: {mse_resid_manual_weighted:.4f} (Should match statsmodels)\")\n",
    "print(f\"Manual Unweighted mse_resid: {mse_resid_manual_unweighted:.4f}\")\n",
    "\n",
    "# 3. MSE Total\n",
    "mse_total_manual_weighted = weighted_centered_tss_manual / (n - 1)\n",
    "mse_total_manual_unweighted = unweighted_centered_tss_manual / (n - 1)\n",
    "print(f\"\\nManual Weighted mse_total: {mse_total_manual_weighted:.4f} (Should match statsmodels)\")\n",
    "print(f\"Manual Unweighted mse_total: {mse_total_manual_unweighted:.4f}\")"
   ]
  },
  {
   "cell_type": "code",
   "execution_count": 509,
   "id": "9454c469",
   "metadata": {},
   "outputs": [
    {
     "name": "stdout",
     "output_type": "stream",
     "text": [
      "Unbiased Scale (statsmodels results.scale): 0.4093\n",
      "Degrees of Freedom: 6.0\n",
      "Weighted Sum of Squared Residuals (statsmodels results.ssr): 2.4557\n",
      "Unbiased Scale (weighted RSS / degrees of freedom): 0.4093\n"
     ]
    }
   ],
   "source": [
    "# Unbiased Scale using results.scale\n",
    "unbiased_scale_sm = results.scale # ssr / df_resid\n",
    "print(f\"Unbiased Scale (statsmodels results.scale): {unbiased_scale_sm:.4f}\")\n",
    "\n",
    "# Degrees of Freedom\n",
    "degrees_of_freedom = results.df_resid\n",
    "print(f\"Degrees of Freedom: {degrees_of_freedom}\")\n",
    "\n",
    "rss_weighted_sm = results.ssr # Weighted Sum of Squared Residuals\n",
    "print(f\"Weighted Sum of Squared Residuals (statsmodels results.ssr): {rss_weighted_sm:.4f}\")\n",
    "\n",
    "unbiased_scale_sm_rss = rss_weighted_sm / degrees_of_freedom\n",
    "print(f\"Unbiased Scale (weighted RSS / degrees of freedom): {unbiased_scale_sm_rss:.4f}\")"
   ]
  },
  {
   "cell_type": "code",
   "execution_count": 510,
   "id": "e4a4590d",
   "metadata": {},
   "outputs": [
    {
     "name": "stdout",
     "output_type": "stream",
     "text": [
      "--- Information Criteria from statsmodels ---\n",
      "Maximum Log-Likelihood of the Model (results.llf) from statsmodels: -1.0822\n",
      "Akaike Information Criterion AIC (results.aic) from statsmodels: 6.1645\n",
      "Bayesian Information Criterion BIC (results.bic) from statsmodels: 6.3234\n",
      "\n",
      "--- Manual Calculation Verification ---\n",
      "MLE for variance (RSS_w / n): 0.3070\n",
      "\n",
      "Maximum Log-Likelihood calculated using the formula: -1.0822\n",
      "Manual AIC: 6.1645\n",
      "Manual BIC: 6.3234\n",
      "Manual AICc (Corrected Akaike Information Criterion): 8.5645\n"
     ]
    }
   ],
   "source": [
    "print(\"--- Information Criteria from statsmodels ---\")\n",
    "\n",
    "llf = results.llf # Log-likelihood of model\n",
    "print(f\"Maximum Log-Likelihood of the Model (results.llf) from statsmodels: {llf:.4f}\")\n",
    "\n",
    "aic = results.aic\n",
    "print(f\"Akaike Information Criterion AIC (results.aic) from statsmodels: {aic:.4f}\")\n",
    "\n",
    "bic = results.bic\n",
    "print(f\"Bayesian Information Criterion BIC (results.bic) from statsmodels: {bic:.4f}\")\n",
    "\n",
    "\n",
    "# --- Manual Calculations ---\n",
    "print(\"\\n--- Manual Calculation Verification ---\")\n",
    "\n",
    "n = results.nobs\n",
    "p = results.df_model + 1\n",
    "rss_w = results.ssr # Weighted sum of squared residuals\n",
    "\n",
    "# First, calculate the Maximum Likelihood Estimate for the scale/variance parameter\n",
    "mle_variance = rss_w / n\n",
    "print(f\"MLE for variance (RSS_w / n): {mle_variance:.4f}\")\n",
    "\n",
    "# Now, use the simplified formula derived from substituting the MLE scale\n",
    "term1 = -n / 2 * (np.log(2 * np.pi) + 1)\n",
    "term2 = -n / 2 * np.log(mle_variance)\n",
    "term3 = 0.5 * np.sum(np.log(weights))\n",
    "llf_manual_correct = term1 + term2 + term3\n",
    "\n",
    "print(f\"\\nMaximum Log-Likelihood calculated using the formula: {llf_manual_correct:.4f}\")\n",
    "\n",
    "aic = -2 * llf_manual_correct + 2 * p  # p = 2 parameters (intercept and slope)\n",
    "print(f\"Manual AIC: {aic:.4f}\")\n",
    "\n",
    "bic = -2 * llf_manual_correct + np.log(n) * p\n",
    "print(f\"Manual BIC: {bic:.4f}\")\n",
    "\n",
    "aicc = aic + (2 * p * (p + 1)) / (n - p - 1)\n",
    "print(f\"Manual AICc (Corrected Akaike Information Criterion): {aicc:.4f}\")"
   ]
  },
  {
   "cell_type": "code",
   "execution_count": 511,
   "id": "8a1875e6",
   "metadata": {},
   "outputs": [
    {
     "data": {
      "image/png": "[encoded data removed]",
      "text/plain": [
       "<Figure size 1000x1600 with 3 Axes>"
      ]
     },
     "metadata": {},
     "output_type": "display_data"
    }
   ],
   "source": [
    "# --- Generate and display plots ---\n",
    "\n",
    "residuals = results.resid  # Unweighted residuals\n",
    "\n",
    "weighted_residuals = results.wresid  # Weighted residuals\n",
    "\n",
    "weighted_sigma = sigma * np.sqrt(weights) # This gives us an array with the values of 1 for each observation\n",
    "\n",
    "\n",
    "# Create a figure and axes for the plots\n",
    "fig, (ax1, ax2, ax3) = plt.subplots(3, 1, figsize=(10, 16))\n",
    "fig.suptitle('WLS Regression Analysis', fontsize=16)\n",
    "\n",
    "# --- Plot 1: WLS Fit with Confidence and Prediction Intervals ---\n",
    "ax1.errorbar(x, y_obs, yerr=sigma, fmt='o', label='Data with Error Bars', capsize=5)\n",
    "ax1.plot(x, results.fittedvalues, 'r-', label='WLS Fit')\n",
    "\n",
    "# Get prediction intervals\n",
    "predictions = results.get_prediction(X)\n",
    "prediction_summary = predictions.summary_frame(alpha=0.05)\n",
    "\n",
    "# Plot confidence and prediction intervals\n",
    "ax1.plot(x, prediction_summary['mean_ci_lower'], 'g--', label='95% Confidence Interval')\n",
    "ax1.plot(x, prediction_summary['mean_ci_upper'], 'g--')\n",
    "ax1.plot(x, prediction_summary['obs_ci_lower'], 'y:', label='95% Prediction Interval')\n",
    "ax1.plot(x, prediction_summary['obs_ci_upper'], 'y:')\n",
    "\n",
    "ax1.set_xlabel(\"Independent Variable (x)\")\n",
    "ax1.set_ylabel(\"Dependent Variable (y)\")\n",
    "ax1.set_title(\"WLS Fit with Confidence and Prediction Intervals\")\n",
    "ax1.legend()\n",
    "ax1.grid(True)\n",
    "\n",
    "\n",
    "# --- Plot 2: Residuals Plot ---\n",
    "ax2.errorbar(x, residuals, yerr=sigma, fmt='o', capsize=5)\n",
    "ax2.axhline(y=0, color='r', linestyle='--')\n",
    "ax2.set_xlabel(\"Independent Variable (x)\")\n",
    "ax2.set_ylabel(\"Residuals\")\n",
    "ax2.set_title(\"Residuals of the WLS Fit\")\n",
    "ax2.grid(True)\n",
    "\n",
    "# --- Plot 3: Weighted Residuals Plot ---\n",
    "ax3.errorbar(x, weighted_residuals, yerr=weighted_sigma, fmt='o', capsize=5)\n",
    "ax3.axhline(y=0, color='r', linestyle='--')\n",
    "ax3.set_xlabel(\"Independent Variable (x)\")\n",
    "ax3.set_ylabel(\"Weighted Residuals\")\n",
    "ax3.set_title(\"Weighted Residuals of the WLS Fit\")\n",
    "ax3.grid(True)\n",
    "\n",
    "plt.tight_layout(rect=[0, 0.03, 1, 0.95])\n",
    "plt.show()"
   ]
  },
  {
   "cell_type": "markdown",
   "id": "537fcd74",
   "metadata": {},
   "source": [
    "## Example 3\n",
    "\n",
    "We will model the same case but using `scipy` library and `curve_fit` method from that library. The `sigma` values are the same as in Example 1:\n",
    "\n",
    "```python\n",
    "sigma = np.array([0.2, 0.3, 0.4, 0.5, 0.6, 0.7, 0.8, 0.9])\n",
    "```"
   ]
  },
  {
   "cell_type": "code",
   "execution_count": 512,
   "id": "ac19a319",
   "metadata": {},
   "outputs": [],
   "source": [
    "import numpy as np\n",
    "import scipy.stats as stats\n",
    "from scipy.optimize import curve_fit\n",
    "import matplotlib.pyplot as plt"
   ]
  },
  {
   "cell_type": "code",
   "execution_count": 513,
   "id": "972b3b7c",
   "metadata": {},
   "outputs": [],
   "source": [
    "# Sample data from a hypothetical physics experiment\n",
    "# x represents an independent variable\n",
    "# y_obs represents the observed dependent variable\n",
    "x = np.array([1, 2, 3, 4, 5, 6, 7, 8])\n",
    "y_obs = np.array([2.3, 3.8, 5.1, 6.9, 8.2, 10.3, 11.8, 14.1])\n",
    "\n",
    "# Standard deviation for each data point\n",
    "sigma = np.array([0.2, 0.3, 0.4, 0.5, 0.6, 0.7, 0.8, 0.9])\n",
    "# The weights for WLS are the inverse of the variance (1 / sigma^2)\n",
    "weights = 1.0 / (sigma**2)"
   ]
  },
  {
   "cell_type": "code",
   "execution_count": 514,
   "id": "8f6e2a32",
   "metadata": {},
   "outputs": [],
   "source": [
    "# Define the linear model function for curve_fit\n",
    "def linear_func(x, b0, b1):\n",
    "    return b0 + b1 * x"
   ]
  },
  {
   "cell_type": "markdown",
   "id": "4403ba05",
   "metadata": {},
   "source": [
    "### Absolute sigma parameter\n",
    "\n",
    "Note, that `curve_fit` provides the same result for standard errors as `statsmodels` approach in a case if `absolute_sigma=False`. However, if `absolute_sigma=True`, the estimated values of intercept $\\beta_0$ and slope $\\beta_1$ do not change, but standard errors become different. This is because if `absolute_sigma=True`, then `curve_fit` considers `sigma` not just for calculating the weights; it considers `sigma` as standard deviations of measurements that should not be reestimated again.\n",
    "\n",
    "below, we will proceed with both cases to compare the results between both options and between `statsmodels` and `scipy` in general."
   ]
  },
  {
   "cell_type": "markdown",
   "id": "365397c4",
   "metadata": {},
   "source": [
    "### `absolute_sigma=False`"
   ]
  },
  {
   "cell_type": "code",
   "execution_count": 515,
   "id": "2e7d4d23",
   "metadata": {},
   "outputs": [
    {
     "name": "stdout",
     "output_type": "stream",
     "text": [
      "--- Fitted Parameters ---\n",
      "Intercept (beta_0): 0.6375 +/- 0.1255\n",
      "Slope (beta_1): 1.5857 +/- 0.0417\n"
     ]
    }
   ],
   "source": [
    "# --- Fit the model using scipy.optimize.curve_fit ---\n",
    "# popt: Optimal values for the parameters (b0, b1)\n",
    "# pcov: The estimated covariance matrix of popt\n",
    "popt, pcov = curve_fit(linear_func, x, y_obs, sigma=sigma, absolute_sigma=False)\n",
    "\n",
    "# Standard errors are the sqrt of the diagonal of the covariance matrix\n",
    "perr = np.sqrt(np.diag(pcov))\n",
    "std_err_intercept = perr[0]\n",
    "std_err_slope = perr[1]\n",
    "\n",
    "# Extract the fitted parameters (intercept and slope)\n",
    "intercept, slope = popt\n",
    "print(\"--- Fitted Parameters ---\")\n",
    "print(f\"Intercept (beta_0): {intercept:.4f} +/- {std_err_intercept:.4f}\")\n",
    "print(f\"Slope (beta_1): {slope:.4f} +/- {std_err_slope:.4f}\")"
   ]
  },
  {
   "cell_type": "code",
   "execution_count": 516,
   "id": "c7c08c1d",
   "metadata": {},
   "outputs": [
    {
     "name": "stdout",
     "output_type": "stream",
     "text": [
      "Condition number of the covariance matrix: 28.17\n"
     ]
    }
   ],
   "source": [
    "# Check condition number of the covariance matrix\n",
    "print(f\"Condition number of the covariance matrix: {np.linalg.cond(pcov):.2f}\")"
   ]
  },
  {
   "cell_type": "code",
   "execution_count": 517,
   "id": "fe6a1888",
   "metadata": {},
   "outputs": [
    {
     "name": "stdout",
     "output_type": "stream",
     "text": [
      "\n",
      "--- Basic Fit Information ---\n",
      "Number of Observations (n): 8\n",
      "Number of Parameters (p): 2\n",
      "Degrees of Freedom (degrees_of_freedom): 6\n"
     ]
    }
   ],
   "source": [
    "# --- Calculate Model Predictions and Residuals ---\n",
    "y_pred = linear_func(x, intercept, slope)\n",
    "residuals = y_obs - y_pred\n",
    "weighted_residuals = (y_obs - y_pred) / sigma # same as residuals * sqrt(weights)\n",
    "\n",
    "# --- Basic Fit Information ---\n",
    "print(\"\\n--- Basic Fit Information ---\")\n",
    "n = len(x)  # Number of observations\n",
    "p = len(popt) # Number of parameters (intercept, slope)\n",
    "degrees_of_freedom = n - p # Degrees of Freedom\n",
    "print(f\"Number of Observations (n): {n}\")\n",
    "print(f\"Number of Parameters (p): {p}\")\n",
    "print(f\"Degrees of Freedom (degrees_of_freedom): {degrees_of_freedom}\")"
   ]
  },
  {
   "cell_type": "code",
   "execution_count": 518,
   "id": "517665ea",
   "metadata": {},
   "outputs": [
    {
     "name": "stdout",
     "output_type": "stream",
     "text": [
      "\n",
      "--- Hypothesis Testing ---\n",
      "Standard Error for Intercept: 0.125542\n",
      "T-value for Intercept: 5.078178\n",
      "P-value for Intercept: 0.002270\n",
      "Standard Error for Slope: 0.041745\n",
      "T-value for Slope: 37.985584\n",
      "P-value for Slope: 0.000000\n"
     ]
    }
   ],
   "source": [
    "# --- Hypothesis Testing: t-values and p-values ---\n",
    "print(\"\\n--- Hypothesis Testing ---\")\n",
    "\n",
    "# Calculate t-values\n",
    "t_value_intercept = intercept / std_err_intercept\n",
    "t_value_slope = slope / std_err_slope\n",
    "\n",
    "# Calculate two-tailed p-values\n",
    "p_value_intercept = stats.t.sf(np.abs(t_value_intercept), df=degrees_of_freedom) * 2\n",
    "p_value_slope = stats.t.sf(np.abs(t_value_slope), df=degrees_of_freedom) * 2\n",
    "\n",
    "print(f\"Standard Error for Intercept: {std_err_intercept:.6f}\")\n",
    "print(f\"T-value for Intercept: {t_value_intercept:.6f}\")\n",
    "print(f\"P-value for Intercept: {p_value_intercept:.6f}\")\n",
    "print(f\"Standard Error for Slope: {std_err_slope:.6f}\")\n",
    "print(f\"T-value for Slope: {t_value_slope:.6f}\")\n",
    "print(f\"P-value for Slope: {p_value_slope:.6f}\")"
   ]
  },
  {
   "cell_type": "code",
   "execution_count": 519,
   "id": "04803b69",
   "metadata": {},
   "outputs": [
    {
     "name": "stdout",
     "output_type": "stream",
     "text": [
      "\n",
      "--- Sum of Squares (SS) ---\n",
      "\n",
      "Weighted Residual Sum of Squares (Weighted RSS): 1.8848\n",
      "Unweighted Residual Sum of Squares (RSS): 0.8626\n",
      "\n",
      "Weighted Centered Total Sum of Squares (TSS): 455.1540\n",
      "Unweighted Centered Total Sum of Squares (TSS): 116.4488\n",
      "\n",
      "Weighted Uncentered Total Sum of Squares (TSS): 1511.9919\n",
      "Unweighted Uncentered Total Sum of Squares (TSS): 604.7300\n",
      "\n",
      "Weighted Explained Sum of Squares (ESS): 453.2692\n",
      "Unweighted Explained Sum of Squares (ESS): 105.6192\n"
     ]
    }
   ],
   "source": [
    "# --- Sum of Squares Calculations ---\n",
    "print(\"\\n--- Sum of Squares (SS) ---\")\n",
    "# Residual Sum of Squares (RSS)\n",
    "rss_unweighted = np.sum(residuals**2)\n",
    "rss_weighted = np.sum(weighted_residuals**2) # This is also the Chi-Squared value\n",
    "print(f\"\\nWeighted Residual Sum of Squares (Weighted RSS): {rss_weighted:.4f}\")\n",
    "print(f\"Unweighted Residual Sum of Squares (RSS): {rss_unweighted:.4f}\")\n",
    "\n",
    "# Total Sum of Squares (TSS)\n",
    "weighted_mean_y = np.sum(weights * y_obs) / np.sum(weights)\n",
    "unweighted_mean_y = np.mean(y_obs)\n",
    "weighted_centered_tss = np.sum(weights * (y_obs - weighted_mean_y)**2)\n",
    "unweighted_centered_tss = np.sum((y_obs - unweighted_mean_y)**2)\n",
    "print(f\"\\nWeighted Centered Total Sum of Squares (TSS): {weighted_centered_tss:.4f}\")\n",
    "print(f\"Unweighted Centered Total Sum of Squares (TSS): {unweighted_centered_tss:.4f}\")\n",
    "\n",
    "# Uncentered Total Sum of Squares (TSS)\n",
    "weighted_uncentered_tss = np.sum(weights * (y_obs)**2)\n",
    "unweighted_uncentered_tss = np.sum((y_obs)**2)\n",
    "print(f\"\\nWeighted Uncentered Total Sum of Squares (TSS): {weighted_uncentered_tss:.4f}\")\n",
    "print(f\"Unweighted Uncentered Total Sum of Squares (TSS): {unweighted_uncentered_tss:.4f}\")\n",
    "\n",
    "# Explained Sum of Squares (ESS)\n",
    "ess_weighted = np.sum(weights * (y_pred - weighted_mean_y)**2)\n",
    "ess_unweighted = np.sum((y_pred - unweighted_mean_y)**2)\n",
    "print(f\"\\nWeighted Explained Sum of Squares (ESS): {ess_weighted:.4f}\")\n",
    "print(f\"Unweighted Explained Sum of Squares (ESS): {ess_unweighted:.4f}\")"
   ]
  },
  {
   "cell_type": "code",
   "execution_count": 520,
   "id": "4da55a00",
   "metadata": {},
   "outputs": [
    {
     "name": "stdout",
     "output_type": "stream",
     "text": [
      "\n",
      "--- Goodness-of-Fit ---\n",
      "\n",
      "Weighted R-squared: 0.9959\n",
      "Unweighted R-squared: 0.9926\n",
      "\n",
      "Weighted Adjusted R-squared: 0.9952\n",
      "Unweighted Adjusted R-squared: 0.9914\n",
      "\n",
      "Chi-Squared: 1.8848\n",
      "Reduced Chi-Squared (RSS_weighted / degrees_of_freedom): 0.3141\n"
     ]
    }
   ],
   "source": [
    "# --- Goodness-of-Fit Metrics ---\n",
    "print(\"\\n--- Goodness-of-Fit ---\")\n",
    "\n",
    "# R-squared\n",
    "r_squared_weighted = 1 - rss_weighted / weighted_centered_tss\n",
    "r_squared_unweighted = 1 - rss_unweighted / unweighted_centered_tss\n",
    "print(f\"\\nWeighted R-squared: {r_squared_weighted:.4f}\")\n",
    "print(f\"Unweighted R-squared: {r_squared_unweighted:.4f}\")\n",
    "\n",
    "# Adjusted R-squared\n",
    "r_squared_adj_weighted = 1 - (1 - r_squared_weighted) * ((n - 1) / (n - p))\n",
    "r_squared_adj_unweighted = 1 - (1 - r_squared_unweighted) * ((n - 1) / (n - p))\n",
    "print(f\"\\nWeighted Adjusted R-squared: {r_squared_adj_weighted:.4f}\")\n",
    "print(f\"Unweighted Adjusted R-squared: {r_squared_adj_unweighted:.4f}\")\n",
    "\n",
    "# Chi-Squared and Reduced Chi-Squared\n",
    "chi_squared = rss_weighted # By definition\n",
    "reduced_chi_squared = chi_squared / degrees_of_freedom\n",
    "print(f\"\\nChi-Squared: {chi_squared:.4f}\")\n",
    "print(f\"Reduced Chi-Squared (RSS_weighted / degrees_of_freedom): {reduced_chi_squared:.4f}\")"
   ]
  },
  {
   "cell_type": "markdown",
   "id": "42b3b40f",
   "metadata": {},
   "source": [
    "### `absolute_sigma=True`"
   ]
  },
  {
   "cell_type": "code",
   "execution_count": 313,
   "id": "3002155b",
   "metadata": {},
   "outputs": [
    {
     "name": "stdout",
     "output_type": "stream",
     "text": [
      "--- Fitted Parameters ---\n",
      "Intercept (beta_0): 0.6375 +/- 0.2240\n",
      "Slope (beta_1): 1.5857 +/- 0.0745\n"
     ]
    }
   ],
   "source": [
    "# --- Fit the model using scipy.optimize.curve_fit ---\n",
    "# popt: Optimal values for the parameters (b0, b1)\n",
    "# pcov: The estimated covariance matrix of popt\n",
    "popt, pcov = curve_fit(linear_func, x, y_obs, sigma=sigma, absolute_sigma=True)\n",
    "\n",
    "# Standard errors are the sqrt of the diagonal of the covariance matrix\n",
    "perr = np.sqrt(np.diag(pcov))\n",
    "std_err_intercept = perr[0]\n",
    "std_err_slope = perr[1]\n",
    "\n",
    "# Extract the fitted parameters (intercept and slope)\n",
    "intercept, slope = popt\n",
    "print(\"--- Fitted Parameters ---\")\n",
    "print(f\"Intercept (beta_0): {intercept:.4f} +/- {std_err_intercept:.4f}\")\n",
    "print(f\"Slope (beta_1): {slope:.4f} +/- {std_err_slope:.4f}\")"
   ]
  },
  {
   "cell_type": "code",
   "execution_count": null,
   "id": "e75c213e",
   "metadata": {},
   "outputs": [],
   "source": [
    "\n",
    "\n",
    "\n",
    "# --- Error Metrics ---\n",
    "print(\"\\n--- Error Metrics ---\")\n",
    "# Root Mean Squared Error (RMSE)\n",
    "rmse_unweighted = np.sqrt(rss_unweighted / n)\n",
    "rmse_weighted = np.sqrt(rss_weighted / np.sum(weights))\n",
    "print(f\"Unweighted RMSE: {rmse_unweighted:.4f}\")\n",
    "print(f\"Weighted RMSE: {rmse_weighted:.4f}\")\n",
    "\n",
    "# Standard Error of the Regression (SER)\n",
    "ser_unweighted = np.sqrt(rss_unweighted / degrees_of_freedom)\n",
    "ser_weighted = np.sqrt(rss_weighted / degrees_of_freedom) # Same as sqrt of reduced_chi_squared\n",
    "print(f\"Unweighted SER: {ser_unweighted:.4f}\")\n",
    "print(f\"Weighted SER: {ser_weighted:.4f}\")\n",
    "\n",
    "# --- Mean Squared Errors (MSE) ---\n",
    "print(\"\\n--- Mean Squared Errors (MSE) ---\")\n",
    "mse_model_weighted = ess_weighted / (p - 1)\n",
    "mse_resid_weighted = rss_weighted / (n - p) # Same as reduced chi-squared\n",
    "mse_total_weighted = weighted_centered_tss / (n - 1)\n",
    "print(f\"Manual Weighted mse_model: {mse_model_weighted:.4f}\")\n",
    "print(f\"Manual Weighted mse_resid: {mse_resid_weighted:.4f}\")\n",
    "print(f\"Manual Weighted mse_total: {mse_total_weighted:.4f}\")\n",
    "\n",
    "\n",
    "# --- Log-Likelihood and Information Criteria ---\n",
    "print(\"\\n--- Log-Likelihood & Information Criteria ---\")\n",
    "# Since absolute_sigma=True, we assume sigma is known.\n",
    "# The log-likelihood formula for a Gaussian distribution with known sigma is:\n",
    "# L = -n/2*log(2*pi) - sum(log(sigma_i)) - 1/2 * sum(((y_i - y_pred_i)/sigma_i)^2)\n",
    "term1 = -n / 2 * np.log(2 * np.pi)\n",
    "term2 = -np.sum(np.log(sigma))\n",
    "term3 = -0.5 * rss_weighted\n",
    "llf = term1 + term2 + term3\n",
    "print(f\"Maximum Log-Likelihood: {llf:.4f}\")\n",
    "\n",
    "# Information Criteria\n",
    "aic = -2 * llf + 2 * p\n",
    "bic = -2 * llf + np.log(n) * p\n",
    "aicc = aic + (2 * p * (p + 1)) / (n - p - 1)\n",
    "print(f\"AIC (Akaike Information Criterion): {aic:.4f}\")\n",
    "print(f\"BIC (Bayesian Information Criterion): {bic:.4f}\")\n",
    "print(f\"AICc (Corrected AIC): {aicc:.4f}\")\n",
    "\n",
    "\n",
    "# --- Generate and display plots ---\n",
    "# Create a matrix X for manual calculation of intervals\n",
    "X = np.vstack((np.ones_like(x), x)).T\n",
    "\n",
    "# --- Calculate Confidence and Prediction Intervals Manually ---\n",
    "# Critical t-value for 95% confidence\n",
    "alpha = 0.05\n",
    "t_crit = stats.t.ppf(1 - alpha / 2, df=degrees_of_freedom)\n",
    "\n",
    "# 1. Confidence Interval for the mean response\n",
    "# SE(y_hat) = sqrt(diag(X @ pcov @ X.T))\n",
    "se_mean = np.sqrt(np.diag(X @ pcov @ X.T))\n",
    "ci_lower = y_pred - t_crit * se_mean\n",
    "ci_upper = y_pred + t_crit * se_mean\n",
    "\n",
    "# 2. Prediction Interval for a new observation\n",
    "# PI = y_hat +/- t * sqrt(sigma_i^2 + SE(y_hat)^2)\n",
    "# Here sigma_i is the std dev of the individual point\n",
    "se_pred = np.sqrt(sigma**2 + se_mean**2)\n",
    "pi_lower = y_pred - t_crit * se_pred\n",
    "pi_upper = y_pred + t_crit * se_pred\n",
    "\n",
    "# --- Plotting ---\n",
    "fig, (ax1, ax2, ax3) = plt.subplots(3, 1, figsize=(10, 16))\n",
    "fig.suptitle('WLS Regression Analysis with SciPy', fontsize=16)\n",
    "\n",
    "# Plot 1: WLS Fit with Confidence and Prediction Intervals\n",
    "ax1.errorbar(x, y_obs, yerr=sigma, fmt='o', label='Data with Error Bars', capsize=5)\n",
    "ax1.plot(x, y_pred, 'r-', label='WLS Fit')\n",
    "ax1.plot(x, ci_lower, 'g--', label='95% Confidence Interval')\n",
    "ax1.plot(x, ci_upper, 'g--')\n",
    "ax1.plot(x, pi_lower, 'y:', label='95% Prediction Interval')\n",
    "ax1.plot(x, pi_upper, 'y:')\n",
    "ax1.set_xlabel(\"Independent Variable (x)\")\n",
    "ax1.set_ylabel(\"Dependent Variable (y)\")\n",
    "ax1.set_title(\"WLS Fit with Confidence and Prediction Intervals\")\n",
    "ax1.legend()\n",
    "ax1.grid(True)\n",
    "\n",
    "# Plot 2: Residuals Plot\n",
    "ax2.errorbar(x, residuals, yerr=sigma, fmt='o', capsize=5)\n",
    "ax2.axhline(y=0, color='r', linestyle='--')\n",
    "ax2.set_xlabel(\"Independent Variable (x)\")\n",
    "ax2.set_ylabel(\"Residuals (y_obs - y_pred)\")\n",
    "ax2.set_title(\"Residuals of the WLS Fit\")\n",
    "ax2.grid(True)\n",
    "\n",
    "# Plot 3: Weighted Residuals Plot\n",
    "# The error on the weighted residuals is 1.0 because they are normalized by sigma.\n",
    "ax3.errorbar(x, weighted_residuals, yerr=np.ones_like(x), fmt='o', capsize=5)\n",
    "ax3.axhline(y=0, color='r', linestyle='--')\n",
    "ax3.set_xlabel(\"Independent Variable (x)\")\n",
    "ax3.set_ylabel(\"Weighted Residuals\")\n",
    "ax3.set_title(\"Weighted (Standardized) Residuals of the WLS Fit\")\n",
    "ax3.grid(True)\n",
    "\n",
    "plt.tight_layout(rect=[0, 0.03, 1, 0.95])\n",
    "plt.show()"
   ]
  }
 ],
 "metadata": {
  "kernelspec": {
   "display_name": "venv (3.13.5)",
   "language": "python",
   "name": "python3"
  },
  "language_info": {
   "codemirror_mode": {
    "name": "ipython",
    "version": 3
   },
   "file_extension": ".py",
   "mimetype": "text/x-python",
   "name": "python",
   "nbconvert_exporter": "python",
   "pygments_lexer": "ipython3",
   "version": "3.13.5"
  }
 },
 "nbformat": 4,
 "nbformat_minor": 5
}
