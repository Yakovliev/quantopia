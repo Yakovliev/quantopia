{
 "cells": [
  {
   "cell_type": "markdown",
   "metadata": {},
   "source": [
    "# Gradient\n",
    "\n",
    "### What is a Gradient?\n",
    "\n",
    "The gradient of a function is a vector that points in the direction of the greatest rate of increase of the function. For a function $f(x, y)$, the gradient is defined as:\n",
    "\n",
    "$$\n",
    "\\nabla f = \\left( \\frac{\\partial f}{\\partial x}, \\frac{\\partial f}{\\partial y} \\right)\n",
    "$$\n",
    "\n",
    "The gradient always points in the direction of the steepest ascent of the function at a given point, and its magnitude represents the rate of change of the function in that direction.\n",
    "\n",
    "Some key properties and applications of the gradient:\n",
    "\n",
    "- The gradient is perpendicular to the level curves (or level surfaces in higher dimensions) of the function at any point.\n",
    "- Direction of steepest ascent: The gradient vector points in the direction of the steepest ascent of the function at a given point. This means that if you move in the direction of the gradient, the function value will increase at the fastest rate possible.\n",
    "- Zero gradient: If the gradient vector is zero at a point, i.e., $\\nabla f = \\mathbf{0}$, then the point is called a stationary point or critical point. At a stationary point, the function may have a local maximum, local minimum, or saddle point.\n",
    "- In physics, the negative of the gradient of a potential function gives the direction and magnitude of the force associated with that potential.\n",
    "- The gradient is a fundamental concept in vector calculus and has applications in various fields, including physics, engineering, and machine learning.\n",
    "- Linearity:\n",
    "    - Addition: For two scalar-valued functions $f(x_1, x_2, \\ldots, x_n)$ and $g(x_1, x_2, \\ldots, x_n)$, the gradient of their sum is equal to the sum of their individual gradients:\n",
    "$\\nabla(f + g) = \\nabla f + \\nabla g$\n",
    "    - Scalar multiplication: For a scalar-valued function $f(x_1, x_2, \\ldots, x_n)$ and a constant $c$, the gradient of the product $cf$ is equal to the product of $c$ and the gradient of $f$: $\\nabla(cf) = c\\nabla f$\n",
    "- Product rule: For two scalar-valued functions $f(x_1, x_2, \\ldots, x_n)$ and $g(x_1, x_2, \\ldots, x_n)$, the gradient of their product is given by:\n",
    "$\\nabla(fg) = f\\nabla g + g\\nabla f$\n",
    "- Chain rule: If $f(x_1, x_2, \\ldots, x_n)$ is a scalar-valued function and each $x_i$ is a function of variables $t_1, t_2, \\ldots, t_m$, then the gradient of $f$ with respect to $t_1, t_2, \\ldots, t_m$ is given by:\n",
    "$\\nabla_{\\mathbf{t}} f = \\left(\\frac{\\partial f}{\\partial x_1}\\frac{\\partial x_1}{\\partial t_1} + \\frac{\\partial f}{\\partial x_2}\\frac{\\partial x_2}{\\partial t_1} + \\ldots + \\frac{\\partial f}{\\partial x_n}\\frac{\\partial x_n}{\\partial t_1}, \\ldots, \\frac{\\partial f}{\\partial x_1}\\frac{\\partial x_1}{\\partial t_m} + \\frac{\\partial f}{\\partial x_2}\\frac{\\partial x_2}{\\partial t_m} + \\ldots + \\frac{\\partial f}{\\partial x_n}\\frac{\\partial x_n}{\\partial t_m}\\right)$\n",
    "- Conservative vector fields: A vector field $\\mathbf{F}(x_1, x_2, \\ldots, x_n) = (F_1, F_2, \\ldots, F_n)$ is called conservative if there exists a scalar-valued function $f(x_1, x_2, \\ldots, x_n)$ such that: $\\nabla f = \\mathbf{F}$. In other words, a conservative vector field is the gradient of some scalar-valued function.\n",
    "- Curl: The curl of the gradient of any scalar-valued function is always zero: $\\nabla \\times (\\nabla f) = \\mathbf{0}$. This property is a consequence of the fact that the gradient is a conservative vector field.\n",
    "\n",
    "### Level Curves\n",
    "\n",
    "Level curves, also known as contour lines or isolines, are curves along which a function has a constant value. In other words, if $ f(x, y) $ is a two-variable function, then a level curve is a curve in the xy-plane on which $ f(x, y) = c $, where c is a constant.\n",
    "\n",
    "Properties of level curves:\n",
    "\n",
    "- Different level curves correspond to different constant values of the function.\n",
    "- Level curves do not intersect each other, as a function cannot have two different values at the same point.\n",
    "- The gradient vector $\\nabla f$ is always perpendicular to the level curve at any point.\n",
    "- The spacing between level curves can indicate the rate of change of the function. Closely spaced level curves indicate a rapid change in the function value, while widely spaced level curves indicate a slow change.\n",
    "\n",
    "In this notebook, we will visualize the gradients of the following functions:\n",
    "- $f_1(x, y) = x^2 + y^2$\n",
    "- $f_2(x, y) = x^3 - 3xy + y^3$\n",
    "\n",
    "We will compute the gradients and visualize them using both 2D and 3D plots."
   ]
  },
  {
   "cell_type": "markdown",
   "metadata": {},
   "source": [
    "### Code"
   ]
  },
  {
   "cell_type": "code",
   "execution_count": null,
   "metadata": {},
   "outputs": [],
   "source": [
    "import seaborn as sns\n",
    "import matplotlib.pyplot as plt\n",
    "import numpy as np\n",
    "from mpl_toolkits.mplot3d import Axes3D\n",
    "import plotly.graph_objects as go\n",
    "import sympy as sp\n",
    "from IPython.display import HTML"
   ]
  },
  {
   "cell_type": "markdown",
   "metadata": {},
   "source": [
    "**Symbolic Differentiation using SymPy**\n",
    "\n",
    "We use SymPy to compute the gradient of the following functions symbolically:\n",
    "- $f_1(x, y) = x^2 + y^2$\n",
    "- $f_2(x, y) = x^3 - 3xy + y^3$\n"
   ]
  },
  {
   "cell_type": "code",
   "execution_count": null,
   "metadata": {},
   "outputs": [],
   "source": [
    "# Define the variables\n",
    "x, y = sp.symbols('x y')\n",
    "\n",
    "# Define the function 1\n",
    "f1 = x**2 + y**2\n",
    "\n",
    "# Define the function 2\n",
    "f2 = x**3 - 3*x*y + y**3\n",
    "\n",
    "# Compute the gradient for function 1\n",
    "grad_f1 = [sp.diff(f1, var) for var in (x, y)]\n",
    "grad_f1 = sp.Matrix(grad_f1)\n",
    "\n",
    "# Print the gradient for function 1\n",
    "print(\"Gradient of f1:\", grad_f1)\n",
    "\n",
    "# Evaluate the gradient for function 1 at a specific point\n",
    "grad_f1_at_point = grad_f1.subs({x: 1, y: 2})\n",
    "print(\"Gradient of f1 at (x, y) = (1, 2):\", grad_f1_at_point)\n",
    "\n",
    "# Compute the gradient for function 2\n",
    "grad_f2 = [sp.diff(f2, var) for var in (x, y)]\n",
    "grad_f2 = sp.Matrix(grad_f2)\n",
    "\n",
    "# Print the gradient for function 2\n",
    "print(\"Gradient of f2:\", grad_f2)\n",
    "\n",
    "# Evaluate the gradient for function 2 at a specific point\n",
    "grad_f2_at_point = grad_f2.subs({x: 1, y: 2})\n",
    "print(\"Gradient of f2 at (x, y) = (1, 2):\", grad_f2_at_point)"
   ]
  },
  {
   "cell_type": "markdown",
   "metadata": {},
   "source": [
    "**Define Functions and Gradients**\n",
    "\n",
    "We define the functions $ f_1(x, y) = x^2 + y^2 $ and $ f_2(x, y) = x^3 - 3xy + y^3 $, along with their gradients.\n",
    "\n",
    "- **Functions**:\n",
    "  - $ f_1(x, y) = x^2 + y^2 $\n",
    "  - $ f_2(x, y) = x^3 - 3xy + y^3 $\n",
    "\n",
    "- **Gradients**:\n",
    "  - The gradient of $ f_1 $ is given by:\n",
    "    $$\n",
    "    \\nabla f_1 = \\left( 2x, 2y \\right)\n",
    "    $$\n",
    "  - The gradient of $ f_2 $ is given by:\n",
    "    $$\n",
    "    \\nabla f_2 = \\left( 3x^2 - 3y, 3y^2 - 3x \\right)\n",
    "    $$\n"
   ]
  },
  {
   "cell_type": "code",
   "execution_count": null,
   "metadata": {},
   "outputs": [],
   "source": [
    "# Define the functions and their gradients\n",
    "def f1(x, y):\n",
    "    return x**2 + y**2\n",
    "\n",
    "def grad_f1(x, y):\n",
    "    return np.array([2*x, 2*y])\n",
    "\n",
    "def f2(x, y):\n",
    "    return x**3 - 3*x*y + y**3\n",
    "\n",
    "def grad_f2(x, y):\n",
    "    return np.array([3*x**2 - 3*y, 3*y**2 - 3*x])"
   ]
  },
  {
   "cell_type": "code",
   "execution_count": null,
   "metadata": {},
   "outputs": [],
   "source": [
    "# Create a grid of points\n",
    "x = np.linspace(-3, 3, 60)\n",
    "y = np.linspace(-3, 3, 60)\n",
    "X, Y = np.meshgrid(x, y)"
   ]
  },
  {
   "cell_type": "code",
   "execution_count": null,
   "metadata": {},
   "outputs": [],
   "source": [
    "# Compute the function values\n",
    "Z1 = f1(X, Y)\n",
    "Z2 = f2(X, Y)"
   ]
  },
  {
   "cell_type": "code",
   "execution_count": null,
   "metadata": {},
   "outputs": [],
   "source": [
    "# Compute the gradients\n",
    "U1, V1 = grad_f1(X, Y)\n",
    "U2, V2 = grad_f2(X, Y)"
   ]
  },
  {
   "cell_type": "markdown",
   "metadata": {},
   "source": [
    "### Visualization"
   ]
  },
  {
   "cell_type": "markdown",
   "metadata": {},
   "source": [
    "**2D Contour Plots using Matplotlib**\n",
    "\n",
    "We create 2D contour plots of the functions and overlay the gradient vectors."
   ]
  },
  {
   "cell_type": "code",
   "execution_count": null,
   "metadata": {},
   "outputs": [],
   "source": [
    "# Create the plots\n",
    "fig, (ax1, ax2) = plt.subplots(1, 2, figsize=(14, 7))\n",
    "\n",
    "#IMPORTANT: The quiver function automatically scales the vectors. \n",
    "# Plot for f1\n",
    "ax1.contour(X, Y, Z1, levels=30, cmap='viridis')\n",
    "ax1.quiver(X, Y, U1, V1, color='red')\n",
    "ax1.set_title(r'$f(x, y) = x^2 + y^2$')\n",
    "ax1.set_xlabel('x')\n",
    "ax1.set_ylabel('y')\n",
    "\n",
    "# Plot for f2\n",
    "ax2.contour(X, Y, Z2, levels=30, cmap='viridis')\n",
    "ax2.quiver(X, Y, U2, V2, color='red')\n",
    "ax2.set_title(r'$f(x, y) = x^3 - 3xy + y^3$')\n",
    "ax2.set_xlabel('x')\n",
    "ax2.set_ylabel('y')\n",
    "\n",
    "plt.tight_layout()\n",
    "plt.show()\n"
   ]
  },
  {
   "cell_type": "markdown",
   "metadata": {},
   "source": [
    "**2D Contour Plots using Seaborn**\n",
    "\n",
    "We create similar 2D contour plots using Seaborn for improved aesthetics."
   ]
  },
  {
   "cell_type": "code",
   "execution_count": null,
   "metadata": {},
   "outputs": [],
   "source": [
    "# Seaborn Plot\n",
    "fig_seaborn, (ax1_sns, ax2_sns) = plt.subplots(1, 2, figsize=(14, 7))\n",
    "\n",
    "# Seaborn Plot for f1\n",
    "sns.set(style=\"whitegrid\")\n",
    "contour1_sns = ax1_sns.contourf(X, Y, Z1, levels=20, cmap='viridis')\n",
    "ax1_sns.quiver(X, Y, U1, V1, color='red')\n",
    "ax1_sns.set_title(r'$f(x, y) = x^2 + y^2$')\n",
    "ax1_sns.set_xlabel('x')\n",
    "ax1_sns.set_ylabel('y')\n",
    "\n",
    "# Seaborn Plot for f2\n",
    "contour2_sns = ax2_sns.contourf(X, Y, Z2, levels=20, cmap='viridis')\n",
    "ax2_sns.quiver(X, Y, U2, V2, color='red')\n",
    "ax2_sns.set_title(r'$f(x, y) = x^3 - 3xy + y^3$')\n",
    "ax2_sns.set_xlabel('x')\n",
    "ax2_sns.set_ylabel('y')\n",
    "\n",
    "plt.tight_layout()\n",
    "plt.show()"
   ]
  },
  {
   "cell_type": "markdown",
   "metadata": {},
   "source": [
    "**3D Plot using Matplotlib**\n",
    "\n",
    "We create a 3D surface plot of the function $ f_1 \\left(x,y\\right) = x^2 + y^2 $ and overlay the gradient vectors."
   ]
  },
  {
   "cell_type": "code",
   "execution_count": null,
   "metadata": {},
   "outputs": [],
   "source": [
    "# Create the 3D plot\n",
    "fig = plt.figure(figsize=(18, 14))\n",
    "ax = fig.add_subplot(111, projection='3d')\n",
    "\n",
    "# Plot the surface\n",
    "surf = ax.plot_surface(X, Y, Z1, cmap='viridis', alpha=0.8)\n",
    "\n",
    "# Plot the gradient vectors\n",
    "ax.quiver(X, Y, Z1, U1, V1, 0, color='red', length=0.2, normalize=True)\n",
    "\n",
    "# Set labels\n",
    "ax.set_title(r'$f(x, y) = x^2 + y^2$ with Gradient Vectors')\n",
    "ax.set_xlabel('x')\n",
    "ax.set_ylabel('y')\n",
    "ax.set_zlabel('f(x, y)')\n",
    "\n",
    "# Change the viewing angle\n",
    "ax.view_init(elev=15, azim=30)\n",
    "# ax.view_init(elev=180, azim=45)\n",
    "# ax.view_init(elev=180, azim=90)\n",
    "\n",
    "# Add a color bar which maps values to colors\n",
    "fig.colorbar(surf, ax=ax, shrink=0.5, aspect=5)\n",
    "\n",
    "plt.tight_layout()\n",
    "plt.show()"
   ]
  },
  {
   "cell_type": "markdown",
   "metadata": {},
   "source": [
    "**3D Plot using Plotly**\n",
    "\n",
    "We create a 3D surface plot of the function $ f_1 \\left(x,y\\right) = x^2 + y^2 $ and overlay the gradient vectors. Gradient vectors are represented as cones with the appropriate lengths."
   ]
  },
  {
   "cell_type": "code",
   "execution_count": null,
   "metadata": {},
   "outputs": [],
   "source": [
    "# Create the 3D surface plot\n",
    "surface = go.Surface(z=Z1, x=X, y=Y, colorscale='Viridis', opacity=0.8)\n",
    "\n",
    "# Create the gradient vectors\n",
    "quiver_x = X.flatten()\n",
    "quiver_y = Y.flatten()\n",
    "quiver_z = Z1.flatten()\n",
    "quiver_u = U1.flatten()\n",
    "quiver_v = V1.flatten()\n",
    "quiver_w = np.zeros_like(U1).flatten()  # No change in z for the gradient vectors in this 2D function\n",
    "\n",
    "quiver = go.Cone(x=quiver_x, y=quiver_y, z=quiver_z,\n",
    "                 u=quiver_u, v=quiver_v, w=quiver_w,\n",
    "                 colorscale='Reds', sizemode='scaled', sizeref=1.2, showscale=False)\n",
    "\n",
    "# Create the figure and add the traces\n",
    "fig = go.Figure(data=[surface, quiver])\n",
    "\n",
    "# Set the layout\n",
    "fig.update_layout(title='3D Surface Plot with Gradient Vectors',\n",
    "                  scene=dict(\n",
    "                      xaxis_title='X',\n",
    "                      yaxis_title='Y',\n",
    "                      zaxis_title='f(x, y)',\n",
    "                      aspectratio=dict(x=1, y=1, z=0.5)\n",
    "                  ),\n",
    "                  autosize=True,\n",
    "                  height=600)\n",
    "\n",
    "html_fig = fig.to_html(full_html=False, include_plotlyjs='cdn')\n",
    "HTML(html_fig)"
   ]
  },
  {
   "cell_type": "markdown",
   "metadata": {},
   "source": [
    "**3D Plot using Plotly for Gradient vector field only**\n",
    "\n",
    "We create a 3D surface plot of the gradient vector field function $ f_1 \\left(x,y\\right) = x^2 + y^2 $. Gradient vectors are represented as cones with the appropriate lengths (sizemode='raw')."
   ]
  },
  {
   "cell_type": "code",
   "execution_count": null,
   "metadata": {},
   "outputs": [],
   "source": [
    "# Create the gradient vectors\n",
    "quiver_x = X.flatten()\n",
    "quiver_y = Y.flatten()\n",
    "quiver_z = Z1.flatten()\n",
    "quiver_u = U1.flatten()\n",
    "quiver_v = V1.flatten()\n",
    "quiver_w = np.zeros_like(U1).flatten()  # No change in z for the gradient vectors in this 2D function\n",
    "\n",
    "quiver = go.Cone(x=quiver_x, y=quiver_y, z=quiver_z,\n",
    "                 u=quiver_u, v=quiver_v, w=quiver_w,\n",
    "                 colorscale='Viridis', sizemode='scaled', sizeref=1.2, showscale=True)\n",
    "\n",
    "fig = go.Figure(data=[quiver])\n",
    "\n",
    "# Set the layout with custom size\n",
    "fig.update_layout(title='3D Surface Plot with Gradient Vectors',\n",
    "                  scene=dict(\n",
    "                      xaxis_title='X',\n",
    "                      yaxis_title='Y',\n",
    "                      zaxis_title='f(x, y)',\n",
    "                      aspectratio=dict(x=1, y=1, z=0.5)\n",
    "                  ),\n",
    "                  autosize=True,\n",
    "                  height=700)\n",
    "\n",
    "html_fig = fig.to_html(full_html=False, include_plotlyjs='cdn')\n",
    "HTML(html_fig)"
   ]
  },
  {
   "cell_type": "markdown",
   "metadata": {},
   "source": [
    "**3D Plot using Plotly**\n",
    "\n",
    "We create a 3D surface plot of the function $ f_2 \\left(x,y\\right) = x^3 - 3 x y + y^3 $ and overlay the gradient vectors. Gradient vectors are represented as cones with the appropriate lengths."
   ]
  },
  {
   "cell_type": "code",
   "execution_count": null,
   "metadata": {},
   "outputs": [],
   "source": [
    "# Create the 3D surface plot\n",
    "surface = go.Surface(z=Z2, x=X, y=Y, colorscale='Viridis', opacity=0.8)\n",
    "\n",
    "# Create the gradient vectors\n",
    "quiver_x = X.flatten()\n",
    "quiver_y = Y.flatten()\n",
    "quiver_z = Z2.flatten()\n",
    "quiver_u = U2.flatten()\n",
    "quiver_v = V2.flatten()\n",
    "quiver_w = np.zeros_like(U2).flatten()  # No change in z for the gradient vectors in this 2D function\n",
    "\n",
    "quiver = go.Cone(x=quiver_x, y=quiver_y, z=quiver_z,\n",
    "                 u=quiver_u, v=quiver_v, w=quiver_w,\n",
    "                 colorscale='Reds', sizemode='scaled', sizeref=1.2, showscale=False)\n",
    "\n",
    "# Create the figure and add the traces\n",
    "fig = go.Figure(data=[surface, quiver])\n",
    "\n",
    "# Set the layout with custom size and HTML formatted title\n",
    "fig.update_layout(title='3D Surface Plot with Gradient Vectors for f(x, y) = x<sup>3</sup> - 3xy + y<sup>3</sup>',\n",
    "                  scene=dict(\n",
    "                      xaxis_title='X',\n",
    "                      yaxis_title='Y',\n",
    "                      zaxis_title='f(x, y)',\n",
    "                      aspectratio=dict(x=1, y=1, z=0.5)\n",
    "                  ),\n",
    "                  autosize=True,\n",
    "                  height=600)\n",
    "\n",
    "html_fig = fig.to_html(full_html=False, include_plotlyjs='cdn')\n",
    "HTML(html_fig)"
   ]
  }
 ],
 "metadata": {
  "kernelspec": {
   "display_name": "venv",
   "language": "python",
   "name": "python3"
  },
  "language_info": {
   "codemirror_mode": {
    "name": "ipython",
    "version": 3
   },
   "file_extension": ".py",
   "mimetype": "text/x-python",
   "name": "python",
   "nbconvert_exporter": "python",
   "pygments_lexer": "ipython3",
   "version": "3.13.5"
  }
 },
 "nbformat": 4,
 "nbformat_minor": 2
}
