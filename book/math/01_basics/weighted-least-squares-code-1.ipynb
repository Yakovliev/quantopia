{
 "cells": [
  {
   "cell_type": "markdown",
   "id": "1e95e97c",
   "metadata": {},
   "source": [
    "# WLS - Code Examples Part 1"
   ]
  },
  {
   "cell_type": "markdown",
   "id": "3a0b118f",
   "metadata": {},
   "source": [
    "## Example 1"
   ]
  },
  {
   "cell_type": "code",
   "execution_count": 182,
   "id": "dc801d71",
   "metadata": {},
   "outputs": [],
   "source": [
    "import numpy as np\n",
    "import statsmodels.api as sm\n",
    "import matplotlib.pyplot as plt\n",
    "from statsmodels.tools.eval_measures import rmse"
   ]
  },
  {
   "cell_type": "code",
   "execution_count": 183,
   "id": "c0c786e7",
   "metadata": {},
   "outputs": [],
   "source": [
    "# Sample data from a hypothetical physics experiment\n",
    "# x represents an independent variable\n",
    "# y_obs represents the observed dependent variable\n",
    "x = np.array([1, 2, 3, 4, 5, 6, 7, 8])\n",
    "y_obs = np.array([2.3, 3.8, 5.1, 6.9, 8.2, 10.3, 11.8, 14.1])"
   ]
  },
  {
   "cell_type": "code",
   "execution_count": 184,
   "id": "8732fb7a",
   "metadata": {},
   "outputs": [],
   "source": [
    "# Standard deviation for each data point\n",
    "sigma = np.array([0.2, 0.3, 0.4, 0.5, 0.6, 0.7, 0.8, 0.9])"
   ]
  },
  {
   "cell_type": "code",
   "execution_count": 185,
   "id": "583c95de",
   "metadata": {},
   "outputs": [],
   "source": [
    "# The weights for WLS are the inverse of the variance (1 / sigma^2)\n",
    "weights = 1.0 / (sigma**2)\n",
    "\n",
    "# Add a constant to the independent variable to include an intercept in the model\n",
    "X = sm.add_constant(x)"
   ]
  },
  {
   "cell_type": "code",
   "execution_count": 186,
   "id": "14fdf6c2",
   "metadata": {},
   "outputs": [
    {
     "name": "stdout",
     "output_type": "stream",
     "text": [
      "[[1. 1.]\n",
      " [1. 2.]\n",
      " [1. 3.]\n",
      " [1. 4.]\n",
      " [1. 5.]\n",
      " [1. 6.]\n",
      " [1. 7.]\n",
      " [1. 8.]]\n"
     ]
    }
   ],
   "source": [
    "print(X)\n"
   ]
  },
  {
   "cell_type": "markdown",
   "id": "679720b8",
   "metadata": {},
   "source": [
    "### The Intercept Term in Linear Regression \n",
    "\n",
    "In a linear regression model, the relationship between a dependent variable ($y$) and an independent variable ($x$) is expressed as:\n",
    "\n",
    "$y = \\beta_0 + \\beta_1x + \\epsilon$\n",
    "\n",
    "Here, $\\beta_0$ is the **intercept** and $\\beta_1$ is the slope. The intercept ($\\beta_0$) represents the expected value of $y$ when $x$ is zero. In the context of our code, it represents the baseline spending when income is zero. The `statsmodels` library, by default, expects you to explicitly include this intercept term as a column of ones in your predictor matrix. This is because it treats the linear model as:\n",
    "\n",
    "$y = \\beta_0 \\cdot 1 + \\beta_1 \\cdot x + \\epsilon$\n",
    "\n",
    "By adding a constant column of ones to your predictor variables, you're creating a matrix where the first column is a representation of the constant term (1), allowing the model to estimate the coefficient $\\beta_0$.\n",
    "\n",
    "### How `sm.add_constant` Works\n",
    "\n",
    "The `sm.add_constant(income)` function takes the `income` array and adds a new column of ones to the beginning of it.\n",
    "\n",
    "* **Original `income` array:**\n",
    "    `[1.0, 2.0, ..., 8.0]`\n",
    "\n",
    "* **After `sm.add_constant(income)`:**\n",
    "    `[[1.0, 1.0], [1.0, 2.0], ..., [1.0, 8.0]]`\n",
    "    \n",
    "This modified array, named `X`, now has two columns. The first column (all ones) is used to calculate the intercept, while the second column (`income`) is used to calculate the slope. This is why the in the comment to the code we mentioned \"(for the intercept)\"; it's explicitly explaining the purpose of adding the constant column."
   ]
  },
  {
   "cell_type": "code",
   "execution_count": 187,
   "id": "643da5a1",
   "metadata": {},
   "outputs": [
    {
     "name": "stdout",
     "output_type": "stream",
     "text": [
      "                            WLS Regression Results                            \n",
      "==============================================================================\n",
      "Dep. Variable:                      y   R-squared:                       0.996\n",
      "Model:                            WLS   Adj. R-squared:                  0.995\n",
      "Method:                 Least Squares   F-statistic:                     1443.\n",
      "Date:                Thu, 14 Aug 2025   Prob (F-statistic):           2.22e-08\n",
      "Time:                        01:38:21   Log-Likelihood:               0.049782\n",
      "No. Observations:                   8   AIC:                             3.900\n",
      "Df Residuals:                       6   BIC:                             4.059\n",
      "Df Model:                           1                                         \n",
      "Covariance Type:            nonrobust                                         \n",
      "==============================================================================\n",
      "                 coef    std err          t      P>|t|      [0.025      0.975]\n",
      "------------------------------------------------------------------------------\n",
      "const          0.6375      0.126      5.078      0.002       0.330       0.945\n",
      "x1             1.5857      0.042     37.986      0.000       1.484       1.688\n",
      "==============================================================================\n",
      "Omnibus:                        0.030   Durbin-Watson:                   1.334\n",
      "Prob(Omnibus):                  0.985   Jarque-Bera (JB):                0.183\n",
      "Skew:                           0.086   Prob(JB):                        0.913\n",
      "Kurtosis:                       2.280   Cond. No.                         5.31\n",
      "==============================================================================\n",
      "\n",
      "Notes:\n",
      "[1] Standard Errors assume that the covariance matrix of the errors is correctly specified.\n"
     ]
    }
   ],
   "source": [
    "# Fit the Weighted Least Squares model\n",
    "wls_model = sm.WLS(y_obs, X, weights=weights)\n",
    "results = wls_model.fit()\n",
    "\n",
    "# --- Print the detailed summary of the regression ---\n",
    "print(results.summary())"
   ]
  },
  {
   "cell_type": "markdown",
   "id": "8ac415f7",
   "metadata": {},
   "source": [
    "### Output Analysis\n",
    "\n",
    "The parameters `t`, `P>|t|`, and `[0.025 0.975]` are essential for **hypothesis testing** and **confidence interval estimation**. They help us determine if the relationship between our independent and dependent variables is statistically significant.\n",
    "\n",
    "### The t-statistic ($t$)\n",
    "\n",
    "The **t-statistic** measures how many standard deviations the estimated coefficient is from zero. In other words, it quantifies the evidence against the null hypothesis ($H_0$), which states that the true coefficient is zero (i.e., there is no relationship between the independent and dependent variables). A larger absolute value of $t$ indicates that the coefficient is less likely to be zero by chance.\n",
    "\n",
    "$$t = \\frac{\\text{Estimated Coefficient} - 0}{\\text{Standard Error of the Coefficient}}$$\n",
    "\n",
    "In our output:\n",
    "* For the intercept $\\beta_0$: $t = \\frac{0.6375}{0.126} \\approx 5.078$.\n",
    "* For the slope coefficient $\\beta_1$: $t = \\frac{1.5857}{0.042} \\approx 37.986$.\n",
    "\n",
    "The very high $t$-statistic for the slope coefficient ($37.986$) strongly suggests that the slope is not zero, meaning there is a significant relationship between $x$ and $y$.\n",
    "\n",
    "### The P-value ($P>|t|$)\n",
    "\n",
    "The **P-value** is the probability of observing a $t$-statistic as extreme as, or more extreme than, the one calculated, assuming the null hypothesis is true. A small P-value provides strong evidence to **reject the null hypothesis**. The common threshold for significance is $\\alpha = 0.05$. If our P-value is less than 0.05, we can conclude that the coefficient is statistically significant. \n",
    "\n",
    "In our output:\n",
    "* For the intercept $\\beta_0$: the P-value is 0.002\n",
    "* For the slope coefficient $\\beta_1$: the P-value is 0.000\n",
    "* This means the probability of observing these coefficients if there were no real relationship is practically zero. You can confidently reject the null hypothesis and conclude that both the intercept and the slope are statistically significant.\n",
    "\n",
    "### The Confidence Interval ([0.025 0.975])\n",
    "\n",
    "The **confidence interval** is a range of values that likely contains the true, unknown value of the coefficient. The `[0.025 0.975]` columns represent the **95% confidence interval**, meaning that if you were to repeat our sampling and analysis many times, 95% of the calculated confidence intervals would contain the true population parameter. The key takeaway is to see if this interval includes zero. If the interval does not contain zero, it is further evidence that the coefficient is statistically significant, consistent with a low P-value.\n",
    "\n",
    "In our output:\n",
    "* For the intercept $\\beta_0$: The 95% confidence interval is `[0.330, 0.945]`. Since this range does not contain zero, the intercept is statistically significant.\n",
    "* For the income coefficient ($\\beta_1$): The 95% confidence interval is `[1.484, 1.688]`. This range also does not contain zero."
   ]
  },
  {
   "cell_type": "code",
   "execution_count": 188,
   "id": "34b59915",
   "metadata": {},
   "outputs": [
    {
     "name": "stdout",
     "output_type": "stream",
     "text": [
      "Degrees of Freedom: 6.0\n",
      "Number of Observations: 8.0\n",
      "Condition Number: 5.307859000400287\n"
     ]
    }
   ],
   "source": [
    "# Degrees of Freedom\n",
    "dof = results.df_resid\n",
    "print(f\"Degrees of Freedom: {dof}\")\n",
    "\n",
    "nobs = results.nobs\n",
    "print(f\"Number of Observations: {nobs}\")\n",
    "\n",
    "condition_number = results.condition_number\n",
    "print(f\"Condition Number: {condition_number}\")\n"
   ]
  },
  {
   "cell_type": "code",
   "execution_count": 189,
   "id": "0c44223f",
   "metadata": {},
   "outputs": [
    {
     "name": "stdout",
     "output_type": "stream",
     "text": [
      "1) RSS from unweighted residuals (results.resid): 0.8626\n",
      "2) Weighted RSS from weighted residuals (results.wresid): 1.8848\n",
      "3) Manually calculated RSS (unweighted): 0.8626\n",
      "4) Manually calculated Weighted RSS: 1.8848\n"
     ]
    }
   ],
   "source": [
    "# --- 1) Calculate RSS using results.resid (unweighted residuals) ---\n",
    "rss_unweighted = np.sum(results.resid**2)\n",
    "print(f\"1) RSS from unweighted residuals (results.resid): {rss_unweighted:.4f}\")\n",
    "\n",
    "\n",
    "# --- 2) Calculate RSS using results.wresid (weighted residuals) ---\n",
    "# This is the value that WLS minimizes.\n",
    "rss_weighted_from_wresid = np.sum(results.wresid**2)\n",
    "print(f\"2) Weighted RSS from weighted residuals (results.wresid): {rss_weighted_from_wresid:.4f}\")\n",
    "\n",
    "\n",
    "# --- 3) Calculate RSS manually using the linear equation ---\n",
    "# Get the coefficients from the model results\n",
    "intercept, slope = results.params\n",
    "# Calculate the predicted y values\n",
    "y_pred = intercept + slope * x\n",
    "# Calculate the residuals manually\n",
    "manual_residuals = y_obs - y_pred\n",
    "# Square and sum the residuals\n",
    "rss_unweighted_manual = np.sum(manual_residuals**2)\n",
    "print(f\"3) Manually calculated RSS (unweighted): {rss_unweighted_manual:.4f}\")\n",
    "\n",
    "\n",
    "# --- 4) Calculate weighted RSS manually ---\n",
    "# Use the manual residuals and the weights\n",
    "manual_weighted_residuals_sq = (manual_residuals**2) * weights\n",
    "rss_weighted_manual = np.sum(manual_weighted_residuals_sq)\n",
    "print(f\"4) Manually calculated Weighted RSS: {rss_weighted_manual:.4f}\")\n",
    "\n",
    "# --- Verification ---\n",
    "# Note that the unweighted RSS values from (1) and (3) should be identical.\n",
    "# The weighted RSS values from (2) and (4) should also be identical.\n",
    "# The small differences might occur due to floating-point precision."
   ]
  },
  {
   "cell_type": "code",
   "execution_count": 190,
   "id": "4f5ea30f",
   "metadata": {},
   "outputs": [
    {
     "name": "stdout",
     "output_type": "stream",
     "text": [
      "Total weighted sum of squares centered about the mean (statsmodels results.centered_tss): 455.1540\n",
      "Uncentered total weighted sum of squares (statsmodels results.uncentered_tss): 1511.9919\n",
      "\n",
      "Manual calculation of total (weighted) sum of squares centered about the mean: 455.1540\n",
      "Manual calculation of uncentered total (weighted) sum of squares: 1511.9919\n",
      "\n",
      "Manual calculation of unweighted TSS centered about the mean: 116.4488\n",
      "Manual calculation of uncentered unweighted TSS: 604.7300\n"
     ]
    }
   ],
   "source": [
    "# 1) print tss value using results.centered_tss\n",
    "centered_tss_sm = results.centered_tss\n",
    "print(f\"Total weighted sum of squares centered about the mean (statsmodels results.centered_tss): {centered_tss_sm:.4f}\")\n",
    "\n",
    "# 2) print tss value using results.uncentered_tss\n",
    "uncentered_tss_sm = results.uncentered_tss\n",
    "print(f\"Uncentered total weighted sum of squares (statsmodels results.uncentered_tss): {uncentered_tss_sm:.4f}\")\n",
    "\n",
    "# 3) calculate centered_tss manually\n",
    "# First, calculate the weighted mean of y_obs\n",
    "weighted_mean_y = np.sum(weights * y_obs) / np.sum(weights)\n",
    "# Then, calculate the centered_tss using the formula\n",
    "weighted_centered_tss_manual = np.sum(weights * (y_obs - weighted_mean_y)**2)\n",
    "print(f\"\\nManual calculation of total (weighted) sum of squares centered about the mean: {weighted_centered_tss_manual:.4f}\")\n",
    "\n",
    "# 4) calculate uncentered_tss manually\n",
    "# The formula is the sum of weighted squared y values\n",
    "weighted_uncentered_tss_manual = np.sum(weights * y_obs**2)\n",
    "print(f\"Manual calculation of uncentered total (weighted) sum of squares: {weighted_uncentered_tss_manual:.4f}\")\n",
    "\n",
    "# --- Manual Unweighted Calculations ---\n",
    "\n",
    "# 5) calculate unweighted centered_tss manually\n",
    "# First, calculate the standard (unweighted) mean of y_obs\n",
    "unweighted_mean_y = np.mean(y_obs)\n",
    "# Then, calculate the unweighted centered_tss\n",
    "# Formula: sum((y_obs - mean(y_obs))^2)\n",
    "unweighted_centered_tss_manual = np.sum((y_obs - unweighted_mean_y)**2)\n",
    "print(f\"\\nManual calculation of unweighted TSS centered about the mean: {unweighted_centered_tss_manual:.4f}\")\n",
    "\n",
    "# 6) calculate unweighted uncentered_tss manually\n",
    "# The formula is the sum of squared y values without weighting\n",
    "# Formula: sum(y_obs^2)\n",
    "unweighted_uncentered_tss_manual = np.sum(y_obs**2)\n",
    "print(f\"Manual calculation of uncentered unweighted TSS: {unweighted_uncentered_tss_manual:.4f}\")"
   ]
  },
  {
   "cell_type": "code",
   "execution_count": 191,
   "id": "8102d80f",
   "metadata": {},
   "outputs": [
    {
     "name": "stdout",
     "output_type": "stream",
     "text": [
      "Weighted Explained Sum of Squares (ESS): 453.2692\n",
      "Weighted Explained Sum of Squares (ESS) manual calculation: 453.2692\n",
      "Explained Sum of Squares (ESS) unweighted manual calculation: 105.6192\n"
     ]
    }
   ],
   "source": [
    "ess = results.ess # The explained sum of squares.\n",
    "print(f\"Weighted Explained Sum of Squares (ESS): {ess:.4f}\")\n",
    "\n",
    "# Manually calculate the ESS\n",
    "# Get the fitted values (y_hat) from the model\n",
    "y_hat = results.predict(X)\n",
    "\n",
    "# Calculate the weighted mean of y_obs\n",
    "weighted_mean_y = np.sum(weights * y_obs) / np.sum(weights)\n",
    "\n",
    "# Calculate ESS using the formula: sum(weights * (y_hat - weighted_mean_y)^2)\n",
    "ess_weighted_manual = np.sum(weights * (y_hat - weighted_mean_y)**2)\n",
    "print(f\"Weighted Explained Sum of Squares (ESS) manual calculation: {ess_weighted_manual:.4f}\")\n",
    "\n",
    "# Calculate the unweighted mean of y_obs\n",
    "unweighted_mean_y = np.mean(y_obs)\n",
    "\n",
    "# Finally, calculate the unweighted ESS using the formula: sum((y_hat - unweighted_mean_y)^2)\n",
    "ess_unweighted_manual = np.sum((y_hat - unweighted_mean_y)**2)\n",
    "print(f\"Explained Sum of Squares (ESS) unweighted manual calculation: {ess_unweighted_manual:.4f}\")"
   ]
  },
  {
   "cell_type": "code",
   "execution_count": 192,
   "id": "f9a89580",
   "metadata": {},
   "outputs": [
    {
     "name": "stdout",
     "output_type": "stream",
     "text": [
      "Number of observations (n): 8.0\n",
      "Number of parameters (p): 2.0\n"
     ]
    }
   ],
   "source": [
    "# Get the number of observations and parameters\n",
    "n = results.nobs\n",
    "p = results.df_model + 1  # df_model is number of explanatory variables, add 1 for intercept\n",
    "\n",
    "print(f\"Number of observations (n): {n}\")\n",
    "print(f\"Number of parameters (p): {p}\")"
   ]
  },
  {
   "cell_type": "code",
   "execution_count": 193,
   "id": "935564b9",
   "metadata": {},
   "outputs": [
    {
     "name": "stdout",
     "output_type": "stream",
     "text": [
      "Weighted R-squared (statsmodels results.rsquared): 0.9959\n",
      "Weighted Adjusted R-squared (statsmodels results.rsquared_adj): 0.9952\n",
      "\n",
      "Manual Weighted R-squared (1 - RSS_w/TSS_w): 0.9959\n",
      "Manual Weighted Adjusted R-squared: 0.9952\n",
      "\n",
      "Manual Unweighted R-squared (1 - RSS/TSS): 0.9926\n",
      "Manual Unweighted Adjusted R-squared: 0.9914\n",
      "\n",
      "Manual Weighted R-squared (alternative formula) (ESS_w/TSS_w): 0.9959\n",
      "Manual Unweighted R-squared alternative formula (ESS/TSS): 0.9070\n"
     ]
    }
   ],
   "source": [
    "r_squared = results.rsquared\n",
    "print(f\"Weighted R-squared (statsmodels results.rsquared): {r_squared:.4f}\")\n",
    "\n",
    "r_squared_adj = results.rsquared_adj\n",
    "print(f\"Weighted Adjusted R-squared (statsmodels results.rsquared_adj): {r_squared_adj:.4f}\")\n",
    "\n",
    "# --- Manual calculation of Weighted R-squared ---\n",
    "\n",
    "r_squared_manual_weighted = 1 - rss_weighted_manual / centered_tss_manual\n",
    "print(f\"\\nManual Weighted R-squared (1 - RSS_w/TSS_w): {r_squared_manual_weighted:.4f}\")\n",
    "\n",
    "# Manual calculation of Weighted Adjusted R-squared\n",
    "# Formula: 1 - (1 - R^2_w) * ((n-1)/(n-p))\n",
    "r_squared_adj_manual_weighted = 1 - (1 - r_squared_manual_weighted) * ((n - 1) / (n - p))\n",
    "print(f\"Manual Weighted Adjusted R-squared: {r_squared_adj_manual_weighted:.4f}\")\n",
    "\n",
    "# --- Manual calculation of Unweighted R-squared ---\n",
    "# We need to calculate the unweighted centered TSS first\n",
    "unweighted_mean_y = np.mean(y_obs)\n",
    "unweighted_centered_tss = np.sum((y_obs - unweighted_mean_y)**2)\n",
    "\n",
    "r_squared_manual_unweighted = 1 - rss_unweighted_manual / unweighted_centered_tss\n",
    "print(f\"\\nManual Unweighted R-squared (1 - RSS/TSS): {r_squared_manual_unweighted:.4f}\")\n",
    "\n",
    "# Manual calculation of Unweighted Adjusted R-squared\n",
    "# Formula: 1 - (1 - R^2_unweighted) * ((n-1)/(n-p))\n",
    "r_squared_adj_manual_unweighted = 1 - (1 - r_squared_manual_unweighted) * ((n - 1) / (n - p))\n",
    "print(f\"Manual Unweighted Adjusted R-squared: {r_squared_adj_manual_unweighted:.4f}\")\n",
    "\n",
    "# Formula: ESS_weighted / TSS_centered_weighted\n",
    "r_squared_manual_weighted_2 = ess_manual / centered_tss_manual\n",
    "print(f\"\\nManual Weighted R-squared (alternative formula) (ESS_w/TSS_w): {r_squared_manual_weighted_2:.4f}\")\n",
    "\n",
    "# Formula: ESS_unweighted / TSS_centered_unweighted\n",
    "r_squared_manual_unweighted_2 = ess_unweighted / unweighted_centered_tss\n",
    "print(f\"Manual Unweighted R-squared alternative formula (ESS/TSS): {r_squared_manual_unweighted_2:.4f}\")"
   ]
  },
  {
   "cell_type": "code",
   "execution_count": 194,
   "id": "713b08aa",
   "metadata": {},
   "outputs": [
    {
     "name": "stdout",
     "output_type": "stream",
     "text": [
      "Chi-Squared: 1.8848\n",
      "Reduced Chi-Squared: 0.3141\n"
     ]
    }
   ],
   "source": [
    "# Chi-Squared\n",
    "chi_squared = np.sum(((y_obs - results.predict()) / sigma)**2)\n",
    "print(f\"Chi-Squared: {chi_squared:.4f}\")\n",
    "\n",
    "# Reduced Chi-Squared\n",
    "reduced_chi_squared = chi_squared / dof\n",
    "print(f\"Reduced Chi-Squared: {reduced_chi_squared:.4f}\")"
   ]
  },
  {
   "cell_type": "code",
   "execution_count": 195,
   "id": "1eb30751",
   "metadata": {},
   "outputs": [
    {
     "name": "stdout",
     "output_type": "stream",
     "text": [
      "\n",
      "--- Root Mean Squared Error (RMSE) ---\n",
      "RMSE (statsmodels.tools.eval_measures.rmse method): 0.3284\n",
      "Manual Unweighted RMSE: 0.3284\n",
      "Manual Weighted RMSE: 0.1869\n"
     ]
    }
   ],
   "source": [
    "# --- Root Mean Squared Error (RMSE) Calculations ---\n",
    "print(\"\\n--- Root Mean Squared Error (RMSE) ---\")\n",
    "\n",
    "# RMSE from statsmodels (this is an unweighted RMSE)\n",
    "rmse_val = rmse(y_obs, results.fittedvalues)\n",
    "print(f\"RMSE (statsmodels.tools.eval_measures.rmse method): {rmse_val:.4f}\")\n",
    "\n",
    "# Manual calculation of Unweighted RMSE\n",
    "# Formula: sqrt(sum of squared unweighted residuals / number of observations)\n",
    "rmse_manual_unweighted = np.sqrt(rss_unweighted_manual / n)\n",
    "print(f\"Manual Unweighted RMSE: {rmse_manual_unweighted:.4f}\")\n",
    "\n",
    "# Manual calculation of Weighted RMSE\n",
    "# Formula: sqrt(sum of squared weighted residuals / sum of weights)\n",
    "rmse_manual_weighted = np.sqrt(rss_weighted_manual / np.sum(weights))\n",
    "print(f\"Manual Weighted RMSE: {rmse_manual_weighted:.4f}\")"
   ]
  },
  {
   "cell_type": "code",
   "execution_count": 196,
   "id": "179e0ae4",
   "metadata": {},
   "outputs": [
    {
     "name": "stdout",
     "output_type": "stream",
     "text": [
      "\n",
      "Manual Weighted SER: 0.5605\n",
      "Statsmodels SER (results.ssr / results.df_resid): 0.5605\n"
     ]
    }
   ],
   "source": [
    "# --- Standard Error of the Regression (SER) ---\n",
    "\n",
    "# 1) Calculate weighted SER manually\n",
    "# Formula: sqrt(RSS_weighted / dof)\n",
    "dof = results.df_resid\n",
    "ser_manual_weighted = np.sqrt(rss_weighted_manual / dof)\n",
    "print(f\"\\nManual Weighted SER: {ser_manual_weighted:.4f}\")\n",
    "\n",
    "# Compare with statsmodels SER calculation\n",
    "ser_sm = np.sqrt(results.ssr / results.df_resid)\n",
    "print(f\"Statsmodels SER (results.ssr / results.df_resid): {ser_sm:.4f}\")"
   ]
  },
  {
   "cell_type": "code",
   "execution_count": 197,
   "id": "1109842b",
   "metadata": {},
   "outputs": [
    {
     "name": "stdout",
     "output_type": "stream",
     "text": [
      "\n",
      "--- Standard Error of the Regression (SER) ---\n",
      "SER (from statsmodels results): 0.5605\n",
      "Manual Weighted SER: 0.5605\n",
      "Manual Unweighted SER: 0.3792\n"
     ]
    }
   ],
   "source": [
    "# --- Standard Error of the Regression (SER) Calculations ---\n",
    "print(\"\\n--- Standard Error of the Regression (SER) ---\")\n",
    "\n",
    "# SER from statsmodels results (this is a weighted SER)\n",
    "# It is the square root of the weighted RSS divided by the degrees of freedom\n",
    "ser_sm = np.sqrt(results.ssr / results.df_resid)\n",
    "print(f\"SER (from statsmodels results): {ser_sm:.4f}\")\n",
    "\n",
    "# Manual calculation of Weighted SER\n",
    "# This should match the value from statsmodels\n",
    "# Formula: sqrt(sum of squared weighted residuals / degrees of freedom)\n",
    "ser_manual_weighted = np.sqrt(rss_weighted_manual / dof)\n",
    "print(f\"Manual Weighted SER: {ser_manual_weighted:.4f}\")\n",
    "\n",
    "# Manual calculation of Unweighted SER\n",
    "# Formula: sqrt(sum of squared unweighted residuals / degrees of freedom)\n",
    "ser_manual_unweighted = np.sqrt(rss_unweighted_manual / dof)\n",
    "print(f\"Manual Unweighted SER: {ser_manual_unweighted:.4f}\")"
   ]
  },
  {
   "cell_type": "code",
   "execution_count": null,
   "id": "2f6d2ac0",
   "metadata": {},
   "outputs": [
    {
     "name": "stdout",
     "output_type": "stream",
     "text": [
      "--- Statsmodels Results (Weighted) ---\n",
      "Mean Squared Error of the Model (mse_model): 453.2692\n",
      "Mean Squared Error of the Residuals (mse_resid): 0.3141\n",
      "Total Mean Squared Error (mse_total): 65.0220\n",
      "\n",
      "--- Manual Calculations ---\n",
      "Manual Weighted mse_model: 453.2692 (Should match statsmodels)\n",
      "Manual Unweighted mse_model: 105.6192\n",
      "\n",
      "Manual Weighted mse_resid: 0.3141 (Should match statsmodels)\n",
      "Manual Unweighted mse_resid: 0.1438\n",
      "\n",
      "Manual Weighted mse_total: 65.0220 (Should match statsmodels)\n",
      "Manual Unweighted mse_total: 16.6355\n"
     ]
    }
   ],
   "source": [
    "n = results.nobs\n",
    "p = results.df_model + 1\n",
    "\n",
    "# --- MSE values from statsmodels results ---\n",
    "print(\"--- Statsmodels Results (Weighted) ---\")\n",
    "mse_model_sm = results.mse_model\n",
    "print(f\"Mean Squared Error of the Model (mse_model): {mse_model_sm:.4f}\")\n",
    "\n",
    "mse_resid_sm = results.mse_resid\n",
    "print(f\"Mean Squared Error of the Residuals (MSE) (mse_resid): {mse_resid_sm:.4f}\")\n",
    "\n",
    "mse_total_sm = results.mse_total\n",
    "print(f\"Total Mean Squared Error (mse_total): {mse_total_sm:.4f}\")\n",
    "\n",
    "# --- Manual Calculations ---\n",
    "print(\"\\n--- Manual Calculations ---\")\n",
    "\n",
    "# 1. MSE Model\n",
    "mse_model_manual_weighted = ess_weighted_manual / (p - 1)\n",
    "mse_model_manual_unweighted = ess_unweighted_manual / (p - 1)\n",
    "print(f\"Manual Weighted mse_model: {mse_model_manual_weighted:.4f} (Should match statsmodels)\")\n",
    "print(f\"Manual Unweighted mse_model: {mse_model_manual_unweighted:.4f}\")\n",
    "\n",
    "# 2. MSE Residuals\n",
    "mse_resid_manual_weighted = rss_weighted_manual / (n - p)\n",
    "mse_resid_manual_unweighted = rss_unweighted_manual / (n - p)\n",
    "print(f\"\\nManual Weighted mse_resid: {mse_resid_manual_weighted:.4f} (Should match statsmodels)\")\n",
    "print(f\"Manual Unweighted mse_resid: {mse_resid_manual_unweighted:.4f}\")\n",
    "\n",
    "# 3. MSE Total\n",
    "mse_total_manual_weighted = weighted_centered_tss_manual / (n - 1)\n",
    "mse_total_manual_unweighted = unweighted_centered_tss_manual / (n - 1)\n",
    "print(f\"\\nManual Weighted mse_total: {mse_total_manual_weighted:.4f} (Should match statsmodels)\")\n",
    "print(f\"Manual Unweighted mse_total: {mse_total_manual_unweighted:.4f}\")"
   ]
  },
  {
   "cell_type": "markdown",
   "id": "fcdaf81f",
   "metadata": {},
   "source": [
    "> To review the details about Log-Likelihood, AIC, and BIC, see [here](../01_basics/aic-and-bic.ipynb)."
   ]
  },
  {
   "cell_type": "code",
   "execution_count": 205,
   "metadata": {},
   "outputs": [
    {
     "name": "stdout",
     "output_type": "stream",
     "text": [
      "--- Information Criteria from statsmodels ---\n",
      "Log-Likelihood of the Model (llf) from statsmodels: 0.0498\n",
      "Akaike Information Criterion (AIC) from statsmodels: 3.9004\n",
      "Bayesian Information Criterion (BIC) from statsmodels: 4.0593\n",
      "\n",
      "--- Manual Calculation Verification ---\n",
      "Manual Log-Likelihood: -2.6751\n",
      "Manual AIC: 9.3501\n",
      "Manual BIC: 9.5090\n"
     ]
    }
   ],
   "source": [
    "print(\"--- Information Criteria from statsmodels ---\")\n",
    "\n",
    "llf = results.llf # Log-likelihood of model\n",
    "print(f\"Log-Likelihood of the Model (llf) from statsmodels: {llf:.4f}\")\n",
    "\n",
    "aic = results.aic\n",
    "print(f\"Akaike Information Criterion (AIC) from statsmodels: {aic:.4f}\")\n",
    "\n",
    "bic = results.bic\n",
    "print(f\"Bayesian Information Criterion (BIC) from statsmodels: {bic:.4f}\")\n",
    "\n",
    "# --- Manual Calculations ---\n",
    "print(\"\\n--- Manual Calculation Verification ---\")\n",
    "\n",
    "# Get necessary components from results\n",
    "n = results.nobs\n",
    "p = results.df_model + 1  # Number of parameters (intercept + slope)\n",
    "ssr = results.ssr         # Weighted sum of squared residuals\n",
    "\n",
    "# 1. Manual Log-Likelihood\n",
    "# Formula: -n/2*log(2*pi) + 0.5*sum(log(weights)) - ssr/2\n",
    "log_likelihood_manual = (-n / 2) * np.log(2 * np.pi) + (0.5 * np.sum(np.log(weights))) - (chi_squared / 2)\n",
    "print(f\"Manual Log-Likelihood: {log_likelihood_manual:.4f}\")\n",
    "\n",
    "# 2. Manual AIC\n",
    "# Formula: -2 * llf + 2 * p\n",
    "aic_manual = -2 * log_likelihood_manual + 2 * p\n",
    "print(f\"Manual AIC: {aic_manual:.4f}\")\n",
    "\n",
    "# 3. Manual BIC\n",
    "# Formula: -2 * llf + p * log(n)\n",
    "bic_manual = -2 * log_likelihood_manual + p * np.log(n)\n",
    "print(f\"Manual BIC: {bic_manual:.4f}\")\n"
   ]
  },
  {
   "cell_type": "code",
   "execution_count": 211,
   "id": "9081908d",
   "metadata": {},
   "outputs": [
    {
     "name": "stdout",
     "output_type": "stream",
     "text": [
      "--- Final Corrected Log-Likelihood Calculation ---\n",
      "\n",
      "1) Log-Likelihood from results object: 0.0498\n",
      "   (This is based on the MLE of scale, NOT the reported 'results.scale')\n",
      "   Reported unbiased scale (ssr/df_resid): 0.3141\n",
      "   MLE for scale (ssr/n): 0.2356\n",
      "\n",
      "2) Manual LLF using the correct formula: 0.0498\n",
      "   (This should now match the statsmodels value exactly)\n",
      "\n",
      "3) Manual LLF using a fixed scale=1.0: -2.6751\n",
      "   (This is the value from the original manual attempt)\n"
     ]
    }
   ],
   "source": [
    "import numpy as np\n",
    "import statsmodels.api as sm\n",
    "\n",
    "# --- Assume previous setup from your notebook ---\n",
    "x = np.array([1, 2, 3, 4, 5, 6, 7, 8])\n",
    "y_obs = np.array([2.3, 3.8, 5.1, 6.9, 8.2, 10.3, 11.8, 14.1])\n",
    "sigma = np.array([0.2, 0.3, 0.4, 0.5, 0.6, 0.7, 0.8, 0.9])\n",
    "weights = 1.0 / (sigma**2)\n",
    "X = sm.add_constant(x)\n",
    "wls_model = sm.WLS(y_obs, X, weights=weights)\n",
    "results = wls_model.fit()\n",
    "# --- End of assumed setup ---\n",
    "\n",
    "\n",
    "print(\"--- Final Corrected Log-Likelihood Calculation ---\")\n",
    "\n",
    "# --- Get necessary components from the fitted model ---\n",
    "n = results.nobs\n",
    "ssr = results.ssr         # Weighted Sum of Squared Residuals\n",
    "unbiased_scale = results.scale # ssr / df_resid\n",
    "llf_from_results = results.llf\n",
    "\n",
    "print(f\"\\n1) Log-Likelihood from results object: {llf_from_results:.4f}\")\n",
    "print(f\"   (This is based on the MLE of scale, NOT the reported 'results.scale')\")\n",
    "print(f\"   Reported unbiased scale (ssr/df_resid): {unbiased_scale:.4f}\")\n",
    "\n",
    "# --- Manual Calculation using the correct MLE of scale ---\n",
    "\n",
    "# First, calculate the Maximum Likelihood Estimate for the scale parameter\n",
    "mle_scale = ssr / n\n",
    "print(f\"   MLE for scale (ssr/n): {mle_scale:.4f}\")\n",
    "\n",
    "\n",
    "# Now, use the simplified formula derived from substituting the MLE scale\n",
    "term1 = -n / 2 * (np.log(2 * np.pi) + 1)\n",
    "term2 = 0.5 * np.sum(np.log(weights))\n",
    "term3 = -n / 2 * np.log(mle_scale) # or -n/2 * np.log(ssr/n)\n",
    "llf_manual_correct = term1 + term2 + term3\n",
    "\n",
    "print(f\"\\n2) Manual LLF using the correct formula: {llf_manual_correct:.4f}\")\n",
    "print(\"   (This should now match the statsmodels value exactly)\")\n",
    "\n",
    "# --- For completeness: The calculation for a fixed scale=1.0 ---\n",
    "llf_manual_fixed_scale = (-n / 2) * np.log(2 * np.pi) + (0.5 * np.sum(np.log(weights))) - (ssr / 2.0)\n",
    "print(f\"\\n3) Manual LLF using a fixed scale=1.0: {llf_manual_fixed_scale:.4f}\")\n",
    "print(\"   (This is the value from the original manual attempt)\")"
   ]
  },
  {
   "cell_type": "code",
   "execution_count": null,
   "id": "13b983d8",
   "metadata": {},
   "outputs": [],
   "source": []
  },
  {
   "cell_type": "code",
   "execution_count": 201,
   "id": "cdc6a209",
   "metadata": {},
   "outputs": [
    {
     "data": {
      "image/png": "[encoded data removed]",
      "text/plain": [
       "<Figure size 1000x1200 with 2 Axes>"
      ]
     },
     "metadata": {},
     "output_type": "display_data"
    }
   ],
   "source": [
    "# --- Generate and display plots ---\n",
    "\n",
    "# Create a figure and axes for the plots\n",
    "fig, (ax1, ax2) = plt.subplots(2, 1, figsize=(10, 12))\n",
    "fig.suptitle('WLS Regression Analysis', fontsize=16)\n",
    "\n",
    "# --- Plot 1: WLS Fit with Confidence and Prediction Intervals ---\n",
    "ax1.errorbar(x, y_obs, yerr=sigma, fmt='o', label='Data with Error Bars', capsize=5)\n",
    "ax1.plot(x, results.fittedvalues, 'r-', label='WLS Fit')\n",
    "\n",
    "# Get prediction intervals\n",
    "predictions = results.get_prediction(X)\n",
    "prediction_summary = predictions.summary_frame(alpha=0.05)\n",
    "\n",
    "# Plot confidence and prediction intervals\n",
    "ax1.plot(x, prediction_summary['mean_ci_lower'], 'g--', label='95% Confidence Interval')\n",
    "ax1.plot(x, prediction_summary['mean_ci_upper'], 'g--')\n",
    "ax1.plot(x, prediction_summary['obs_ci_lower'], 'y:', label='95% Prediction Interval')\n",
    "ax1.plot(x, prediction_summary['obs_ci_upper'], 'y:')\n",
    "\n",
    "ax1.set_xlabel(\"Independent Variable (x)\")\n",
    "ax1.set_ylabel(\"Dependent Variable (y)\")\n",
    "ax1.set_title(\"WLS Fit with Confidence and Prediction Intervals\")\n",
    "ax1.legend()\n",
    "ax1.grid(True)\n",
    "\n",
    "\n",
    "# --- Plot 2: Residuals Plot ---\n",
    "ax2.errorbar(x, residuals, yerr=sigma, fmt='o', capsize=5)\n",
    "ax2.axhline(y=0, color='r', linestyle='--')\n",
    "ax2.set_xlabel(\"Independent Variable (x)\")\n",
    "ax2.set_ylabel(\"Residuals\")\n",
    "ax2.set_title(\"Residuals of the WLS Fit\")\n",
    "ax2.grid(True)\n",
    "\n",
    "plt.tight_layout(rect=[0, 0.03, 1, 0.95])\n",
    "plt.show()"
   ]
  }
 ],
 "metadata": {
  "kernelspec": {
   "display_name": "venv (3.13.5)",
   "language": "python",
   "name": "python3"
  },
  "language_info": {
   "codemirror_mode": {
    "name": "ipython",
    "version": 3
   },
   "file_extension": ".py",
   "mimetype": "text/x-python",
   "name": "python",
   "nbconvert_exporter": "python",
   "pygments_lexer": "ipython3",
   "version": "3.13.5"
  }
 },
 "nbformat": 4,
 "nbformat_minor": 5
}
