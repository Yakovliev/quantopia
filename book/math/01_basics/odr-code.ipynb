{
 "cells": [
  {
   "cell_type": "markdown",
   "id": "3ff541cc",
   "metadata": {},
   "source": [
    "# ODR - Code Examples"
   ]
  },
  {
   "cell_type": "markdown",
   "id": "07764319",
   "metadata": {},
   "source": [
    "The res_var attribute of the Output is the so-called reduced Chi-square value for the fit, a popular choice of goodness-of-fit statistic. It is somewhat problematic for non-linear fitting, though. You can look at the residuals directly (out.delta for the X residuals and out.eps for the Y residuals). Implementing a cross-validation or bootstrap method for determining goodness-of-fit, as suggested in the linked paper, is left as an exercise for the reader.\n",
    "\n",
    "https://docs.scipy.org/doc/scipy/reference/generated/scipy.odr.Output.html\n",
    "\n"
   ]
  }
 ],
 "metadata": {
  "language_info": {
   "name": "python"
  }
 },
 "nbformat": 4,
 "nbformat_minor": 5
}
