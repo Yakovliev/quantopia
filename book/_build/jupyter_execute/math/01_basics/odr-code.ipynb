{
 "cells": [
  {
   "cell_type": "markdown",
   "id": "3ff541cc",
   "metadata": {},
   "source": [
    "# ODR - Code Examples"
   ]
  },
  {
   "cell_type": "markdown",
   "id": "07764319",
   "metadata": {},
   "source": [
    "The res_var attribute of the Output is the so-called reduced Chi-square value for the fit, a popular choice of goodness-of-fit statistic. It is somewhat problematic for non-linear fitting, though. You can look at the residuals directly (out.delta for the X residuals and out.eps for the Y residuals). Implementing a cross-validation or bootstrap method for determining goodness-of-fit, as suggested in the linked paper, is left as an exercise for the reader.\n",
    "\n",
    "https://docs.scipy.org/doc/scipy/reference/generated/scipy.odr.Output.html\n",
    "\n"
   ]
  }
 ],
 "metadata": {
  "language_info": {
   "codemirror_mode": {
    "name": "ipython",
    "version": 3
   },
   "file_extension": ".py",
   "mimetype": "text/x-python",
   "name": "python",
   "nbconvert_exporter": "python",
   "pygments_lexer": "ipython3",
   "version": "3.13.5"
  }
 },
 "nbformat": 4,
 "nbformat_minor": 5
}