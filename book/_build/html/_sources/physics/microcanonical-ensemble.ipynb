{
 "cells": [
  {
   "cell_type": "markdown",
   "id": "1c6918a5",
   "metadata": {},
   "source": [
    "# Microcanonical ensemble\n",
    "\n",
    "## Definition\n",
    "\n",
    "Consider a completely **isolated** physical system containing $N$ particles with total energy $E$ confined within volume $V$. Such a system operates under strict isolation conditions, meaning it cannot exchange either matter or energy with its environment. Think of it as a snapshot of all possible microscopic arrangements (called **microstates**) a system can have when its total energy, volume, and number of particles are fixed.\n",
    "\n",
    "The fundamental assumption underlying thermal equilibrium states that the probability distribution function $\\rho(q, p)$ describing the system depends solely on its total energy:\n",
    "\n",
    "$$\\rho(q, p) = \\rho(H(q, p)), \\quad \\frac{d \\rho(q, p)}{dt} = 0$$\n",
    "\n",
    "This relationship yields a time-independent $\\rho(q, p)$, which aligns perfectly with ergodic theory principles and the fundamental postulate that all accessible microstates possess equal a priori probabilities. The **probability distribution function** ($\\rho(q, p)$) describes the likelihood of finding the system in a particular microstate. For an isolated system in equilibrium, this probability *only* depends on the system's total energy ($H(q, p)$ represents the system's total energy, also called the Hamiltonian). It doesn't change over time, meaning $\\frac{d \\rho(q, p)}{dt} = 0$. This stability is a hallmark of equilibrium.\n",
    "\n",
    "---\n",
    "\n",
    "Let's use an example: Imagine a simple system with just two particles that can each have an energy of either 1 unit or 2 units. The total energy of the system is fixed at 3 units.\n",
    "\n",
    "Here are the possible microstates:\n",
    "\n",
    "* Particle 1 has 1 unit, Particle 2 has 2 units.\n",
    "* Particle 1 has 2 units, Particle 2 has 1 unit.\n",
    "\n",
    "Both these microstates have the same total energy (3 units). In a microcanonical ensemble, we assume these two microstates are equally probable. There are no other ways to get a total energy of 3 units with these rules.\n",
    "\n",
    "---"
   ]
  },
  {
   "cell_type": "markdown",
   "id": "860737e6",
   "metadata": {},
   "source": [
    "## Energy Boundary Layer: Defining the Ensemble\n",
    "\n",
    "In reality, precisely fixing the energy to a single value ($E$) is often impossible or impractical. Instead, we consider a very narrow range of energies, from $E$ to $E + \\Delta E$. Think of $\\Delta E$ as a tiny \"fuzziness\" around the exact energy $E$.\n",
    "\n",
    "Consider a narrow but measurable energy interval $[E, E + \\Delta E]$ situated near the constant energy surface $E$. The **microcanonical ensemble** can be mathematically expressed as:\n",
    "\n",
    "$$\n",
    "\\rho(q, p) = \\begin{cases}\n",
    "\\frac{1}{\\Gamma(E, V, N)} & E < H(q, p) < E + \\Delta E \\\\\n",
    "0 & \\text{elsewhere}\n",
    "\\end{cases}\n",
    "$$ (ensemble_1)\n",
    "\n",
    "What does this mean?\n",
    "\n",
    "* If a microstate's energy $H(q, p)$ falls *within* the narrow range $[E, E + \\Delta E]$, then its probability is a constant value: $\\frac{1}{\\Gamma(E, V, N)}$. This constant ensures that all microstates within this energy range are equally probable.\n",
    "* If a microstate's energy is *outside* this range, its probability is $0$."
   ]
  },
  {
   "cell_type": "markdown",
   "id": "fba1d907",
   "metadata": {},
   "source": [
    "The term $\\Gamma(E, V, N)$ is a **normalization factor**. It's the \"volume\" in **phase space** that these allowed microstates occupy. Phase space is an abstract mathematical space where each point represents a unique microstate of the system (defined by the positions 'q' and momenta 'p' of all particles).\n",
    "\n",
    "$$\n",
    "\\Gamma(E, V, N) = \\int \\int_{E<H(q,p)<E+\\Delta E} d^{3N}q \\, d^{3N}p\n",
    "$$ (ensemble_2)\n",
    "\n",
    "This integral essentially sums up all the tiny \"volumes\" in phase space that correspond to microstates with energies between $E$ and $E + \\Delta E$. The \"volume\" $V$ of the physical system influences this integral because the particles are confined within that spatial volume. The spatial volume $V$ influences equation {eq}`ensemble_2` through the integration boundaries for the coordinate differentials $dq$."
   ]
  },
  {
   "cell_type": "markdown",
   "id": "c552ff03",
   "metadata": {},
   "source": [
    "## Infinitesimally Thin Energy Layer: Approaching the Limit\n",
    "\n",
    "Sometimes, we want to consider an even more precise energy. We can imagine $\\Delta E$ becoming incredibly, infinitesimally small, almost approaching zero.\n",
    "\n",
    "Let $\\Phi(E, V)$ be the total phase space volume for *all* microstates with energy *less than or equal to* $E$.\n",
    "\n",
    "Then, the phase space volume within the narrow energy range $[E, E + \\Delta E]$ can be approximated as the difference between two $\\Phi$ values:\n",
    "\n",
    "$$\\Gamma(E) = \\Phi(E + \\Delta E) - \\Phi(E)$$\n",
    "\n",
    "As $\\Delta E$ gets smaller and smaller (approaches zero), this difference becomes a derivative:\n",
    "\n",
    "$$\\Gamma(E) = \\frac{\\partial \\Phi(E)}{\\partial E} \\Delta E \\equiv \\Omega(E) \\Delta E, \\quad \\Delta E \\ll E$$\n",
    "\n",
    "The term $\\Omega(E)$ is called the **density of states**. It tells us how many microstates are available *per unit of energy* at a given energy $E$. It's essentially the \"concentration\" of microstates at that specific energy level.\n",
    "\n",
    "$$\n",
    "\\Omega(E) \\equiv \\frac{\\partial \\Phi(E)}{\\partial E} = \\int d^{3N}q \\int d^{3N}p \\, \\delta(E - H(q, p))\n",
    "$$\n",
    "\n",
    "The term $\\delta(E - H(q, p))$ is a Dirac delta function (a mathematical tool that's zero everywhere except when $E - H(q, p) = 0$, where it's infinitely large), which effectively \"picks out\" only those microstates where the energy $H(q, p)$ is exactly equal to $E$. **We will derive this equation a moment later**.\n",
    "\n",
    "With $\\Omega(E)$, we can rewrite the probability distribution for the microcanonical ensemble:\n",
    "\n",
    "$$\\rho(q, p) = \\begin{cases}\n",
    "\\frac{1}{\\Omega(E)\\Delta E} & E < H(q, p) < E + \\Delta E \\\\\n",
    "0 & \\text{elsewhere}\n",
    "\\end{cases}$$\n",
    "\n",
    "This means that for an isolated system in the microcanonical ensemble, the probability of finding it in a specific microstate within the narrow energy range is inversely proportional to the density of states at that energy multiplied by the energy width. In essence, if there are more available microstates at a given energy ($\\Omega(E)$ is large), then each individual microstate is less probable.\n"
   ]
  },
  {
   "cell_type": "markdown",
   "id": "29107393",
   "metadata": {},
   "source": [
    "\n",
    "---\n",
    "\n",
    "Let's derive the aforementioned equation\n",
    "\n",
    "$$\n",
    "\\Omega(E) \\equiv \\frac{\\partial \\Phi(E)}{\\partial E} = \\int d^{3N}q \\int d^{3N}p \\, \\delta(E - H(q, p))\n",
    "$$\n",
    "\n",
    "We begin by defining $\\Phi(E)$ as the total **phase space volume** for all microstates with energy **less than or equal to** $E$. Think of it as a \"cumulative\" volume in phase space.\n",
    "\n",
    "Mathematically, this means:\n",
    "\n",
    "$$\\Phi(E) = \\int \\int_{H(q,p) \\le E} d^{3N}q \\, d^{3N}p$$\n",
    "\n",
    "\n",
    "The integral runs over all positions $q$ and momenta $p$ such that the Hamiltonian (total energy) $H(q,p)$ is less than or equal to $E$.\n",
    "\n",
    "Recall that $\\Gamma(E, V, N)$ was defined as the phase space volume within a *narrow energy interval* $[E, E + \\Delta E]$. This means $\\Gamma(E, V, N)$ is the volume between two energy surfaces:\n",
    "\n",
    "$$\\Gamma(E, V, N) = \\Phi(E + \\Delta E) - \\Phi(E)$$\n",
    "\n",
    "$$\\Gamma(E, V, N) = \\frac{\\Phi(E + \\Delta E) - \\Phi(E)}{\\Delta E} \\Delta E$$\n",
    "\n",
    "When we take the limit as $\\Delta E$ approaches zero, the expression for $\\Gamma(E, V, N)$ becomes the **derivative** of $\\Phi(E)$ with respect to $E$:\n",
    "\n",
    "$$\\lim_{\\Delta E \\to 0} \\frac{\\Phi(E + \\Delta E) - \\Phi(E)}{\\Delta E} = \\frac{\\partial \\Phi(E)}{\\partial E}$$\n",
    "\n",
    "We *define* this derivative as the **density of states**, $\\Omega(E)$:\n",
    "\n",
    "$$\n",
    "\\Omega(E) \\equiv \\frac{\\partial \\Phi(E)}{\\partial E}\n",
    "$$\n",
    "\n",
    "Now, how does the integral with the Dirac delta function come into play? The Dirac delta function, $\\delta(x)$, has the property that $\\int f(x) \\delta(x-a) dx = f(a)$. It \"picks out\" the value of $f(x)$ at the point where its argument is zero."
   ]
  },
  {
   "cell_type": "markdown",
   "id": "934776ec",
   "metadata": {},
   "source": [
    "Consider the definition of $\\Phi(E)$ again:\n",
    "\n",
    "$$\\Phi(E) \\equiv \\int \\int_{H(q,p) \\le E} d^{3N}q \\, d^{3N}p = \\int d^{3N}q \\int d^{3N}p \\, \\Theta(E - H(q, p))$$\n",
    "\n",
    "Here, $\\Theta(x)$ is the **Heaviside step function**, which is $0$ if $x < 0$ and $1$ if $x \\ge 0$. So, $\\Theta(E - H(q, p))$ is $1$ when $H(q, p) \\le E$ and $0$ otherwise. This correctly defines $\\Phi(E)$ as the integral over the phase space volume where the energy is less than or equal to $E$.\n",
    "\n",
    "> The key property that connects the step function and the Dirac delta function is that the derivative of the Heaviside step function is the Dirac delta function: $\\frac{d}{dx}\\Theta(x) = \\delta(x)$.\n",
    "\n",
    "Therefore, when we take the derivative of $\\Phi(E)$ with respect to $E$:\n",
    "\n",
    "$$\\Omega(E) = \\frac{\\partial \\Phi(E)}{\\partial E} = \\frac{\\partial}{\\partial E} \\left( \\int d^{3N}q \\int d^{3N}p \\, \\Theta(E - H(q, p)) \\right)$$\n",
    "\n",
    "Since the integration is over $q$ and $p$, we can bring the derivative inside the integral:\n",
    "\n",
    "$$\\Omega(E) = \\int d^{3N}q \\int d^{3N}p \\, \\frac{\\partial}{\\partial E} \\Theta(E - H(q, p))$$\n",
    "\n",
    "Using the chain rule, $\\frac{\\partial}{\\partial E} \\Theta(E - H(q, p)) = \\delta(E - H(q, p)) \\cdot \\frac{\\partial}{\\partial E} (E - H(q, p)) = \\delta(E - H(q, p)) \\cdot 1 = \\delta(E - H(q, p))$.\n",
    "\n",
    "This leads directly to the integral form:\n",
    "\n",
    "$$\\Omega(E) = \\int d^{3N}q \\int d^{3N}p \\, \\delta(E - H(q, p))$$\n",
    "\n",
    "You may have some questions regarding the dimensions when you compare this equation with the definition $\\Omega(E) \\equiv \\frac{\\partial \\Phi(E)}{\\partial E}$.\n",
    "\n",
    "We can review this in different ways. First of all, we analyze a well known equation\n",
    "\n",
    "$$ \\int_{-\\infty}^{\\infty} \\delta(x) \\, dx = 1 $$\n",
    "\n",
    "If $x$ has some dimension (for example, a dimension of energy), then $dx$ has the same dimension. As a result, the Dirac delta function $\\delta (x)$ has the dimension of $\\frac{1}{x}$ in order to get dimensionless result of the integral.\n",
    "\n",
    "Secondly, $\\frac{d}{dx}\\Theta(x) = \\delta(x)$ and $\\Theta(x)$ is dimensionless. Thus, the dimension of $\\delta(x)$ is totally defined by $\\frac{1}{dx}$ (actually by $x$).\n",
    "\n",
    "Therefore, the Dirac delta function $\\delta(x)$ has dimensions of $1/(\\text{dimension of } x)$. In our case, the argument of the delta function is $(E - H(q, p))$, which has dimensions of energy. Therefore, the dimension of $\\delta(E - H(q, p))$ is $\\text{Energy}^{-1}$.\n",
    "\n",
    "---"
   ]
  },
  {
   "cell_type": "markdown",
   "id": "7a26504d",
   "metadata": {},
   "source": [
    "## Additional Materials\n",
    "\n",
    "https://itp.uni-frankfurt.de/~gros/Vorlesungen/TD/8_Microcanonical_ensemble.pdf\n",
    "\n",
    "https://itp.uni-frankfurt.de/~gros/Vorlesungen/TD/\n",
    "\n",
    "https://en.wikipedia.org/wiki/Heaviside_step_function"
   ]
  },
  {
   "cell_type": "code",
   "execution_count": 1,
   "id": "05491e70",
   "metadata": {},
   "outputs": [
    {
     "name": "stdout",
     "output_type": "stream",
     "text": [
      "--- Microcanonical Ensemble Example ---\n",
      "System Parameters:\n",
      "  - Number of particles (N): 3\n",
      "  - Total energy (E): 9\n",
      "  - Max energy per particle: 7\n",
      "\n",
      "For a total energy E = 9, we found 28 possible microstates.\n",
      "This number is Ω(E), the number of states at energy E.\n",
      "Each of these microstates is equally likely to occur.\n",
      "List of microstates (E_particle1, E_particle2, E_particle3):\n",
      "  (1, 1, 7)\n",
      "  (1, 2, 6)\n",
      "  (1, 3, 5)\n",
      "  (1, 4, 4)\n",
      "  (1, 5, 3)\n",
      "  (1, 6, 2)\n",
      "  (1, 7, 1)\n",
      "  (2, 1, 6)\n",
      "  (2, 2, 5)\n",
      "  (2, 3, 4)\n",
      "  (2, 4, 3)\n",
      "  (2, 5, 2)\n",
      "  (2, 6, 1)\n",
      "  (3, 1, 5)\n",
      "  (3, 2, 4)\n",
      "  (3, 3, 3)\n",
      "  (3, 4, 2)\n",
      "  (3, 5, 1)\n",
      "  (4, 1, 4)\n",
      "  (4, 2, 3)\n",
      "  (4, 3, 2)\n",
      "  (4, 4, 1)\n",
      "  (5, 1, 3)\n",
      "  (5, 2, 2)\n",
      "  (5, 3, 1)\n",
      "  (6, 1, 2)\n",
      "  (6, 2, 1)\n",
      "  (7, 1, 1)\n",
      "-----------------------------------\n"
     ]
    },
    {
     "data": {
      "application/vnd.plotly.v1+json": {
       "config": {
        "plotlyServerURL": "https://plot.ly"
       },
       "data": [
        {
         "marker": {
          "color": "royalblue",
          "opacity": 0.8,
          "size": 8,
          "symbol": "diamond"
         },
         "mode": "markers",
         "name": "Microstates for E=9",
         "type": "scatter3d",
         "x": [
          1,
          1,
          1,
          1,
          1,
          1,
          1,
          2,
          2,
          2,
          2,
          2,
          2,
          3,
          3,
          3,
          3,
          3,
          4,
          4,
          4,
          4,
          5,
          5,
          5,
          6,
          6,
          7
         ],
         "y": [
          1,
          2,
          3,
          4,
          5,
          6,
          7,
          1,
          2,
          3,
          4,
          5,
          6,
          1,
          2,
          3,
          4,
          5,
          1,
          2,
          3,
          4,
          1,
          2,
          3,
          1,
          2,
          1
         ],
         "z": [
          7,
          6,
          5,
          4,
          3,
          2,
          1,
          6,
          5,
          4,
          3,
          2,
          1,
          5,
          4,
          3,
          2,
          1,
          4,
          3,
          2,
          1,
          3,
          2,
          1,
          2,
          1,
          1
         ]
        }
       ],
       "layout": {
        "margin": {
         "b": 0,
         "l": 0,
         "r": 0,
         "t": 40
        },
        "scene": {
         "aspectratio": {
          "x": 1,
          "y": 1,
          "z": 1
         },
         "xaxis": {
          "title": {
           "text": "Energy of Particle 1 (E1)"
          }
         },
         "yaxis": {
          "title": {
           "text": "Energy of Particle 2 (E2)"
          }
         },
         "zaxis": {
          "title": {
           "text": "Energy of Particle 3 (E3)"
          }
         }
        },
        "template": {
         "data": {
          "bar": [
           {
            "error_x": {
             "color": "#2a3f5f"
            },
            "error_y": {
             "color": "#2a3f5f"
            },
            "marker": {
             "line": {
              "color": "#E5ECF6",
              "width": 0.5
             },
             "pattern": {
              "fillmode": "overlay",
              "size": 10,
              "solidity": 0.2
             }
            },
            "type": "bar"
           }
          ],
          "barpolar": [
           {
            "marker": {
             "line": {
              "color": "#E5ECF6",
              "width": 0.5
             },
             "pattern": {
              "fillmode": "overlay",
              "size": 10,
              "solidity": 0.2
             }
            },
            "type": "barpolar"
           }
          ],
          "carpet": [
           {
            "aaxis": {
             "endlinecolor": "#2a3f5f",
             "gridcolor": "white",
             "linecolor": "white",
             "minorgridcolor": "white",
             "startlinecolor": "#2a3f5f"
            },
            "baxis": {
             "endlinecolor": "#2a3f5f",
             "gridcolor": "white",
             "linecolor": "white",
             "minorgridcolor": "white",
             "startlinecolor": "#2a3f5f"
            },
            "type": "carpet"
           }
          ],
          "choropleth": [
           {
            "colorbar": {
             "outlinewidth": 0,
             "ticks": ""
            },
            "type": "choropleth"
           }
          ],
          "contour": [
           {
            "colorbar": {
             "outlinewidth": 0,
             "ticks": ""
            },
            "colorscale": [
             [
              0,
              "#0d0887"
             ],
             [
              0.1111111111111111,
              "#46039f"
             ],
             [
              0.2222222222222222,
              "#7201a8"
             ],
             [
              0.3333333333333333,
              "#9c179e"
             ],
             [
              0.4444444444444444,
              "#bd3786"
             ],
             [
              0.5555555555555556,
              "#d8576b"
             ],
             [
              0.6666666666666666,
              "#ed7953"
             ],
             [
              0.7777777777777778,
              "#fb9f3a"
             ],
             [
              0.8888888888888888,
              "#fdca26"
             ],
             [
              1,
              "#f0f921"
             ]
            ],
            "type": "contour"
           }
          ],
          "contourcarpet": [
           {
            "colorbar": {
             "outlinewidth": 0,
             "ticks": ""
            },
            "type": "contourcarpet"
           }
          ],
          "heatmap": [
           {
            "colorbar": {
             "outlinewidth": 0,
             "ticks": ""
            },
            "colorscale": [
             [
              0,
              "#0d0887"
             ],
             [
              0.1111111111111111,
              "#46039f"
             ],
             [
              0.2222222222222222,
              "#7201a8"
             ],
             [
              0.3333333333333333,
              "#9c179e"
             ],
             [
              0.4444444444444444,
              "#bd3786"
             ],
             [
              0.5555555555555556,
              "#d8576b"
             ],
             [
              0.6666666666666666,
              "#ed7953"
             ],
             [
              0.7777777777777778,
              "#fb9f3a"
             ],
             [
              0.8888888888888888,
              "#fdca26"
             ],
             [
              1,
              "#f0f921"
             ]
            ],
            "type": "heatmap"
           }
          ],
          "heatmapgl": [
           {
            "colorbar": {
             "outlinewidth": 0,
             "ticks": ""
            },
            "colorscale": [
             [
              0,
              "#0d0887"
             ],
             [
              0.1111111111111111,
              "#46039f"
             ],
             [
              0.2222222222222222,
              "#7201a8"
             ],
             [
              0.3333333333333333,
              "#9c179e"
             ],
             [
              0.4444444444444444,
              "#bd3786"
             ],
             [
              0.5555555555555556,
              "#d8576b"
             ],
             [
              0.6666666666666666,
              "#ed7953"
             ],
             [
              0.7777777777777778,
              "#fb9f3a"
             ],
             [
              0.8888888888888888,
              "#fdca26"
             ],
             [
              1,
              "#f0f921"
             ]
            ],
            "type": "heatmapgl"
           }
          ],
          "histogram": [
           {
            "marker": {
             "pattern": {
              "fillmode": "overlay",
              "size": 10,
              "solidity": 0.2
             }
            },
            "type": "histogram"
           }
          ],
          "histogram2d": [
           {
            "colorbar": {
             "outlinewidth": 0,
             "ticks": ""
            },
            "colorscale": [
             [
              0,
              "#0d0887"
             ],
             [
              0.1111111111111111,
              "#46039f"
             ],
             [
              0.2222222222222222,
              "#7201a8"
             ],
             [
              0.3333333333333333,
              "#9c179e"
             ],
             [
              0.4444444444444444,
              "#bd3786"
             ],
             [
              0.5555555555555556,
              "#d8576b"
             ],
             [
              0.6666666666666666,
              "#ed7953"
             ],
             [
              0.7777777777777778,
              "#fb9f3a"
             ],
             [
              0.8888888888888888,
              "#fdca26"
             ],
             [
              1,
              "#f0f921"
             ]
            ],
            "type": "histogram2d"
           }
          ],
          "histogram2dcontour": [
           {
            "colorbar": {
             "outlinewidth": 0,
             "ticks": ""
            },
            "colorscale": [
             [
              0,
              "#0d0887"
             ],
             [
              0.1111111111111111,
              "#46039f"
             ],
             [
              0.2222222222222222,
              "#7201a8"
             ],
             [
              0.3333333333333333,
              "#9c179e"
             ],
             [
              0.4444444444444444,
              "#bd3786"
             ],
             [
              0.5555555555555556,
              "#d8576b"
             ],
             [
              0.6666666666666666,
              "#ed7953"
             ],
             [
              0.7777777777777778,
              "#fb9f3a"
             ],
             [
              0.8888888888888888,
              "#fdca26"
             ],
             [
              1,
              "#f0f921"
             ]
            ],
            "type": "histogram2dcontour"
           }
          ],
          "mesh3d": [
           {
            "colorbar": {
             "outlinewidth": 0,
             "ticks": ""
            },
            "type": "mesh3d"
           }
          ],
          "parcoords": [
           {
            "line": {
             "colorbar": {
              "outlinewidth": 0,
              "ticks": ""
             }
            },
            "type": "parcoords"
           }
          ],
          "pie": [
           {
            "automargin": true,
            "type": "pie"
           }
          ],
          "scatter": [
           {
            "fillpattern": {
             "fillmode": "overlay",
             "size": 10,
             "solidity": 0.2
            },
            "type": "scatter"
           }
          ],
          "scatter3d": [
           {
            "line": {
             "colorbar": {
              "outlinewidth": 0,
              "ticks": ""
             }
            },
            "marker": {
             "colorbar": {
              "outlinewidth": 0,
              "ticks": ""
             }
            },
            "type": "scatter3d"
           }
          ],
          "scattercarpet": [
           {
            "marker": {
             "colorbar": {
              "outlinewidth": 0,
              "ticks": ""
             }
            },
            "type": "scattercarpet"
           }
          ],
          "scattergeo": [
           {
            "marker": {
             "colorbar": {
              "outlinewidth": 0,
              "ticks": ""
             }
            },
            "type": "scattergeo"
           }
          ],
          "scattergl": [
           {
            "marker": {
             "colorbar": {
              "outlinewidth": 0,
              "ticks": ""
             }
            },
            "type": "scattergl"
           }
          ],
          "scattermapbox": [
           {
            "marker": {
             "colorbar": {
              "outlinewidth": 0,
              "ticks": ""
             }
            },
            "type": "scattermapbox"
           }
          ],
          "scatterpolar": [
           {
            "marker": {
             "colorbar": {
              "outlinewidth": 0,
              "ticks": ""
             }
            },
            "type": "scatterpolar"
           }
          ],
          "scatterpolargl": [
           {
            "marker": {
             "colorbar": {
              "outlinewidth": 0,
              "ticks": ""
             }
            },
            "type": "scatterpolargl"
           }
          ],
          "scatterternary": [
           {
            "marker": {
             "colorbar": {
              "outlinewidth": 0,
              "ticks": ""
             }
            },
            "type": "scatterternary"
           }
          ],
          "surface": [
           {
            "colorbar": {
             "outlinewidth": 0,
             "ticks": ""
            },
            "colorscale": [
             [
              0,
              "#0d0887"
             ],
             [
              0.1111111111111111,
              "#46039f"
             ],
             [
              0.2222222222222222,
              "#7201a8"
             ],
             [
              0.3333333333333333,
              "#9c179e"
             ],
             [
              0.4444444444444444,
              "#bd3786"
             ],
             [
              0.5555555555555556,
              "#d8576b"
             ],
             [
              0.6666666666666666,
              "#ed7953"
             ],
             [
              0.7777777777777778,
              "#fb9f3a"
             ],
             [
              0.8888888888888888,
              "#fdca26"
             ],
             [
              1,
              "#f0f921"
             ]
            ],
            "type": "surface"
           }
          ],
          "table": [
           {
            "cells": {
             "fill": {
              "color": "#EBF0F8"
             },
             "line": {
              "color": "white"
             }
            },
            "header": {
             "fill": {
              "color": "#C8D4E3"
             },
             "line": {
              "color": "white"
             }
            },
            "type": "table"
           }
          ]
         },
         "layout": {
          "annotationdefaults": {
           "arrowcolor": "#2a3f5f",
           "arrowhead": 0,
           "arrowwidth": 1
          },
          "autotypenumbers": "strict",
          "coloraxis": {
           "colorbar": {
            "outlinewidth": 0,
            "ticks": ""
           }
          },
          "colorscale": {
           "diverging": [
            [
             0,
             "#8e0152"
            ],
            [
             0.1,
             "#c51b7d"
            ],
            [
             0.2,
             "#de77ae"
            ],
            [
             0.3,
             "#f1b6da"
            ],
            [
             0.4,
             "#fde0ef"
            ],
            [
             0.5,
             "#f7f7f7"
            ],
            [
             0.6,
             "#e6f5d0"
            ],
            [
             0.7,
             "#b8e186"
            ],
            [
             0.8,
             "#7fbc41"
            ],
            [
             0.9,
             "#4d9221"
            ],
            [
             1,
             "#276419"
            ]
           ],
           "sequential": [
            [
             0,
             "#0d0887"
            ],
            [
             0.1111111111111111,
             "#46039f"
            ],
            [
             0.2222222222222222,
             "#7201a8"
            ],
            [
             0.3333333333333333,
             "#9c179e"
            ],
            [
             0.4444444444444444,
             "#bd3786"
            ],
            [
             0.5555555555555556,
             "#d8576b"
            ],
            [
             0.6666666666666666,
             "#ed7953"
            ],
            [
             0.7777777777777778,
             "#fb9f3a"
            ],
            [
             0.8888888888888888,
             "#fdca26"
            ],
            [
             1,
             "#f0f921"
            ]
           ],
           "sequentialminus": [
            [
             0,
             "#0d0887"
            ],
            [
             0.1111111111111111,
             "#46039f"
            ],
            [
             0.2222222222222222,
             "#7201a8"
            ],
            [
             0.3333333333333333,
             "#9c179e"
            ],
            [
             0.4444444444444444,
             "#bd3786"
            ],
            [
             0.5555555555555556,
             "#d8576b"
            ],
            [
             0.6666666666666666,
             "#ed7953"
            ],
            [
             0.7777777777777778,
             "#fb9f3a"
            ],
            [
             0.8888888888888888,
             "#fdca26"
            ],
            [
             1,
             "#f0f921"
            ]
           ]
          },
          "colorway": [
           "#636efa",
           "#EF553B",
           "#00cc96",
           "#ab63fa",
           "#FFA15A",
           "#19d3f3",
           "#FF6692",
           "#B6E880",
           "#FF97FF",
           "#FECB52"
          ],
          "font": {
           "color": "#2a3f5f"
          },
          "geo": {
           "bgcolor": "white",
           "lakecolor": "white",
           "landcolor": "#E5ECF6",
           "showlakes": true,
           "showland": true,
           "subunitcolor": "white"
          },
          "hoverlabel": {
           "align": "left"
          },
          "hovermode": "closest",
          "mapbox": {
           "style": "light"
          },
          "paper_bgcolor": "white",
          "plot_bgcolor": "#E5ECF6",
          "polar": {
           "angularaxis": {
            "gridcolor": "white",
            "linecolor": "white",
            "ticks": ""
           },
           "bgcolor": "#E5ECF6",
           "radialaxis": {
            "gridcolor": "white",
            "linecolor": "white",
            "ticks": ""
           }
          },
          "scene": {
           "xaxis": {
            "backgroundcolor": "#E5ECF6",
            "gridcolor": "white",
            "gridwidth": 2,
            "linecolor": "white",
            "showbackground": true,
            "ticks": "",
            "zerolinecolor": "white"
           },
           "yaxis": {
            "backgroundcolor": "#E5ECF6",
            "gridcolor": "white",
            "gridwidth": 2,
            "linecolor": "white",
            "showbackground": true,
            "ticks": "",
            "zerolinecolor": "white"
           },
           "zaxis": {
            "backgroundcolor": "#E5ECF6",
            "gridcolor": "white",
            "gridwidth": 2,
            "linecolor": "white",
            "showbackground": true,
            "ticks": "",
            "zerolinecolor": "white"
           }
          },
          "shapedefaults": {
           "line": {
            "color": "#2a3f5f"
           }
          },
          "ternary": {
           "aaxis": {
            "gridcolor": "white",
            "linecolor": "white",
            "ticks": ""
           },
           "baxis": {
            "gridcolor": "white",
            "linecolor": "white",
            "ticks": ""
           },
           "bgcolor": "#E5ECF6",
           "caxis": {
            "gridcolor": "white",
            "linecolor": "white",
            "ticks": ""
           }
          },
          "title": {
           "x": 0.05
          },
          "xaxis": {
           "automargin": true,
           "gridcolor": "white",
           "linecolor": "white",
           "ticks": "",
           "title": {
            "standoff": 15
           },
           "zerolinecolor": "white",
           "zerolinewidth": 2
          },
          "yaxis": {
           "automargin": true,
           "gridcolor": "white",
           "linecolor": "white",
           "ticks": "",
           "title": {
            "standoff": 15
           },
           "zerolinecolor": "white",
           "zerolinewidth": 2
          }
         }
        },
        "title": {
         "text": "<b>Visualization of Microstates for N=3, E=9</b><br>Each point is an accessible microstate"
        }
       }
      }
     },
     "metadata": {},
     "output_type": "display_data"
    },
    {
     "name": "stdout",
     "output_type": "stream",
     "text": [
      "\n",
      "--- Calculating Ω(E) for a range of energies ---\n",
      "Energy (E) | Number of Microstates Ω(E)\n",
      "-----------|-----------------------------\n",
      "     3     |              1              \n",
      "     4     |              3              \n",
      "     5     |              6              \n",
      "     6     |             10              \n",
      "     7     |             15              \n",
      "     8     |             21              \n",
      "     9     |             28              \n",
      "    10     |             33              \n",
      "    11     |             36              \n",
      "    12     |             37              \n",
      "    13     |             36              \n",
      "    14     |             33              \n",
      "    15     |             28              \n",
      "    16     |             21              \n",
      "    17     |             15              \n",
      "    18     |             10              \n",
      "    19     |              6              \n",
      "    20     |              3              \n",
      "    21     |              1              \n",
      "-----------------------------------\n"
     ]
    },
    {
     "data": {
      "application/vnd.plotly.v1+json": {
       "config": {
        "plotlyServerURL": "https://plot.ly"
       },
       "data": [
        {
         "marker": {
          "color": "crimson"
         },
         "name": "Ω(E)",
         "type": "bar",
         "x": [
          3,
          4,
          5,
          6,
          7,
          8,
          9,
          10,
          11,
          12,
          13,
          14,
          15,
          16,
          17,
          18,
          19,
          20,
          21
         ],
         "y": [
          1,
          3,
          6,
          10,
          15,
          21,
          28,
          33,
          36,
          37,
          36,
          33,
          28,
          21,
          15,
          10,
          6,
          3,
          1
         ]
        }
       ],
       "layout": {
        "bargap": 0.2,
        "template": {
         "data": {
          "bar": [
           {
            "error_x": {
             "color": "#2a3f5f"
            },
            "error_y": {
             "color": "#2a3f5f"
            },
            "marker": {
             "line": {
              "color": "#E5ECF6",
              "width": 0.5
             },
             "pattern": {
              "fillmode": "overlay",
              "size": 10,
              "solidity": 0.2
             }
            },
            "type": "bar"
           }
          ],
          "barpolar": [
           {
            "marker": {
             "line": {
              "color": "#E5ECF6",
              "width": 0.5
             },
             "pattern": {
              "fillmode": "overlay",
              "size": 10,
              "solidity": 0.2
             }
            },
            "type": "barpolar"
           }
          ],
          "carpet": [
           {
            "aaxis": {
             "endlinecolor": "#2a3f5f",
             "gridcolor": "white",
             "linecolor": "white",
             "minorgridcolor": "white",
             "startlinecolor": "#2a3f5f"
            },
            "baxis": {
             "endlinecolor": "#2a3f5f",
             "gridcolor": "white",
             "linecolor": "white",
             "minorgridcolor": "white",
             "startlinecolor": "#2a3f5f"
            },
            "type": "carpet"
           }
          ],
          "choropleth": [
           {
            "colorbar": {
             "outlinewidth": 0,
             "ticks": ""
            },
            "type": "choropleth"
           }
          ],
          "contour": [
           {
            "colorbar": {
             "outlinewidth": 0,
             "ticks": ""
            },
            "colorscale": [
             [
              0,
              "#0d0887"
             ],
             [
              0.1111111111111111,
              "#46039f"
             ],
             [
              0.2222222222222222,
              "#7201a8"
             ],
             [
              0.3333333333333333,
              "#9c179e"
             ],
             [
              0.4444444444444444,
              "#bd3786"
             ],
             [
              0.5555555555555556,
              "#d8576b"
             ],
             [
              0.6666666666666666,
              "#ed7953"
             ],
             [
              0.7777777777777778,
              "#fb9f3a"
             ],
             [
              0.8888888888888888,
              "#fdca26"
             ],
             [
              1,
              "#f0f921"
             ]
            ],
            "type": "contour"
           }
          ],
          "contourcarpet": [
           {
            "colorbar": {
             "outlinewidth": 0,
             "ticks": ""
            },
            "type": "contourcarpet"
           }
          ],
          "heatmap": [
           {
            "colorbar": {
             "outlinewidth": 0,
             "ticks": ""
            },
            "colorscale": [
             [
              0,
              "#0d0887"
             ],
             [
              0.1111111111111111,
              "#46039f"
             ],
             [
              0.2222222222222222,
              "#7201a8"
             ],
             [
              0.3333333333333333,
              "#9c179e"
             ],
             [
              0.4444444444444444,
              "#bd3786"
             ],
             [
              0.5555555555555556,
              "#d8576b"
             ],
             [
              0.6666666666666666,
              "#ed7953"
             ],
             [
              0.7777777777777778,
              "#fb9f3a"
             ],
             [
              0.8888888888888888,
              "#fdca26"
             ],
             [
              1,
              "#f0f921"
             ]
            ],
            "type": "heatmap"
           }
          ],
          "heatmapgl": [
           {
            "colorbar": {
             "outlinewidth": 0,
             "ticks": ""
            },
            "colorscale": [
             [
              0,
              "#0d0887"
             ],
             [
              0.1111111111111111,
              "#46039f"
             ],
             [
              0.2222222222222222,
              "#7201a8"
             ],
             [
              0.3333333333333333,
              "#9c179e"
             ],
             [
              0.4444444444444444,
              "#bd3786"
             ],
             [
              0.5555555555555556,
              "#d8576b"
             ],
             [
              0.6666666666666666,
              "#ed7953"
             ],
             [
              0.7777777777777778,
              "#fb9f3a"
             ],
             [
              0.8888888888888888,
              "#fdca26"
             ],
             [
              1,
              "#f0f921"
             ]
            ],
            "type": "heatmapgl"
           }
          ],
          "histogram": [
           {
            "marker": {
             "pattern": {
              "fillmode": "overlay",
              "size": 10,
              "solidity": 0.2
             }
            },
            "type": "histogram"
           }
          ],
          "histogram2d": [
           {
            "colorbar": {
             "outlinewidth": 0,
             "ticks": ""
            },
            "colorscale": [
             [
              0,
              "#0d0887"
             ],
             [
              0.1111111111111111,
              "#46039f"
             ],
             [
              0.2222222222222222,
              "#7201a8"
             ],
             [
              0.3333333333333333,
              "#9c179e"
             ],
             [
              0.4444444444444444,
              "#bd3786"
             ],
             [
              0.5555555555555556,
              "#d8576b"
             ],
             [
              0.6666666666666666,
              "#ed7953"
             ],
             [
              0.7777777777777778,
              "#fb9f3a"
             ],
             [
              0.8888888888888888,
              "#fdca26"
             ],
             [
              1,
              "#f0f921"
             ]
            ],
            "type": "histogram2d"
           }
          ],
          "histogram2dcontour": [
           {
            "colorbar": {
             "outlinewidth": 0,
             "ticks": ""
            },
            "colorscale": [
             [
              0,
              "#0d0887"
             ],
             [
              0.1111111111111111,
              "#46039f"
             ],
             [
              0.2222222222222222,
              "#7201a8"
             ],
             [
              0.3333333333333333,
              "#9c179e"
             ],
             [
              0.4444444444444444,
              "#bd3786"
             ],
             [
              0.5555555555555556,
              "#d8576b"
             ],
             [
              0.6666666666666666,
              "#ed7953"
             ],
             [
              0.7777777777777778,
              "#fb9f3a"
             ],
             [
              0.8888888888888888,
              "#fdca26"
             ],
             [
              1,
              "#f0f921"
             ]
            ],
            "type": "histogram2dcontour"
           }
          ],
          "mesh3d": [
           {
            "colorbar": {
             "outlinewidth": 0,
             "ticks": ""
            },
            "type": "mesh3d"
           }
          ],
          "parcoords": [
           {
            "line": {
             "colorbar": {
              "outlinewidth": 0,
              "ticks": ""
             }
            },
            "type": "parcoords"
           }
          ],
          "pie": [
           {
            "automargin": true,
            "type": "pie"
           }
          ],
          "scatter": [
           {
            "fillpattern": {
             "fillmode": "overlay",
             "size": 10,
             "solidity": 0.2
            },
            "type": "scatter"
           }
          ],
          "scatter3d": [
           {
            "line": {
             "colorbar": {
              "outlinewidth": 0,
              "ticks": ""
             }
            },
            "marker": {
             "colorbar": {
              "outlinewidth": 0,
              "ticks": ""
             }
            },
            "type": "scatter3d"
           }
          ],
          "scattercarpet": [
           {
            "marker": {
             "colorbar": {
              "outlinewidth": 0,
              "ticks": ""
             }
            },
            "type": "scattercarpet"
           }
          ],
          "scattergeo": [
           {
            "marker": {
             "colorbar": {
              "outlinewidth": 0,
              "ticks": ""
             }
            },
            "type": "scattergeo"
           }
          ],
          "scattergl": [
           {
            "marker": {
             "colorbar": {
              "outlinewidth": 0,
              "ticks": ""
             }
            },
            "type": "scattergl"
           }
          ],
          "scattermapbox": [
           {
            "marker": {
             "colorbar": {
              "outlinewidth": 0,
              "ticks": ""
             }
            },
            "type": "scattermapbox"
           }
          ],
          "scatterpolar": [
           {
            "marker": {
             "colorbar": {
              "outlinewidth": 0,
              "ticks": ""
             }
            },
            "type": "scatterpolar"
           }
          ],
          "scatterpolargl": [
           {
            "marker": {
             "colorbar": {
              "outlinewidth": 0,
              "ticks": ""
             }
            },
            "type": "scatterpolargl"
           }
          ],
          "scatterternary": [
           {
            "marker": {
             "colorbar": {
              "outlinewidth": 0,
              "ticks": ""
             }
            },
            "type": "scatterternary"
           }
          ],
          "surface": [
           {
            "colorbar": {
             "outlinewidth": 0,
             "ticks": ""
            },
            "colorscale": [
             [
              0,
              "#0d0887"
             ],
             [
              0.1111111111111111,
              "#46039f"
             ],
             [
              0.2222222222222222,
              "#7201a8"
             ],
             [
              0.3333333333333333,
              "#9c179e"
             ],
             [
              0.4444444444444444,
              "#bd3786"
             ],
             [
              0.5555555555555556,
              "#d8576b"
             ],
             [
              0.6666666666666666,
              "#ed7953"
             ],
             [
              0.7777777777777778,
              "#fb9f3a"
             ],
             [
              0.8888888888888888,
              "#fdca26"
             ],
             [
              1,
              "#f0f921"
             ]
            ],
            "type": "surface"
           }
          ],
          "table": [
           {
            "cells": {
             "fill": {
              "color": "#EBF0F8"
             },
             "line": {
              "color": "white"
             }
            },
            "header": {
             "fill": {
              "color": "#C8D4E3"
             },
             "line": {
              "color": "white"
             }
            },
            "type": "table"
           }
          ]
         },
         "layout": {
          "annotationdefaults": {
           "arrowcolor": "#2a3f5f",
           "arrowhead": 0,
           "arrowwidth": 1
          },
          "autotypenumbers": "strict",
          "coloraxis": {
           "colorbar": {
            "outlinewidth": 0,
            "ticks": ""
           }
          },
          "colorscale": {
           "diverging": [
            [
             0,
             "#8e0152"
            ],
            [
             0.1,
             "#c51b7d"
            ],
            [
             0.2,
             "#de77ae"
            ],
            [
             0.3,
             "#f1b6da"
            ],
            [
             0.4,
             "#fde0ef"
            ],
            [
             0.5,
             "#f7f7f7"
            ],
            [
             0.6,
             "#e6f5d0"
            ],
            [
             0.7,
             "#b8e186"
            ],
            [
             0.8,
             "#7fbc41"
            ],
            [
             0.9,
             "#4d9221"
            ],
            [
             1,
             "#276419"
            ]
           ],
           "sequential": [
            [
             0,
             "#0d0887"
            ],
            [
             0.1111111111111111,
             "#46039f"
            ],
            [
             0.2222222222222222,
             "#7201a8"
            ],
            [
             0.3333333333333333,
             "#9c179e"
            ],
            [
             0.4444444444444444,
             "#bd3786"
            ],
            [
             0.5555555555555556,
             "#d8576b"
            ],
            [
             0.6666666666666666,
             "#ed7953"
            ],
            [
             0.7777777777777778,
             "#fb9f3a"
            ],
            [
             0.8888888888888888,
             "#fdca26"
            ],
            [
             1,
             "#f0f921"
            ]
           ],
           "sequentialminus": [
            [
             0,
             "#0d0887"
            ],
            [
             0.1111111111111111,
             "#46039f"
            ],
            [
             0.2222222222222222,
             "#7201a8"
            ],
            [
             0.3333333333333333,
             "#9c179e"
            ],
            [
             0.4444444444444444,
             "#bd3786"
            ],
            [
             0.5555555555555556,
             "#d8576b"
            ],
            [
             0.6666666666666666,
             "#ed7953"
            ],
            [
             0.7777777777777778,
             "#fb9f3a"
            ],
            [
             0.8888888888888888,
             "#fdca26"
            ],
            [
             1,
             "#f0f921"
            ]
           ]
          },
          "colorway": [
           "#636efa",
           "#EF553B",
           "#00cc96",
           "#ab63fa",
           "#FFA15A",
           "#19d3f3",
           "#FF6692",
           "#B6E880",
           "#FF97FF",
           "#FECB52"
          ],
          "font": {
           "color": "#2a3f5f"
          },
          "geo": {
           "bgcolor": "white",
           "lakecolor": "white",
           "landcolor": "#E5ECF6",
           "showlakes": true,
           "showland": true,
           "subunitcolor": "white"
          },
          "hoverlabel": {
           "align": "left"
          },
          "hovermode": "closest",
          "mapbox": {
           "style": "light"
          },
          "paper_bgcolor": "white",
          "plot_bgcolor": "#E5ECF6",
          "polar": {
           "angularaxis": {
            "gridcolor": "white",
            "linecolor": "white",
            "ticks": ""
           },
           "bgcolor": "#E5ECF6",
           "radialaxis": {
            "gridcolor": "white",
            "linecolor": "white",
            "ticks": ""
           }
          },
          "scene": {
           "xaxis": {
            "backgroundcolor": "#E5ECF6",
            "gridcolor": "white",
            "gridwidth": 2,
            "linecolor": "white",
            "showbackground": true,
            "ticks": "",
            "zerolinecolor": "white"
           },
           "yaxis": {
            "backgroundcolor": "#E5ECF6",
            "gridcolor": "white",
            "gridwidth": 2,
            "linecolor": "white",
            "showbackground": true,
            "ticks": "",
            "zerolinecolor": "white"
           },
           "zaxis": {
            "backgroundcolor": "#E5ECF6",
            "gridcolor": "white",
            "gridwidth": 2,
            "linecolor": "white",
            "showbackground": true,
            "ticks": "",
            "zerolinecolor": "white"
           }
          },
          "shapedefaults": {
           "line": {
            "color": "#2a3f5f"
           }
          },
          "ternary": {
           "aaxis": {
            "gridcolor": "white",
            "linecolor": "white",
            "ticks": ""
           },
           "baxis": {
            "gridcolor": "white",
            "linecolor": "white",
            "ticks": ""
           },
           "bgcolor": "#E5ECF6",
           "caxis": {
            "gridcolor": "white",
            "linecolor": "white",
            "ticks": ""
           }
          },
          "title": {
           "x": 0.05
          },
          "xaxis": {
           "automargin": true,
           "gridcolor": "white",
           "linecolor": "white",
           "ticks": "",
           "title": {
            "standoff": 15
           },
           "zerolinecolor": "white",
           "zerolinewidth": 2
          },
          "yaxis": {
           "automargin": true,
           "gridcolor": "white",
           "linecolor": "white",
           "ticks": "",
           "title": {
            "standoff": 15
           },
           "zerolinecolor": "white",
           "zerolinewidth": 2
          }
         }
        },
        "title": {
         "text": "<b>Number of Microstates Ω(E) vs. Total Energy (E)</b><br>Analogous to the Density of States"
        },
        "xaxis": {
         "title": {
          "text": "Total System Energy (E)"
         }
        },
        "yaxis": {
         "title": {
          "text": "Number of Accessible Microstates Ω(E)"
         }
        }
       }
      }
     },
     "metadata": {},
     "output_type": "display_data"
    }
   ],
   "source": [
    "import numpy as np\n",
    "import plotly.graph_objects as go\n",
    "from plotly.subplots import make_subplots\n",
    "from itertools import product\n",
    "\n",
    "def find_microstates(num_particles, total_energy, max_particle_energy):\n",
    "    \"\"\"\n",
    "    Finds all possible microstates for a system of N particles with a fixed total energy E.\n",
    "\n",
    "    Args:\n",
    "        num_particles (int): The number of particles in the system (N).\n",
    "        total_energy (int): The total energy of the system (E).\n",
    "        max_particle_energy (int): The maximum possible energy for a single particle.\n",
    "\n",
    "    Returns:\n",
    "        list: A list of tuples, where each tuple represents a microstate\n",
    "              (the energy of each particle).\n",
    "    \"\"\"\n",
    "    # Generate all possible energy combinations for the particles\n",
    "    # Each particle can have an energy from 1 to max_particle_energy\n",
    "    possible_energies = range(1, max_particle_energy + 1)\n",
    "    # 'product' gives the cartesian product, creating all possible combinations\n",
    "    # of energy states for the N particles.\n",
    "    all_combinations = product(possible_energies, repeat=num_particles)\n",
    "\n",
    "    # Filter the combinations to find those that sum to the total energy\n",
    "    microstates = [combo for combo in all_combinations if sum(combo) == total_energy]\n",
    "    \n",
    "    return microstates\n",
    "\n",
    "def main():\n",
    "    \"\"\"\n",
    "    Main function to run the simulation and generate visualizations.\n",
    "    \"\"\"\n",
    "    # --- System Parameters ---\n",
    "    # We'll use a simple system of 3 particles.\n",
    "    NUM_PARTICLES = 3\n",
    "    # Let's fix the total energy for our primary example.\n",
    "    TOTAL_ENERGY = 9\n",
    "    # Assume the maximum energy a single particle can have is 7.\n",
    "    # This is to keep the state space manageable for demonstration.\n",
    "    MAX_PARTICLE_ENERGY = 7\n",
    "\n",
    "    print(\"--- Microcanonical Ensemble Example ---\")\n",
    "    print(f\"System Parameters:\")\n",
    "    print(f\"  - Number of particles (N): {NUM_PARTICLES}\")\n",
    "    print(f\"  - Total energy (E): {TOTAL_ENERGY}\")\n",
    "    print(f\"  - Max energy per particle: {MAX_PARTICLE_ENERGY}\\n\")\n",
    "\n",
    "    # --- Find and Display Microstates for a Fixed Energy ---\n",
    "    # According to the fundamental postulate, in an isolated system (fixed N, V, E),\n",
    "    # all accessible microstates are equally probable.\n",
    "    microstates_at_e9 = find_microstates(NUM_PARTICLES, TOTAL_ENERGY, MAX_PARTICLE_ENERGY)\n",
    "    num_microstates = len(microstates_at_e9)\n",
    "\n",
    "    print(f\"For a total energy E = {TOTAL_ENERGY}, we found {num_microstates} possible microstates.\")\n",
    "    print(\"This number is Ω(E), the number of states at energy E.\")\n",
    "    print(\"Each of these microstates is equally likely to occur.\")\n",
    "    print(\"List of microstates (E_particle1, E_particle2, E_particle3):\")\n",
    "    for state in microstates_at_e9:\n",
    "        print(f\"  {state}\")\n",
    "    print(\"-\" * 35)\n",
    "\n",
    "    # --- Visualization 1: 3D Plot of Microstates on the Constant Energy Surface ---\n",
    "    # This plot shows that all our calculated microstates lie on a plane defined by\n",
    "    # E1 + E2 + E3 = TOTAL_ENERGY. This is the \"constant energy surface\" in the state space.\n",
    "    \n",
    "    fig1 = go.Figure()\n",
    "\n",
    "    if num_microstates > 0:\n",
    "        # Unzip the microstates into separate lists for plotting\n",
    "        e1, e2, e3 = zip(*microstates_at_e9)\n",
    "        \n",
    "        fig1.add_trace(go.Scatter3d(\n",
    "            x=e1, y=e2, z=e3,\n",
    "            mode='markers',\n",
    "            marker=dict(\n",
    "                size=8,\n",
    "                color='royalblue',\n",
    "                opacity=0.8,\n",
    "                symbol='diamond'\n",
    "            ),\n",
    "            name=f'Microstates for E={TOTAL_ENERGY}'\n",
    "        ))\n",
    "\n",
    "    fig1.update_layout(\n",
    "        title=f'<b>Visualization of Microstates for N=3, E={TOTAL_ENERGY}</b><br>Each point is an accessible microstate',\n",
    "        scene=dict(\n",
    "            xaxis_title='Energy of Particle 1 (E1)',\n",
    "            yaxis_title='Energy of Particle 2 (E2)',\n",
    "            zaxis_title='Energy of Particle 3 (E3)',\n",
    "            aspectratio=dict(x=1, y=1, z=1)\n",
    "        ),\n",
    "        margin=dict(l=0, r=0, b=0, t=40)\n",
    "    )\n",
    "    fig1.show()\n",
    "\n",
    "    # --- Calculation & Visualization 2: Number of States Ω(E) vs. Energy E ---\n",
    "    # Now, let's see how the number of microstates (Ω) changes as we vary the total energy E.\n",
    "    # This is analogous to the concept of \"density of states\".\n",
    "    \n",
    "    min_energy = NUM_PARTICLES  # Each particle must have at least 1 unit of energy\n",
    "    max_energy = NUM_PARTICLES * MAX_PARTICLE_ENERGY\n",
    "    energy_range = range(min_energy, max_energy + 1)\n",
    "    \n",
    "    # Calculate the number of microstates for each possible total energy\n",
    "    omega_values = [len(find_microstates(NUM_PARTICLES, E, MAX_PARTICLE_ENERGY)) for E in energy_range]\n",
    "\n",
    "    print(\"\\n--- Calculating Ω(E) for a range of energies ---\")\n",
    "    print(\"Energy (E) | Number of Microstates Ω(E)\")\n",
    "    print(\"-----------|-----------------------------\")\n",
    "    for E, omega in zip(energy_range, omega_values):\n",
    "        print(f\"{E:^11}|{omega:^29}\")\n",
    "    print(\"-\" * 35)\n",
    "\n",
    "    # Create the bar chart\n",
    "    fig2 = go.Figure()\n",
    "    fig2.add_trace(go.Bar(\n",
    "        x=list(energy_range),\n",
    "        y=omega_values,\n",
    "        marker_color='crimson',\n",
    "        name='Ω(E)'\n",
    "    ))\n",
    "\n",
    "    fig2.update_layout(\n",
    "        title='<b>Number of Microstates Ω(E) vs. Total Energy (E)</b><br>Analogous to the Density of States',\n",
    "        xaxis_title='Total System Energy (E)',\n",
    "        yaxis_title='Number of Accessible Microstates Ω(E)',\n",
    "        bargap=0.2,\n",
    "    )\n",
    "    fig2.show()\n",
    "\n",
    "\n",
    "if __name__ == '__main__':\n",
    "    main()\n"
   ]
  }
 ],
 "metadata": {
  "kernelspec": {
   "display_name": "venv",
   "language": "python",
   "name": "python3"
  },
  "language_info": {
   "codemirror_mode": {
    "name": "ipython",
    "version": 3
   },
   "file_extension": ".py",
   "mimetype": "text/x-python",
   "name": "python",
   "nbconvert_exporter": "python",
   "pygments_lexer": "ipython3",
   "version": "3.9.1"
  }
 },
 "nbformat": 4,
 "nbformat_minor": 5
}
