{
 "cells": [
  {
   "cell_type": "markdown",
   "id": "c4d5c705",
   "metadata": {},
   "source": []
  },
  {
   "cell_type": "markdown",
   "id": "11dbd7a6",
   "metadata": {},
   "source": [
    "## Simple Examples to Illustrate\n",
    "\n",
    "### 1. A Single Particle in a One-Dimensional Box\n",
    "\n",
    "Consider a single particle of mass $m$ moving freely in a one-dimensional box of length $L$.\n",
    "* Position: $q$\n",
    "* Momentum: $p$\n",
    "* Phase space is 2-dimensional ($q, p$).\n",
    "\n",
    "The Hamiltonian is simply the kinetic energy:\n",
    "\n",
    "$$H = \\frac{p^2}{2m}$$\n",
    "\n",
    "Hamilton's equations are:\n",
    "\n",
    "$$\\dot{q} = \\frac{\\partial H}{\\partial p} = \\frac{p}{m}$$\n",
    "$$\\dot{p} = -\\frac{\\partial H}{\\partial q} = 0$$\n",
    "\n",
    "From these, we see that $p$ is constant (momentum is conserved), and $q$ changes linearly with time.\n",
    "\n",
    "Now, let's visualize a small square region in phase space at time $t=0$, say with $q$ ranging from $q_0$ to $q_0 + \\Delta q$ and $p$ ranging from $p_0$ to $p_0 + \\Delta p$. The area of this square is $\\Delta q \\Delta p$.\n",
    "\n",
    "As time progresses:\n",
    "* The $q$ coordinates will shift by $\\dot{q} \\Delta t = (p/m) \\Delta t$. Points with higher $p$ will move faster in the $q$ direction.\n",
    "* The $p$ coordinates remain constant.\n",
    "\n",
    "So, the square will transform into a parallelogram. However, the *height* of the parallelogram in the $p$ direction remains $\\Delta p$, and the *width* in the $q$ direction remains $\\Delta q$. The area of the parallelogram is still base times height, which is $\\Delta q \\Delta p$. The volume (area in this 2D case) in phase space is conserved. The initial density of points within that square will be maintained within the evolving parallelogram.\n",
    "\n",
    "---\n",
    "\n",
    "### 2. Simple Harmonic Oscillator\n",
    "\n",
    "Consider a simple harmonic oscillator with mass $m$ and spring constant $k$.\n",
    "* Position: $q$\n",
    "* Momentum: $p$\n",
    "* Phase space is 2-dimensional ($q, p$).\n",
    "\n",
    "The Hamiltonian is:\n",
    "\n",
    "$$H = \\frac{p^2}{2m} + \\frac{1}{2} k q^2$$\n",
    "\n",
    "Hamilton's equations are:\n",
    "\n",
    "$$\\dot{q} = \\frac{\\partial H}{\\partial p} = \\frac{p}{m}$$\n",
    "$$\\dot{p} = -\\frac{\\partial H}{\\partial q} = -k q$$\n",
    "\n",
    "The trajectories in phase space for a simple harmonic oscillator are ellipses (or circles for appropriately scaled axes), corresponding to constant energy levels.\n",
    "\n",
    "Imagine a small circular cluster of phase points at $t=0$. As time evolves, each point in the cluster will follow its elliptical trajectory. The entire cluster will rotate and distort its shape, but the area enclosed by the cluster (the phase space volume it occupies) will remain constant. The density of points within that evolving region stays the same. The \"fluid\" of phase points simply flows, stretching and squeezing, but never compressing or expanding in volume.\n"
   ]
  }
 ],
 "metadata": {
  "language_info": {
   "name": "python"
  }
 },
 "nbformat": 4,
 "nbformat_minor": 5
}
